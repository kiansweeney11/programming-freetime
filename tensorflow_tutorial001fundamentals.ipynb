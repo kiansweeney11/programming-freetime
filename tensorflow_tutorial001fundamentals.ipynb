{
  "nbformat": 4,
  "nbformat_minor": 0,
  "metadata": {
    "colab": {
      "provenance": []
    },
    "kernelspec": {
      "name": "python3",
      "display_name": "Python 3"
    },
    "language_info": {
      "name": "python"
    }
  },
  "cells": [
    {
      "cell_type": "markdown",
      "source": [
        "### Covering basics of tensorflow, tensors etc"
      ],
      "metadata": {
        "id": "JQygI7v3ixDX"
      }
    },
    {
      "cell_type": "code",
      "source": [
        "### intro to tensors\n",
        "### getting info from tensors\n",
        "### manipulating tensors\n",
        "### tensors & numpy\n",
        "### using @tf.function (way to speed up regular python functions)\n",
        "### using GPU/TPU's with tensorflow"
      ],
      "metadata": {
        "id": "j7B_G618jMZI"
      },
      "execution_count": null,
      "outputs": []
    },
    {
      "cell_type": "code",
      "source": [
        "import tensorflow as tf\n",
        "print(tf.__version__)"
      ],
      "metadata": {
        "colab": {
          "base_uri": "https://localhost:8080/"
        },
        "id": "6YmdvfL-jiRv",
        "outputId": "6834b15e-22c3-4b0d-8f58-f53115cfcba0"
      },
      "execution_count": 2,
      "outputs": [
        {
          "output_type": "stream",
          "name": "stdout",
          "text": [
            "2.14.0\n"
          ]
        }
      ]
    },
    {
      "cell_type": "code",
      "source": [
        "# creating tensors with tf.constant()\n",
        "scalar = tf.constant(7)\n",
        "scalar"
      ],
      "metadata": {
        "colab": {
          "base_uri": "https://localhost:8080/"
        },
        "id": "xQV3kA_Qj5c4",
        "outputId": "ba8a9499-6aff-4995-f0e5-61ec0c7aa9f2"
      },
      "execution_count": 3,
      "outputs": [
        {
          "output_type": "execute_result",
          "data": {
            "text/plain": [
              "<tf.Tensor: shape=(), dtype=int32, numpy=7>"
            ]
          },
          "metadata": {},
          "execution_count": 3
        }
      ]
    },
    {
      "cell_type": "code",
      "source": [
        "# check no of dimensions in a tensor\n",
        "scalar.ndim"
      ],
      "metadata": {
        "colab": {
          "base_uri": "https://localhost:8080/"
        },
        "id": "ELSTv-IzkS54",
        "outputId": "3709a63e-3049-4bed-9b42-8304f98d1f65"
      },
      "execution_count": 4,
      "outputs": [
        {
          "output_type": "execute_result",
          "data": {
            "text/plain": [
              "0"
            ]
          },
          "metadata": {},
          "execution_count": 4
        }
      ]
    },
    {
      "cell_type": "code",
      "source": [
        "# create a vector\n",
        "vector = tf.constant([10,10])\n",
        "vector.ndim"
      ],
      "metadata": {
        "colab": {
          "base_uri": "https://localhost:8080/"
        },
        "id": "d7y0uIiDkpOs",
        "outputId": "4dceda3e-e6c6-449b-bba7-dd3fb66ac054"
      },
      "execution_count": 5,
      "outputs": [
        {
          "output_type": "execute_result",
          "data": {
            "text/plain": [
              "1"
            ]
          },
          "metadata": {},
          "execution_count": 5
        }
      ]
    },
    {
      "cell_type": "code",
      "source": [
        "# create a matrix\n",
        "matrix = tf.constant([[10,7], [7,10]])\n",
        "matrix.ndim"
      ],
      "metadata": {
        "colab": {
          "base_uri": "https://localhost:8080/"
        },
        "id": "XtbBJTo9kyyk",
        "outputId": "2a1e0668-991d-4d80-a41c-b157cdab41a3"
      },
      "execution_count": 6,
      "outputs": [
        {
          "output_type": "execute_result",
          "data": {
            "text/plain": [
              "2"
            ]
          },
          "metadata": {},
          "execution_count": 6
        }
      ]
    },
    {
      "cell_type": "code",
      "source": [
        "vector"
      ],
      "metadata": {
        "colab": {
          "base_uri": "https://localhost:8080/"
        },
        "id": "ah7NhuGdlHvP",
        "outputId": "ff0038c5-8a67-4368-cc3c-9cb8bf2dfaef"
      },
      "execution_count": 7,
      "outputs": [
        {
          "output_type": "execute_result",
          "data": {
            "text/plain": [
              "<tf.Tensor: shape=(2,), dtype=int32, numpy=array([10, 10], dtype=int32)>"
            ]
          },
          "metadata": {},
          "execution_count": 7
        }
      ]
    },
    {
      "cell_type": "code",
      "source": [
        "matrix"
      ],
      "metadata": {
        "colab": {
          "base_uri": "https://localhost:8080/"
        },
        "id": "4-MOF8qglO6e",
        "outputId": "621c50ea-ac71-4979-8e0f-39da20af954a"
      },
      "execution_count": 8,
      "outputs": [
        {
          "output_type": "execute_result",
          "data": {
            "text/plain": [
              "<tf.Tensor: shape=(2, 2), dtype=int32, numpy=\n",
              "array([[10,  7],\n",
              "       [ 7, 10]], dtype=int32)>"
            ]
          },
          "metadata": {},
          "execution_count": 8
        }
      ]
    },
    {
      "cell_type": "code",
      "source": [
        "another_matrix = tf.constant([[11.1, 32.4], [10., 7.]])\n",
        "another_matrix"
      ],
      "metadata": {
        "colab": {
          "base_uri": "https://localhost:8080/"
        },
        "id": "EKHPiGzklPeK",
        "outputId": "5f2155c2-934c-4e55-aea3-b630dcf150b9"
      },
      "execution_count": 9,
      "outputs": [
        {
          "output_type": "execute_result",
          "data": {
            "text/plain": [
              "<tf.Tensor: shape=(2, 2), dtype=float32, numpy=\n",
              "array([[11.1, 32.4],\n",
              "       [10. ,  7. ]], dtype=float32)>"
            ]
          },
          "metadata": {},
          "execution_count": 9
        }
      ]
    },
    {
      "cell_type": "code",
      "source": [
        "another_matrix.ndim"
      ],
      "metadata": {
        "colab": {
          "base_uri": "https://localhost:8080/"
        },
        "id": "x4TIZUYXllzy",
        "outputId": "23a3da76-4d92-429a-f96f-9fa11fc63643"
      },
      "execution_count": 10,
      "outputs": [
        {
          "output_type": "execute_result",
          "data": {
            "text/plain": [
              "2"
            ]
          },
          "metadata": {},
          "execution_count": 10
        }
      ]
    },
    {
      "cell_type": "code",
      "source": [
        "another_matrix1 = tf.constant([[11.5, 39.7], [10., 7.]], dtype = tf.float16)\n",
        "another_matrix1"
      ],
      "metadata": {
        "colab": {
          "base_uri": "https://localhost:8080/"
        },
        "id": "U3VITqs_loS_",
        "outputId": "6fca1888-0c34-4a40-df4a-f552f2d639ef"
      },
      "execution_count": 11,
      "outputs": [
        {
          "output_type": "execute_result",
          "data": {
            "text/plain": [
              "<tf.Tensor: shape=(2, 2), dtype=float16, numpy=\n",
              "array([[11.5, 39.7],\n",
              "       [10. ,  7. ]], dtype=float16)>"
            ]
          },
          "metadata": {},
          "execution_count": 11
        }
      ]
    },
    {
      "cell_type": "code",
      "source": [
        "tensor = tf.constant([[[1,2,3,],\n",
        "                      [4,5,6]],\n",
        "                      [[66,14,10],\n",
        "                      [20,23,18]],\n",
        "                      [[9,10,12],\n",
        "                      [11,13,15]]])"
      ],
      "metadata": {
        "id": "UqTlGKsJlzgd"
      },
      "execution_count": 12,
      "outputs": []
    },
    {
      "cell_type": "code",
      "source": [
        "tensor"
      ],
      "metadata": {
        "colab": {
          "base_uri": "https://localhost:8080/"
        },
        "id": "S62V-stmmlha",
        "outputId": "9a931aa7-50d5-4af3-cea7-cbf7cadba2bb"
      },
      "execution_count": 13,
      "outputs": [
        {
          "output_type": "execute_result",
          "data": {
            "text/plain": [
              "<tf.Tensor: shape=(3, 2, 3), dtype=int32, numpy=\n",
              "array([[[ 1,  2,  3],\n",
              "        [ 4,  5,  6]],\n",
              "\n",
              "       [[66, 14, 10],\n",
              "        [20, 23, 18]],\n",
              "\n",
              "       [[ 9, 10, 12],\n",
              "        [11, 13, 15]]], dtype=int32)>"
            ]
          },
          "metadata": {},
          "execution_count": 13
        }
      ]
    },
    {
      "cell_type": "code",
      "source": [
        "tensor.ndim"
      ],
      "metadata": {
        "colab": {
          "base_uri": "https://localhost:8080/"
        },
        "id": "WralRuN_nFUR",
        "outputId": "a7f06d02-6435-45cf-9e65-d2043d5a3a2d"
      },
      "execution_count": 14,
      "outputs": [
        {
          "output_type": "execute_result",
          "data": {
            "text/plain": [
              "3"
            ]
          },
          "metadata": {},
          "execution_count": 14
        }
      ]
    },
    {
      "cell_type": "code",
      "source": [
        "# scalar - single num\n",
        "# vector - number with direction e.g wind speed & direction\n",
        "# matrix - 2 dimensional array of numbers\n",
        "# tensor - an n-dimensional array of numbers where n can be any number, a 0-dimensional tensor is a scalar, 1 dim tensor is a vector"
      ],
      "metadata": {
        "id": "UrjTe92unXBZ"
      },
      "execution_count": 15,
      "outputs": []
    },
    {
      "cell_type": "code",
      "source": [
        "tf.Variable"
      ],
      "metadata": {
        "id": "Vl0a3ty8n_D4",
        "colab": {
          "base_uri": "https://localhost:8080/"
        },
        "outputId": "3608e5c8-5338-4ad9-e5a0-a1058a01f5b7"
      },
      "execution_count": 16,
      "outputs": [
        {
          "output_type": "execute_result",
          "data": {
            "text/plain": [
              "tensorflow.python.ops.variables.Variable"
            ]
          },
          "metadata": {},
          "execution_count": 16
        }
      ]
    },
    {
      "cell_type": "code",
      "source": [
        "# create the same tensor with the tf.variable as above\n",
        "changeable_tensor = tf.Variable([10,7])\n",
        "unchangeable_tensor = tf.constant([10,10])"
      ],
      "metadata": {
        "id": "uaVCZVuSqByq"
      },
      "execution_count": 17,
      "outputs": []
    },
    {
      "cell_type": "code",
      "source": [
        "changeable_tensor"
      ],
      "metadata": {
        "colab": {
          "base_uri": "https://localhost:8080/"
        },
        "id": "QI0mjiMCqo3S",
        "outputId": "779b464b-165b-4a18-86f1-34ab4c002151"
      },
      "execution_count": 18,
      "outputs": [
        {
          "output_type": "execute_result",
          "data": {
            "text/plain": [
              "<tf.Variable 'Variable:0' shape=(2,) dtype=int32, numpy=array([10,  7], dtype=int32)>"
            ]
          },
          "metadata": {},
          "execution_count": 18
        }
      ]
    },
    {
      "cell_type": "code",
      "source": [
        "unchangeable_tensor"
      ],
      "metadata": {
        "colab": {
          "base_uri": "https://localhost:8080/"
        },
        "id": "QEg4iB6Hq8lH",
        "outputId": "449b3a0b-85f0-4905-81de-deda6dbbfd74"
      },
      "execution_count": 19,
      "outputs": [
        {
          "output_type": "execute_result",
          "data": {
            "text/plain": [
              "<tf.Tensor: shape=(2,), dtype=int32, numpy=array([10, 10], dtype=int32)>"
            ]
          },
          "metadata": {},
          "execution_count": 19
        }
      ]
    },
    {
      "cell_type": "code",
      "source": [
        "# cannot use assign or change the unchangeable tensor (tf.constant)\n",
        "changeable_tensor[0].assign(7)\n",
        "changeable_tensor"
      ],
      "metadata": {
        "colab": {
          "base_uri": "https://localhost:8080/"
        },
        "id": "Do-JGgQyrSIG",
        "outputId": "3d640960-726b-4481-f595-b464c9fb4454"
      },
      "execution_count": 20,
      "outputs": [
        {
          "output_type": "execute_result",
          "data": {
            "text/plain": [
              "<tf.Variable 'Variable:0' shape=(2,) dtype=int32, numpy=array([7, 7], dtype=int32)>"
            ]
          },
          "metadata": {},
          "execution_count": 20
        }
      ]
    },
    {
      "cell_type": "markdown",
      "source": [
        "Rarely in practise do you use tf.constant or tf.variable (already done for you). If in doubt use tf.constant and change later though"
      ],
      "metadata": {
        "id": "dfd-1D56sReC"
      }
    },
    {
      "cell_type": "markdown",
      "source": [
        "### Creating Random Tensors"
      ],
      "metadata": {
        "id": "ueOZm4fMsK0t"
      }
    },
    {
      "cell_type": "code",
      "source": [
        "### create two random but the same tensors\n",
        "random_1 = tf.random.Generator.from_seed(42) # set seed for reproducibility\n",
        "random_1 = random_1.normal(shape = (3,2))\n",
        "random_1"
      ],
      "metadata": {
        "colab": {
          "base_uri": "https://localhost:8080/"
        },
        "id": "HQlHHuKyrcRP",
        "outputId": "cd76401a-9fbe-48be-e85a-40cca572195d"
      },
      "execution_count": 21,
      "outputs": [
        {
          "output_type": "execute_result",
          "data": {
            "text/plain": [
              "<tf.Tensor: shape=(3, 2), dtype=float32, numpy=\n",
              "array([[-0.7565803 , -0.06854702],\n",
              "       [ 0.07595026, -1.2573844 ],\n",
              "       [-0.23193763, -1.8107855 ]], dtype=float32)>"
            ]
          },
          "metadata": {},
          "execution_count": 21
        }
      ]
    },
    {
      "cell_type": "code",
      "source": [
        "random_2 = tf.random.Generator.from_seed(42)\n",
        "# pseudo random numbers as we set seed\n",
        "random_2 = random_2.normal(shape = (3,2))\n",
        "random_2"
      ],
      "metadata": {
        "colab": {
          "base_uri": "https://localhost:8080/"
        },
        "id": "O_-cTmHYtr7Q",
        "outputId": "64a6ef3b-5c24-431d-a82f-e3a47d1ccd85"
      },
      "execution_count": 22,
      "outputs": [
        {
          "output_type": "execute_result",
          "data": {
            "text/plain": [
              "<tf.Tensor: shape=(3, 2), dtype=float32, numpy=\n",
              "array([[-0.7565803 , -0.06854702],\n",
              "       [ 0.07595026, -1.2573844 ],\n",
              "       [-0.23193763, -1.8107855 ]], dtype=float32)>"
            ]
          },
          "metadata": {},
          "execution_count": 22
        }
      ]
    },
    {
      "cell_type": "code",
      "source": [
        "random_1 == random_2"
      ],
      "metadata": {
        "colab": {
          "base_uri": "https://localhost:8080/"
        },
        "id": "IXCkbPwyuBdi",
        "outputId": "8742ead8-9eb8-472e-ffc6-e642da578569"
      },
      "execution_count": 23,
      "outputs": [
        {
          "output_type": "execute_result",
          "data": {
            "text/plain": [
              "<tf.Tensor: shape=(3, 2), dtype=bool, numpy=\n",
              "array([[ True,  True],\n",
              "       [ True,  True],\n",
              "       [ True,  True]])>"
            ]
          },
          "metadata": {},
          "execution_count": 23
        }
      ]
    },
    {
      "cell_type": "markdown",
      "source": [
        "### Shuffling Orders of a tensor"
      ],
      "metadata": {
        "id": "jbp6s-w-s69v"
      }
    },
    {
      "cell_type": "code",
      "source": [
        "# shuffle a tensor\n",
        "# valuable for when you want to shuffle your data, order doesnt affect learning\n",
        "not_shuffled = tf.constant([[10,7],\n",
        "                            [11,12],\n",
        "                            [5, 6]])"
      ],
      "metadata": {
        "id": "MO0IswHYsy_M"
      },
      "execution_count": 24,
      "outputs": []
    },
    {
      "cell_type": "code",
      "source": [
        "not_shuffled.ndim"
      ],
      "metadata": {
        "colab": {
          "base_uri": "https://localhost:8080/"
        },
        "id": "v6G_XFN7tQj5",
        "outputId": "b9accb1d-63fa-4845-9531-817fe9429845"
      },
      "execution_count": 25,
      "outputs": [
        {
          "output_type": "execute_result",
          "data": {
            "text/plain": [
              "2"
            ]
          },
          "metadata": {},
          "execution_count": 25
        }
      ]
    },
    {
      "cell_type": "code",
      "source": [
        "tf.random.shuffle(not_shuffled)"
      ],
      "metadata": {
        "colab": {
          "base_uri": "https://localhost:8080/"
        },
        "id": "YxhEZw5vtlai",
        "outputId": "5f01c8c9-db80-4919-b3b5-9e2cefb36ac9"
      },
      "execution_count": 26,
      "outputs": [
        {
          "output_type": "execute_result",
          "data": {
            "text/plain": [
              "<tf.Tensor: shape=(3, 2), dtype=int32, numpy=\n",
              "array([[11, 12],\n",
              "       [10,  7],\n",
              "       [ 5,  6]], dtype=int32)>"
            ]
          },
          "metadata": {},
          "execution_count": 26
        }
      ]
    },
    {
      "cell_type": "code",
      "source": [
        "### same order everytime - global seed same as operational\n",
        "tf.random.set_seed(42)\n",
        "tf.random.shuffle(not_shuffled, seed = 42)\n",
        "\n",
        "## as per \"If both the global and the operation seed are set: Both seeds are used in conjunction to determine the random sequence.\""
      ],
      "metadata": {
        "colab": {
          "base_uri": "https://localhost:8080/"
        },
        "id": "sPZlpc3Yt_5r",
        "outputId": "f30f67da-ada9-46be-cb9a-95232560662f"
      },
      "execution_count": 27,
      "outputs": [
        {
          "output_type": "execute_result",
          "data": {
            "text/plain": [
              "<tf.Tensor: shape=(3, 2), dtype=int32, numpy=\n",
              "array([[10,  7],\n",
              "       [11, 12],\n",
              "       [ 5,  6]], dtype=int32)>"
            ]
          },
          "metadata": {},
          "execution_count": 27
        }
      ]
    },
    {
      "cell_type": "markdown",
      "source": [
        "### Turn Numpy arrays into tensors\n",
        "The main diff between numpy arrays and TF tensors is that tensors can be run on a GPU (much faster)."
      ],
      "metadata": {
        "id": "U2kDgM3ww0sL"
      }
    },
    {
      "cell_type": "code",
      "source": [
        "import numpy as np\n",
        "numpy_A = np.arange(1, 25, dtype = np.int32)\n",
        "\n",
        "#X = tf.constant(some_matrix)\n",
        "#y = tf.constant(vector) # non cap for vector vice versa for matrix above"
      ],
      "metadata": {
        "id": "6d_w8_GmxGUL"
      },
      "execution_count": 28,
      "outputs": []
    },
    {
      "cell_type": "code",
      "source": [
        "A = tf.constant(numpy_A)\n",
        "A"
      ],
      "metadata": {
        "colab": {
          "base_uri": "https://localhost:8080/"
        },
        "id": "njd7PPtcxlAr",
        "outputId": "7034f1ec-af50-4729-948d-7154feda6a47"
      },
      "execution_count": 29,
      "outputs": [
        {
          "output_type": "execute_result",
          "data": {
            "text/plain": [
              "<tf.Tensor: shape=(24,), dtype=int32, numpy=\n",
              "array([ 1,  2,  3,  4,  5,  6,  7,  8,  9, 10, 11, 12, 13, 14, 15, 16, 17,\n",
              "       18, 19, 20, 21, 22, 23, 24], dtype=int32)>"
            ]
          },
          "metadata": {},
          "execution_count": 29
        }
      ]
    },
    {
      "cell_type": "code",
      "source": [
        "B = tf.constant(numpy_A, shape = (2 ,3 , 4))\n",
        "B"
      ],
      "metadata": {
        "colab": {
          "base_uri": "https://localhost:8080/"
        },
        "id": "ywjB7vlgxpRk",
        "outputId": "4e6f15f6-600f-4794-d14d-e01447e6c26e"
      },
      "execution_count": 30,
      "outputs": [
        {
          "output_type": "execute_result",
          "data": {
            "text/plain": [
              "<tf.Tensor: shape=(2, 3, 4), dtype=int32, numpy=\n",
              "array([[[ 1,  2,  3,  4],\n",
              "        [ 5,  6,  7,  8],\n",
              "        [ 9, 10, 11, 12]],\n",
              "\n",
              "       [[13, 14, 15, 16],\n",
              "        [17, 18, 19, 20],\n",
              "        [21, 22, 23, 24]]], dtype=int32)>"
            ]
          },
          "metadata": {},
          "execution_count": 30
        }
      ]
    },
    {
      "cell_type": "markdown",
      "source": [
        "### Getting info from Tensors\n",
        "When dealing with tensors need to be aware of these attributes:\n",
        "* Shape\n",
        "* Access or Dim\n",
        "* Size\n",
        "* Rank"
      ],
      "metadata": {
        "id": "MFXnnTDO59w2"
      }
    },
    {
      "cell_type": "code",
      "source": [
        "rank_4_tensors = tf.zeros(shape = [2,3,4,5])"
      ],
      "metadata": {
        "id": "8YmorPqjx0uq"
      },
      "execution_count": 31,
      "outputs": []
    },
    {
      "cell_type": "code",
      "source": [
        "rank_4_tensors"
      ],
      "metadata": {
        "colab": {
          "base_uri": "https://localhost:8080/"
        },
        "id": "0OXSRaSZ67P4",
        "outputId": "528f9369-2dd3-4654-f650-30e14bc6ec3f"
      },
      "execution_count": 32,
      "outputs": [
        {
          "output_type": "execute_result",
          "data": {
            "text/plain": [
              "<tf.Tensor: shape=(2, 3, 4, 5), dtype=float32, numpy=\n",
              "array([[[[0., 0., 0., 0., 0.],\n",
              "         [0., 0., 0., 0., 0.],\n",
              "         [0., 0., 0., 0., 0.],\n",
              "         [0., 0., 0., 0., 0.]],\n",
              "\n",
              "        [[0., 0., 0., 0., 0.],\n",
              "         [0., 0., 0., 0., 0.],\n",
              "         [0., 0., 0., 0., 0.],\n",
              "         [0., 0., 0., 0., 0.]],\n",
              "\n",
              "        [[0., 0., 0., 0., 0.],\n",
              "         [0., 0., 0., 0., 0.],\n",
              "         [0., 0., 0., 0., 0.],\n",
              "         [0., 0., 0., 0., 0.]]],\n",
              "\n",
              "\n",
              "       [[[0., 0., 0., 0., 0.],\n",
              "         [0., 0., 0., 0., 0.],\n",
              "         [0., 0., 0., 0., 0.],\n",
              "         [0., 0., 0., 0., 0.]],\n",
              "\n",
              "        [[0., 0., 0., 0., 0.],\n",
              "         [0., 0., 0., 0., 0.],\n",
              "         [0., 0., 0., 0., 0.],\n",
              "         [0., 0., 0., 0., 0.]],\n",
              "\n",
              "        [[0., 0., 0., 0., 0.],\n",
              "         [0., 0., 0., 0., 0.],\n",
              "         [0., 0., 0., 0., 0.],\n",
              "         [0., 0., 0., 0., 0.]]]], dtype=float32)>"
            ]
          },
          "metadata": {},
          "execution_count": 32
        }
      ]
    },
    {
      "cell_type": "code",
      "source": [
        "rank_4_tensors.shape, rank_4_tensors.ndim, tf.size(rank_4_tensors)"
      ],
      "metadata": {
        "colab": {
          "base_uri": "https://localhost:8080/"
        },
        "id": "vtjzsJm069j8",
        "outputId": "cdecb20f-ee03-40b3-d3af-1358f5b1e5af"
      },
      "execution_count": 33,
      "outputs": [
        {
          "output_type": "execute_result",
          "data": {
            "text/plain": [
              "(TensorShape([2, 3, 4, 5]), 4, <tf.Tensor: shape=(), dtype=int32, numpy=120>)"
            ]
          },
          "metadata": {},
          "execution_count": 33
        }
      ]
    },
    {
      "cell_type": "markdown",
      "source": [
        "### Indexing with Tensors\n",
        "\n",
        "Index like lists in Python."
      ],
      "metadata": {
        "id": "NfW9XKJ8rF2I"
      }
    },
    {
      "cell_type": "code",
      "source": [
        "rank_4_tensors[:2, :2, :2, :2]\n",
        "## first two elements each dim"
      ],
      "metadata": {
        "colab": {
          "base_uri": "https://localhost:8080/"
        },
        "id": "nD2QyNlk7kOX",
        "outputId": "b8eff87b-98ac-4d1e-d72a-1f5b75f11675"
      },
      "execution_count": 34,
      "outputs": [
        {
          "output_type": "execute_result",
          "data": {
            "text/plain": [
              "<tf.Tensor: shape=(2, 2, 2, 2), dtype=float32, numpy=\n",
              "array([[[[0., 0.],\n",
              "         [0., 0.]],\n",
              "\n",
              "        [[0., 0.],\n",
              "         [0., 0.]]],\n",
              "\n",
              "\n",
              "       [[[0., 0.],\n",
              "         [0., 0.]],\n",
              "\n",
              "        [[0., 0.],\n",
              "         [0., 0.]]]], dtype=float32)>"
            ]
          },
          "metadata": {},
          "execution_count": 34
        }
      ]
    },
    {
      "cell_type": "code",
      "source": [
        "# get first element of each dim bar last\n",
        "rank_4_tensors[:1, :1, :1]"
      ],
      "metadata": {
        "colab": {
          "base_uri": "https://localhost:8080/"
        },
        "id": "tkoOFiKzrkOS",
        "outputId": "14862066-f61d-42bb-b843-91d135b74532"
      },
      "execution_count": 35,
      "outputs": [
        {
          "output_type": "execute_result",
          "data": {
            "text/plain": [
              "<tf.Tensor: shape=(1, 1, 1, 5), dtype=float32, numpy=array([[[[0., 0., 0., 0., 0.]]]], dtype=float32)>"
            ]
          },
          "metadata": {},
          "execution_count": 35
        }
      ]
    },
    {
      "cell_type": "code",
      "source": [
        "### reshaping tensors\n",
        "rank_2_tensor = tf.constant([[10,3],\n",
        "                             [11,7]])"
      ],
      "metadata": {
        "id": "94ZwApVyrzIM"
      },
      "execution_count": 36,
      "outputs": []
    },
    {
      "cell_type": "code",
      "source": [
        "rank_2_tensor.shape"
      ],
      "metadata": {
        "colab": {
          "base_uri": "https://localhost:8080/"
        },
        "id": "0n1i2g5DsPpP",
        "outputId": "dff1dfe1-b374-4715-bd11-d3a67fefd009"
      },
      "execution_count": 37,
      "outputs": [
        {
          "output_type": "execute_result",
          "data": {
            "text/plain": [
              "TensorShape([2, 2])"
            ]
          },
          "metadata": {},
          "execution_count": 37
        }
      ]
    },
    {
      "cell_type": "code",
      "source": [
        "rank_2_tensor.ndim"
      ],
      "metadata": {
        "colab": {
          "base_uri": "https://localhost:8080/"
        },
        "id": "smO78T0NsSaH",
        "outputId": "a95a8798-324a-44cc-847b-0f229cb2b9f6"
      },
      "execution_count": 38,
      "outputs": [
        {
          "output_type": "execute_result",
          "data": {
            "text/plain": [
              "2"
            ]
          },
          "metadata": {},
          "execution_count": 38
        }
      ]
    },
    {
      "cell_type": "code",
      "source": [
        "## add extra dim to our dim2 tensor\n",
        "rank_3_tensor = rank_2_tensor[..., tf.newaxis]\n",
        "### ... means every prev axis Instead of multiple :, : so forth"
      ],
      "metadata": {
        "id": "X_Y7H2-JsT6F"
      },
      "execution_count": 39,
      "outputs": []
    },
    {
      "cell_type": "code",
      "source": [
        "rank_3_tensor"
      ],
      "metadata": {
        "colab": {
          "base_uri": "https://localhost:8080/"
        },
        "id": "BXCdeKaWszhA",
        "outputId": "77efaed9-f467-4009-eb95-b10f63cb52e6"
      },
      "execution_count": 40,
      "outputs": [
        {
          "output_type": "execute_result",
          "data": {
            "text/plain": [
              "<tf.Tensor: shape=(2, 2, 1), dtype=int32, numpy=\n",
              "array([[[10],\n",
              "        [ 3]],\n",
              "\n",
              "       [[11],\n",
              "        [ 7]]], dtype=int32)>"
            ]
          },
          "metadata": {},
          "execution_count": 40
        }
      ]
    },
    {
      "cell_type": "code",
      "source": [
        "tf.expand_dims(rank_2_tensor, axis = 1)"
      ],
      "metadata": {
        "colab": {
          "base_uri": "https://localhost:8080/"
        },
        "id": "1hndOcAbs0n1",
        "outputId": "8ab4d00d-cdb5-4a71-849b-8b54730aba22"
      },
      "execution_count": 41,
      "outputs": [
        {
          "output_type": "execute_result",
          "data": {
            "text/plain": [
              "<tf.Tensor: shape=(2, 1, 2), dtype=int32, numpy=\n",
              "array([[[10,  3]],\n",
              "\n",
              "       [[11,  7]]], dtype=int32)>"
            ]
          },
          "metadata": {},
          "execution_count": 41
        }
      ]
    },
    {
      "cell_type": "code",
      "source": [
        "rank_2_tensor"
      ],
      "metadata": {
        "colab": {
          "base_uri": "https://localhost:8080/"
        },
        "id": "vBlMie5otP0B",
        "outputId": "07746e26-d08b-44dc-cb84-b53cbed3164f"
      },
      "execution_count": 42,
      "outputs": [
        {
          "output_type": "execute_result",
          "data": {
            "text/plain": [
              "<tf.Tensor: shape=(2, 2), dtype=int32, numpy=\n",
              "array([[10,  3],\n",
              "       [11,  7]], dtype=int32)>"
            ]
          },
          "metadata": {},
          "execution_count": 42
        }
      ]
    },
    {
      "cell_type": "markdown",
      "source": [
        "### Manipulation of Tensors\n",
        "\n",
        "Indexing etc\n",
        "\n",
        "**Basic Operations**\n",
        "+, -, /, *"
      ],
      "metadata": {
        "id": "UKzLzhfatr51"
      }
    },
    {
      "cell_type": "code",
      "source": [
        "basic = tf.constant([[10,7], [3,4]])\n",
        "basic + 10"
      ],
      "metadata": {
        "id": "Obyi1dz2tlhH",
        "colab": {
          "base_uri": "https://localhost:8080/"
        },
        "outputId": "c216bde0-22f5-4ba7-c681-c02ddb433861"
      },
      "execution_count": 43,
      "outputs": [
        {
          "output_type": "execute_result",
          "data": {
            "text/plain": [
              "<tf.Tensor: shape=(2, 2), dtype=int32, numpy=\n",
              "array([[20, 17],\n",
              "       [13, 14]], dtype=int32)>"
            ]
          },
          "metadata": {},
          "execution_count": 43
        }
      ]
    },
    {
      "cell_type": "code",
      "source": [
        "# element wise\n",
        "tf.multiply(basic, 5)"
      ],
      "metadata": {
        "colab": {
          "base_uri": "https://localhost:8080/"
        },
        "id": "gy_BIn-70YQ9",
        "outputId": "171ff2e0-4d8c-49e6-b602-8b17f11207f7"
      },
      "execution_count": 44,
      "outputs": [
        {
          "output_type": "execute_result",
          "data": {
            "text/plain": [
              "<tf.Tensor: shape=(2, 2), dtype=int32, numpy=\n",
              "array([[50, 35],\n",
              "       [15, 20]], dtype=int32)>"
            ]
          },
          "metadata": {},
          "execution_count": 44
        }
      ]
    },
    {
      "cell_type": "markdown",
      "source": [
        "## Matrix Multiplication\n",
        "\n",
        "There are two rules tensors must follow for matrix mul.:\n",
        "\n",
        "1.) The inner dimensions must match.\n",
        "2.) The resulting matrix has the shape of the inner dimensions."
      ],
      "metadata": {
        "id": "OqbtZ6Fl1VL6"
      }
    },
    {
      "cell_type": "code",
      "source": [
        "tf.linalg.matmul(basic, rank_2_tensor)"
      ],
      "metadata": {
        "colab": {
          "base_uri": "https://localhost:8080/"
        },
        "id": "4xYcSGBS1Ywy",
        "outputId": "1bea254c-3f88-48c4-b9f1-e19eedc0be28"
      },
      "execution_count": 45,
      "outputs": [
        {
          "output_type": "execute_result",
          "data": {
            "text/plain": [
              "<tf.Tensor: shape=(2, 2), dtype=int32, numpy=\n",
              "array([[177,  79],\n",
              "       [ 74,  37]], dtype=int32)>"
            ]
          },
          "metadata": {},
          "execution_count": 45
        }
      ]
    },
    {
      "cell_type": "code",
      "source": [
        "basic @ rank_2_tensor"
      ],
      "metadata": {
        "colab": {
          "base_uri": "https://localhost:8080/"
        },
        "id": "HAWsnDRc2vjM",
        "outputId": "315bf034-d4c4-4ac0-cad6-00f1a56096f0"
      },
      "execution_count": 46,
      "outputs": [
        {
          "output_type": "execute_result",
          "data": {
            "text/plain": [
              "<tf.Tensor: shape=(2, 2), dtype=int32, numpy=\n",
              "array([[177,  79],\n",
              "       [ 74,  37]], dtype=int32)>"
            ]
          },
          "metadata": {},
          "execution_count": 46
        }
      ]
    },
    {
      "cell_type": "markdown",
      "source": [
        "### Lets change shape of tensor"
      ],
      "metadata": {
        "id": "d2ob6mt-3Jck"
      }
    },
    {
      "cell_type": "code",
      "source": [
        "vals = tf.constant([[1,2],\n",
        "             [4,5],\n",
        "             [7,8]])"
      ],
      "metadata": {
        "id": "0U9nrVBk3fJF"
      },
      "execution_count": 47,
      "outputs": []
    },
    {
      "cell_type": "code",
      "source": [
        "tf.reshape(vals, shape=(2, 3))"
      ],
      "metadata": {
        "colab": {
          "base_uri": "https://localhost:8080/"
        },
        "id": "JQKD7RTm3TsV",
        "outputId": "b37d8e8d-2225-4a50-b4f4-76fb63929a8d"
      },
      "execution_count": 48,
      "outputs": [
        {
          "output_type": "execute_result",
          "data": {
            "text/plain": [
              "<tf.Tensor: shape=(2, 3), dtype=int32, numpy=\n",
              "array([[1, 2, 4],\n",
              "       [5, 7, 8]], dtype=int32)>"
            ]
          },
          "metadata": {},
          "execution_count": 48
        }
      ]
    },
    {
      "cell_type": "code",
      "source": [
        "X = tf.constant([[10,11,],\n",
        "                 [13,14],\n",
        "                 [16,17]])\n",
        "X.shape"
      ],
      "metadata": {
        "colab": {
          "base_uri": "https://localhost:8080/"
        },
        "id": "QuzdwEgx3eJZ",
        "outputId": "31c1af51-ba9b-4945-9214-0c5c21f16401"
      },
      "execution_count": 49,
      "outputs": [
        {
          "output_type": "execute_result",
          "data": {
            "text/plain": [
              "TensorShape([3, 2])"
            ]
          },
          "metadata": {},
          "execution_count": 49
        }
      ]
    },
    {
      "cell_type": "code",
      "source": [
        "X @ tf.reshape(vals, shape=(2, 3))"
      ],
      "metadata": {
        "colab": {
          "base_uri": "https://localhost:8080/"
        },
        "id": "Lycr6IxV3xrL",
        "outputId": "6353fa03-eecf-437a-eeb6-7635dd66e496"
      },
      "execution_count": 50,
      "outputs": [
        {
          "output_type": "execute_result",
          "data": {
            "text/plain": [
              "<tf.Tensor: shape=(3, 3), dtype=int32, numpy=\n",
              "array([[ 65,  97, 128],\n",
              "       [ 83, 124, 164],\n",
              "       [101, 151, 200]], dtype=int32)>"
            ]
          },
          "metadata": {},
          "execution_count": 50
        }
      ]
    },
    {
      "cell_type": "code",
      "source": [
        "## reshape other\n",
        "tf.matmul(tf.reshape(X, shape=(2,3)), vals)"
      ],
      "metadata": {
        "colab": {
          "base_uri": "https://localhost:8080/"
        },
        "id": "Hde7CbQ83z-h",
        "outputId": "d0d1471a-f2d4-4db5-abed-a1fce5b5148f"
      },
      "execution_count": 51,
      "outputs": [
        {
          "output_type": "execute_result",
          "data": {
            "text/plain": [
              "<tf.Tensor: shape=(2, 2), dtype=int32, numpy=\n",
              "array([[145, 179],\n",
              "       [197, 244]], dtype=int32)>"
            ]
          },
          "metadata": {},
          "execution_count": 51
        }
      ]
    },
    {
      "cell_type": "code",
      "source": [
        "## do same with transpose\n",
        "tf.transpose(X)\n",
        "## tranpose takes first of each vector instead of reshape"
      ],
      "metadata": {
        "colab": {
          "base_uri": "https://localhost:8080/"
        },
        "id": "31m30Z3E4MP8",
        "outputId": "9c962cfa-8dde-47e8-831a-497e60d80c6c"
      },
      "execution_count": 52,
      "outputs": [
        {
          "output_type": "execute_result",
          "data": {
            "text/plain": [
              "<tf.Tensor: shape=(2, 3), dtype=int32, numpy=\n",
              "array([[10, 13, 16],\n",
              "       [11, 14, 17]], dtype=int32)>"
            ]
          },
          "metadata": {},
          "execution_count": 52
        }
      ]
    },
    {
      "cell_type": "code",
      "source": [
        "### try matrix mul with transpose instead of reshape\n",
        "tf.matmul(tf.transpose(X), vals)"
      ],
      "metadata": {
        "colab": {
          "base_uri": "https://localhost:8080/"
        },
        "id": "EC5TCAL54vCr",
        "outputId": "cfaf8b15-c51f-4e61-9d5b-711f5f9a50ac"
      },
      "execution_count": 53,
      "outputs": [
        {
          "output_type": "execute_result",
          "data": {
            "text/plain": [
              "<tf.Tensor: shape=(2, 2), dtype=int32, numpy=\n",
              "array([[174, 213],\n",
              "       [186, 228]], dtype=int32)>"
            ]
          },
          "metadata": {},
          "execution_count": 53
        }
      ]
    },
    {
      "cell_type": "markdown",
      "source": [
        "**The Dot Product**\n",
        "\n",
        "Matrix mul also referred to as dot product, can be used using:\n",
        "- tf.matmul()\n",
        "- tf.tensordot()"
      ],
      "metadata": {
        "id": "p4AgT0kl5u6W"
      }
    },
    {
      "cell_type": "code",
      "source": [
        "## perform dot product on x and vals\n",
        "## requires x or vals to be transposed\n",
        "tf.tensordot(tf.transpose(X), vals, axes = 1)"
      ],
      "metadata": {
        "colab": {
          "base_uri": "https://localhost:8080/"
        },
        "id": "A8Ym1ZFh542t",
        "outputId": "1ad1a61f-7a9e-4ced-8e71-fc79f3ce52a7"
      },
      "execution_count": 54,
      "outputs": [
        {
          "output_type": "execute_result",
          "data": {
            "text/plain": [
              "<tf.Tensor: shape=(2, 2), dtype=int32, numpy=\n",
              "array([[174, 213],\n",
              "       [186, 228]], dtype=int32)>"
            ]
          },
          "metadata": {},
          "execution_count": 54
        }
      ]
    },
    {
      "cell_type": "code",
      "source": [
        "tf.matmul(X, tf.transpose(vals))"
      ],
      "metadata": {
        "colab": {
          "base_uri": "https://localhost:8080/"
        },
        "id": "CEYfEBR46dNh",
        "outputId": "ce51a792-40d9-478d-b18e-f0c7bc03431d"
      },
      "execution_count": 55,
      "outputs": [
        {
          "output_type": "execute_result",
          "data": {
            "text/plain": [
              "<tf.Tensor: shape=(3, 3), dtype=int32, numpy=\n",
              "array([[ 32,  95, 158],\n",
              "       [ 41, 122, 203],\n",
              "       [ 50, 149, 248]], dtype=int32)>"
            ]
          },
          "metadata": {},
          "execution_count": 55
        }
      ]
    },
    {
      "cell_type": "code",
      "source": [
        "tf.matmul(X, tf.reshape(vals, shape = (2,3)))"
      ],
      "metadata": {
        "colab": {
          "base_uri": "https://localhost:8080/"
        },
        "id": "gZCUP0zv7CIw",
        "outputId": "7d4d8192-1795-49fb-c3d7-7be048199fa1"
      },
      "execution_count": 56,
      "outputs": [
        {
          "output_type": "execute_result",
          "data": {
            "text/plain": [
              "<tf.Tensor: shape=(3, 3), dtype=int32, numpy=\n",
              "array([[ 65,  97, 128],\n",
              "       [ 83, 124, 164],\n",
              "       [101, 151, 200]], dtype=int32)>"
            ]
          },
          "metadata": {},
          "execution_count": 56
        }
      ]
    },
    {
      "cell_type": "code",
      "source": [
        "## check values\n",
        "print(\"Vals normal:\")\n",
        "print(vals, \"\\n\")\n",
        "\n",
        "print(\"Vals transpose:\")\n",
        "print(tf.transpose(vals), \"\\n\")\n",
        "\n",
        "print(\"Vals Reshape:\")\n",
        "print(tf.reshape(vals, shape = (2,3)))"
      ],
      "metadata": {
        "colab": {
          "base_uri": "https://localhost:8080/"
        },
        "id": "x2_Og6Fc7L1m",
        "outputId": "808b75e7-ed81-4194-9871-1159cd68a7fc"
      },
      "execution_count": 57,
      "outputs": [
        {
          "output_type": "stream",
          "name": "stdout",
          "text": [
            "Vals normal:\n",
            "tf.Tensor(\n",
            "[[1 2]\n",
            " [4 5]\n",
            " [7 8]], shape=(3, 2), dtype=int32) \n",
            "\n",
            "Vals transpose:\n",
            "tf.Tensor(\n",
            "[[1 4 7]\n",
            " [2 5 8]], shape=(2, 3), dtype=int32) \n",
            "\n",
            "Vals Reshape:\n",
            "tf.Tensor(\n",
            "[[1 2 4]\n",
            " [5 7 8]], shape=(2, 3), dtype=int32)\n"
          ]
        }
      ]
    },
    {
      "cell_type": "markdown",
      "source": [
        "**Generally wil transpose instead of reshape if a tensor needs to be reshaped for matrix multiplication**"
      ],
      "metadata": {
        "id": "E6CJ-sn_8oUK"
      }
    },
    {
      "cell_type": "markdown",
      "source": [
        "### Changing Data Types of Tensors"
      ],
      "metadata": {
        "id": "eT1cCoe487I3"
      }
    },
    {
      "cell_type": "code",
      "source": [
        "change = tf.constant([[3,4],\n",
        "                      [7,11]])\n",
        "change.dtype"
      ],
      "metadata": {
        "colab": {
          "base_uri": "https://localhost:8080/"
        },
        "id": "k1HgpqHe8u-k",
        "outputId": "14239175-dc38-41b1-e310-8ff21d8653c5"
      },
      "execution_count": 58,
      "outputs": [
        {
          "output_type": "execute_result",
          "data": {
            "text/plain": [
              "tf.int32"
            ]
          },
          "metadata": {},
          "execution_count": 58
        }
      ]
    },
    {
      "cell_type": "code",
      "source": [
        "change1 = tf.constant([[1.3,5.4],\n",
        "                      [7.55,11.7]])\n",
        "change1.dtype"
      ],
      "metadata": {
        "colab": {
          "base_uri": "https://localhost:8080/"
        },
        "id": "T8Xw8gUg9BOU",
        "outputId": "578668c6-4794-4d71-e96a-6b039848a248"
      },
      "execution_count": 59,
      "outputs": [
        {
          "output_type": "execute_result",
          "data": {
            "text/plain": [
              "tf.float32"
            ]
          },
          "metadata": {},
          "execution_count": 59
        }
      ]
    },
    {
      "cell_type": "code",
      "source": [
        "### change from float32 to float16\n",
        "change1 = tf.cast(change1, dtype = tf.float16)\n",
        "change1.dtype"
      ],
      "metadata": {
        "colab": {
          "base_uri": "https://localhost:8080/"
        },
        "id": "ugTL9m7S9Lp_",
        "outputId": "0fbf4619-45cd-40e9-afbe-a80b7adf9e52"
      },
      "execution_count": 60,
      "outputs": [
        {
          "output_type": "execute_result",
          "data": {
            "text/plain": [
              "tf.float16"
            ]
          },
          "metadata": {},
          "execution_count": 60
        }
      ]
    },
    {
      "cell_type": "code",
      "source": [
        "change1_int = tf.cast(change1, dtype = tf.int32)\n",
        "change1_int, change1_int.dtype"
      ],
      "metadata": {
        "colab": {
          "base_uri": "https://localhost:8080/"
        },
        "id": "zGdypFuH96wQ",
        "outputId": "fd29a3b5-1400-418b-9152-f743c5ca906c"
      },
      "execution_count": 61,
      "outputs": [
        {
          "output_type": "execute_result",
          "data": {
            "text/plain": [
              "(<tf.Tensor: shape=(2, 2), dtype=int32, numpy=\n",
              " array([[ 1,  5],\n",
              "        [ 7, 11]], dtype=int32)>,\n",
              " tf.int32)"
            ]
          },
          "metadata": {},
          "execution_count": 61
        }
      ]
    },
    {
      "cell_type": "markdown",
      "source": [
        "### Aggregating Tensors\n",
        "\n",
        "Aggregating tensors means condensing them from multiple values into a smaller number of values"
      ],
      "metadata": {
        "id": "MBVbyUC7-ke6"
      }
    },
    {
      "cell_type": "code",
      "source": [
        "l = tf.constant([[-8, -9],\n",
        "                 [-3, -77]])\n",
        "tf.abs(l)"
      ],
      "metadata": {
        "colab": {
          "base_uri": "https://localhost:8080/"
        },
        "id": "L_O4PVz1-Vlo",
        "outputId": "1b551e03-a098-46a1-8471-7239c7455314"
      },
      "execution_count": 62,
      "outputs": [
        {
          "output_type": "execute_result",
          "data": {
            "text/plain": [
              "<tf.Tensor: shape=(2, 2), dtype=int32, numpy=\n",
              "array([[ 8,  9],\n",
              "       [ 3, 77]], dtype=int32)>"
            ]
          },
          "metadata": {},
          "execution_count": 62
        }
      ]
    },
    {
      "cell_type": "markdown",
      "source": [
        "### Lets look at following methods of aggregation of a tensor\n",
        "\n",
        "- max\n",
        "- min\n",
        "- mean\n",
        "- sum"
      ],
      "metadata": {
        "id": "vl0x1L5HB7iK"
      }
    },
    {
      "cell_type": "code",
      "source": [
        "## create random tensor\n",
        "tfff = tf.constant(np.random.randint(0, 75, size = 50))"
      ],
      "metadata": {
        "id": "ui4_p-uyBuUh"
      },
      "execution_count": 63,
      "outputs": []
    },
    {
      "cell_type": "code",
      "source": [
        "tfff"
      ],
      "metadata": {
        "colab": {
          "base_uri": "https://localhost:8080/"
        },
        "id": "CMBieGG_CMEp",
        "outputId": "fecb566d-78bd-4759-ead5-fcdede2b36cd"
      },
      "execution_count": 64,
      "outputs": [
        {
          "output_type": "execute_result",
          "data": {
            "text/plain": [
              "<tf.Tensor: shape=(50,), dtype=int64, numpy=\n",
              "array([71, 35, 64, 45, 35, 51, 53, 53,  0,  6, 61, 72, 31, 72, 33, 18, 40,\n",
              "        9, 14, 51,  1, 23, 13, 73, 10, 22, 31, 67, 32, 21, 56, 20,  8, 68,\n",
              "       63, 34, 53, 47, 44, 12, 71, 52, 24, 68, 14,  7, 49, 36, 17,  9])>"
            ]
          },
          "metadata": {},
          "execution_count": 64
        }
      ]
    },
    {
      "cell_type": "code",
      "source": [
        "tf.size(tfff), tfff.shape, tfff.ndim"
      ],
      "metadata": {
        "colab": {
          "base_uri": "https://localhost:8080/"
        },
        "id": "a-WDDu1ECsXr",
        "outputId": "c8a52774-b8c7-4c80-89bc-2042ef1a2392"
      },
      "execution_count": 65,
      "outputs": [
        {
          "output_type": "execute_result",
          "data": {
            "text/plain": [
              "(<tf.Tensor: shape=(), dtype=int32, numpy=50>, TensorShape([50]), 1)"
            ]
          },
          "metadata": {},
          "execution_count": 65
        }
      ]
    },
    {
      "cell_type": "code",
      "source": [
        "## min\n",
        "tf.reduce_min(tfff)"
      ],
      "metadata": {
        "colab": {
          "base_uri": "https://localhost:8080/"
        },
        "id": "mJq7h-10CxnD",
        "outputId": "b47a047c-2e86-46fa-b2f2-b20ae76851aa"
      },
      "execution_count": 66,
      "outputs": [
        {
          "output_type": "execute_result",
          "data": {
            "text/plain": [
              "<tf.Tensor: shape=(), dtype=int64, numpy=0>"
            ]
          },
          "metadata": {},
          "execution_count": 66
        }
      ]
    },
    {
      "cell_type": "code",
      "source": [
        "### max\n",
        "tf.reduce_max(tfff)"
      ],
      "metadata": {
        "colab": {
          "base_uri": "https://localhost:8080/"
        },
        "id": "EKtdiwWmDGbm",
        "outputId": "cc819108-3cda-4122-f33d-b9b708c0efb0"
      },
      "execution_count": 67,
      "outputs": [
        {
          "output_type": "execute_result",
          "data": {
            "text/plain": [
              "<tf.Tensor: shape=(), dtype=int64, numpy=73>"
            ]
          },
          "metadata": {},
          "execution_count": 67
        }
      ]
    },
    {
      "cell_type": "code",
      "source": [
        "### mean\n",
        "tf.reduce_mean(tfff)"
      ],
      "metadata": {
        "colab": {
          "base_uri": "https://localhost:8080/"
        },
        "id": "f8RtTPfpDNiQ",
        "outputId": "2685c24c-204a-4955-8950-e1397da4854f"
      },
      "execution_count": 68,
      "outputs": [
        {
          "output_type": "execute_result",
          "data": {
            "text/plain": [
              "<tf.Tensor: shape=(), dtype=int64, numpy=37>"
            ]
          },
          "metadata": {},
          "execution_count": 68
        }
      ]
    },
    {
      "cell_type": "code",
      "source": [
        "## sum\n",
        "tf.reduce_sum(tfff)"
      ],
      "metadata": {
        "colab": {
          "base_uri": "https://localhost:8080/"
        },
        "id": "IDQWEP0GDRnJ",
        "outputId": "60fe651e-b0bd-4cb4-a80d-bd3cdfb13f77"
      },
      "execution_count": 69,
      "outputs": [
        {
          "output_type": "execute_result",
          "data": {
            "text/plain": [
              "<tf.Tensor: shape=(), dtype=int64, numpy=1859>"
            ]
          },
          "metadata": {},
          "execution_count": 69
        }
      ]
    },
    {
      "cell_type": "code",
      "source": [
        "### variance\n",
        "import tensorflow_probability as tfp\n",
        "tfp.stats.variance(\n",
        "    tfff\n",
        ")"
      ],
      "metadata": {
        "colab": {
          "base_uri": "https://localhost:8080/"
        },
        "id": "BKdB_ciwDVkU",
        "outputId": "20ba9a33-2e83-498b-845b-a5cd3d6d7e59"
      },
      "execution_count": 70,
      "outputs": [
        {
          "output_type": "execute_result",
          "data": {
            "text/plain": [
              "<tf.Tensor: shape=(), dtype=int64, numpy=498>"
            ]
          },
          "metadata": {},
          "execution_count": 70
        }
      ]
    },
    {
      "cell_type": "code",
      "source": [
        "### standard dev\n",
        "np.std(\n",
        "    tfff\n",
        ")"
      ],
      "metadata": {
        "colab": {
          "base_uri": "https://localhost:8080/"
        },
        "id": "dLykbd31DkRo",
        "outputId": "13422a12-06e0-438c-df21-58a84aa74fc0"
      },
      "execution_count": 71,
      "outputs": [
        {
          "output_type": "execute_result",
          "data": {
            "text/plain": [
              "22.325492155829398"
            ]
          },
          "metadata": {},
          "execution_count": 71
        }
      ]
    },
    {
      "cell_type": "markdown",
      "source": [
        "### Positional Max/Min of Tensor"
      ],
      "metadata": {
        "id": "twL-MYNF1klf"
      }
    },
    {
      "cell_type": "code",
      "source": [
        "## create new tensor\n",
        "tf.random.set_seed(42)\n",
        "find_max = tf.random.uniform(shape = [50])\n",
        "find_max"
      ],
      "metadata": {
        "colab": {
          "base_uri": "https://localhost:8080/"
        },
        "id": "F1O-Lyef1ouq",
        "outputId": "f5ee1932-a2ba-488c-f01c-63cd389ff53a"
      },
      "execution_count": 72,
      "outputs": [
        {
          "output_type": "execute_result",
          "data": {
            "text/plain": [
              "<tf.Tensor: shape=(50,), dtype=float32, numpy=\n",
              "array([0.6645621 , 0.44100678, 0.3528825 , 0.46448255, 0.03366041,\n",
              "       0.68467236, 0.74011743, 0.8724445 , 0.22632635, 0.22319686,\n",
              "       0.3103881 , 0.7223358 , 0.13318717, 0.5480639 , 0.5746088 ,\n",
              "       0.8996835 , 0.00946367, 0.5212307 , 0.6345445 , 0.1993283 ,\n",
              "       0.72942245, 0.54583454, 0.10756552, 0.6767061 , 0.6602763 ,\n",
              "       0.33695042, 0.60141766, 0.21062577, 0.8527372 , 0.44062173,\n",
              "       0.9485276 , 0.23752594, 0.81179297, 0.5263394 , 0.494308  ,\n",
              "       0.21612847, 0.8457197 , 0.8718841 , 0.3083862 , 0.6868038 ,\n",
              "       0.23764038, 0.7817228 , 0.9671384 , 0.06870162, 0.79873943,\n",
              "       0.66028714, 0.5871513 , 0.16461694, 0.7381023 , 0.32054043],\n",
              "      dtype=float32)>"
            ]
          },
          "metadata": {},
          "execution_count": 72
        }
      ]
    },
    {
      "cell_type": "code",
      "source": [
        "tf.argmax(find_max) # positional max"
      ],
      "metadata": {
        "colab": {
          "base_uri": "https://localhost:8080/"
        },
        "id": "lmBG13yr2oBI",
        "outputId": "7416d5e6-00fe-45bd-ae6b-6bb5b3d87a11"
      },
      "execution_count": 73,
      "outputs": [
        {
          "output_type": "execute_result",
          "data": {
            "text/plain": [
              "<tf.Tensor: shape=(), dtype=int64, numpy=42>"
            ]
          },
          "metadata": {},
          "execution_count": 73
        }
      ]
    },
    {
      "cell_type": "code",
      "source": [
        "find_max[tf.argmax(find_max)] # gets value from where index is max"
      ],
      "metadata": {
        "colab": {
          "base_uri": "https://localhost:8080/"
        },
        "id": "ccVtRZkN2yi5",
        "outputId": "35141b7a-ed7e-4a0b-9a9b-b5ecb0d6ed89"
      },
      "execution_count": 74,
      "outputs": [
        {
          "output_type": "execute_result",
          "data": {
            "text/plain": [
              "<tf.Tensor: shape=(), dtype=float32, numpy=0.9671384>"
            ]
          },
          "metadata": {},
          "execution_count": 74
        }
      ]
    },
    {
      "cell_type": "code",
      "source": [
        "tf.reduce_max(find_max) # same as cell directly above"
      ],
      "metadata": {
        "colab": {
          "base_uri": "https://localhost:8080/"
        },
        "id": "hwG9asx93KDZ",
        "outputId": "86946196-53c2-4e16-97b3-68e946cb52ad"
      },
      "execution_count": 75,
      "outputs": [
        {
          "output_type": "execute_result",
          "data": {
            "text/plain": [
              "<tf.Tensor: shape=(), dtype=float32, numpy=0.9671384>"
            ]
          },
          "metadata": {},
          "execution_count": 75
        }
      ]
    },
    {
      "cell_type": "code",
      "source": [
        "tf.argmin(find_max) # minimum"
      ],
      "metadata": {
        "colab": {
          "base_uri": "https://localhost:8080/"
        },
        "id": "tUi_ETXV3YuD",
        "outputId": "9718c041-b48a-4792-be47-718f52442893"
      },
      "execution_count": 76,
      "outputs": [
        {
          "output_type": "execute_result",
          "data": {
            "text/plain": [
              "<tf.Tensor: shape=(), dtype=int64, numpy=16>"
            ]
          },
          "metadata": {},
          "execution_count": 76
        }
      ]
    },
    {
      "cell_type": "code",
      "source": [
        "find_max[tf.argmin(find_max)]"
      ],
      "metadata": {
        "colab": {
          "base_uri": "https://localhost:8080/"
        },
        "id": "4sd3cWru3vwK",
        "outputId": "340a167f-efa2-40b6-f353-6d4f2ff1db04"
      },
      "execution_count": 77,
      "outputs": [
        {
          "output_type": "execute_result",
          "data": {
            "text/plain": [
              "<tf.Tensor: shape=(), dtype=float32, numpy=0.009463668>"
            ]
          },
          "metadata": {},
          "execution_count": 77
        }
      ]
    },
    {
      "cell_type": "markdown",
      "source": [
        "### Squeezing Tensors\n",
        "\n",
        "Removing all 1-dim"
      ],
      "metadata": {
        "id": "_DDCLKDN31Vi"
      }
    },
    {
      "cell_type": "code",
      "source": [
        "## create new tensor\n",
        "tf.random.set_seed(42)\n",
        "squeeze = tf.constant(tf.random.uniform(shape = [50]), shape = (1,1,1,1, 50))\n",
        "squeeze"
      ],
      "metadata": {
        "colab": {
          "base_uri": "https://localhost:8080/"
        },
        "id": "Qpd1aIuW3x52",
        "outputId": "70659d94-c63b-4f37-dd46-b8acaa23dae1"
      },
      "execution_count": 78,
      "outputs": [
        {
          "output_type": "execute_result",
          "data": {
            "text/plain": [
              "<tf.Tensor: shape=(1, 1, 1, 1, 50), dtype=float32, numpy=\n",
              "array([[[[[0.6645621 , 0.44100678, 0.3528825 , 0.46448255, 0.03366041,\n",
              "           0.68467236, 0.74011743, 0.8724445 , 0.22632635, 0.22319686,\n",
              "           0.3103881 , 0.7223358 , 0.13318717, 0.5480639 , 0.5746088 ,\n",
              "           0.8996835 , 0.00946367, 0.5212307 , 0.6345445 , 0.1993283 ,\n",
              "           0.72942245, 0.54583454, 0.10756552, 0.6767061 , 0.6602763 ,\n",
              "           0.33695042, 0.60141766, 0.21062577, 0.8527372 , 0.44062173,\n",
              "           0.9485276 , 0.23752594, 0.81179297, 0.5263394 , 0.494308  ,\n",
              "           0.21612847, 0.8457197 , 0.8718841 , 0.3083862 , 0.6868038 ,\n",
              "           0.23764038, 0.7817228 , 0.9671384 , 0.06870162, 0.79873943,\n",
              "           0.66028714, 0.5871513 , 0.16461694, 0.7381023 , 0.32054043]]]]],\n",
              "      dtype=float32)>"
            ]
          },
          "metadata": {},
          "execution_count": 78
        }
      ]
    },
    {
      "cell_type": "code",
      "source": [
        "squeeze.shape"
      ],
      "metadata": {
        "colab": {
          "base_uri": "https://localhost:8080/"
        },
        "id": "kM7qhRsf4ZPH",
        "outputId": "d48ee47c-a0c8-421b-9e9e-4ec6c4f2ea85"
      },
      "execution_count": 79,
      "outputs": [
        {
          "output_type": "execute_result",
          "data": {
            "text/plain": [
              "TensorShape([1, 1, 1, 1, 50])"
            ]
          },
          "metadata": {},
          "execution_count": 79
        }
      ]
    },
    {
      "cell_type": "code",
      "source": [
        "squeezed = tf.squeeze(squeeze)\n",
        "squeezed.shape"
      ],
      "metadata": {
        "colab": {
          "base_uri": "https://localhost:8080/"
        },
        "id": "tf0vmDaY4pnz",
        "outputId": "195c0b9d-7904-4fe5-9703-b46807393208"
      },
      "execution_count": 80,
      "outputs": [
        {
          "output_type": "execute_result",
          "data": {
            "text/plain": [
              "TensorShape([50])"
            ]
          },
          "metadata": {},
          "execution_count": 80
        }
      ]
    },
    {
      "cell_type": "markdown",
      "source": [
        "### One-hot Encoding Tensors"
      ],
      "metadata": {
        "id": "zw3aHam25VRx"
      }
    },
    {
      "cell_type": "code",
      "source": [
        "some_list = [0, 1, 2, 3, 5] #could be diff colours\n",
        "\n",
        "## one-hot encode\n",
        "tf.one_hot(some_list, depth = len(some_list))"
      ],
      "metadata": {
        "colab": {
          "base_uri": "https://localhost:8080/"
        },
        "id": "wEkVfB664w5X",
        "outputId": "077e065f-da5d-48c9-d61a-c9776b618cc1"
      },
      "execution_count": 81,
      "outputs": [
        {
          "output_type": "execute_result",
          "data": {
            "text/plain": [
              "<tf.Tensor: shape=(5, 5), dtype=float32, numpy=\n",
              "array([[1., 0., 0., 0., 0.],\n",
              "       [0., 1., 0., 0., 0.],\n",
              "       [0., 0., 1., 0., 0.],\n",
              "       [0., 0., 0., 1., 0.],\n",
              "       [0., 0., 0., 0., 0.]], dtype=float32)>"
            ]
          },
          "metadata": {},
          "execution_count": 81
        }
      ]
    },
    {
      "cell_type": "markdown",
      "source": [
        "### Trying out more Tensor Operations"
      ],
      "metadata": {
        "id": "NFnPq7FGOmsw"
      }
    },
    {
      "cell_type": "code",
      "source": [
        "## squaring log, n, square root\n",
        "H = tf.range(1, 10)\n",
        "H"
      ],
      "metadata": {
        "id": "QBrIVoOw6JpM",
        "colab": {
          "base_uri": "https://localhost:8080/"
        },
        "outputId": "3b112fcb-d8ec-420a-81e9-4cdd561cc58c"
      },
      "execution_count": 82,
      "outputs": [
        {
          "output_type": "execute_result",
          "data": {
            "text/plain": [
              "<tf.Tensor: shape=(9,), dtype=int32, numpy=array([1, 2, 3, 4, 5, 6, 7, 8, 9], dtype=int32)>"
            ]
          },
          "metadata": {},
          "execution_count": 82
        }
      ]
    },
    {
      "cell_type": "code",
      "source": [
        "tf.square(H)"
      ],
      "metadata": {
        "colab": {
          "base_uri": "https://localhost:8080/"
        },
        "id": "ghq3bfhmO985",
        "outputId": "5df6204e-425a-47b5-ffd7-624ee79e51be"
      },
      "execution_count": 83,
      "outputs": [
        {
          "output_type": "execute_result",
          "data": {
            "text/plain": [
              "<tf.Tensor: shape=(9,), dtype=int32, numpy=array([ 1,  4,  9, 16, 25, 36, 49, 64, 81], dtype=int32)>"
            ]
          },
          "metadata": {},
          "execution_count": 83
        }
      ]
    },
    {
      "cell_type": "code",
      "source": [
        "tf.sqrt(tf.cast(H, dtype = tf.float32))"
      ],
      "metadata": {
        "colab": {
          "base_uri": "https://localhost:8080/"
        },
        "id": "gFnQ1n0KPAjg",
        "outputId": "3af86441-9286-447a-f905-e97e9978293b"
      },
      "execution_count": 84,
      "outputs": [
        {
          "output_type": "execute_result",
          "data": {
            "text/plain": [
              "<tf.Tensor: shape=(9,), dtype=float32, numpy=\n",
              "array([1.       , 1.4142135, 1.7320508, 2.       , 2.236068 , 2.4494898,\n",
              "       2.6457512, 2.828427 , 3.       ], dtype=float32)>"
            ]
          },
          "metadata": {},
          "execution_count": 84
        }
      ]
    },
    {
      "cell_type": "code",
      "source": [
        "tf.math.log(tf.cast(H, dtype=tf.float32))"
      ],
      "metadata": {
        "colab": {
          "base_uri": "https://localhost:8080/"
        },
        "id": "UweA_hmEPDK4",
        "outputId": "c465bde8-de1b-4099-bcdd-9f3de100c79b"
      },
      "execution_count": 85,
      "outputs": [
        {
          "output_type": "execute_result",
          "data": {
            "text/plain": [
              "<tf.Tensor: shape=(9,), dtype=float32, numpy=\n",
              "array([0.       , 0.6931472, 1.0986123, 1.3862944, 1.609438 , 1.7917595,\n",
              "       1.9459102, 2.0794415, 2.1972246], dtype=float32)>"
            ]
          },
          "metadata": {},
          "execution_count": 85
        }
      ]
    },
    {
      "cell_type": "markdown",
      "source": [
        "### Tensorflow and Numpy Compatibility\n",
        "\n",
        "TF interacts well with Numpy arrays."
      ],
      "metadata": {
        "id": "siF_PSEnPpjr"
      }
    },
    {
      "cell_type": "code",
      "source": [
        "import numpy as np"
      ],
      "metadata": {
        "id": "vIWwJQ7qPfBP"
      },
      "execution_count": 86,
      "outputs": []
    },
    {
      "cell_type": "code",
      "source": [
        "# create tensor from numpy array\n",
        "J = tf.constant(np.array([3., 7., 10.]))\n",
        "J"
      ],
      "metadata": {
        "colab": {
          "base_uri": "https://localhost:8080/"
        },
        "id": "jvILKyTAP8lj",
        "outputId": "0175c842-f493-46ef-ce44-c39c3f2cb69d"
      },
      "execution_count": 87,
      "outputs": [
        {
          "output_type": "execute_result",
          "data": {
            "text/plain": [
              "<tf.Tensor: shape=(3,), dtype=float64, numpy=array([ 3.,  7., 10.])>"
            ]
          },
          "metadata": {},
          "execution_count": 87
        }
      ]
    },
    {
      "cell_type": "code",
      "source": [
        "np.array(J), type(np.array(J))"
      ],
      "metadata": {
        "colab": {
          "base_uri": "https://localhost:8080/"
        },
        "id": "UHoASrziQN07",
        "outputId": "faf4a78a-635b-4b40-8a90-f3fc27eefe40"
      },
      "execution_count": 88,
      "outputs": [
        {
          "output_type": "execute_result",
          "data": {
            "text/plain": [
              "(array([ 3.,  7., 10.]), numpy.ndarray)"
            ]
          },
          "metadata": {},
          "execution_count": 88
        }
      ]
    },
    {
      "cell_type": "code",
      "source": [
        "# convert tensor j to numpy array\n",
        "J.numpy(), type(J.numpy())"
      ],
      "metadata": {
        "colab": {
          "base_uri": "https://localhost:8080/"
        },
        "id": "rjNjmC9KQTH6",
        "outputId": "333aaa65-58fc-484c-8046-213c7a090edf"
      },
      "execution_count": 89,
      "outputs": [
        {
          "output_type": "execute_result",
          "data": {
            "text/plain": [
              "(array([ 3.,  7., 10.]), numpy.ndarray)"
            ]
          },
          "metadata": {},
          "execution_count": 89
        }
      ]
    },
    {
      "cell_type": "code",
      "source": [
        "J = tf.constant([3.])\n",
        "J.numpy()[0]"
      ],
      "metadata": {
        "colab": {
          "base_uri": "https://localhost:8080/"
        },
        "id": "AfjgBCuqQasH",
        "outputId": "439c0935-5c19-4423-d06f-d08b430c3e32"
      },
      "execution_count": 90,
      "outputs": [
        {
          "output_type": "execute_result",
          "data": {
            "text/plain": [
              "3.0"
            ]
          },
          "metadata": {},
          "execution_count": 90
        }
      ]
    },
    {
      "cell_type": "code",
      "source": [
        "## default types of each slightly different\n",
        "numpy_J = tf.constant(np.array([3., 7., 10.]))\n",
        "tensor_J = tf.constant([3., 7., 10.])\n",
        "\n",
        "numpy_J.dtype, tensor_J.dtype"
      ],
      "metadata": {
        "colab": {
          "base_uri": "https://localhost:8080/"
        },
        "id": "2BWKQ4LdQjW_",
        "outputId": "44ef2d8f-13e0-448f-c6bc-55000e99f3e5"
      },
      "execution_count": 91,
      "outputs": [
        {
          "output_type": "execute_result",
          "data": {
            "text/plain": [
              "(tf.float64, tf.float32)"
            ]
          },
          "metadata": {},
          "execution_count": 91
        }
      ]
    },
    {
      "cell_type": "code",
      "source": [
        "#### NOTE Tensorflow tensors can be run on GPU/TPU's, numpy array can't\n",
        "#### (faster numerical processing)"
      ],
      "metadata": {
        "id": "j1ypdqYKQ4Eh"
      },
      "execution_count": 92,
      "outputs": []
    },
    {
      "cell_type": "markdown",
      "source": [
        "### Finding Access to GPU's"
      ],
      "metadata": {
        "id": "cYZQUZOzRilT"
      }
    },
    {
      "cell_type": "code",
      "source": [
        "tf.config.list_physical_devices()\n",
        "#tf.config.list_physical_devices(\"GPU\")"
      ],
      "metadata": {
        "colab": {
          "base_uri": "https://localhost:8080/"
        },
        "id": "i3Tp1ANiRWpI",
        "outputId": "391edd55-511d-4257-b9e9-9654d955f371"
      },
      "execution_count": 93,
      "outputs": [
        {
          "output_type": "execute_result",
          "data": {
            "text/plain": [
              "[PhysicalDevice(name='/physical_device:CPU:0', device_type='CPU')]"
            ]
          },
          "metadata": {},
          "execution_count": 93
        }
      ]
    },
    {
      "cell_type": "code",
      "source": [
        "## CUDA GPU -> Tensorflow will use this automatically"
      ],
      "metadata": {
        "id": "iUulwIBVR8Qp"
      },
      "execution_count": 94,
      "outputs": []
    },
    {
      "cell_type": "markdown",
      "source": [
        "## 🛠 00. TensorFlow Fundamentals Exercises"
      ],
      "metadata": {
        "id": "qFD4DULnEuoe"
      }
    },
    {
      "cell_type": "code",
      "source": [
        "vec = tf.constant([1,2])\n",
        "mat = tf.constant([[1,2,3], [4,5,6]])\n",
        "tens = tf.constant([[[1,2,3,],\n",
        "                      [4,5,6]],\n",
        "                      [[66,14,10],\n",
        "                      [20,23,18]],\n",
        "                      [[9,10,12],\n",
        "                      [11,13,15]]])"
      ],
      "metadata": {
        "id": "UZoMW4wETIXh"
      },
      "execution_count": 95,
      "outputs": []
    },
    {
      "cell_type": "markdown",
      "source": [
        "## TF Neural Net Regression"
      ],
      "metadata": {
        "id": "2ekdRxfNnZw7"
      }
    },
    {
      "cell_type": "code",
      "source": [
        "import numpy as np\n",
        "import matplotlib.pyplot as plt\n",
        "\n",
        "x = np.array([-7, -4, -1, 2, 5, 8, 11, 14])\n",
        "\n",
        "y = np.array([3, 6, 9, 12, 15, 18, 21, 24])\n",
        "\n",
        "plt.scatter(x, y)"
      ],
      "metadata": {
        "id": "Qz1Z-rrkGyeJ",
        "colab": {
          "base_uri": "https://localhost:8080/",
          "height": 452
        },
        "outputId": "410c17cf-2b15-447e-da27-9d23ac191fa3"
      },
      "execution_count": 96,
      "outputs": [
        {
          "output_type": "execute_result",
          "data": {
            "text/plain": [
              "<matplotlib.collections.PathCollection at 0x78f0d509dc30>"
            ]
          },
          "metadata": {},
          "execution_count": 96
        },
        {
          "output_type": "display_data",
          "data": {
            "text/plain": [
              "<Figure size 640x480 with 1 Axes>"
            ],
            "image/png": "[encoded data removed]"
          },
          "metadata": {}
        }
      ]
    },
    {
      "cell_type": "code",
      "source": [
        "input_shape = x.shape\n",
        "output_shape = y.shape\n",
        "input_shape, output_shape"
      ],
      "metadata": {
        "colab": {
          "base_uri": "https://localhost:8080/"
        },
        "id": "w-dL7DbZ3Ax8",
        "outputId": "4fb5690c-88ba-4aa8-9b95-02b18434977f"
      },
      "execution_count": 97,
      "outputs": [
        {
          "output_type": "execute_result",
          "data": {
            "text/plain": [
              "((8,), (8,))"
            ]
          },
          "metadata": {},
          "execution_count": 97
        }
      ]
    },
    {
      "cell_type": "code",
      "source": [
        "input_shape = x[0].shape\n",
        "output_shape = y[0].shape\n",
        "input_shape, output_shape"
      ],
      "metadata": {
        "colab": {
          "base_uri": "https://localhost:8080/"
        },
        "id": "tT0uHsWE3WDI",
        "outputId": "4bfaf019-f1ed-425a-99ed-c3fa2dd64631"
      },
      "execution_count": 98,
      "outputs": [
        {
          "output_type": "execute_result",
          "data": {
            "text/plain": [
              "((), ())"
            ]
          },
          "metadata": {},
          "execution_count": 98
        }
      ]
    },
    {
      "cell_type": "code",
      "source": [
        "x[0].ndim\n",
        "## scalar tensors"
      ],
      "metadata": {
        "colab": {
          "base_uri": "https://localhost:8080/"
        },
        "id": "BYEiDeiG3wi0",
        "outputId": "6277fb83-59de-49eb-da2f-786bbb133f64"
      },
      "execution_count": 99,
      "outputs": [
        {
          "output_type": "execute_result",
          "data": {
            "text/plain": [
              "0"
            ]
          },
          "metadata": {},
          "execution_count": 99
        }
      ]
    },
    {
      "cell_type": "code",
      "source": [
        "## turn our numpy arrays into tensors\n",
        "x = tf.constant(x)\n",
        "y = tf.constant(y)\n",
        "x, y"
      ],
      "metadata": {
        "colab": {
          "base_uri": "https://localhost:8080/"
        },
        "id": "uCLaM_l935i5",
        "outputId": "22f6e201-4bb7-49f1-9f2e-62be680eeea5"
      },
      "execution_count": 100,
      "outputs": [
        {
          "output_type": "execute_result",
          "data": {
            "text/plain": [
              "(<tf.Tensor: shape=(8,), dtype=int64, numpy=array([-7, -4, -1,  2,  5,  8, 11, 14])>,\n",
              " <tf.Tensor: shape=(8,), dtype=int64, numpy=array([ 3,  6,  9, 12, 15, 18, 21, 24])>)"
            ]
          },
          "metadata": {},
          "execution_count": 100
        }
      ]
    },
    {
      "cell_type": "code",
      "source": [
        "input_shape = x[0].shape\n",
        "output_shape = y[0].shape\n",
        "input_shape, output_shape"
      ],
      "metadata": {
        "colab": {
          "base_uri": "https://localhost:8080/"
        },
        "id": "v0xwySQs4K3b",
        "outputId": "2a43e295-9b9e-457c-b849-4f4f4010ea39"
      },
      "execution_count": 101,
      "outputs": [
        {
          "output_type": "execute_result",
          "data": {
            "text/plain": [
              "(TensorShape([]), TensorShape([]))"
            ]
          },
          "metadata": {},
          "execution_count": 101
        }
      ]
    },
    {
      "cell_type": "markdown",
      "source": [
        "## Modelling Steps in Tensorflow"
      ],
      "metadata": {
        "id": "ou85yYdg4ftN"
      }
    },
    {
      "cell_type": "code",
      "source": [
        "tf.random.set_seed(42)\n",
        "# 1. create model\n",
        "model = tf.keras.Sequential([\n",
        "    #dense(1) as take 1 input and predict 1 number\n",
        "    tf.keras.layers.Dense(1)\n",
        "    ])"
      ],
      "metadata": {
        "id": "LPRTOXsQ4Qrp"
      },
      "execution_count": 102,
      "outputs": []
    },
    {
      "cell_type": "code",
      "source": [
        "#2. compile model\n",
        "model.compile(loss = tf.keras.losses.mae, # mean absolute error (like standard ML metrics)\n",
        "              optimizer = tf.keras.optimizers.SGD(),\n",
        "              metrics = [\"mae\"]) ## stochastic gradient descent\n",
        "\n",
        "# 3. fit model\n",
        "X = np.array([-7, -4, -1, 2, 5, 8, 11, 14])\n",
        "\n",
        "y = np.array([3, 6, 9, 12, 15, 18, 21, 24])\n",
        "## epochs -> 5 laps , go over x and y 5 times to figure out patterns\n",
        "model.fit(tf.expand_dims(X, axis=-1), y, epochs = 5)"
      ],
      "metadata": {
        "colab": {
          "base_uri": "https://localhost:8080/"
        },
        "id": "o6nJl0RW5skJ",
        "outputId": "bd70630c-1ed7-49db-8a2c-122271bd8065"
      },
      "execution_count": 103,
      "outputs": [
        {
          "output_type": "stream",
          "name": "stdout",
          "text": [
            "Epoch 1/5\n",
            "1/1 [==============================] - 1s 1s/step - loss: 19.9742 - mae: 19.9742\n",
            "Epoch 2/5\n",
            "1/1 [==============================] - 0s 28ms/step - loss: 19.6929 - mae: 19.6929\n",
            "Epoch 3/5\n",
            "1/1 [==============================] - 0s 16ms/step - loss: 19.4117 - mae: 19.4117\n",
            "Epoch 4/5\n",
            "1/1 [==============================] - 0s 19ms/step - loss: 19.1304 - mae: 19.1304\n",
            "Epoch 5/5\n",
            "1/1 [==============================] - 0s 18ms/step - loss: 18.8492 - mae: 18.8492\n"
          ]
        },
        {
          "output_type": "execute_result",
          "data": {
            "text/plain": [
              "<keras.src.callbacks.History at 0x78f0d4dc4df0>"
            ]
          },
          "metadata": {},
          "execution_count": 103
        }
      ]
    },
    {
      "cell_type": "code",
      "source": [
        "#model.predict([17])"
      ],
      "metadata": {
        "id": "1WK2OZw26yZo"
      },
      "execution_count": 104,
      "outputs": []
    },
    {
      "cell_type": "markdown",
      "source": [
        "## Improving Models"
      ],
      "metadata": {
        "id": "zDr7ZXrM821N"
      }
    },
    {
      "cell_type": "code",
      "source": [
        "## loss - how wrong your models predictions are compared to truth labels (minimize this)\n",
        "## optimizer - how your model updates its internal patterns to better its predictions.\n",
        "## metrics - human interpretable values for how well your model is doing"
      ],
      "metadata": {
        "id": "pL43EvDC85Tl"
      },
      "execution_count": 105,
      "outputs": []
    },
    {
      "cell_type": "markdown",
      "source": [
        "### Imrpove model steps\n",
        "\n",
        "1. **creating a model** - add more layers, more hidden layers (neurons, within each of these layers), change activation functions.\n",
        "2. **compiling model** - here change optimization function or learning rate (hyperparameter).\n",
        "3. **fitting a model** - fit a model for more epochs (training longer) or more data."
      ],
      "metadata": {
        "id": "RKmmPZFM-Qph"
      }
    },
    {
      "cell_type": "code",
      "source": [
        "### adam optimizer lr , higher lr adam optimizes pushes model to improve in optimizer section"
      ],
      "metadata": {
        "id": "1Y7dsT429qqi"
      },
      "execution_count": 106,
      "outputs": []
    },
    {
      "cell_type": "code",
      "source": [
        "## create model again\n",
        "\n",
        "# same layers\n",
        "model1 = tf.keras.Sequential([\n",
        "    tf.keras.layers.Dense(1)\n",
        "])\n",
        "\n",
        "model1.compile(loss = tf.keras.losses.mae,\n",
        "               optimizer = tf.keras.optimizers.SGD(),\n",
        "               metrics = ['mae'])\n",
        "\n",
        "# more epochs\n",
        "model1.fit(tf.expand_dims(X, axis=-1), y, epochs = 100)"
      ],
      "metadata": {
        "colab": {
          "base_uri": "https://localhost:8080/"
        },
        "id": "5F9g_iqTAJxs",
        "outputId": "fade73d6-9a98-44a8-de1d-e47ccdf2f478"
      },
      "execution_count": 107,
      "outputs": [
        {
          "output_type": "stream",
          "name": "stdout",
          "text": [
            "Epoch 1/100\n",
            "1/1 [==============================] - 2s 2s/step - loss: 14.5942 - mae: 14.5942\n",
            "Epoch 2/100\n",
            "1/1 [==============================] - 0s 28ms/step - loss: 14.4617 - mae: 14.4617\n",
            "Epoch 3/100\n",
            "1/1 [==============================] - 0s 28ms/step - loss: 14.3292 - mae: 14.3292\n",
            "Epoch 4/100\n",
            "1/1 [==============================] - 0s 47ms/step - loss: 14.1967 - mae: 14.1967\n",
            "Epoch 5/100\n",
            "1/1 [==============================] - 0s 25ms/step - loss: 14.0642 - mae: 14.0642\n",
            "Epoch 6/100\n",
            "1/1 [==============================] - 0s 31ms/step - loss: 13.9317 - mae: 13.9317\n",
            "Epoch 7/100\n",
            "1/1 [==============================] - 0s 36ms/step - loss: 13.7992 - mae: 13.7992\n",
            "Epoch 8/100\n",
            "1/1 [==============================] - 0s 38ms/step - loss: 13.6667 - mae: 13.6667\n",
            "Epoch 9/100\n",
            "1/1 [==============================] - 0s 35ms/step - loss: 13.5342 - mae: 13.5342\n",
            "Epoch 10/100\n",
            "1/1 [==============================] - 0s 22ms/step - loss: 13.4017 - mae: 13.4017\n",
            "Epoch 11/100\n",
            "1/1 [==============================] - 0s 15ms/step - loss: 13.2692 - mae: 13.2692\n",
            "Epoch 12/100\n",
            "1/1 [==============================] - 0s 18ms/step - loss: 13.1367 - mae: 13.1367\n",
            "Epoch 13/100\n",
            "1/1 [==============================] - 0s 43ms/step - loss: 13.0042 - mae: 13.0042\n",
            "Epoch 14/100\n",
            "1/1 [==============================] - 0s 31ms/step - loss: 12.8717 - mae: 12.8717\n",
            "Epoch 15/100\n",
            "1/1 [==============================] - 0s 28ms/step - loss: 12.7392 - mae: 12.7392\n",
            "Epoch 16/100\n",
            "1/1 [==============================] - 0s 64ms/step - loss: 12.6067 - mae: 12.6067\n",
            "Epoch 17/100\n",
            "1/1 [==============================] - 0s 39ms/step - loss: 12.4742 - mae: 12.4742\n",
            "Epoch 18/100\n",
            "1/1 [==============================] - 0s 36ms/step - loss: 12.3417 - mae: 12.3417\n",
            "Epoch 19/100\n",
            "1/1 [==============================] - 0s 40ms/step - loss: 12.2092 - mae: 12.2092\n",
            "Epoch 20/100\n",
            "1/1 [==============================] - 0s 43ms/step - loss: 12.0767 - mae: 12.0767\n",
            "Epoch 21/100\n",
            "1/1 [==============================] - 0s 32ms/step - loss: 11.9442 - mae: 11.9442\n",
            "Epoch 22/100\n",
            "1/1 [==============================] - 0s 42ms/step - loss: 11.8117 - mae: 11.8117\n",
            "Epoch 23/100\n",
            "1/1 [==============================] - 0s 29ms/step - loss: 11.6792 - mae: 11.6792\n",
            "Epoch 24/100\n",
            "1/1 [==============================] - 0s 31ms/step - loss: 11.5467 - mae: 11.5467\n",
            "Epoch 25/100\n",
            "1/1 [==============================] - 0s 52ms/step - loss: 11.4142 - mae: 11.4142\n",
            "Epoch 26/100\n",
            "1/1 [==============================] - 0s 23ms/step - loss: 11.2817 - mae: 11.2817\n",
            "Epoch 27/100\n",
            "1/1 [==============================] - 0s 15ms/step - loss: 11.1492 - mae: 11.1492\n",
            "Epoch 28/100\n",
            "1/1 [==============================] - 0s 15ms/step - loss: 11.0167 - mae: 11.0167\n",
            "Epoch 29/100\n",
            "1/1 [==============================] - 0s 16ms/step - loss: 10.8842 - mae: 10.8842\n",
            "Epoch 30/100\n",
            "1/1 [==============================] - 0s 21ms/step - loss: 10.7517 - mae: 10.7517\n",
            "Epoch 31/100\n",
            "1/1 [==============================] - 0s 20ms/step - loss: 10.6192 - mae: 10.6192\n",
            "Epoch 32/100\n",
            "1/1 [==============================] - 0s 24ms/step - loss: 10.4867 - mae: 10.4867\n",
            "Epoch 33/100\n",
            "1/1 [==============================] - 0s 27ms/step - loss: 10.3542 - mae: 10.3542\n",
            "Epoch 34/100\n",
            "1/1 [==============================] - 0s 30ms/step - loss: 10.2217 - mae: 10.2217\n",
            "Epoch 35/100\n",
            "1/1 [==============================] - 0s 35ms/step - loss: 10.0892 - mae: 10.0892\n",
            "Epoch 36/100\n",
            "1/1 [==============================] - 0s 40ms/step - loss: 9.9567 - mae: 9.9567\n",
            "Epoch 37/100\n",
            "1/1 [==============================] - 0s 39ms/step - loss: 9.8242 - mae: 9.8242\n",
            "Epoch 38/100\n",
            "1/1 [==============================] - 0s 19ms/step - loss: 9.6917 - mae: 9.6917\n",
            "Epoch 39/100\n",
            "1/1 [==============================] - 0s 31ms/step - loss: 9.5592 - mae: 9.5592\n",
            "Epoch 40/100\n",
            "1/1 [==============================] - 0s 37ms/step - loss: 9.4267 - mae: 9.4267\n",
            "Epoch 41/100\n",
            "1/1 [==============================] - 0s 37ms/step - loss: 9.2942 - mae: 9.2942\n",
            "Epoch 42/100\n",
            "1/1 [==============================] - 0s 26ms/step - loss: 9.1617 - mae: 9.1617\n",
            "Epoch 43/100\n",
            "1/1 [==============================] - 0s 28ms/step - loss: 9.0292 - mae: 9.0292\n",
            "Epoch 44/100\n",
            "1/1 [==============================] - 0s 17ms/step - loss: 8.8967 - mae: 8.8967\n",
            "Epoch 45/100\n",
            "1/1 [==============================] - 0s 14ms/step - loss: 8.7642 - mae: 8.7642\n",
            "Epoch 46/100\n",
            "1/1 [==============================] - 0s 17ms/step - loss: 8.6317 - mae: 8.6317\n",
            "Epoch 47/100\n",
            "1/1 [==============================] - 0s 15ms/step - loss: 8.4992 - mae: 8.4992\n",
            "Epoch 48/100\n",
            "1/1 [==============================] - 0s 17ms/step - loss: 8.3667 - mae: 8.3667\n",
            "Epoch 49/100\n",
            "1/1 [==============================] - 0s 19ms/step - loss: 8.2342 - mae: 8.2342\n",
            "Epoch 50/100\n",
            "1/1 [==============================] - 0s 37ms/step - loss: 8.1017 - mae: 8.1017\n",
            "Epoch 51/100\n",
            "1/1 [==============================] - 0s 34ms/step - loss: 7.9692 - mae: 7.9692\n",
            "Epoch 52/100\n",
            "1/1 [==============================] - 0s 23ms/step - loss: 7.8367 - mae: 7.8367\n",
            "Epoch 53/100\n",
            "1/1 [==============================] - 0s 32ms/step - loss: 7.7042 - mae: 7.7042\n",
            "Epoch 54/100\n",
            "1/1 [==============================] - 0s 19ms/step - loss: 7.5717 - mae: 7.5717\n",
            "Epoch 55/100\n",
            "1/1 [==============================] - 0s 21ms/step - loss: 7.4392 - mae: 7.4392\n",
            "Epoch 56/100\n",
            "1/1 [==============================] - 0s 20ms/step - loss: 7.3067 - mae: 7.3067\n",
            "Epoch 57/100\n",
            "1/1 [==============================] - 0s 23ms/step - loss: 7.1742 - mae: 7.1742\n",
            "Epoch 58/100\n",
            "1/1 [==============================] - 0s 20ms/step - loss: 7.0725 - mae: 7.0725\n",
            "Epoch 59/100\n",
            "1/1 [==============================] - 0s 22ms/step - loss: 7.0669 - mae: 7.0669\n",
            "Epoch 60/100\n",
            "1/1 [==============================] - 0s 24ms/step - loss: 7.0613 - mae: 7.0613\n",
            "Epoch 61/100\n",
            "1/1 [==============================] - 0s 23ms/step - loss: 7.0556 - mae: 7.0556\n",
            "Epoch 62/100\n",
            "1/1 [==============================] - 0s 25ms/step - loss: 7.0500 - mae: 7.0500\n",
            "Epoch 63/100\n",
            "1/1 [==============================] - 0s 21ms/step - loss: 7.0444 - mae: 7.0444\n",
            "Epoch 64/100\n",
            "1/1 [==============================] - 0s 23ms/step - loss: 7.0388 - mae: 7.0388\n",
            "Epoch 65/100\n",
            "1/1 [==============================] - 0s 23ms/step - loss: 7.0331 - mae: 7.0331\n",
            "Epoch 66/100\n",
            "1/1 [==============================] - 0s 25ms/step - loss: 7.0275 - mae: 7.0275\n",
            "Epoch 67/100\n",
            "1/1 [==============================] - 0s 24ms/step - loss: 7.0219 - mae: 7.0219\n",
            "Epoch 68/100\n",
            "1/1 [==============================] - 0s 24ms/step - loss: 7.0163 - mae: 7.0163\n",
            "Epoch 69/100\n",
            "1/1 [==============================] - 0s 20ms/step - loss: 7.0106 - mae: 7.0106\n",
            "Epoch 70/100\n",
            "1/1 [==============================] - 0s 25ms/step - loss: 7.0050 - mae: 7.0050\n",
            "Epoch 71/100\n",
            "1/1 [==============================] - 0s 22ms/step - loss: 6.9994 - mae: 6.9994\n",
            "Epoch 72/100\n",
            "1/1 [==============================] - 0s 17ms/step - loss: 6.9938 - mae: 6.9938\n",
            "Epoch 73/100\n",
            "1/1 [==============================] - 0s 17ms/step - loss: 6.9881 - mae: 6.9881\n",
            "Epoch 74/100\n",
            "1/1 [==============================] - 0s 30ms/step - loss: 6.9825 - mae: 6.9825\n",
            "Epoch 75/100\n",
            "1/1 [==============================] - 0s 26ms/step - loss: 6.9769 - mae: 6.9769\n",
            "Epoch 76/100\n",
            "1/1 [==============================] - 0s 23ms/step - loss: 6.9713 - mae: 6.9713\n",
            "Epoch 77/100\n",
            "1/1 [==============================] - 0s 31ms/step - loss: 6.9656 - mae: 6.9656\n",
            "Epoch 78/100\n",
            "1/1 [==============================] - 0s 29ms/step - loss: 6.9600 - mae: 6.9600\n",
            "Epoch 79/100\n",
            "1/1 [==============================] - 0s 17ms/step - loss: 6.9544 - mae: 6.9544\n",
            "Epoch 80/100\n",
            "1/1 [==============================] - 0s 23ms/step - loss: 6.9488 - mae: 6.9488\n",
            "Epoch 81/100\n",
            "1/1 [==============================] - 0s 27ms/step - loss: 6.9431 - mae: 6.9431\n",
            "Epoch 82/100\n",
            "1/1 [==============================] - 0s 23ms/step - loss: 6.9375 - mae: 6.9375\n",
            "Epoch 83/100\n",
            "1/1 [==============================] - 0s 28ms/step - loss: 6.9319 - mae: 6.9319\n",
            "Epoch 84/100\n",
            "1/1 [==============================] - 0s 42ms/step - loss: 6.9263 - mae: 6.9263\n",
            "Epoch 85/100\n",
            "1/1 [==============================] - 0s 19ms/step - loss: 6.9206 - mae: 6.9206\n",
            "Epoch 86/100\n",
            "1/1 [==============================] - 0s 24ms/step - loss: 6.9150 - mae: 6.9150\n",
            "Epoch 87/100\n",
            "1/1 [==============================] - 0s 25ms/step - loss: 6.9094 - mae: 6.9094\n",
            "Epoch 88/100\n",
            "1/1 [==============================] - 0s 24ms/step - loss: 6.9038 - mae: 6.9038\n",
            "Epoch 89/100\n",
            "1/1 [==============================] - 0s 17ms/step - loss: 6.8981 - mae: 6.8981\n",
            "Epoch 90/100\n",
            "1/1 [==============================] - 0s 21ms/step - loss: 6.8925 - mae: 6.8925\n",
            "Epoch 91/100\n",
            "1/1 [==============================] - 0s 21ms/step - loss: 6.8869 - mae: 6.8869\n",
            "Epoch 92/100\n",
            "1/1 [==============================] - 0s 30ms/step - loss: 6.8813 - mae: 6.8813\n",
            "Epoch 93/100\n",
            "1/1 [==============================] - 0s 24ms/step - loss: 6.8756 - mae: 6.8756\n",
            "Epoch 94/100\n",
            "1/1 [==============================] - 0s 14ms/step - loss: 6.8700 - mae: 6.8700\n",
            "Epoch 95/100\n",
            "1/1 [==============================] - 0s 10ms/step - loss: 6.8644 - mae: 6.8644\n",
            "Epoch 96/100\n",
            "1/1 [==============================] - 0s 15ms/step - loss: 6.8588 - mae: 6.8588\n",
            "Epoch 97/100\n",
            "1/1 [==============================] - 0s 21ms/step - loss: 6.8531 - mae: 6.8531\n",
            "Epoch 98/100\n",
            "1/1 [==============================] - 0s 23ms/step - loss: 6.8475 - mae: 6.8475\n",
            "Epoch 99/100\n",
            "1/1 [==============================] - 0s 23ms/step - loss: 6.8419 - mae: 6.8419\n",
            "Epoch 100/100\n",
            "1/1 [==============================] - 0s 25ms/step - loss: 6.8363 - mae: 6.8363\n"
          ]
        },
        {
          "output_type": "execute_result",
          "data": {
            "text/plain": [
              "<keras.src.callbacks.History at 0x78f0d442d870>"
            ]
          },
          "metadata": {},
          "execution_count": 107
        }
      ]
    },
    {
      "cell_type": "code",
      "source": [
        "## much more accurate\n",
        "model1.predict([17])"
      ],
      "metadata": {
        "colab": {
          "base_uri": "https://localhost:8080/"
        },
        "id": "d2w-Z8HYBGOe",
        "outputId": "2b3b3037-36b1-492e-ddb2-e05cec005c2a"
      },
      "execution_count": 108,
      "outputs": [
        {
          "output_type": "stream",
          "name": "stdout",
          "text": [
            "1/1 [==============================] - 0s 243ms/step\n"
          ]
        },
        {
          "output_type": "execute_result",
          "data": {
            "text/plain": [
              "array([[29.493011]], dtype=float32)"
            ]
          },
          "metadata": {},
          "execution_count": 108
        }
      ]
    },
    {
      "cell_type": "code",
      "source": [],
      "metadata": {
        "id": "_sjQfjZTBqyn"
      },
      "execution_count": 107,
      "outputs": []
    }
  ]
}