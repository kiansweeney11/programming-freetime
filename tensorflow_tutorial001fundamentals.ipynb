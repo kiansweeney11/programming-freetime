{
  "nbformat": 4,
  "nbformat_minor": 0,
  "metadata": {
    "colab": {
      "provenance": []
    },
    "kernelspec": {
      "name": "python3",
      "display_name": "Python 3"
    },
    "language_info": {
      "name": "python"
    }
  },
  "cells": [
    {
      "cell_type": "markdown",
      "source": [
        "### Covering basics of tensorflow, tensors etc"
      ],
      "metadata": {
        "id": "JQygI7v3ixDX"
      }
    },
    {
      "cell_type": "code",
      "source": [
        "### intro to tensors\n",
        "### getting info from tensors\n",
        "### manipulating tensors\n",
        "### tensors & numpy\n",
        "### using @tf.function (way to speed up regular python functions)\n",
        "### using GPU/TPU's with tensorflow"
      ],
      "metadata": {
        "id": "j7B_G618jMZI"
      },
      "execution_count": 1,
      "outputs": []
    },
    {
      "cell_type": "code",
      "source": [
        "import tensorflow as tf\n",
        "print(tf.__version__)"
      ],
      "metadata": {
        "colab": {
          "base_uri": "https://localhost:8080/"
        },
        "id": "6YmdvfL-jiRv",
        "outputId": "9d1e75c6-2e3c-44cd-fc5b-0aaef9bb14ff"
      },
      "execution_count": 2,
      "outputs": [
        {
          "output_type": "stream",
          "name": "stdout",
          "text": [
            "2.14.0\n"
          ]
        }
      ]
    },
    {
      "cell_type": "code",
      "source": [
        "# creating tensors with tf.constant()\n",
        "scalar = tf.constant(7)\n",
        "scalar"
      ],
      "metadata": {
        "colab": {
          "base_uri": "https://localhost:8080/"
        },
        "id": "xQV3kA_Qj5c4",
        "outputId": "ba75af25-1047-40c6-d8aa-e107862da830"
      },
      "execution_count": 3,
      "outputs": [
        {
          "output_type": "execute_result",
          "data": {
            "text/plain": [
              "<tf.Tensor: shape=(), dtype=int32, numpy=7>"
            ]
          },
          "metadata": {},
          "execution_count": 3
        }
      ]
    },
    {
      "cell_type": "code",
      "source": [
        "# check no of dimensions in a tensor\n",
        "scalar.ndim"
      ],
      "metadata": {
        "colab": {
          "base_uri": "https://localhost:8080/"
        },
        "id": "ELSTv-IzkS54",
        "outputId": "b69f4af6-f0b0-4b40-8660-d12f3d36bb49"
      },
      "execution_count": 4,
      "outputs": [
        {
          "output_type": "execute_result",
          "data": {
            "text/plain": [
              "0"
            ]
          },
          "metadata": {},
          "execution_count": 4
        }
      ]
    },
    {
      "cell_type": "code",
      "source": [
        "# create a vector\n",
        "vector = tf.constant([10,10])\n",
        "vector.ndim"
      ],
      "metadata": {
        "colab": {
          "base_uri": "https://localhost:8080/"
        },
        "id": "d7y0uIiDkpOs",
        "outputId": "1ed3fed7-bbd0-4d33-c59a-e15bb0fa2df3"
      },
      "execution_count": 5,
      "outputs": [
        {
          "output_type": "execute_result",
          "data": {
            "text/plain": [
              "1"
            ]
          },
          "metadata": {},
          "execution_count": 5
        }
      ]
    },
    {
      "cell_type": "code",
      "source": [
        "# create a matrix\n",
        "matrix = tf.constant([[10,7], [7,10]])\n",
        "matrix.ndim"
      ],
      "metadata": {
        "colab": {
          "base_uri": "https://localhost:8080/"
        },
        "id": "XtbBJTo9kyyk",
        "outputId": "4869e818-1da8-4586-9308-7fb6e6482bbf"
      },
      "execution_count": 6,
      "outputs": [
        {
          "output_type": "execute_result",
          "data": {
            "text/plain": [
              "2"
            ]
          },
          "metadata": {},
          "execution_count": 6
        }
      ]
    },
    {
      "cell_type": "code",
      "source": [
        "vector"
      ],
      "metadata": {
        "colab": {
          "base_uri": "https://localhost:8080/"
        },
        "id": "ah7NhuGdlHvP",
        "outputId": "d7bad7e2-14bd-40ca-cbb5-c57858273431"
      },
      "execution_count": 7,
      "outputs": [
        {
          "output_type": "execute_result",
          "data": {
            "text/plain": [
              "<tf.Tensor: shape=(2,), dtype=int32, numpy=array([10, 10], dtype=int32)>"
            ]
          },
          "metadata": {},
          "execution_count": 7
        }
      ]
    },
    {
      "cell_type": "code",
      "source": [
        "matrix"
      ],
      "metadata": {
        "colab": {
          "base_uri": "https://localhost:8080/"
        },
        "id": "4-MOF8qglO6e",
        "outputId": "9faf84e0-3737-42b3-ace2-d5cb7780f1e0"
      },
      "execution_count": 8,
      "outputs": [
        {
          "output_type": "execute_result",
          "data": {
            "text/plain": [
              "<tf.Tensor: shape=(2, 2), dtype=int32, numpy=\n",
              "array([[10,  7],\n",
              "       [ 7, 10]], dtype=int32)>"
            ]
          },
          "metadata": {},
          "execution_count": 8
        }
      ]
    },
    {
      "cell_type": "code",
      "source": [
        "another_matrix = tf.constant([[11.1, 32.4], [10., 7.]])\n",
        "another_matrix"
      ],
      "metadata": {
        "colab": {
          "base_uri": "https://localhost:8080/"
        },
        "id": "EKHPiGzklPeK",
        "outputId": "cb9970f0-7ee4-4298-9f3d-d8807a901e14"
      },
      "execution_count": 9,
      "outputs": [
        {
          "output_type": "execute_result",
          "data": {
            "text/plain": [
              "<tf.Tensor: shape=(2, 2), dtype=float32, numpy=\n",
              "array([[11.1, 32.4],\n",
              "       [10. ,  7. ]], dtype=float32)>"
            ]
          },
          "metadata": {},
          "execution_count": 9
        }
      ]
    },
    {
      "cell_type": "code",
      "source": [
        "another_matrix.ndim"
      ],
      "metadata": {
        "colab": {
          "base_uri": "https://localhost:8080/"
        },
        "id": "x4TIZUYXllzy",
        "outputId": "4147ac50-f8bf-4b40-e6de-3d946888f498"
      },
      "execution_count": 10,
      "outputs": [
        {
          "output_type": "execute_result",
          "data": {
            "text/plain": [
              "2"
            ]
          },
          "metadata": {},
          "execution_count": 10
        }
      ]
    },
    {
      "cell_type": "code",
      "source": [
        "another_matrix1 = tf.constant([[11.5, 39.7], [10., 7.]], dtype = tf.float16)\n",
        "another_matrix1"
      ],
      "metadata": {
        "colab": {
          "base_uri": "https://localhost:8080/"
        },
        "id": "U3VITqs_loS_",
        "outputId": "66ee249b-a212-46c7-c80c-46a8e94ccab6"
      },
      "execution_count": 11,
      "outputs": [
        {
          "output_type": "execute_result",
          "data": {
            "text/plain": [
              "<tf.Tensor: shape=(2, 2), dtype=float16, numpy=\n",
              "array([[11.5, 39.7],\n",
              "       [10. ,  7. ]], dtype=float16)>"
            ]
          },
          "metadata": {},
          "execution_count": 11
        }
      ]
    },
    {
      "cell_type": "code",
      "source": [
        "tensor = tf.constant([[[1,2,3,],\n",
        "                      [4,5,6]],\n",
        "                      [[66,14,10],\n",
        "                      [20,23,18]],\n",
        "                      [[9,10,12],\n",
        "                      [11,13,15]]])"
      ],
      "metadata": {
        "id": "UqTlGKsJlzgd"
      },
      "execution_count": 12,
      "outputs": []
    },
    {
      "cell_type": "code",
      "source": [
        "tensor"
      ],
      "metadata": {
        "colab": {
          "base_uri": "https://localhost:8080/"
        },
        "id": "S62V-stmmlha",
        "outputId": "3496a521-3f39-41f0-db9a-c1da6bef3be9"
      },
      "execution_count": 13,
      "outputs": [
        {
          "output_type": "execute_result",
          "data": {
            "text/plain": [
              "<tf.Tensor: shape=(3, 2, 3), dtype=int32, numpy=\n",
              "array([[[ 1,  2,  3],\n",
              "        [ 4,  5,  6]],\n",
              "\n",
              "       [[66, 14, 10],\n",
              "        [20, 23, 18]],\n",
              "\n",
              "       [[ 9, 10, 12],\n",
              "        [11, 13, 15]]], dtype=int32)>"
            ]
          },
          "metadata": {},
          "execution_count": 13
        }
      ]
    },
    {
      "cell_type": "code",
      "source": [
        "tensor.ndim"
      ],
      "metadata": {
        "colab": {
          "base_uri": "https://localhost:8080/"
        },
        "id": "WralRuN_nFUR",
        "outputId": "5ec6c175-126c-47df-fcce-84f116fb784e"
      },
      "execution_count": 14,
      "outputs": [
        {
          "output_type": "execute_result",
          "data": {
            "text/plain": [
              "3"
            ]
          },
          "metadata": {},
          "execution_count": 14
        }
      ]
    },
    {
      "cell_type": "code",
      "source": [
        "# scalar - single num\n",
        "# vector - number with direction e.g wind speed & direction\n",
        "# matrix - 2 dimensional array of numbers\n",
        "# tensor - an n-dimensional array of numbers where n can be any number, a 0-dimensional tensor is a scalar, 1 dim tensor is a vector"
      ],
      "metadata": {
        "id": "UrjTe92unXBZ"
      },
      "execution_count": 15,
      "outputs": []
    },
    {
      "cell_type": "code",
      "source": [
        "tf.Variable"
      ],
      "metadata": {
        "id": "Vl0a3ty8n_D4",
        "colab": {
          "base_uri": "https://localhost:8080/"
        },
        "outputId": "fb242907-cbcd-43e5-d3da-3d05a0a73e26"
      },
      "execution_count": 16,
      "outputs": [
        {
          "output_type": "execute_result",
          "data": {
            "text/plain": [
              "tensorflow.python.ops.variables.Variable"
            ]
          },
          "metadata": {},
          "execution_count": 16
        }
      ]
    },
    {
      "cell_type": "code",
      "source": [
        "# create the same tensor with the tf.variable as above\n",
        "changeable_tensor = tf.Variable([10,7])\n",
        "unchangeable_tensor = tf.constant([10,10])"
      ],
      "metadata": {
        "id": "uaVCZVuSqByq"
      },
      "execution_count": 17,
      "outputs": []
    },
    {
      "cell_type": "code",
      "source": [
        "changeable_tensor"
      ],
      "metadata": {
        "colab": {
          "base_uri": "https://localhost:8080/"
        },
        "id": "QI0mjiMCqo3S",
        "outputId": "cf3bcab1-2e53-490b-da1f-3caeefe6a3cc"
      },
      "execution_count": 18,
      "outputs": [
        {
          "output_type": "execute_result",
          "data": {
            "text/plain": [
              "<tf.Variable 'Variable:0' shape=(2,) dtype=int32, numpy=array([10,  7], dtype=int32)>"
            ]
          },
          "metadata": {},
          "execution_count": 18
        }
      ]
    },
    {
      "cell_type": "code",
      "source": [
        "unchangeable_tensor"
      ],
      "metadata": {
        "colab": {
          "base_uri": "https://localhost:8080/"
        },
        "id": "QEg4iB6Hq8lH",
        "outputId": "3823633b-0246-42fd-8b38-b35168b16c16"
      },
      "execution_count": 19,
      "outputs": [
        {
          "output_type": "execute_result",
          "data": {
            "text/plain": [
              "<tf.Tensor: shape=(2,), dtype=int32, numpy=array([10, 10], dtype=int32)>"
            ]
          },
          "metadata": {},
          "execution_count": 19
        }
      ]
    },
    {
      "cell_type": "code",
      "source": [
        "# cannot use assign or change the unchangeable tensor (tf.constant)\n",
        "changeable_tensor[0].assign(7)\n",
        "changeable_tensor"
      ],
      "metadata": {
        "colab": {
          "base_uri": "https://localhost:8080/"
        },
        "id": "Do-JGgQyrSIG",
        "outputId": "58f5dc31-9387-4d9a-98ba-96b601322c25"
      },
      "execution_count": 20,
      "outputs": [
        {
          "output_type": "execute_result",
          "data": {
            "text/plain": [
              "<tf.Variable 'Variable:0' shape=(2,) dtype=int32, numpy=array([7, 7], dtype=int32)>"
            ]
          },
          "metadata": {},
          "execution_count": 20
        }
      ]
    },
    {
      "cell_type": "markdown",
      "source": [
        "Rarely in practise do you use tf.constant or tf.variable (already done for you). If in doubt use tf.constant and change later though"
      ],
      "metadata": {
        "id": "dfd-1D56sReC"
      }
    },
    {
      "cell_type": "markdown",
      "source": [
        "### Creating Random Tensors"
      ],
      "metadata": {
        "id": "ueOZm4fMsK0t"
      }
    },
    {
      "cell_type": "code",
      "source": [
        "### create two random but the same tensors\n",
        "random_1 = tf.random.Generator.from_seed(42) # set seed for reproducibility\n",
        "random_1 = random_1.normal(shape = (3,2))\n",
        "random_1"
      ],
      "metadata": {
        "colab": {
          "base_uri": "https://localhost:8080/"
        },
        "id": "HQlHHuKyrcRP",
        "outputId": "a562f856-6981-4c06-8bec-05a594763350"
      },
      "execution_count": 21,
      "outputs": [
        {
          "output_type": "execute_result",
          "data": {
            "text/plain": [
              "<tf.Tensor: shape=(3, 2), dtype=float32, numpy=\n",
              "array([[-0.7565803 , -0.06854702],\n",
              "       [ 0.07595026, -1.2573844 ],\n",
              "       [-0.23193763, -1.8107855 ]], dtype=float32)>"
            ]
          },
          "metadata": {},
          "execution_count": 21
        }
      ]
    },
    {
      "cell_type": "code",
      "source": [
        "random_2 = tf.random.Generator.from_seed(42)\n",
        "# pseudo random numbers as we set seed\n",
        "random_2 = random_2.normal(shape = (3,2))\n",
        "random_2"
      ],
      "metadata": {
        "colab": {
          "base_uri": "https://localhost:8080/"
        },
        "id": "O_-cTmHYtr7Q",
        "outputId": "7809f512-bbe6-4281-a3e8-5cecafdbb17a"
      },
      "execution_count": 22,
      "outputs": [
        {
          "output_type": "execute_result",
          "data": {
            "text/plain": [
              "<tf.Tensor: shape=(3, 2), dtype=float32, numpy=\n",
              "array([[-0.7565803 , -0.06854702],\n",
              "       [ 0.07595026, -1.2573844 ],\n",
              "       [-0.23193763, -1.8107855 ]], dtype=float32)>"
            ]
          },
          "metadata": {},
          "execution_count": 22
        }
      ]
    },
    {
      "cell_type": "code",
      "source": [
        "random_1 == random_2"
      ],
      "metadata": {
        "colab": {
          "base_uri": "https://localhost:8080/"
        },
        "id": "IXCkbPwyuBdi",
        "outputId": "8f63f320-4a72-4697-a358-4219132173d7"
      },
      "execution_count": 23,
      "outputs": [
        {
          "output_type": "execute_result",
          "data": {
            "text/plain": [
              "<tf.Tensor: shape=(3, 2), dtype=bool, numpy=\n",
              "array([[ True,  True],\n",
              "       [ True,  True],\n",
              "       [ True,  True]])>"
            ]
          },
          "metadata": {},
          "execution_count": 23
        }
      ]
    },
    {
      "cell_type": "markdown",
      "source": [
        "### Shuffling Orders of a tensor"
      ],
      "metadata": {
        "id": "jbp6s-w-s69v"
      }
    },
    {
      "cell_type": "code",
      "source": [
        "# shuffle a tensor\n",
        "# valuable for when you want to shuffle your data, order doesnt affect learning\n",
        "not_shuffled = tf.constant([[10,7],\n",
        "                            [11,12],\n",
        "                            [5, 6]])"
      ],
      "metadata": {
        "id": "MO0IswHYsy_M"
      },
      "execution_count": 24,
      "outputs": []
    },
    {
      "cell_type": "code",
      "source": [
        "not_shuffled.ndim"
      ],
      "metadata": {
        "colab": {
          "base_uri": "https://localhost:8080/"
        },
        "id": "v6G_XFN7tQj5",
        "outputId": "ece1eeec-8a06-4c7c-844a-53ef62341a12"
      },
      "execution_count": 25,
      "outputs": [
        {
          "output_type": "execute_result",
          "data": {
            "text/plain": [
              "2"
            ]
          },
          "metadata": {},
          "execution_count": 25
        }
      ]
    },
    {
      "cell_type": "code",
      "source": [
        "tf.random.shuffle(not_shuffled)"
      ],
      "metadata": {
        "colab": {
          "base_uri": "https://localhost:8080/"
        },
        "id": "YxhEZw5vtlai",
        "outputId": "308a188b-00ff-432c-cdcc-32764f4853af"
      },
      "execution_count": 26,
      "outputs": [
        {
          "output_type": "execute_result",
          "data": {
            "text/plain": [
              "<tf.Tensor: shape=(3, 2), dtype=int32, numpy=\n",
              "array([[10,  7],\n",
              "       [11, 12],\n",
              "       [ 5,  6]], dtype=int32)>"
            ]
          },
          "metadata": {},
          "execution_count": 26
        }
      ]
    },
    {
      "cell_type": "code",
      "source": [
        "### same order everytime - global seed same as operational\n",
        "tf.random.set_seed(42)\n",
        "tf.random.shuffle(not_shuffled, seed = 42)\n",
        "\n",
        "## as per \"If both the global and the operation seed are set: Both seeds are used in conjunction to determine the random sequence.\""
      ],
      "metadata": {
        "colab": {
          "base_uri": "https://localhost:8080/"
        },
        "id": "sPZlpc3Yt_5r",
        "outputId": "3c67f956-02b4-4f00-be15-476e8e6d7118"
      },
      "execution_count": 27,
      "outputs": [
        {
          "output_type": "execute_result",
          "data": {
            "text/plain": [
              "<tf.Tensor: shape=(3, 2), dtype=int32, numpy=\n",
              "array([[10,  7],\n",
              "       [11, 12],\n",
              "       [ 5,  6]], dtype=int32)>"
            ]
          },
          "metadata": {},
          "execution_count": 27
        }
      ]
    },
    {
      "cell_type": "markdown",
      "source": [
        "### Turn Numpy arrays into tensors\n",
        "The main diff between numpy arrays and TF tensors is that tensors can be run on a GPU (much faster)."
      ],
      "metadata": {
        "id": "U2kDgM3ww0sL"
      }
    },
    {
      "cell_type": "code",
      "source": [
        "import numpy as np\n",
        "numpy_A = np.arange(1, 25, dtype = np.int32)\n",
        "\n",
        "#X = tf.constant(some_matrix)\n",
        "#y = tf.constant(vector) # non cap for vector vice versa for matrix above"
      ],
      "metadata": {
        "id": "6d_w8_GmxGUL"
      },
      "execution_count": 28,
      "outputs": []
    },
    {
      "cell_type": "code",
      "source": [
        "A = tf.constant(numpy_A)\n",
        "A"
      ],
      "metadata": {
        "colab": {
          "base_uri": "https://localhost:8080/"
        },
        "id": "njd7PPtcxlAr",
        "outputId": "b6e20457-2773-490d-bd26-8ac33a2c46db"
      },
      "execution_count": 29,
      "outputs": [
        {
          "output_type": "execute_result",
          "data": {
            "text/plain": [
              "<tf.Tensor: shape=(24,), dtype=int32, numpy=\n",
              "array([ 1,  2,  3,  4,  5,  6,  7,  8,  9, 10, 11, 12, 13, 14, 15, 16, 17,\n",
              "       18, 19, 20, 21, 22, 23, 24], dtype=int32)>"
            ]
          },
          "metadata": {},
          "execution_count": 29
        }
      ]
    },
    {
      "cell_type": "code",
      "source": [
        "B = tf.constant(numpy_A, shape = (2 ,3 , 4))\n",
        "B"
      ],
      "metadata": {
        "colab": {
          "base_uri": "https://localhost:8080/"
        },
        "id": "ywjB7vlgxpRk",
        "outputId": "eb70d980-99d4-4870-fc0d-46ad29a320b4"
      },
      "execution_count": 30,
      "outputs": [
        {
          "output_type": "execute_result",
          "data": {
            "text/plain": [
              "<tf.Tensor: shape=(2, 3, 4), dtype=int32, numpy=\n",
              "array([[[ 1,  2,  3,  4],\n",
              "        [ 5,  6,  7,  8],\n",
              "        [ 9, 10, 11, 12]],\n",
              "\n",
              "       [[13, 14, 15, 16],\n",
              "        [17, 18, 19, 20],\n",
              "        [21, 22, 23, 24]]], dtype=int32)>"
            ]
          },
          "metadata": {},
          "execution_count": 30
        }
      ]
    },
    {
      "cell_type": "markdown",
      "source": [
        "### Getting info from Tensors\n",
        "When dealing with tensors need to be aware of these attributes:\n",
        "* Shape\n",
        "* Access or Dim\n",
        "* Size\n",
        "* Rank"
      ],
      "metadata": {
        "id": "MFXnnTDO59w2"
      }
    },
    {
      "cell_type": "code",
      "source": [
        "rank_4_tensors = tf.zeros(shape = [2,3,4,5])"
      ],
      "metadata": {
        "id": "8YmorPqjx0uq"
      },
      "execution_count": 31,
      "outputs": []
    },
    {
      "cell_type": "code",
      "source": [
        "rank_4_tensors"
      ],
      "metadata": {
        "colab": {
          "base_uri": "https://localhost:8080/"
        },
        "id": "0OXSRaSZ67P4",
        "outputId": "b83ff2af-e243-45ee-d8e6-307d86336475"
      },
      "execution_count": 32,
      "outputs": [
        {
          "output_type": "execute_result",
          "data": {
            "text/plain": [
              "<tf.Tensor: shape=(2, 3, 4, 5), dtype=float32, numpy=\n",
              "array([[[[0., 0., 0., 0., 0.],\n",
              "         [0., 0., 0., 0., 0.],\n",
              "         [0., 0., 0., 0., 0.],\n",
              "         [0., 0., 0., 0., 0.]],\n",
              "\n",
              "        [[0., 0., 0., 0., 0.],\n",
              "         [0., 0., 0., 0., 0.],\n",
              "         [0., 0., 0., 0., 0.],\n",
              "         [0., 0., 0., 0., 0.]],\n",
              "\n",
              "        [[0., 0., 0., 0., 0.],\n",
              "         [0., 0., 0., 0., 0.],\n",
              "         [0., 0., 0., 0., 0.],\n",
              "         [0., 0., 0., 0., 0.]]],\n",
              "\n",
              "\n",
              "       [[[0., 0., 0., 0., 0.],\n",
              "         [0., 0., 0., 0., 0.],\n",
              "         [0., 0., 0., 0., 0.],\n",
              "         [0., 0., 0., 0., 0.]],\n",
              "\n",
              "        [[0., 0., 0., 0., 0.],\n",
              "         [0., 0., 0., 0., 0.],\n",
              "         [0., 0., 0., 0., 0.],\n",
              "         [0., 0., 0., 0., 0.]],\n",
              "\n",
              "        [[0., 0., 0., 0., 0.],\n",
              "         [0., 0., 0., 0., 0.],\n",
              "         [0., 0., 0., 0., 0.],\n",
              "         [0., 0., 0., 0., 0.]]]], dtype=float32)>"
            ]
          },
          "metadata": {},
          "execution_count": 32
        }
      ]
    },
    {
      "cell_type": "code",
      "source": [
        "rank_4_tensors.shape, rank_4_tensors.ndim, tf.size(rank_4_tensors)"
      ],
      "metadata": {
        "colab": {
          "base_uri": "https://localhost:8080/"
        },
        "id": "vtjzsJm069j8",
        "outputId": "37fe6d3a-2083-4be3-991e-be60ea1b13a0"
      },
      "execution_count": 33,
      "outputs": [
        {
          "output_type": "execute_result",
          "data": {
            "text/plain": [
              "(TensorShape([2, 3, 4, 5]), 4, <tf.Tensor: shape=(), dtype=int32, numpy=120>)"
            ]
          },
          "metadata": {},
          "execution_count": 33
        }
      ]
    },
    {
      "cell_type": "markdown",
      "source": [
        "### Indexing with Tensors\n",
        "\n",
        "Index like lists in Python."
      ],
      "metadata": {
        "id": "NfW9XKJ8rF2I"
      }
    },
    {
      "cell_type": "code",
      "source": [
        "rank_4_tensors[:2, :2, :2, :2]\n",
        "## first two elements each dim"
      ],
      "metadata": {
        "colab": {
          "base_uri": "https://localhost:8080/"
        },
        "id": "nD2QyNlk7kOX",
        "outputId": "11c59e1d-9a5d-4ba3-cc8a-f708af0e042c"
      },
      "execution_count": 34,
      "outputs": [
        {
          "output_type": "execute_result",
          "data": {
            "text/plain": [
              "<tf.Tensor: shape=(2, 2, 2, 2), dtype=float32, numpy=\n",
              "array([[[[0., 0.],\n",
              "         [0., 0.]],\n",
              "\n",
              "        [[0., 0.],\n",
              "         [0., 0.]]],\n",
              "\n",
              "\n",
              "       [[[0., 0.],\n",
              "         [0., 0.]],\n",
              "\n",
              "        [[0., 0.],\n",
              "         [0., 0.]]]], dtype=float32)>"
            ]
          },
          "metadata": {},
          "execution_count": 34
        }
      ]
    },
    {
      "cell_type": "code",
      "source": [
        "# get first element of each dim bar last\n",
        "rank_4_tensors[:1, :1, :1]"
      ],
      "metadata": {
        "colab": {
          "base_uri": "https://localhost:8080/"
        },
        "id": "tkoOFiKzrkOS",
        "outputId": "12bc0150-4274-49c9-a9ec-8e1d1be3d2ef"
      },
      "execution_count": 35,
      "outputs": [
        {
          "output_type": "execute_result",
          "data": {
            "text/plain": [
              "<tf.Tensor: shape=(1, 1, 1, 5), dtype=float32, numpy=array([[[[0., 0., 0., 0., 0.]]]], dtype=float32)>"
            ]
          },
          "metadata": {},
          "execution_count": 35
        }
      ]
    },
    {
      "cell_type": "code",
      "source": [
        "### reshaping tensors\n",
        "rank_2_tensor = tf.constant([[10,3],\n",
        "                             [11,7]])"
      ],
      "metadata": {
        "id": "94ZwApVyrzIM"
      },
      "execution_count": 36,
      "outputs": []
    },
    {
      "cell_type": "code",
      "source": [
        "rank_2_tensor.shape"
      ],
      "metadata": {
        "colab": {
          "base_uri": "https://localhost:8080/"
        },
        "id": "0n1i2g5DsPpP",
        "outputId": "ccad0bc6-cff0-4b65-a43b-504eadcfd7b6"
      },
      "execution_count": 37,
      "outputs": [
        {
          "output_type": "execute_result",
          "data": {
            "text/plain": [
              "TensorShape([2, 2])"
            ]
          },
          "metadata": {},
          "execution_count": 37
        }
      ]
    },
    {
      "cell_type": "code",
      "source": [
        "rank_2_tensor.ndim"
      ],
      "metadata": {
        "colab": {
          "base_uri": "https://localhost:8080/"
        },
        "id": "smO78T0NsSaH",
        "outputId": "a1d256ce-180a-4771-88ca-e7a0929e87a4"
      },
      "execution_count": 38,
      "outputs": [
        {
          "output_type": "execute_result",
          "data": {
            "text/plain": [
              "2"
            ]
          },
          "metadata": {},
          "execution_count": 38
        }
      ]
    },
    {
      "cell_type": "code",
      "source": [
        "## add extra dim to our dim2 tensor\n",
        "rank_3_tensor = rank_2_tensor[..., tf.newaxis]\n",
        "### ... means every prev axis Instead of multiple :, : so forth"
      ],
      "metadata": {
        "id": "X_Y7H2-JsT6F"
      },
      "execution_count": 39,
      "outputs": []
    },
    {
      "cell_type": "code",
      "source": [
        "rank_3_tensor"
      ],
      "metadata": {
        "colab": {
          "base_uri": "https://localhost:8080/"
        },
        "id": "BXCdeKaWszhA",
        "outputId": "5757f5bb-4c11-4a61-f5e8-2c3e2c34b4ed"
      },
      "execution_count": 40,
      "outputs": [
        {
          "output_type": "execute_result",
          "data": {
            "text/plain": [
              "<tf.Tensor: shape=(2, 2, 1), dtype=int32, numpy=\n",
              "array([[[10],\n",
              "        [ 3]],\n",
              "\n",
              "       [[11],\n",
              "        [ 7]]], dtype=int32)>"
            ]
          },
          "metadata": {},
          "execution_count": 40
        }
      ]
    },
    {
      "cell_type": "code",
      "source": [
        "tf.expand_dims(rank_2_tensor, axis = 1)"
      ],
      "metadata": {
        "colab": {
          "base_uri": "https://localhost:8080/"
        },
        "id": "1hndOcAbs0n1",
        "outputId": "4c945a97-060a-4a02-a012-ad67aa4a4075"
      },
      "execution_count": 41,
      "outputs": [
        {
          "output_type": "execute_result",
          "data": {
            "text/plain": [
              "<tf.Tensor: shape=(2, 1, 2), dtype=int32, numpy=\n",
              "array([[[10,  3]],\n",
              "\n",
              "       [[11,  7]]], dtype=int32)>"
            ]
          },
          "metadata": {},
          "execution_count": 41
        }
      ]
    },
    {
      "cell_type": "code",
      "source": [
        "rank_2_tensor"
      ],
      "metadata": {
        "colab": {
          "base_uri": "https://localhost:8080/"
        },
        "id": "vBlMie5otP0B",
        "outputId": "bfd8a411-517f-4ca4-e2ac-5dc80d289cb9"
      },
      "execution_count": 42,
      "outputs": [
        {
          "output_type": "execute_result",
          "data": {
            "text/plain": [
              "<tf.Tensor: shape=(2, 2), dtype=int32, numpy=\n",
              "array([[10,  3],\n",
              "       [11,  7]], dtype=int32)>"
            ]
          },
          "metadata": {},
          "execution_count": 42
        }
      ]
    },
    {
      "cell_type": "markdown",
      "source": [
        "### Manipulation of Tensors\n",
        "\n",
        "Indexing etc\n",
        "\n",
        "**Basic Operations**\n",
        "+, -, /, *"
      ],
      "metadata": {
        "id": "UKzLzhfatr51"
      }
    },
    {
      "cell_type": "code",
      "source": [
        "basic = tf.constant([[10,7], [3,4]])\n",
        "basic + 10"
      ],
      "metadata": {
        "id": "Obyi1dz2tlhH",
        "colab": {
          "base_uri": "https://localhost:8080/"
        },
        "outputId": "80cfa41a-3c7e-440d-c299-8be397f4905c"
      },
      "execution_count": 43,
      "outputs": [
        {
          "output_type": "execute_result",
          "data": {
            "text/plain": [
              "<tf.Tensor: shape=(2, 2), dtype=int32, numpy=\n",
              "array([[20, 17],\n",
              "       [13, 14]], dtype=int32)>"
            ]
          },
          "metadata": {},
          "execution_count": 43
        }
      ]
    },
    {
      "cell_type": "code",
      "source": [
        "# element wise\n",
        "tf.multiply(basic, 5)"
      ],
      "metadata": {
        "colab": {
          "base_uri": "https://localhost:8080/"
        },
        "id": "gy_BIn-70YQ9",
        "outputId": "46f56d52-5c74-488b-f76a-f1458b4f056c"
      },
      "execution_count": 44,
      "outputs": [
        {
          "output_type": "execute_result",
          "data": {
            "text/plain": [
              "<tf.Tensor: shape=(2, 2), dtype=int32, numpy=\n",
              "array([[50, 35],\n",
              "       [15, 20]], dtype=int32)>"
            ]
          },
          "metadata": {},
          "execution_count": 44
        }
      ]
    },
    {
      "cell_type": "markdown",
      "source": [
        "## Matrix Multiplication\n",
        "\n",
        "There are two rules tensors must follow for matrix mul.:\n",
        "\n",
        "1.) The inner dimensions must match.\n",
        "2.) The resulting matrix has the shape of the inner dimensions."
      ],
      "metadata": {
        "id": "OqbtZ6Fl1VL6"
      }
    },
    {
      "cell_type": "code",
      "source": [
        "tf.linalg.matmul(basic, rank_2_tensor)"
      ],
      "metadata": {
        "colab": {
          "base_uri": "https://localhost:8080/"
        },
        "id": "4xYcSGBS1Ywy",
        "outputId": "e0766a4c-ef5d-4e5e-d80e-07f94bcc6cd5"
      },
      "execution_count": 45,
      "outputs": [
        {
          "output_type": "execute_result",
          "data": {
            "text/plain": [
              "<tf.Tensor: shape=(2, 2), dtype=int32, numpy=\n",
              "array([[177,  79],\n",
              "       [ 74,  37]], dtype=int32)>"
            ]
          },
          "metadata": {},
          "execution_count": 45
        }
      ]
    },
    {
      "cell_type": "code",
      "source": [
        "basic @ rank_2_tensor"
      ],
      "metadata": {
        "colab": {
          "base_uri": "https://localhost:8080/"
        },
        "id": "HAWsnDRc2vjM",
        "outputId": "46f09c60-7077-475b-a7cb-f4fb884163b7"
      },
      "execution_count": 46,
      "outputs": [
        {
          "output_type": "execute_result",
          "data": {
            "text/plain": [
              "<tf.Tensor: shape=(2, 2), dtype=int32, numpy=\n",
              "array([[177,  79],\n",
              "       [ 74,  37]], dtype=int32)>"
            ]
          },
          "metadata": {},
          "execution_count": 46
        }
      ]
    },
    {
      "cell_type": "markdown",
      "source": [
        "### Lets change shape of tensor"
      ],
      "metadata": {
        "id": "d2ob6mt-3Jck"
      }
    },
    {
      "cell_type": "code",
      "source": [
        "vals = tf.constant([[1,2],\n",
        "             [4,5],\n",
        "             [7,8]])"
      ],
      "metadata": {
        "id": "0U9nrVBk3fJF"
      },
      "execution_count": 47,
      "outputs": []
    },
    {
      "cell_type": "code",
      "source": [
        "tf.reshape(vals, shape=(2, 3))"
      ],
      "metadata": {
        "colab": {
          "base_uri": "https://localhost:8080/"
        },
        "id": "JQKD7RTm3TsV",
        "outputId": "62ef3ca8-ddac-4850-c841-fabf41073170"
      },
      "execution_count": 48,
      "outputs": [
        {
          "output_type": "execute_result",
          "data": {
            "text/plain": [
              "<tf.Tensor: shape=(2, 3), dtype=int32, numpy=\n",
              "array([[1, 2, 4],\n",
              "       [5, 7, 8]], dtype=int32)>"
            ]
          },
          "metadata": {},
          "execution_count": 48
        }
      ]
    },
    {
      "cell_type": "code",
      "source": [
        "X = tf.constant([[10,11,],\n",
        "                 [13,14],\n",
        "                 [16,17]])\n",
        "X.shape"
      ],
      "metadata": {
        "colab": {
          "base_uri": "https://localhost:8080/"
        },
        "id": "QuzdwEgx3eJZ",
        "outputId": "dd8dfb35-c988-4497-f8e6-a7d349a2e0c4"
      },
      "execution_count": 49,
      "outputs": [
        {
          "output_type": "execute_result",
          "data": {
            "text/plain": [
              "TensorShape([3, 2])"
            ]
          },
          "metadata": {},
          "execution_count": 49
        }
      ]
    },
    {
      "cell_type": "code",
      "source": [
        "X @ tf.reshape(vals, shape=(2, 3))"
      ],
      "metadata": {
        "colab": {
          "base_uri": "https://localhost:8080/"
        },
        "id": "Lycr6IxV3xrL",
        "outputId": "ac60585c-01fd-4008-b720-e28becc4f41e"
      },
      "execution_count": 50,
      "outputs": [
        {
          "output_type": "execute_result",
          "data": {
            "text/plain": [
              "<tf.Tensor: shape=(3, 3), dtype=int32, numpy=\n",
              "array([[ 65,  97, 128],\n",
              "       [ 83, 124, 164],\n",
              "       [101, 151, 200]], dtype=int32)>"
            ]
          },
          "metadata": {},
          "execution_count": 50
        }
      ]
    },
    {
      "cell_type": "code",
      "source": [
        "## reshape other\n",
        "tf.matmul(tf.reshape(X, shape=(2,3)), vals)"
      ],
      "metadata": {
        "colab": {
          "base_uri": "https://localhost:8080/"
        },
        "id": "Hde7CbQ83z-h",
        "outputId": "88406b0d-f364-48ee-bdd9-b543081c8d75"
      },
      "execution_count": 51,
      "outputs": [
        {
          "output_type": "execute_result",
          "data": {
            "text/plain": [
              "<tf.Tensor: shape=(2, 2), dtype=int32, numpy=\n",
              "array([[145, 179],\n",
              "       [197, 244]], dtype=int32)>"
            ]
          },
          "metadata": {},
          "execution_count": 51
        }
      ]
    },
    {
      "cell_type": "code",
      "source": [
        "## do same with transpose\n",
        "tf.transpose(X)\n",
        "## tranpose takes first of each vector instead of reshape"
      ],
      "metadata": {
        "colab": {
          "base_uri": "https://localhost:8080/"
        },
        "id": "31m30Z3E4MP8",
        "outputId": "fbe60f9d-7208-4759-ea32-85c44fd1fc86"
      },
      "execution_count": 52,
      "outputs": [
        {
          "output_type": "execute_result",
          "data": {
            "text/plain": [
              "<tf.Tensor: shape=(2, 3), dtype=int32, numpy=\n",
              "array([[10, 13, 16],\n",
              "       [11, 14, 17]], dtype=int32)>"
            ]
          },
          "metadata": {},
          "execution_count": 52
        }
      ]
    },
    {
      "cell_type": "code",
      "source": [
        "### try matrix mul with transpose instead of reshape\n",
        "tf.matmul(tf.transpose(X), vals)"
      ],
      "metadata": {
        "colab": {
          "base_uri": "https://localhost:8080/"
        },
        "id": "EC5TCAL54vCr",
        "outputId": "98a8d748-9b25-4f34-8e51-3d302c0342c4"
      },
      "execution_count": 53,
      "outputs": [
        {
          "output_type": "execute_result",
          "data": {
            "text/plain": [
              "<tf.Tensor: shape=(2, 2), dtype=int32, numpy=\n",
              "array([[174, 213],\n",
              "       [186, 228]], dtype=int32)>"
            ]
          },
          "metadata": {},
          "execution_count": 53
        }
      ]
    },
    {
      "cell_type": "markdown",
      "source": [
        "**The Dot Product**\n",
        "\n",
        "Matrix mul also referred to as dot product, can be used using:\n",
        "- tf.matmul()\n",
        "- tf.tensordot()"
      ],
      "metadata": {
        "id": "p4AgT0kl5u6W"
      }
    },
    {
      "cell_type": "code",
      "source": [
        "## perform dot product on x and vals\n",
        "## requires x or vals to be transposed\n",
        "tf.tensordot(tf.transpose(X), vals, axes = 1)"
      ],
      "metadata": {
        "colab": {
          "base_uri": "https://localhost:8080/"
        },
        "id": "A8Ym1ZFh542t",
        "outputId": "7fc8a96b-0424-4470-e968-c547dad8b0b9"
      },
      "execution_count": 54,
      "outputs": [
        {
          "output_type": "execute_result",
          "data": {
            "text/plain": [
              "<tf.Tensor: shape=(2, 2), dtype=int32, numpy=\n",
              "array([[174, 213],\n",
              "       [186, 228]], dtype=int32)>"
            ]
          },
          "metadata": {},
          "execution_count": 54
        }
      ]
    },
    {
      "cell_type": "code",
      "source": [
        "tf.matmul(X, tf.transpose(vals))"
      ],
      "metadata": {
        "colab": {
          "base_uri": "https://localhost:8080/"
        },
        "id": "CEYfEBR46dNh",
        "outputId": "de6542ae-ad2f-4333-dd53-509a455c7cb1"
      },
      "execution_count": 55,
      "outputs": [
        {
          "output_type": "execute_result",
          "data": {
            "text/plain": [
              "<tf.Tensor: shape=(3, 3), dtype=int32, numpy=\n",
              "array([[ 32,  95, 158],\n",
              "       [ 41, 122, 203],\n",
              "       [ 50, 149, 248]], dtype=int32)>"
            ]
          },
          "metadata": {},
          "execution_count": 55
        }
      ]
    },
    {
      "cell_type": "code",
      "source": [
        "tf.matmul(X, tf.reshape(vals, shape = (2,3)))"
      ],
      "metadata": {
        "colab": {
          "base_uri": "https://localhost:8080/"
        },
        "id": "gZCUP0zv7CIw",
        "outputId": "ae09ef01-74e4-4c79-a19c-d3e64469bea2"
      },
      "execution_count": 56,
      "outputs": [
        {
          "output_type": "execute_result",
          "data": {
            "text/plain": [
              "<tf.Tensor: shape=(3, 3), dtype=int32, numpy=\n",
              "array([[ 65,  97, 128],\n",
              "       [ 83, 124, 164],\n",
              "       [101, 151, 200]], dtype=int32)>"
            ]
          },
          "metadata": {},
          "execution_count": 56
        }
      ]
    },
    {
      "cell_type": "code",
      "source": [
        "## check values\n",
        "print(\"Vals normal:\")\n",
        "print(vals, \"\\n\")\n",
        "\n",
        "print(\"Vals transpose:\")\n",
        "print(tf.transpose(vals), \"\\n\")\n",
        "\n",
        "print(\"Vals Reshape:\")\n",
        "print(tf.reshape(vals, shape = (2,3)))"
      ],
      "metadata": {
        "colab": {
          "base_uri": "https://localhost:8080/"
        },
        "id": "x2_Og6Fc7L1m",
        "outputId": "b8ad3f53-28ea-471f-d85c-8f984f39aeab"
      },
      "execution_count": 57,
      "outputs": [
        {
          "output_type": "stream",
          "name": "stdout",
          "text": [
            "Vals normal:\n",
            "tf.Tensor(\n",
            "[[1 2]\n",
            " [4 5]\n",
            " [7 8]], shape=(3, 2), dtype=int32) \n",
            "\n",
            "Vals transpose:\n",
            "tf.Tensor(\n",
            "[[1 4 7]\n",
            " [2 5 8]], shape=(2, 3), dtype=int32) \n",
            "\n",
            "Vals Reshape:\n",
            "tf.Tensor(\n",
            "[[1 2 4]\n",
            " [5 7 8]], shape=(2, 3), dtype=int32)\n"
          ]
        }
      ]
    },
    {
      "cell_type": "markdown",
      "source": [
        "**Generally wil transpose instead of reshape if a tensor needs to be reshaped for matrix multiplication**"
      ],
      "metadata": {
        "id": "E6CJ-sn_8oUK"
      }
    },
    {
      "cell_type": "markdown",
      "source": [
        "### Changing Data Types of Tensors"
      ],
      "metadata": {
        "id": "eT1cCoe487I3"
      }
    },
    {
      "cell_type": "code",
      "source": [
        "change = tf.constant([[3,4],\n",
        "                      [7,11]])\n",
        "change.dtype"
      ],
      "metadata": {
        "colab": {
          "base_uri": "https://localhost:8080/"
        },
        "id": "k1HgpqHe8u-k",
        "outputId": "e112a3c4-d5c9-453c-e097-4ae781299530"
      },
      "execution_count": 58,
      "outputs": [
        {
          "output_type": "execute_result",
          "data": {
            "text/plain": [
              "tf.int32"
            ]
          },
          "metadata": {},
          "execution_count": 58
        }
      ]
    },
    {
      "cell_type": "code",
      "source": [
        "change1 = tf.constant([[1.3,5.4],\n",
        "                      [7.55,11.7]])\n",
        "change1.dtype"
      ],
      "metadata": {
        "colab": {
          "base_uri": "https://localhost:8080/"
        },
        "id": "T8Xw8gUg9BOU",
        "outputId": "abd5b483-ed14-4508-ba10-915792c1cf06"
      },
      "execution_count": 59,
      "outputs": [
        {
          "output_type": "execute_result",
          "data": {
            "text/plain": [
              "tf.float32"
            ]
          },
          "metadata": {},
          "execution_count": 59
        }
      ]
    },
    {
      "cell_type": "code",
      "source": [
        "### change from float32 to float16\n",
        "change1 = tf.cast(change1, dtype = tf.float16)\n",
        "change1.dtype"
      ],
      "metadata": {
        "colab": {
          "base_uri": "https://localhost:8080/"
        },
        "id": "ugTL9m7S9Lp_",
        "outputId": "1b2bd0bc-91cd-4ea3-a682-190051a2aad1"
      },
      "execution_count": 60,
      "outputs": [
        {
          "output_type": "execute_result",
          "data": {
            "text/plain": [
              "tf.float16"
            ]
          },
          "metadata": {},
          "execution_count": 60
        }
      ]
    },
    {
      "cell_type": "code",
      "source": [
        "change1_int = tf.cast(change1, dtype = tf.int32)\n",
        "change1_int, change1_int.dtype"
      ],
      "metadata": {
        "colab": {
          "base_uri": "https://localhost:8080/"
        },
        "id": "zGdypFuH96wQ",
        "outputId": "edb99712-4c5a-4e15-fc9b-f3874ce9c38e"
      },
      "execution_count": 61,
      "outputs": [
        {
          "output_type": "execute_result",
          "data": {
            "text/plain": [
              "(<tf.Tensor: shape=(2, 2), dtype=int32, numpy=\n",
              " array([[ 1,  5],\n",
              "        [ 7, 11]], dtype=int32)>,\n",
              " tf.int32)"
            ]
          },
          "metadata": {},
          "execution_count": 61
        }
      ]
    },
    {
      "cell_type": "markdown",
      "source": [
        "### Aggregating Tensors\n",
        "\n",
        "Aggregating tensors means condensing them from multiple values into a smaller number of values"
      ],
      "metadata": {
        "id": "MBVbyUC7-ke6"
      }
    },
    {
      "cell_type": "code",
      "source": [
        "l = tf.constant([[-8, -9],\n",
        "                 [-3, -77]])\n",
        "tf.abs(l)"
      ],
      "metadata": {
        "colab": {
          "base_uri": "https://localhost:8080/"
        },
        "id": "L_O4PVz1-Vlo",
        "outputId": "a7ad8fdc-f620-4986-a3cf-086d7455007e"
      },
      "execution_count": 62,
      "outputs": [
        {
          "output_type": "execute_result",
          "data": {
            "text/plain": [
              "<tf.Tensor: shape=(2, 2), dtype=int32, numpy=\n",
              "array([[ 8,  9],\n",
              "       [ 3, 77]], dtype=int32)>"
            ]
          },
          "metadata": {},
          "execution_count": 62
        }
      ]
    },
    {
      "cell_type": "markdown",
      "source": [
        "### Lets look at following methods of aggregation of a tensor\n",
        "\n",
        "- max\n",
        "- min\n",
        "- mean\n",
        "- sum"
      ],
      "metadata": {
        "id": "vl0x1L5HB7iK"
      }
    },
    {
      "cell_type": "code",
      "source": [
        "## create random tensor\n",
        "tfff = tf.constant(np.random.randint(0, 75, size = 50))"
      ],
      "metadata": {
        "id": "ui4_p-uyBuUh"
      },
      "execution_count": 63,
      "outputs": []
    },
    {
      "cell_type": "code",
      "source": [
        "tfff"
      ],
      "metadata": {
        "colab": {
          "base_uri": "https://localhost:8080/"
        },
        "id": "CMBieGG_CMEp",
        "outputId": "fb2a00bc-3ec7-43a0-87ae-a9084f76c83f"
      },
      "execution_count": 64,
      "outputs": [
        {
          "output_type": "execute_result",
          "data": {
            "text/plain": [
              "<tf.Tensor: shape=(50,), dtype=int64, numpy=\n",
              "array([36, 36, 60, 50,  6, 25, 17, 44, 14, 26,  1, 22, 48,  1, 27, 30, 59,\n",
              "       29, 59, 11, 49, 18, 23, 68, 56, 31,  7, 31, 45, 68, 33, 42, 61, 41,\n",
              "       62, 65, 30, 52,  0, 52, 24, 37, 43, 29, 51, 13, 68, 32, 56, 48])>"
            ]
          },
          "metadata": {},
          "execution_count": 64
        }
      ]
    },
    {
      "cell_type": "code",
      "source": [
        "tf.size(tfff), tfff.shape, tfff.ndim"
      ],
      "metadata": {
        "colab": {
          "base_uri": "https://localhost:8080/"
        },
        "id": "a-WDDu1ECsXr",
        "outputId": "7ce88c2a-8f7c-486a-afdc-910c0fcff40f"
      },
      "execution_count": 65,
      "outputs": [
        {
          "output_type": "execute_result",
          "data": {
            "text/plain": [
              "(<tf.Tensor: shape=(), dtype=int32, numpy=50>, TensorShape([50]), 1)"
            ]
          },
          "metadata": {},
          "execution_count": 65
        }
      ]
    },
    {
      "cell_type": "code",
      "source": [
        "## min\n",
        "tf.reduce_min(tfff)"
      ],
      "metadata": {
        "colab": {
          "base_uri": "https://localhost:8080/"
        },
        "id": "mJq7h-10CxnD",
        "outputId": "c03f6558-7352-4ab4-916c-e0716a9cae15"
      },
      "execution_count": 66,
      "outputs": [
        {
          "output_type": "execute_result",
          "data": {
            "text/plain": [
              "<tf.Tensor: shape=(), dtype=int64, numpy=0>"
            ]
          },
          "metadata": {},
          "execution_count": 66
        }
      ]
    },
    {
      "cell_type": "code",
      "source": [
        "### max\n",
        "tf.reduce_max(tfff)"
      ],
      "metadata": {
        "colab": {
          "base_uri": "https://localhost:8080/"
        },
        "id": "EKtdiwWmDGbm",
        "outputId": "47c541a2-c204-4d41-8173-37f7704365d5"
      },
      "execution_count": 67,
      "outputs": [
        {
          "output_type": "execute_result",
          "data": {
            "text/plain": [
              "<tf.Tensor: shape=(), dtype=int64, numpy=68>"
            ]
          },
          "metadata": {},
          "execution_count": 67
        }
      ]
    },
    {
      "cell_type": "code",
      "source": [
        "### mean\n",
        "tf.reduce_mean(tfff)"
      ],
      "metadata": {
        "colab": {
          "base_uri": "https://localhost:8080/"
        },
        "id": "f8RtTPfpDNiQ",
        "outputId": "21791ffb-b607-419a-b776-c0aaceaac0da"
      },
      "execution_count": 68,
      "outputs": [
        {
          "output_type": "execute_result",
          "data": {
            "text/plain": [
              "<tf.Tensor: shape=(), dtype=int64, numpy=36>"
            ]
          },
          "metadata": {},
          "execution_count": 68
        }
      ]
    },
    {
      "cell_type": "code",
      "source": [
        "## sum\n",
        "tf.reduce_sum(tfff)"
      ],
      "metadata": {
        "colab": {
          "base_uri": "https://localhost:8080/"
        },
        "id": "IDQWEP0GDRnJ",
        "outputId": "a859839a-9155-4c84-8501-fc0c3c17e61f"
      },
      "execution_count": 69,
      "outputs": [
        {
          "output_type": "execute_result",
          "data": {
            "text/plain": [
              "<tf.Tensor: shape=(), dtype=int64, numpy=1836>"
            ]
          },
          "metadata": {},
          "execution_count": 69
        }
      ]
    },
    {
      "cell_type": "code",
      "source": [
        "### variance\n",
        "import tensorflow_probability as tfp\n",
        "tfp.stats.variance(\n",
        "    tfff\n",
        ")"
      ],
      "metadata": {
        "colab": {
          "base_uri": "https://localhost:8080/"
        },
        "id": "BKdB_ciwDVkU",
        "outputId": "916dd807-3ac6-4db5-b2d4-d2a744f3bacb"
      },
      "execution_count": 70,
      "outputs": [
        {
          "output_type": "execute_result",
          "data": {
            "text/plain": [
              "<tf.Tensor: shape=(), dtype=int64, numpy=363>"
            ]
          },
          "metadata": {},
          "execution_count": 70
        }
      ]
    },
    {
      "cell_type": "code",
      "source": [
        "### standard dev\n",
        "np.std(\n",
        "    tfff\n",
        ")"
      ],
      "metadata": {
        "colab": {
          "base_uri": "https://localhost:8080/"
        },
        "id": "dLykbd31DkRo",
        "outputId": "67c13d2a-6d33-4da3-f1eb-f1ace315f7d0"
      },
      "execution_count": 71,
      "outputs": [
        {
          "output_type": "execute_result",
          "data": {
            "text/plain": [
              "19.044201217168446"
            ]
          },
          "metadata": {},
          "execution_count": 71
        }
      ]
    },
    {
      "cell_type": "markdown",
      "source": [
        "### Positional Max/Min of Tensor"
      ],
      "metadata": {
        "id": "twL-MYNF1klf"
      }
    },
    {
      "cell_type": "code",
      "source": [
        "## create new tensor\n",
        "tf.random.set_seed(42)\n",
        "find_max = tf.random.uniform(shape = [50])\n",
        "find_max"
      ],
      "metadata": {
        "colab": {
          "base_uri": "https://localhost:8080/"
        },
        "id": "F1O-Lyef1ouq",
        "outputId": "432bac23-d49b-4668-d5b4-4a94bd86aa32"
      },
      "execution_count": 72,
      "outputs": [
        {
          "output_type": "execute_result",
          "data": {
            "text/plain": [
              "<tf.Tensor: shape=(50,), dtype=float32, numpy=\n",
              "array([0.6645621 , 0.44100678, 0.3528825 , 0.46448255, 0.03366041,\n",
              "       0.68467236, 0.74011743, 0.8724445 , 0.22632635, 0.22319686,\n",
              "       0.3103881 , 0.7223358 , 0.13318717, 0.5480639 , 0.5746088 ,\n",
              "       0.8996835 , 0.00946367, 0.5212307 , 0.6345445 , 0.1993283 ,\n",
              "       0.72942245, 0.54583454, 0.10756552, 0.6767061 , 0.6602763 ,\n",
              "       0.33695042, 0.60141766, 0.21062577, 0.8527372 , 0.44062173,\n",
              "       0.9485276 , 0.23752594, 0.81179297, 0.5263394 , 0.494308  ,\n",
              "       0.21612847, 0.8457197 , 0.8718841 , 0.3083862 , 0.6868038 ,\n",
              "       0.23764038, 0.7817228 , 0.9671384 , 0.06870162, 0.79873943,\n",
              "       0.66028714, 0.5871513 , 0.16461694, 0.7381023 , 0.32054043],\n",
              "      dtype=float32)>"
            ]
          },
          "metadata": {},
          "execution_count": 72
        }
      ]
    },
    {
      "cell_type": "code",
      "source": [
        "tf.argmax(find_max) # positional max"
      ],
      "metadata": {
        "colab": {
          "base_uri": "https://localhost:8080/"
        },
        "id": "lmBG13yr2oBI",
        "outputId": "b29d48b2-058b-4436-cf40-15b40421ea79"
      },
      "execution_count": 73,
      "outputs": [
        {
          "output_type": "execute_result",
          "data": {
            "text/plain": [
              "<tf.Tensor: shape=(), dtype=int64, numpy=42>"
            ]
          },
          "metadata": {},
          "execution_count": 73
        }
      ]
    },
    {
      "cell_type": "code",
      "source": [
        "find_max[tf.argmax(find_max)] # gets value from where index is max"
      ],
      "metadata": {
        "colab": {
          "base_uri": "https://localhost:8080/"
        },
        "id": "ccVtRZkN2yi5",
        "outputId": "05761f13-1954-4260-c29f-47b6dd6332e5"
      },
      "execution_count": 74,
      "outputs": [
        {
          "output_type": "execute_result",
          "data": {
            "text/plain": [
              "<tf.Tensor: shape=(), dtype=float32, numpy=0.9671384>"
            ]
          },
          "metadata": {},
          "execution_count": 74
        }
      ]
    },
    {
      "cell_type": "code",
      "source": [
        "tf.reduce_max(find_max) # same as cell directly above"
      ],
      "metadata": {
        "colab": {
          "base_uri": "https://localhost:8080/"
        },
        "id": "hwG9asx93KDZ",
        "outputId": "19ce821a-0948-4321-f80b-5c2e2f022fb6"
      },
      "execution_count": 75,
      "outputs": [
        {
          "output_type": "execute_result",
          "data": {
            "text/plain": [
              "<tf.Tensor: shape=(), dtype=float32, numpy=0.9671384>"
            ]
          },
          "metadata": {},
          "execution_count": 75
        }
      ]
    },
    {
      "cell_type": "code",
      "source": [
        "tf.argmin(find_max) # minimum"
      ],
      "metadata": {
        "colab": {
          "base_uri": "https://localhost:8080/"
        },
        "id": "tUi_ETXV3YuD",
        "outputId": "fb37e075-41c7-4b5a-a088-bf249bc12357"
      },
      "execution_count": 76,
      "outputs": [
        {
          "output_type": "execute_result",
          "data": {
            "text/plain": [
              "<tf.Tensor: shape=(), dtype=int64, numpy=16>"
            ]
          },
          "metadata": {},
          "execution_count": 76
        }
      ]
    },
    {
      "cell_type": "code",
      "source": [
        "find_max[tf.argmin(find_max)]"
      ],
      "metadata": {
        "colab": {
          "base_uri": "https://localhost:8080/"
        },
        "id": "4sd3cWru3vwK",
        "outputId": "1f44d75f-eb3e-4728-c29b-b44d1e5f03a7"
      },
      "execution_count": 77,
      "outputs": [
        {
          "output_type": "execute_result",
          "data": {
            "text/plain": [
              "<tf.Tensor: shape=(), dtype=float32, numpy=0.009463668>"
            ]
          },
          "metadata": {},
          "execution_count": 77
        }
      ]
    },
    {
      "cell_type": "markdown",
      "source": [
        "### Squeezing Tensors\n",
        "\n",
        "Removing all 1-dim"
      ],
      "metadata": {
        "id": "_DDCLKDN31Vi"
      }
    },
    {
      "cell_type": "code",
      "source": [
        "## create new tensor\n",
        "tf.random.set_seed(42)\n",
        "squeeze = tf.constant(tf.random.uniform(shape = [50]), shape = (1,1,1,1, 50))\n",
        "squeeze"
      ],
      "metadata": {
        "colab": {
          "base_uri": "https://localhost:8080/"
        },
        "id": "Qpd1aIuW3x52",
        "outputId": "cf3d3076-805d-4345-863f-36b319be78f0"
      },
      "execution_count": 78,
      "outputs": [
        {
          "output_type": "execute_result",
          "data": {
            "text/plain": [
              "<tf.Tensor: shape=(1, 1, 1, 1, 50), dtype=float32, numpy=\n",
              "array([[[[[0.6645621 , 0.44100678, 0.3528825 , 0.46448255, 0.03366041,\n",
              "           0.68467236, 0.74011743, 0.8724445 , 0.22632635, 0.22319686,\n",
              "           0.3103881 , 0.7223358 , 0.13318717, 0.5480639 , 0.5746088 ,\n",
              "           0.8996835 , 0.00946367, 0.5212307 , 0.6345445 , 0.1993283 ,\n",
              "           0.72942245, 0.54583454, 0.10756552, 0.6767061 , 0.6602763 ,\n",
              "           0.33695042, 0.60141766, 0.21062577, 0.8527372 , 0.44062173,\n",
              "           0.9485276 , 0.23752594, 0.81179297, 0.5263394 , 0.494308  ,\n",
              "           0.21612847, 0.8457197 , 0.8718841 , 0.3083862 , 0.6868038 ,\n",
              "           0.23764038, 0.7817228 , 0.9671384 , 0.06870162, 0.79873943,\n",
              "           0.66028714, 0.5871513 , 0.16461694, 0.7381023 , 0.32054043]]]]],\n",
              "      dtype=float32)>"
            ]
          },
          "metadata": {},
          "execution_count": 78
        }
      ]
    },
    {
      "cell_type": "code",
      "source": [
        "squeeze.shape"
      ],
      "metadata": {
        "colab": {
          "base_uri": "https://localhost:8080/"
        },
        "id": "kM7qhRsf4ZPH",
        "outputId": "73727034-29db-4950-ea67-5cd6a2d7ae85"
      },
      "execution_count": 79,
      "outputs": [
        {
          "output_type": "execute_result",
          "data": {
            "text/plain": [
              "TensorShape([1, 1, 1, 1, 50])"
            ]
          },
          "metadata": {},
          "execution_count": 79
        }
      ]
    },
    {
      "cell_type": "code",
      "source": [
        "squeezed = tf.squeeze(squeeze)\n",
        "squeezed.shape"
      ],
      "metadata": {
        "colab": {
          "base_uri": "https://localhost:8080/"
        },
        "id": "tf0vmDaY4pnz",
        "outputId": "fd002485-a0a6-49ee-d32c-914a290baf20"
      },
      "execution_count": 80,
      "outputs": [
        {
          "output_type": "execute_result",
          "data": {
            "text/plain": [
              "TensorShape([50])"
            ]
          },
          "metadata": {},
          "execution_count": 80
        }
      ]
    },
    {
      "cell_type": "markdown",
      "source": [
        "### One-hot Encoding Tensors"
      ],
      "metadata": {
        "id": "zw3aHam25VRx"
      }
    },
    {
      "cell_type": "code",
      "source": [
        "some_list = [0, 1, 2, 3, 5] #could be diff colours\n",
        "\n",
        "## one-hot encode\n",
        "tf.one_hot(some_list, depth = len(some_list))"
      ],
      "metadata": {
        "colab": {
          "base_uri": "https://localhost:8080/"
        },
        "id": "wEkVfB664w5X",
        "outputId": "070e4ece-ffdc-452a-a064-0fb723de2260"
      },
      "execution_count": 81,
      "outputs": [
        {
          "output_type": "execute_result",
          "data": {
            "text/plain": [
              "<tf.Tensor: shape=(5, 5), dtype=float32, numpy=\n",
              "array([[1., 0., 0., 0., 0.],\n",
              "       [0., 1., 0., 0., 0.],\n",
              "       [0., 0., 1., 0., 0.],\n",
              "       [0., 0., 0., 1., 0.],\n",
              "       [0., 0., 0., 0., 0.]], dtype=float32)>"
            ]
          },
          "metadata": {},
          "execution_count": 81
        }
      ]
    },
    {
      "cell_type": "markdown",
      "source": [
        "### Trying out more Tensor Operations"
      ],
      "metadata": {
        "id": "NFnPq7FGOmsw"
      }
    },
    {
      "cell_type": "code",
      "source": [
        "## squaring log, n, square root\n",
        "H = tf.range(1, 10)\n",
        "H"
      ],
      "metadata": {
        "id": "QBrIVoOw6JpM",
        "colab": {
          "base_uri": "https://localhost:8080/"
        },
        "outputId": "6f3a30b0-7c66-43af-aa92-c8e6e956bf66"
      },
      "execution_count": 82,
      "outputs": [
        {
          "output_type": "execute_result",
          "data": {
            "text/plain": [
              "<tf.Tensor: shape=(9,), dtype=int32, numpy=array([1, 2, 3, 4, 5, 6, 7, 8, 9], dtype=int32)>"
            ]
          },
          "metadata": {},
          "execution_count": 82
        }
      ]
    },
    {
      "cell_type": "code",
      "source": [
        "tf.square(H)"
      ],
      "metadata": {
        "colab": {
          "base_uri": "https://localhost:8080/"
        },
        "id": "ghq3bfhmO985",
        "outputId": "2630eba7-7533-467b-f977-71dc0184e851"
      },
      "execution_count": 83,
      "outputs": [
        {
          "output_type": "execute_result",
          "data": {
            "text/plain": [
              "<tf.Tensor: shape=(9,), dtype=int32, numpy=array([ 1,  4,  9, 16, 25, 36, 49, 64, 81], dtype=int32)>"
            ]
          },
          "metadata": {},
          "execution_count": 83
        }
      ]
    },
    {
      "cell_type": "code",
      "source": [
        "tf.sqrt(tf.cast(H, dtype = tf.float32))"
      ],
      "metadata": {
        "colab": {
          "base_uri": "https://localhost:8080/"
        },
        "id": "gFnQ1n0KPAjg",
        "outputId": "e1c2b7cd-b687-428d-d83f-7c9a01a3ba59"
      },
      "execution_count": 84,
      "outputs": [
        {
          "output_type": "execute_result",
          "data": {
            "text/plain": [
              "<tf.Tensor: shape=(9,), dtype=float32, numpy=\n",
              "array([1.       , 1.4142135, 1.7320508, 2.       , 2.236068 , 2.4494898,\n",
              "       2.6457512, 2.828427 , 3.       ], dtype=float32)>"
            ]
          },
          "metadata": {},
          "execution_count": 84
        }
      ]
    },
    {
      "cell_type": "code",
      "source": [
        "tf.math.log(tf.cast(H, dtype=tf.float32))"
      ],
      "metadata": {
        "colab": {
          "base_uri": "https://localhost:8080/"
        },
        "id": "UweA_hmEPDK4",
        "outputId": "378c0105-5d5f-44ba-a1db-17c801df65d2"
      },
      "execution_count": 85,
      "outputs": [
        {
          "output_type": "execute_result",
          "data": {
            "text/plain": [
              "<tf.Tensor: shape=(9,), dtype=float32, numpy=\n",
              "array([0.       , 0.6931472, 1.0986123, 1.3862944, 1.609438 , 1.7917595,\n",
              "       1.9459102, 2.0794415, 2.1972246], dtype=float32)>"
            ]
          },
          "metadata": {},
          "execution_count": 85
        }
      ]
    },
    {
      "cell_type": "markdown",
      "source": [
        "### Tensorflow and Numpy Compatibility\n",
        "\n",
        "TF interacts well with Numpy arrays."
      ],
      "metadata": {
        "id": "siF_PSEnPpjr"
      }
    },
    {
      "cell_type": "code",
      "source": [
        "import numpy as np"
      ],
      "metadata": {
        "id": "vIWwJQ7qPfBP"
      },
      "execution_count": 86,
      "outputs": []
    },
    {
      "cell_type": "code",
      "source": [
        "# create tensor from numpy array\n",
        "J = tf.constant(np.array([3., 7., 10.]))\n",
        "J"
      ],
      "metadata": {
        "colab": {
          "base_uri": "https://localhost:8080/"
        },
        "id": "jvILKyTAP8lj",
        "outputId": "3317e8a8-1161-4910-ead3-5e783c65dc5c"
      },
      "execution_count": 87,
      "outputs": [
        {
          "output_type": "execute_result",
          "data": {
            "text/plain": [
              "<tf.Tensor: shape=(3,), dtype=float64, numpy=array([ 3.,  7., 10.])>"
            ]
          },
          "metadata": {},
          "execution_count": 87
        }
      ]
    },
    {
      "cell_type": "code",
      "source": [
        "np.array(J), type(np.array(J))"
      ],
      "metadata": {
        "colab": {
          "base_uri": "https://localhost:8080/"
        },
        "id": "UHoASrziQN07",
        "outputId": "807d3c51-57fa-4b89-a763-501c6d21e598"
      },
      "execution_count": 88,
      "outputs": [
        {
          "output_type": "execute_result",
          "data": {
            "text/plain": [
              "(array([ 3.,  7., 10.]), numpy.ndarray)"
            ]
          },
          "metadata": {},
          "execution_count": 88
        }
      ]
    },
    {
      "cell_type": "code",
      "source": [
        "# convert tensor j to numpy array\n",
        "J.numpy(), type(J.numpy())"
      ],
      "metadata": {
        "colab": {
          "base_uri": "https://localhost:8080/"
        },
        "id": "rjNjmC9KQTH6",
        "outputId": "19db93e2-cf97-45a9-b835-69ab4fbcabe4"
      },
      "execution_count": 89,
      "outputs": [
        {
          "output_type": "execute_result",
          "data": {
            "text/plain": [
              "(array([ 3.,  7., 10.]), numpy.ndarray)"
            ]
          },
          "metadata": {},
          "execution_count": 89
        }
      ]
    },
    {
      "cell_type": "code",
      "source": [
        "J = tf.constant([3.])\n",
        "J.numpy()[0]"
      ],
      "metadata": {
        "colab": {
          "base_uri": "https://localhost:8080/"
        },
        "id": "AfjgBCuqQasH",
        "outputId": "78538bda-6cd6-4155-fbba-63f41b34780b"
      },
      "execution_count": 90,
      "outputs": [
        {
          "output_type": "execute_result",
          "data": {
            "text/plain": [
              "3.0"
            ]
          },
          "metadata": {},
          "execution_count": 90
        }
      ]
    },
    {
      "cell_type": "code",
      "source": [
        "## default types of each slightly different\n",
        "numpy_J = tf.constant(np.array([3., 7., 10.]))\n",
        "tensor_J = tf.constant([3., 7., 10.])\n",
        "\n",
        "numpy_J.dtype, tensor_J.dtype"
      ],
      "metadata": {
        "colab": {
          "base_uri": "https://localhost:8080/"
        },
        "id": "2BWKQ4LdQjW_",
        "outputId": "7d3572a7-e389-4927-de93-24ee3745d445"
      },
      "execution_count": 91,
      "outputs": [
        {
          "output_type": "execute_result",
          "data": {
            "text/plain": [
              "(tf.float64, tf.float32)"
            ]
          },
          "metadata": {},
          "execution_count": 91
        }
      ]
    },
    {
      "cell_type": "code",
      "source": [
        "#### NOTE Tensorflow tensors can be run on GPU/TPU's, numpy array can't\n",
        "#### (faster numerical processing)"
      ],
      "metadata": {
        "id": "j1ypdqYKQ4Eh"
      },
      "execution_count": 92,
      "outputs": []
    },
    {
      "cell_type": "markdown",
      "source": [
        "### Finding Access to GPU's"
      ],
      "metadata": {
        "id": "cYZQUZOzRilT"
      }
    },
    {
      "cell_type": "code",
      "source": [
        "tf.config.list_physical_devices()\n",
        "#tf.config.list_physical_devices(\"GPU\")"
      ],
      "metadata": {
        "colab": {
          "base_uri": "https://localhost:8080/"
        },
        "id": "i3Tp1ANiRWpI",
        "outputId": "9c9b43da-4fc3-4979-99b0-79aa57bf38d6"
      },
      "execution_count": 93,
      "outputs": [
        {
          "output_type": "execute_result",
          "data": {
            "text/plain": [
              "[PhysicalDevice(name='/physical_device:CPU:0', device_type='CPU')]"
            ]
          },
          "metadata": {},
          "execution_count": 93
        }
      ]
    },
    {
      "cell_type": "code",
      "source": [
        "## CUDA GPU -> Tensorflow will use this automatically"
      ],
      "metadata": {
        "id": "iUulwIBVR8Qp"
      },
      "execution_count": 94,
      "outputs": []
    },
    {
      "cell_type": "markdown",
      "source": [
        "## 🛠 00. TensorFlow Fundamentals Exercises"
      ],
      "metadata": {
        "id": "qFD4DULnEuoe"
      }
    },
    {
      "cell_type": "code",
      "source": [
        "vec = tf.constant([1,2])\n",
        "mat = tf.constant([[1,2,3], [4,5,6]])\n",
        "tens = tf.constant([[[1,2,3,],\n",
        "                      [4,5,6]],\n",
        "                      [[66,14,10],\n",
        "                      [20,23,18]],\n",
        "                      [[9,10,12],\n",
        "                      [11,13,15]]])"
      ],
      "metadata": {
        "id": "UZoMW4wETIXh"
      },
      "execution_count": 95,
      "outputs": []
    },
    {
      "cell_type": "markdown",
      "source": [
        "## TF Neural Net Regression"
      ],
      "metadata": {
        "id": "2ekdRxfNnZw7"
      }
    },
    {
      "cell_type": "code",
      "source": [
        "import numpy as np\n",
        "import matplotlib.pyplot as plt\n",
        "\n",
        "x = np.array([-7, -4, -1, 2, 5, 8, 11, 14])\n",
        "\n",
        "y = np.array([3, 6, 9, 12, 15, 18, 21, 24])\n",
        "\n",
        "plt.scatter(x, y)"
      ],
      "metadata": {
        "id": "Qz1Z-rrkGyeJ",
        "colab": {
          "base_uri": "https://localhost:8080/",
          "height": 452
        },
        "outputId": "1d9d7c96-781d-4871-b6c1-da731209186c"
      },
      "execution_count": 96,
      "outputs": [
        {
          "output_type": "execute_result",
          "data": {
            "text/plain": [
              "<matplotlib.collections.PathCollection at 0x7f9c3ba0e3b0>"
            ]
          },
          "metadata": {},
          "execution_count": 96
        },
        {
          "output_type": "display_data",
          "data": {
            "text/plain": [
              "<Figure size 640x480 with 1 Axes>"
            ],
            "image/png": "[encoded data removed]"
          },
          "metadata": {}
        }
      ]
    },
    {
      "cell_type": "code",
      "source": [
        "input_shape = x.shape\n",
        "output_shape = y.shape\n",
        "input_shape, output_shape"
      ],
      "metadata": {
        "colab": {
          "base_uri": "https://localhost:8080/"
        },
        "id": "w-dL7DbZ3Ax8",
        "outputId": "1023ad60-005f-404f-8268-e50f3a49ea4a"
      },
      "execution_count": 97,
      "outputs": [
        {
          "output_type": "execute_result",
          "data": {
            "text/plain": [
              "((8,), (8,))"
            ]
          },
          "metadata": {},
          "execution_count": 97
        }
      ]
    },
    {
      "cell_type": "code",
      "source": [
        "input_shape = x[0].shape\n",
        "output_shape = y[0].shape\n",
        "input_shape, output_shape"
      ],
      "metadata": {
        "colab": {
          "base_uri": "https://localhost:8080/"
        },
        "id": "tT0uHsWE3WDI",
        "outputId": "30b830e6-184c-45d8-b011-bbc302b732ca"
      },
      "execution_count": 98,
      "outputs": [
        {
          "output_type": "execute_result",
          "data": {
            "text/plain": [
              "((), ())"
            ]
          },
          "metadata": {},
          "execution_count": 98
        }
      ]
    },
    {
      "cell_type": "code",
      "source": [
        "x[0].ndim\n",
        "## scalar tensors"
      ],
      "metadata": {
        "colab": {
          "base_uri": "https://localhost:8080/"
        },
        "id": "BYEiDeiG3wi0",
        "outputId": "2e268895-0617-4870-e259-1ad48eebb6e3"
      },
      "execution_count": 99,
      "outputs": [
        {
          "output_type": "execute_result",
          "data": {
            "text/plain": [
              "0"
            ]
          },
          "metadata": {},
          "execution_count": 99
        }
      ]
    },
    {
      "cell_type": "code",
      "source": [
        "## turn our numpy arrays into tensors\n",
        "x = tf.constant(x)\n",
        "y = tf.constant(y)\n",
        "x, y"
      ],
      "metadata": {
        "colab": {
          "base_uri": "https://localhost:8080/"
        },
        "id": "uCLaM_l935i5",
        "outputId": "eddb24f9-6cdc-4800-9c7b-0565c3b902a5"
      },
      "execution_count": 100,
      "outputs": [
        {
          "output_type": "execute_result",
          "data": {
            "text/plain": [
              "(<tf.Tensor: shape=(8,), dtype=int64, numpy=array([-7, -4, -1,  2,  5,  8, 11, 14])>,\n",
              " <tf.Tensor: shape=(8,), dtype=int64, numpy=array([ 3,  6,  9, 12, 15, 18, 21, 24])>)"
            ]
          },
          "metadata": {},
          "execution_count": 100
        }
      ]
    },
    {
      "cell_type": "code",
      "source": [
        "input_shape = x[0].shape\n",
        "output_shape = y[0].shape\n",
        "input_shape, output_shape"
      ],
      "metadata": {
        "colab": {
          "base_uri": "https://localhost:8080/"
        },
        "id": "v0xwySQs4K3b",
        "outputId": "e4d473f6-4c54-4c21-8cc7-f10dcdb726bc"
      },
      "execution_count": 101,
      "outputs": [
        {
          "output_type": "execute_result",
          "data": {
            "text/plain": [
              "(TensorShape([]), TensorShape([]))"
            ]
          },
          "metadata": {},
          "execution_count": 101
        }
      ]
    },
    {
      "cell_type": "markdown",
      "source": [
        "## Modelling Steps in Tensorflow"
      ],
      "metadata": {
        "id": "ou85yYdg4ftN"
      }
    },
    {
      "cell_type": "code",
      "source": [
        "tf.random.set_seed(42)\n",
        "# 1. create model\n",
        "model = tf.keras.Sequential([\n",
        "    #dense(1) as take 1 input and predict 1 number\n",
        "    tf.keras.layers.Dense(1)\n",
        "    ])"
      ],
      "metadata": {
        "id": "LPRTOXsQ4Qrp"
      },
      "execution_count": 102,
      "outputs": []
    },
    {
      "cell_type": "code",
      "source": [
        "#2. compile model\n",
        "model.compile(loss = tf.keras.losses.mae, # mean absolute error (like standard ML metrics)\n",
        "              optimizer = tf.keras.optimizers.SGD(),\n",
        "              metrics = [\"mae\"]) ## stochastic gradient descent\n",
        "\n",
        "# 3. fit model\n",
        "X = np.array([-7, -4, -1, 2, 5, 8, 11, 14])\n",
        "\n",
        "y = np.array([3, 6, 9, 12, 15, 18, 21, 24])\n",
        "## epochs -> 5 laps , go over x and y 5 times to figure out patterns\n",
        "model.fit(tf.expand_dims(X, axis=-1), y, epochs = 5)"
      ],
      "metadata": {
        "colab": {
          "base_uri": "https://localhost:8080/"
        },
        "id": "o6nJl0RW5skJ",
        "outputId": "a7198cf6-9c0d-47a9-a913-38f7d0c11999"
      },
      "execution_count": 103,
      "outputs": [
        {
          "output_type": "stream",
          "name": "stdout",
          "text": [
            "Epoch 1/5\n",
            "1/1 [==============================] - 1s 697ms/step - loss: 8.4384 - mae: 8.4384\n",
            "Epoch 2/5\n",
            "1/1 [==============================] - 0s 14ms/step - loss: 8.3059 - mae: 8.3059\n",
            "Epoch 3/5\n",
            "1/1 [==============================] - 0s 16ms/step - loss: 8.1734 - mae: 8.1734\n",
            "Epoch 4/5\n",
            "1/1 [==============================] - 0s 14ms/step - loss: 8.0409 - mae: 8.0409\n",
            "Epoch 5/5\n",
            "1/1 [==============================] - 0s 9ms/step - loss: 7.9084 - mae: 7.9084\n"
          ]
        },
        {
          "output_type": "execute_result",
          "data": {
            "text/plain": [
              "<keras.src.callbacks.History at 0x7f9c397255d0>"
            ]
          },
          "metadata": {},
          "execution_count": 103
        }
      ]
    },
    {
      "cell_type": "code",
      "source": [
        "#model.predict([17])"
      ],
      "metadata": {
        "id": "1WK2OZw26yZo"
      },
      "execution_count": 104,
      "outputs": []
    },
    {
      "cell_type": "markdown",
      "source": [
        "## Improving Models"
      ],
      "metadata": {
        "id": "zDr7ZXrM821N"
      }
    },
    {
      "cell_type": "code",
      "source": [
        "## loss - how wrong your models predictions are compared to truth labels (minimize this)\n",
        "## optimizer - how your model updates its internal patterns to better its predictions.\n",
        "## metrics - human interpretable values for how well your model is doing"
      ],
      "metadata": {
        "id": "pL43EvDC85Tl"
      },
      "execution_count": 105,
      "outputs": []
    },
    {
      "cell_type": "markdown",
      "source": [
        "### Imrpove model steps\n",
        "\n",
        "1. **creating a model** - add more layers, more hidden layers (neurons, within each of these layers), change activation functions.\n",
        "2. **compiling model** - here change optimization function or learning rate (hyperparameter).\n",
        "3. **fitting a model** - fit a model for more epochs (training longer) or more data."
      ],
      "metadata": {
        "id": "RKmmPZFM-Qph"
      }
    },
    {
      "cell_type": "code",
      "source": [
        "### adam optimizer lr , higher lr adam optimizes pushes model to improve in optimizer section"
      ],
      "metadata": {
        "id": "1Y7dsT429qqi"
      },
      "execution_count": 106,
      "outputs": []
    },
    {
      "cell_type": "code",
      "source": [
        "## create model again\n",
        "\n",
        "# same layers\n",
        "model1 = tf.keras.Sequential([\n",
        "    tf.keras.layers.Dense(1)\n",
        "])\n",
        "\n",
        "model1.compile(loss = tf.keras.losses.mae,\n",
        "               optimizer = tf.keras.optimizers.SGD(),\n",
        "               metrics = ['mae'])\n",
        "\n",
        "# more epochs\n",
        "model1.fit(tf.expand_dims(X, axis=-1), y, epochs = 100)"
      ],
      "metadata": {
        "colab": {
          "base_uri": "https://localhost:8080/"
        },
        "id": "5F9g_iqTAJxs",
        "outputId": "7e0c7e9a-2907-4a7f-fbce-863f13708140"
      },
      "execution_count": 107,
      "outputs": [
        {
          "output_type": "stream",
          "name": "stdout",
          "text": [
            "Epoch 1/100\n",
            "1/1 [==============================] - 1s 1s/step - loss: 8.6451 - mae: 8.6451\n",
            "Epoch 2/100\n",
            "1/1 [==============================] - 0s 31ms/step - loss: 8.5126 - mae: 8.5126\n",
            "Epoch 3/100\n",
            "1/1 [==============================] - 0s 29ms/step - loss: 8.3801 - mae: 8.3801\n",
            "Epoch 4/100\n",
            "1/1 [==============================] - 0s 21ms/step - loss: 8.2476 - mae: 8.2476\n",
            "Epoch 5/100\n",
            "1/1 [==============================] - 0s 25ms/step - loss: 8.1151 - mae: 8.1151\n",
            "Epoch 6/100\n",
            "1/1 [==============================] - 0s 18ms/step - loss: 7.9826 - mae: 7.9826\n",
            "Epoch 7/100\n",
            "1/1 [==============================] - 0s 20ms/step - loss: 7.8501 - mae: 7.8501\n",
            "Epoch 8/100\n",
            "1/1 [==============================] - 0s 20ms/step - loss: 7.7176 - mae: 7.7176\n",
            "Epoch 9/100\n",
            "1/1 [==============================] - 0s 23ms/step - loss: 7.5851 - mae: 7.5851\n",
            "Epoch 10/100\n",
            "1/1 [==============================] - 0s 21ms/step - loss: 7.4526 - mae: 7.4526\n",
            "Epoch 11/100\n",
            "1/1 [==============================] - 0s 24ms/step - loss: 7.4250 - mae: 7.4250\n",
            "Epoch 12/100\n",
            "1/1 [==============================] - 0s 42ms/step - loss: 7.4194 - mae: 7.4194\n",
            "Epoch 13/100\n",
            "1/1 [==============================] - 0s 30ms/step - loss: 7.4138 - mae: 7.4138\n",
            "Epoch 14/100\n",
            "1/1 [==============================] - 0s 28ms/step - loss: 7.4081 - mae: 7.4081\n",
            "Epoch 15/100\n",
            "1/1 [==============================] - 0s 24ms/step - loss: 7.4025 - mae: 7.4025\n",
            "Epoch 16/100\n",
            "1/1 [==============================] - 0s 23ms/step - loss: 7.3969 - mae: 7.3969\n",
            "Epoch 17/100\n",
            "1/1 [==============================] - 0s 22ms/step - loss: 7.3913 - mae: 7.3913\n",
            "Epoch 18/100\n",
            "1/1 [==============================] - 0s 27ms/step - loss: 7.3856 - mae: 7.3856\n",
            "Epoch 19/100\n",
            "1/1 [==============================] - 0s 37ms/step - loss: 7.3800 - mae: 7.3800\n",
            "Epoch 20/100\n",
            "1/1 [==============================] - 0s 26ms/step - loss: 7.3744 - mae: 7.3744\n",
            "Epoch 21/100\n",
            "1/1 [==============================] - 0s 24ms/step - loss: 7.3687 - mae: 7.3687\n",
            "Epoch 22/100\n",
            "1/1 [==============================] - 0s 20ms/step - loss: 7.3631 - mae: 7.3631\n",
            "Epoch 23/100\n",
            "1/1 [==============================] - 0s 25ms/step - loss: 7.3575 - mae: 7.3575\n",
            "Epoch 24/100\n",
            "1/1 [==============================] - 0s 30ms/step - loss: 7.3519 - mae: 7.3519\n",
            "Epoch 25/100\n",
            "1/1 [==============================] - 0s 18ms/step - loss: 7.3463 - mae: 7.3463\n",
            "Epoch 26/100\n",
            "1/1 [==============================] - 0s 14ms/step - loss: 7.3406 - mae: 7.3406\n",
            "Epoch 27/100\n",
            "1/1 [==============================] - 0s 11ms/step - loss: 7.3350 - mae: 7.3350\n",
            "Epoch 28/100\n",
            "1/1 [==============================] - 0s 38ms/step - loss: 7.3294 - mae: 7.3294\n",
            "Epoch 29/100\n",
            "1/1 [==============================] - 0s 18ms/step - loss: 7.3238 - mae: 7.3238\n",
            "Epoch 30/100\n",
            "1/1 [==============================] - 0s 11ms/step - loss: 7.3181 - mae: 7.3181\n",
            "Epoch 31/100\n",
            "1/1 [==============================] - 0s 9ms/step - loss: 7.3125 - mae: 7.3125\n",
            "Epoch 32/100\n",
            "1/1 [==============================] - 0s 9ms/step - loss: 7.3069 - mae: 7.3069\n",
            "Epoch 33/100\n",
            "1/1 [==============================] - 0s 13ms/step - loss: 7.3013 - mae: 7.3013\n",
            "Epoch 34/100\n",
            "1/1 [==============================] - 0s 9ms/step - loss: 7.2956 - mae: 7.2956\n",
            "Epoch 35/100\n",
            "1/1 [==============================] - 0s 11ms/step - loss: 7.2900 - mae: 7.2900\n",
            "Epoch 36/100\n",
            "1/1 [==============================] - 0s 10ms/step - loss: 7.2844 - mae: 7.2844\n",
            "Epoch 37/100\n",
            "1/1 [==============================] - 0s 9ms/step - loss: 7.2787 - mae: 7.2787\n",
            "Epoch 38/100\n",
            "1/1 [==============================] - 0s 9ms/step - loss: 7.2731 - mae: 7.2731\n",
            "Epoch 39/100\n",
            "1/1 [==============================] - 0s 19ms/step - loss: 7.2675 - mae: 7.2675\n",
            "Epoch 40/100\n",
            "1/1 [==============================] - 0s 12ms/step - loss: 7.2619 - mae: 7.2619\n",
            "Epoch 41/100\n",
            "1/1 [==============================] - 0s 10ms/step - loss: 7.2563 - mae: 7.2563\n",
            "Epoch 42/100\n",
            "1/1 [==============================] - 0s 24ms/step - loss: 7.2506 - mae: 7.2506\n",
            "Epoch 43/100\n",
            "1/1 [==============================] - 0s 14ms/step - loss: 7.2450 - mae: 7.2450\n",
            "Epoch 44/100\n",
            "1/1 [==============================] - 0s 15ms/step - loss: 7.2394 - mae: 7.2394\n",
            "Epoch 45/100\n",
            "1/1 [==============================] - 0s 31ms/step - loss: 7.2338 - mae: 7.2338\n",
            "Epoch 46/100\n",
            "1/1 [==============================] - 0s 23ms/step - loss: 7.2281 - mae: 7.2281\n",
            "Epoch 47/100\n",
            "1/1 [==============================] - 0s 26ms/step - loss: 7.2225 - mae: 7.2225\n",
            "Epoch 48/100\n",
            "1/1 [==============================] - 0s 18ms/step - loss: 7.2169 - mae: 7.2169\n",
            "Epoch 49/100\n",
            "1/1 [==============================] - 0s 19ms/step - loss: 7.2113 - mae: 7.2113\n",
            "Epoch 50/100\n",
            "1/1 [==============================] - 0s 13ms/step - loss: 7.2056 - mae: 7.2056\n",
            "Epoch 51/100\n",
            "1/1 [==============================] - 0s 15ms/step - loss: 7.2000 - mae: 7.2000\n",
            "Epoch 52/100\n",
            "1/1 [==============================] - 0s 15ms/step - loss: 7.1944 - mae: 7.1944\n",
            "Epoch 53/100\n",
            "1/1 [==============================] - 0s 24ms/step - loss: 7.1887 - mae: 7.1887\n",
            "Epoch 54/100\n",
            "1/1 [==============================] - 0s 23ms/step - loss: 7.1831 - mae: 7.1831\n",
            "Epoch 55/100\n",
            "1/1 [==============================] - 0s 21ms/step - loss: 7.1775 - mae: 7.1775\n",
            "Epoch 56/100\n",
            "1/1 [==============================] - 0s 22ms/step - loss: 7.1719 - mae: 7.1719\n",
            "Epoch 57/100\n",
            "1/1 [==============================] - 0s 16ms/step - loss: 7.1663 - mae: 7.1663\n",
            "Epoch 58/100\n",
            "1/1 [==============================] - 0s 42ms/step - loss: 7.1606 - mae: 7.1606\n",
            "Epoch 59/100\n",
            "1/1 [==============================] - 0s 10ms/step - loss: 7.1550 - mae: 7.1550\n",
            "Epoch 60/100\n",
            "1/1 [==============================] - 0s 14ms/step - loss: 7.1494 - mae: 7.1494\n",
            "Epoch 61/100\n",
            "1/1 [==============================] - 0s 16ms/step - loss: 7.1438 - mae: 7.1438\n",
            "Epoch 62/100\n",
            "1/1 [==============================] - 0s 17ms/step - loss: 7.1381 - mae: 7.1381\n",
            "Epoch 63/100\n",
            "1/1 [==============================] - 0s 15ms/step - loss: 7.1325 - mae: 7.1325\n",
            "Epoch 64/100\n",
            "1/1 [==============================] - 0s 15ms/step - loss: 7.1269 - mae: 7.1269\n",
            "Epoch 65/100\n",
            "1/1 [==============================] - 0s 17ms/step - loss: 7.1213 - mae: 7.1213\n",
            "Epoch 66/100\n",
            "1/1 [==============================] - 0s 17ms/step - loss: 7.1156 - mae: 7.1156\n",
            "Epoch 67/100\n",
            "1/1 [==============================] - 0s 42ms/step - loss: 7.1100 - mae: 7.1100\n",
            "Epoch 68/100\n",
            "1/1 [==============================] - 0s 15ms/step - loss: 7.1044 - mae: 7.1044\n",
            "Epoch 69/100\n",
            "1/1 [==============================] - 0s 12ms/step - loss: 7.0988 - mae: 7.0988\n",
            "Epoch 70/100\n",
            "1/1 [==============================] - 0s 18ms/step - loss: 7.0931 - mae: 7.0931\n",
            "Epoch 71/100\n",
            "1/1 [==============================] - 0s 12ms/step - loss: 7.0875 - mae: 7.0875\n",
            "Epoch 72/100\n",
            "1/1 [==============================] - 0s 15ms/step - loss: 7.0819 - mae: 7.0819\n",
            "Epoch 73/100\n",
            "1/1 [==============================] - 0s 10ms/step - loss: 7.0763 - mae: 7.0763\n",
            "Epoch 74/100\n",
            "1/1 [==============================] - 0s 18ms/step - loss: 7.0706 - mae: 7.0706\n",
            "Epoch 75/100\n",
            "1/1 [==============================] - 0s 35ms/step - loss: 7.0650 - mae: 7.0650\n",
            "Epoch 76/100\n",
            "1/1 [==============================] - 0s 36ms/step - loss: 7.0594 - mae: 7.0594\n",
            "Epoch 77/100\n",
            "1/1 [==============================] - 0s 21ms/step - loss: 7.0538 - mae: 7.0538\n",
            "Epoch 78/100\n",
            "1/1 [==============================] - 0s 21ms/step - loss: 7.0481 - mae: 7.0481\n",
            "Epoch 79/100\n",
            "1/1 [==============================] - 0s 17ms/step - loss: 7.0425 - mae: 7.0425\n",
            "Epoch 80/100\n",
            "1/1 [==============================] - 0s 20ms/step - loss: 7.0369 - mae: 7.0369\n",
            "Epoch 81/100\n",
            "1/1 [==============================] - 0s 13ms/step - loss: 7.0312 - mae: 7.0312\n",
            "Epoch 82/100\n",
            "1/1 [==============================] - 0s 18ms/step - loss: 7.0256 - mae: 7.0256\n",
            "Epoch 83/100\n",
            "1/1 [==============================] - 0s 14ms/step - loss: 7.0200 - mae: 7.0200\n",
            "Epoch 84/100\n",
            "1/1 [==============================] - 0s 17ms/step - loss: 7.0144 - mae: 7.0144\n",
            "Epoch 85/100\n",
            "1/1 [==============================] - 0s 15ms/step - loss: 7.0087 - mae: 7.0087\n",
            "Epoch 86/100\n",
            "1/1 [==============================] - 0s 14ms/step - loss: 7.0031 - mae: 7.0031\n",
            "Epoch 87/100\n",
            "1/1 [==============================] - 0s 14ms/step - loss: 6.9975 - mae: 6.9975\n",
            "Epoch 88/100\n",
            "1/1 [==============================] - 0s 21ms/step - loss: 6.9919 - mae: 6.9919\n",
            "Epoch 89/100\n",
            "1/1 [==============================] - 0s 16ms/step - loss: 6.9863 - mae: 6.9863\n",
            "Epoch 90/100\n",
            "1/1 [==============================] - 0s 21ms/step - loss: 6.9806 - mae: 6.9806\n",
            "Epoch 91/100\n",
            "1/1 [==============================] - 0s 11ms/step - loss: 6.9750 - mae: 6.9750\n",
            "Epoch 92/100\n",
            "1/1 [==============================] - 0s 38ms/step - loss: 6.9694 - mae: 6.9694\n",
            "Epoch 93/100\n",
            "1/1 [==============================] - 0s 24ms/step - loss: 6.9638 - mae: 6.9638\n",
            "Epoch 94/100\n",
            "1/1 [==============================] - 0s 33ms/step - loss: 6.9581 - mae: 6.9581\n",
            "Epoch 95/100\n",
            "1/1 [==============================] - 0s 26ms/step - loss: 6.9525 - mae: 6.9525\n",
            "Epoch 96/100\n",
            "1/1 [==============================] - 0s 28ms/step - loss: 6.9469 - mae: 6.9469\n",
            "Epoch 97/100\n",
            "1/1 [==============================] - 0s 25ms/step - loss: 6.9413 - mae: 6.9413\n",
            "Epoch 98/100\n",
            "1/1 [==============================] - 0s 27ms/step - loss: 6.9356 - mae: 6.9356\n",
            "Epoch 99/100\n",
            "1/1 [==============================] - 0s 24ms/step - loss: 6.9300 - mae: 6.9300\n",
            "Epoch 100/100\n",
            "1/1 [==============================] - 0s 15ms/step - loss: 6.9244 - mae: 6.9244\n"
          ]
        },
        {
          "output_type": "execute_result",
          "data": {
            "text/plain": [
              "<keras.src.callbacks.History at 0x7f9c38d72a40>"
            ]
          },
          "metadata": {},
          "execution_count": 107
        }
      ]
    },
    {
      "cell_type": "code",
      "source": [
        "## much more accurate\n",
        "model1.predict([17])"
      ],
      "metadata": {
        "colab": {
          "base_uri": "https://localhost:8080/"
        },
        "id": "d2w-Z8HYBGOe",
        "outputId": "a68bd74c-3e9d-4fc0-98a3-a113403c339f"
      },
      "execution_count": 108,
      "outputs": [
        {
          "output_type": "stream",
          "name": "stdout",
          "text": [
            "1/1 [==============================] - 0s 366ms/step\n"
          ]
        },
        {
          "output_type": "execute_result",
          "data": {
            "text/plain": [
              "array([[30.305891]], dtype=float32)"
            ]
          },
          "metadata": {},
          "execution_count": 108
        }
      ]
    },
    {
      "cell_type": "code",
      "source": [
        "### lets further improve the model\n",
        "# extra hidden layer\n",
        "\n",
        "model2 = tf.keras.Sequential([\n",
        "    # extra layer added\n",
        "    tf.keras.layers.Dense(10, activation = \"relu\"),\n",
        "    tf.keras.layers.Dense(1)\n",
        "])\n",
        "\n",
        "model2.compile(loss = tf.keras.losses.mae,\n",
        "               optimizer = tf.keras.optimizers.SGD(),\n",
        "               metrics = ['mae'])\n",
        "\n",
        "# results much improved\n",
        "model2.fit(tf.expand_dims(X, axis=-1), y, epochs = 100)"
      ],
      "metadata": {
        "colab": {
          "base_uri": "https://localhost:8080/"
        },
        "id": "_sjQfjZTBqyn",
        "outputId": "4f812441-be8a-43f7-f802-4b238bb964eb"
      },
      "execution_count": 109,
      "outputs": [
        {
          "output_type": "stream",
          "name": "stdout",
          "text": [
            "Epoch 1/100\n",
            "1/1 [==============================] - 1s 749ms/step - loss: 11.2569 - mae: 11.2569\n",
            "Epoch 2/100\n",
            "1/1 [==============================] - 0s 11ms/step - loss: 10.7920 - mae: 10.7920\n",
            "Epoch 3/100\n",
            "1/1 [==============================] - 0s 9ms/step - loss: 10.3081 - mae: 10.3081\n",
            "Epoch 4/100\n",
            "1/1 [==============================] - 0s 9ms/step - loss: 9.8005 - mae: 9.8005\n",
            "Epoch 5/100\n",
            "1/1 [==============================] - 0s 10ms/step - loss: 9.2643 - mae: 9.2643\n",
            "Epoch 6/100\n",
            "1/1 [==============================] - 0s 9ms/step - loss: 8.6943 - mae: 8.6943\n",
            "Epoch 7/100\n",
            "1/1 [==============================] - 0s 14ms/step - loss: 8.0849 - mae: 8.0849\n",
            "Epoch 8/100\n",
            "1/1 [==============================] - 0s 15ms/step - loss: 7.4301 - mae: 7.4301\n",
            "Epoch 9/100\n",
            "1/1 [==============================] - 0s 12ms/step - loss: 6.7237 - mae: 6.7237\n",
            "Epoch 10/100\n",
            "1/1 [==============================] - 0s 10ms/step - loss: 5.9593 - mae: 5.9593\n",
            "Epoch 11/100\n",
            "1/1 [==============================] - 0s 11ms/step - loss: 5.1546 - mae: 5.1546\n",
            "Epoch 12/100\n",
            "1/1 [==============================] - 0s 10ms/step - loss: 4.2801 - mae: 4.2801\n",
            "Epoch 13/100\n",
            "1/1 [==============================] - 0s 10ms/step - loss: 3.9643 - mae: 3.9643\n",
            "Epoch 14/100\n",
            "1/1 [==============================] - 0s 10ms/step - loss: 4.0165 - mae: 4.0165\n",
            "Epoch 15/100\n",
            "1/1 [==============================] - 0s 10ms/step - loss: 3.9509 - mae: 3.9509\n",
            "Epoch 16/100\n",
            "1/1 [==============================] - 0s 12ms/step - loss: 4.0119 - mae: 4.0119\n",
            "Epoch 17/100\n",
            "1/1 [==============================] - 0s 17ms/step - loss: 3.9582 - mae: 3.9582\n",
            "Epoch 18/100\n",
            "1/1 [==============================] - 0s 16ms/step - loss: 3.9876 - mae: 3.9876\n",
            "Epoch 19/100\n",
            "1/1 [==============================] - 0s 29ms/step - loss: 3.9656 - mae: 3.9656\n",
            "Epoch 20/100\n",
            "1/1 [==============================] - 0s 13ms/step - loss: 3.9632 - mae: 3.9632\n",
            "Epoch 21/100\n",
            "1/1 [==============================] - 0s 15ms/step - loss: 3.9732 - mae: 3.9732\n",
            "Epoch 22/100\n",
            "1/1 [==============================] - 0s 19ms/step - loss: 3.9387 - mae: 3.9387\n",
            "Epoch 23/100\n",
            "1/1 [==============================] - 0s 12ms/step - loss: 3.9811 - mae: 3.9811\n",
            "Epoch 24/100\n",
            "1/1 [==============================] - 0s 10ms/step - loss: 3.9159 - mae: 3.9159\n",
            "Epoch 25/100\n",
            "1/1 [==============================] - 0s 18ms/step - loss: 3.9861 - mae: 3.9861\n",
            "Epoch 26/100\n",
            "1/1 [==============================] - 0s 17ms/step - loss: 3.9236 - mae: 3.9236\n",
            "Epoch 27/100\n",
            "1/1 [==============================] - 0s 16ms/step - loss: 3.9618 - mae: 3.9618\n",
            "Epoch 28/100\n",
            "1/1 [==============================] - 0s 21ms/step - loss: 3.9315 - mae: 3.9315\n",
            "Epoch 29/100\n",
            "1/1 [==============================] - 0s 15ms/step - loss: 3.9373 - mae: 3.9373\n",
            "Epoch 30/100\n",
            "1/1 [==============================] - 0s 20ms/step - loss: 3.9394 - mae: 3.9394\n",
            "Epoch 31/100\n",
            "1/1 [==============================] - 0s 18ms/step - loss: 3.9126 - mae: 3.9126\n",
            "Epoch 32/100\n",
            "1/1 [==============================] - 0s 10ms/step - loss: 3.9475 - mae: 3.9475\n",
            "Epoch 33/100\n",
            "1/1 [==============================] - 0s 10ms/step - loss: 3.8878 - mae: 3.8878\n",
            "Epoch 34/100\n",
            "1/1 [==============================] - 0s 10ms/step - loss: 3.9557 - mae: 3.9557\n",
            "Epoch 35/100\n",
            "1/1 [==============================] - 0s 10ms/step - loss: 3.8907 - mae: 3.8907\n",
            "Epoch 36/100\n",
            "1/1 [==============================] - 0s 10ms/step - loss: 3.9351 - mae: 3.9351\n",
            "Epoch 37/100\n",
            "1/1 [==============================] - 0s 11ms/step - loss: 3.8988 - mae: 3.8988\n",
            "Epoch 38/100\n",
            "1/1 [==============================] - 0s 12ms/step - loss: 3.9103 - mae: 3.9103\n",
            "Epoch 39/100\n",
            "1/1 [==============================] - 0s 11ms/step - loss: 3.9070 - mae: 3.9070\n",
            "Epoch 40/100\n",
            "1/1 [==============================] - 0s 11ms/step - loss: 3.8855 - mae: 3.8855\n",
            "Epoch 41/100\n",
            "1/1 [==============================] - 0s 16ms/step - loss: 3.9153 - mae: 3.9153\n",
            "Epoch 42/100\n",
            "1/1 [==============================] - 0s 13ms/step - loss: 3.8604 - mae: 3.8604\n",
            "Epoch 43/100\n",
            "1/1 [==============================] - 0s 10ms/step - loss: 3.9237 - mae: 3.9237\n",
            "Epoch 44/100\n",
            "1/1 [==============================] - 0s 33ms/step - loss: 3.8592 - mae: 3.8592\n",
            "Epoch 45/100\n",
            "1/1 [==============================] - 0s 27ms/step - loss: 3.9074 - mae: 3.9074\n",
            "Epoch 46/100\n",
            "1/1 [==============================] - 0s 25ms/step - loss: 3.8675 - mae: 3.8675\n",
            "Epoch 47/100\n",
            "1/1 [==============================] - 0s 29ms/step - loss: 3.8824 - mae: 3.8824\n",
            "Epoch 48/100\n",
            "1/1 [==============================] - 0s 19ms/step - loss: 3.8759 - mae: 3.8759\n",
            "Epoch 49/100\n",
            "1/1 [==============================] - 0s 11ms/step - loss: 3.8573 - mae: 3.8573\n",
            "Epoch 50/100\n",
            "1/1 [==============================] - 0s 10ms/step - loss: 3.8845 - mae: 3.8845\n",
            "Epoch 51/100\n",
            "1/1 [==============================] - 0s 9ms/step - loss: 3.8320 - mae: 3.8320\n",
            "Epoch 52/100\n",
            "1/1 [==============================] - 0s 12ms/step - loss: 3.8932 - mae: 3.8932\n",
            "Epoch 53/100\n",
            "1/1 [==============================] - 0s 13ms/step - loss: 3.8289 - mae: 3.8289\n",
            "Epoch 54/100\n",
            "1/1 [==============================] - 0s 13ms/step - loss: 3.8786 - mae: 3.8786\n",
            "Epoch 55/100\n",
            "1/1 [==============================] - 0s 17ms/step - loss: 3.8375 - mae: 3.8375\n",
            "Epoch 56/100\n",
            "1/1 [==============================] - 0s 12ms/step - loss: 3.8534 - mae: 3.8534\n",
            "Epoch 57/100\n",
            "1/1 [==============================] - 0s 10ms/step - loss: 3.8462 - mae: 3.8462\n",
            "Epoch 58/100\n",
            "1/1 [==============================] - 0s 10ms/step - loss: 3.8280 - mae: 3.8280\n",
            "Epoch 59/100\n",
            "1/1 [==============================] - 0s 17ms/step - loss: 3.8550 - mae: 3.8550\n",
            "Epoch 60/100\n",
            "1/1 [==============================] - 0s 24ms/step - loss: 3.8025 - mae: 3.8025\n",
            "Epoch 61/100\n",
            "1/1 [==============================] - 0s 9ms/step - loss: 3.8639 - mae: 3.8639\n",
            "Epoch 62/100\n",
            "1/1 [==============================] - 0s 13ms/step - loss: 3.8001 - mae: 3.8001\n",
            "Epoch 63/100\n",
            "1/1 [==============================] - 0s 11ms/step - loss: 3.8519 - mae: 3.8519\n",
            "Epoch 64/100\n",
            "1/1 [==============================] - 0s 13ms/step - loss: 3.8125 - mae: 3.8125\n",
            "Epoch 65/100\n",
            "1/1 [==============================] - 0s 10ms/step - loss: 3.8264 - mae: 3.8264\n",
            "Epoch 66/100\n",
            "1/1 [==============================] - 0s 25ms/step - loss: 3.8214 - mae: 3.8214\n",
            "Epoch 67/100\n",
            "1/1 [==============================] - 0s 14ms/step - loss: 3.8007 - mae: 3.8007\n",
            "Epoch 68/100\n",
            "1/1 [==============================] - 0s 16ms/step - loss: 3.8304 - mae: 3.8304\n",
            "Epoch 69/100\n",
            "1/1 [==============================] - 0s 16ms/step - loss: 3.7749 - mae: 3.7749\n",
            "Epoch 70/100\n",
            "1/1 [==============================] - 0s 12ms/step - loss: 3.8396 - mae: 3.8396\n",
            "Epoch 71/100\n",
            "1/1 [==============================] - 0s 15ms/step - loss: 3.7759 - mae: 3.7759\n",
            "Epoch 72/100\n",
            "1/1 [==============================] - 0s 8ms/step - loss: 3.8224 - mae: 3.8224\n",
            "Epoch 73/100\n",
            "1/1 [==============================] - 0s 18ms/step - loss: 3.7886 - mae: 3.7886\n",
            "Epoch 74/100\n",
            "1/1 [==============================] - 0s 13ms/step - loss: 3.7980 - mae: 3.7980\n",
            "Epoch 75/100\n",
            "1/1 [==============================] - 0s 11ms/step - loss: 3.7977 - mae: 3.7977\n",
            "Epoch 76/100\n",
            "1/1 [==============================] - 0s 17ms/step - loss: 3.7721 - mae: 3.7721\n",
            "Epoch 77/100\n",
            "1/1 [==============================] - 0s 18ms/step - loss: 3.8069 - mae: 3.8069\n",
            "Epoch 78/100\n",
            "1/1 [==============================] - 0s 15ms/step - loss: 3.7459 - mae: 3.7459\n",
            "Epoch 79/100\n",
            "1/1 [==============================] - 0s 16ms/step - loss: 3.8164 - mae: 3.8164\n",
            "Epoch 80/100\n",
            "1/1 [==============================] - 0s 14ms/step - loss: 3.7524 - mae: 3.7524\n",
            "Epoch 81/100\n",
            "1/1 [==============================] - 0s 11ms/step - loss: 3.7922 - mae: 3.7922\n",
            "Epoch 82/100\n",
            "1/1 [==============================] - 0s 10ms/step - loss: 3.7638 - mae: 3.7638\n",
            "Epoch 83/100\n",
            "1/1 [==============================] - 0s 11ms/step - loss: 3.7691 - mae: 3.7691\n",
            "Epoch 84/100\n",
            "1/1 [==============================] - 0s 9ms/step - loss: 3.7745 - mae: 3.7745\n",
            "Epoch 85/100\n",
            "1/1 [==============================] - 0s 44ms/step - loss: 3.7428 - mae: 3.7428\n",
            "Epoch 86/100\n",
            "1/1 [==============================] - 0s 16ms/step - loss: 3.7841 - mae: 3.7841\n",
            "Epoch 87/100\n",
            "1/1 [==============================] - 0s 26ms/step - loss: 3.7205 - mae: 3.7205\n",
            "Epoch 88/100\n",
            "1/1 [==============================] - 0s 38ms/step - loss: 3.7885 - mae: 3.7885\n",
            "Epoch 89/100\n",
            "1/1 [==============================] - 0s 17ms/step - loss: 3.7298 - mae: 3.7298\n",
            "Epoch 90/100\n",
            "1/1 [==============================] - 0s 20ms/step - loss: 3.7623 - mae: 3.7623\n",
            "Epoch 91/100\n",
            "1/1 [==============================] - 0s 16ms/step - loss: 3.7393 - mae: 3.7393\n",
            "Epoch 92/100\n",
            "1/1 [==============================] - 0s 14ms/step - loss: 3.7391 - mae: 3.7391\n",
            "Epoch 93/100\n",
            "1/1 [==============================] - 0s 30ms/step - loss: 3.7526 - mae: 3.7526\n",
            "Epoch 94/100\n",
            "1/1 [==============================] - 0s 22ms/step - loss: 3.7129 - mae: 3.7129\n",
            "Epoch 95/100\n",
            "1/1 [==============================] - 0s 16ms/step - loss: 3.7618 - mae: 3.7618\n",
            "Epoch 96/100\n",
            "1/1 [==============================] - 0s 12ms/step - loss: 3.6983 - mae: 3.6983\n",
            "Epoch 97/100\n",
            "1/1 [==============================] - 0s 14ms/step - loss: 3.7584 - mae: 3.7584\n",
            "Epoch 98/100\n",
            "1/1 [==============================] - 0s 13ms/step - loss: 3.7078 - mae: 3.7078\n",
            "Epoch 99/100\n",
            "1/1 [==============================] - 0s 15ms/step - loss: 3.7318 - mae: 3.7318\n",
            "Epoch 100/100\n",
            "1/1 [==============================] - 0s 15ms/step - loss: 3.7175 - mae: 3.7175\n"
          ]
        },
        {
          "output_type": "execute_result",
          "data": {
            "text/plain": [
              "<keras.src.callbacks.History at 0x7f9c49295150>"
            ]
          },
          "metadata": {},
          "execution_count": 109
        }
      ]
    },
    {
      "cell_type": "code",
      "source": [
        "model2.predict([17])\n",
        "# should be 27, so worse than previous model\n",
        "# suggests overfitting this output"
      ],
      "metadata": {
        "colab": {
          "base_uri": "https://localhost:8080/"
        },
        "id": "9jUQia-yh6zq",
        "outputId": "65e589c7-2992-4aec-8c44-11373519a6f4"
      },
      "execution_count": 110,
      "outputs": [
        {
          "output_type": "stream",
          "name": "stdout",
          "text": [
            "1/1 [==============================] - 0s 194ms/step\n"
          ]
        },
        {
          "output_type": "execute_result",
          "data": {
            "text/plain": [
              "array([[31.602959]], dtype=float32)"
            ]
          },
          "metadata": {},
          "execution_count": 110
        }
      ]
    },
    {
      "cell_type": "code",
      "source": [
        "# change optimizer in compile to adam now\n",
        "model3 = tf.keras.Sequential([\n",
        "    # extra layer added\n",
        "    tf.keras.layers.Dense(10, activation = \"relu\"),\n",
        "    tf.keras.layers.Dense(1)\n",
        "])\n",
        "\n",
        "model3.compile(loss = tf.keras.losses.mae,\n",
        "               optimizer = tf.keras.optimizers.Adam(),\n",
        "               metrics = ['mae'])\n",
        "\n",
        "# results much improved\n",
        "model3.fit(tf.expand_dims(X, axis=-1), y, epochs = 100)"
      ],
      "metadata": {
        "colab": {
          "base_uri": "https://localhost:8080/"
        },
        "id": "-OCo2kXEh9Nf",
        "outputId": "7f420732-a21c-4186-9d4e-8920579f2ec3"
      },
      "execution_count": 111,
      "outputs": [
        {
          "output_type": "stream",
          "name": "stdout",
          "text": [
            "Epoch 1/100\n",
            "1/1 [==============================] - 1s 1s/step - loss: 9.0633 - mae: 9.0633\n",
            "Epoch 2/100\n",
            "1/1 [==============================] - 0s 22ms/step - loss: 9.0418 - mae: 9.0418\n",
            "Epoch 3/100\n",
            "1/1 [==============================] - 0s 19ms/step - loss: 9.0202 - mae: 9.0202\n",
            "Epoch 4/100\n",
            "1/1 [==============================] - 0s 12ms/step - loss: 8.9986 - mae: 8.9986\n",
            "Epoch 5/100\n",
            "1/1 [==============================] - 0s 13ms/step - loss: 8.9769 - mae: 8.9769\n",
            "Epoch 6/100\n",
            "1/1 [==============================] - 0s 19ms/step - loss: 8.9552 - mae: 8.9552\n",
            "Epoch 7/100\n",
            "1/1 [==============================] - 0s 13ms/step - loss: 8.9334 - mae: 8.9334\n",
            "Epoch 8/100\n",
            "1/1 [==============================] - 0s 27ms/step - loss: 8.9115 - mae: 8.9115\n",
            "Epoch 9/100\n",
            "1/1 [==============================] - 0s 13ms/step - loss: 8.8896 - mae: 8.8896\n",
            "Epoch 10/100\n",
            "1/1 [==============================] - 0s 20ms/step - loss: 8.8676 - mae: 8.8676\n",
            "Epoch 11/100\n",
            "1/1 [==============================] - 0s 14ms/step - loss: 8.8455 - mae: 8.8455\n",
            "Epoch 12/100\n",
            "1/1 [==============================] - 0s 14ms/step - loss: 8.8234 - mae: 8.8234\n",
            "Epoch 13/100\n",
            "1/1 [==============================] - 0s 18ms/step - loss: 8.8012 - mae: 8.8012\n",
            "Epoch 14/100\n",
            "1/1 [==============================] - 0s 15ms/step - loss: 8.7790 - mae: 8.7790\n",
            "Epoch 15/100\n",
            "1/1 [==============================] - 0s 21ms/step - loss: 8.7567 - mae: 8.7567\n",
            "Epoch 16/100\n",
            "1/1 [==============================] - 0s 25ms/step - loss: 8.7343 - mae: 8.7343\n",
            "Epoch 17/100\n",
            "1/1 [==============================] - 0s 18ms/step - loss: 8.7118 - mae: 8.7118\n",
            "Epoch 18/100\n",
            "1/1 [==============================] - 0s 19ms/step - loss: 8.6893 - mae: 8.6893\n",
            "Epoch 19/100\n",
            "1/1 [==============================] - 0s 24ms/step - loss: 8.6667 - mae: 8.6667\n",
            "Epoch 20/100\n",
            "1/1 [==============================] - 0s 23ms/step - loss: 8.6441 - mae: 8.6441\n",
            "Epoch 21/100\n",
            "1/1 [==============================] - 0s 16ms/step - loss: 8.6213 - mae: 8.6213\n",
            "Epoch 22/100\n",
            "1/1 [==============================] - 0s 28ms/step - loss: 8.5985 - mae: 8.5985\n",
            "Epoch 23/100\n",
            "1/1 [==============================] - 0s 20ms/step - loss: 8.5756 - mae: 8.5756\n",
            "Epoch 24/100\n",
            "1/1 [==============================] - 0s 13ms/step - loss: 8.5527 - mae: 8.5527\n",
            "Epoch 25/100\n",
            "1/1 [==============================] - 0s 12ms/step - loss: 8.5297 - mae: 8.5297\n",
            "Epoch 26/100\n",
            "1/1 [==============================] - 0s 11ms/step - loss: 8.5065 - mae: 8.5065\n",
            "Epoch 27/100\n",
            "1/1 [==============================] - 0s 16ms/step - loss: 8.4834 - mae: 8.4834\n",
            "Epoch 28/100\n",
            "1/1 [==============================] - 0s 12ms/step - loss: 8.4601 - mae: 8.4601\n",
            "Epoch 29/100\n",
            "1/1 [==============================] - 0s 9ms/step - loss: 8.4368 - mae: 8.4368\n",
            "Epoch 30/100\n",
            "1/1 [==============================] - 0s 11ms/step - loss: 8.4134 - mae: 8.4134\n",
            "Epoch 31/100\n",
            "1/1 [==============================] - 0s 10ms/step - loss: 8.3899 - mae: 8.3899\n",
            "Epoch 32/100\n",
            "1/1 [==============================] - 0s 11ms/step - loss: 8.3663 - mae: 8.3663\n",
            "Epoch 33/100\n",
            "1/1 [==============================] - 0s 11ms/step - loss: 8.3426 - mae: 8.3426\n",
            "Epoch 34/100\n",
            "1/1 [==============================] - 0s 11ms/step - loss: 8.3189 - mae: 8.3189\n",
            "Epoch 35/100\n",
            "1/1 [==============================] - 0s 13ms/step - loss: 8.2951 - mae: 8.2951\n",
            "Epoch 36/100\n",
            "1/1 [==============================] - 0s 11ms/step - loss: 8.2712 - mae: 8.2712\n",
            "Epoch 37/100\n",
            "1/1 [==============================] - 0s 21ms/step - loss: 8.2472 - mae: 8.2472\n",
            "Epoch 38/100\n",
            "1/1 [==============================] - 0s 11ms/step - loss: 8.2231 - mae: 8.2231\n",
            "Epoch 39/100\n",
            "1/1 [==============================] - 0s 13ms/step - loss: 8.1990 - mae: 8.1990\n",
            "Epoch 40/100\n",
            "1/1 [==============================] - 0s 10ms/step - loss: 8.1747 - mae: 8.1747\n",
            "Epoch 41/100\n",
            "1/1 [==============================] - 0s 11ms/step - loss: 8.1504 - mae: 8.1504\n",
            "Epoch 42/100\n",
            "1/1 [==============================] - 0s 10ms/step - loss: 8.1260 - mae: 8.1260\n",
            "Epoch 43/100\n",
            "1/1 [==============================] - 0s 10ms/step - loss: 8.1015 - mae: 8.1015\n",
            "Epoch 44/100\n",
            "1/1 [==============================] - 0s 10ms/step - loss: 8.0770 - mae: 8.0770\n",
            "Epoch 45/100\n",
            "1/1 [==============================] - 0s 11ms/step - loss: 8.0523 - mae: 8.0523\n",
            "Epoch 46/100\n",
            "1/1 [==============================] - 0s 18ms/step - loss: 8.0275 - mae: 8.0275\n",
            "Epoch 47/100\n",
            "1/1 [==============================] - 0s 14ms/step - loss: 8.0027 - mae: 8.0027\n",
            "Epoch 48/100\n",
            "1/1 [==============================] - 0s 10ms/step - loss: 7.9778 - mae: 7.9778\n",
            "Epoch 49/100\n",
            "1/1 [==============================] - 0s 10ms/step - loss: 7.9528 - mae: 7.9528\n",
            "Epoch 50/100\n",
            "1/1 [==============================] - 0s 8ms/step - loss: 7.9277 - mae: 7.9277\n",
            "Epoch 51/100\n",
            "1/1 [==============================] - 0s 11ms/step - loss: 7.9025 - mae: 7.9025\n",
            "Epoch 52/100\n",
            "1/1 [==============================] - 0s 17ms/step - loss: 7.8772 - mae: 7.8772\n",
            "Epoch 53/100\n",
            "1/1 [==============================] - 0s 9ms/step - loss: 7.8518 - mae: 7.8518\n",
            "Epoch 54/100\n",
            "1/1 [==============================] - 0s 11ms/step - loss: 7.8264 - mae: 7.8264\n",
            "Epoch 55/100\n",
            "1/1 [==============================] - 0s 15ms/step - loss: 7.8008 - mae: 7.8008\n",
            "Epoch 56/100\n",
            "1/1 [==============================] - 0s 24ms/step - loss: 7.7752 - mae: 7.7752\n",
            "Epoch 57/100\n",
            "1/1 [==============================] - 0s 10ms/step - loss: 7.7494 - mae: 7.7494\n",
            "Epoch 58/100\n",
            "1/1 [==============================] - 0s 9ms/step - loss: 7.7236 - mae: 7.7236\n",
            "Epoch 59/100\n",
            "1/1 [==============================] - 0s 11ms/step - loss: 7.6977 - mae: 7.6977\n",
            "Epoch 60/100\n",
            "1/1 [==============================] - 0s 10ms/step - loss: 7.6717 - mae: 7.6717\n",
            "Epoch 61/100\n",
            "1/1 [==============================] - 0s 9ms/step - loss: 7.6456 - mae: 7.6456\n",
            "Epoch 62/100\n",
            "1/1 [==============================] - 0s 22ms/step - loss: 7.6194 - mae: 7.6194\n",
            "Epoch 63/100\n",
            "1/1 [==============================] - 0s 15ms/step - loss: 7.5931 - mae: 7.5931\n",
            "Epoch 64/100\n",
            "1/1 [==============================] - 0s 12ms/step - loss: 7.5667 - mae: 7.5667\n",
            "Epoch 65/100\n",
            "1/1 [==============================] - 0s 18ms/step - loss: 7.5402 - mae: 7.5402\n",
            "Epoch 66/100\n",
            "1/1 [==============================] - 0s 14ms/step - loss: 7.5137 - mae: 7.5137\n",
            "Epoch 67/100\n",
            "1/1 [==============================] - 0s 13ms/step - loss: 7.4870 - mae: 7.4870\n",
            "Epoch 68/100\n",
            "1/1 [==============================] - 0s 17ms/step - loss: 7.4603 - mae: 7.4603\n",
            "Epoch 69/100\n",
            "1/1 [==============================] - 0s 19ms/step - loss: 7.4334 - mae: 7.4334\n",
            "Epoch 70/100\n",
            "1/1 [==============================] - 0s 25ms/step - loss: 7.4065 - mae: 7.4065\n",
            "Epoch 71/100\n",
            "1/1 [==============================] - 0s 15ms/step - loss: 7.3794 - mae: 7.3794\n",
            "Epoch 72/100\n",
            "1/1 [==============================] - 0s 15ms/step - loss: 7.3523 - mae: 7.3523\n",
            "Epoch 73/100\n",
            "1/1 [==============================] - 0s 15ms/step - loss: 7.3251 - mae: 7.3251\n",
            "Epoch 74/100\n",
            "1/1 [==============================] - 0s 15ms/step - loss: 7.2977 - mae: 7.2977\n",
            "Epoch 75/100\n",
            "1/1 [==============================] - 0s 15ms/step - loss: 7.2703 - mae: 7.2703\n",
            "Epoch 76/100\n",
            "1/1 [==============================] - 0s 18ms/step - loss: 7.2428 - mae: 7.2428\n",
            "Epoch 77/100\n",
            "1/1 [==============================] - 0s 15ms/step - loss: 7.2152 - mae: 7.2152\n",
            "Epoch 78/100\n",
            "1/1 [==============================] - 0s 17ms/step - loss: 7.1874 - mae: 7.1874\n",
            "Epoch 79/100\n",
            "1/1 [==============================] - 0s 16ms/step - loss: 7.1596 - mae: 7.1596\n",
            "Epoch 80/100\n",
            "1/1 [==============================] - 0s 17ms/step - loss: 7.1317 - mae: 7.1317\n",
            "Epoch 81/100\n",
            "1/1 [==============================] - 0s 15ms/step - loss: 7.1037 - mae: 7.1037\n",
            "Epoch 82/100\n",
            "1/1 [==============================] - 0s 14ms/step - loss: 7.0756 - mae: 7.0756\n",
            "Epoch 83/100\n",
            "1/1 [==============================] - 0s 9ms/step - loss: 7.0474 - mae: 7.0474\n",
            "Epoch 84/100\n",
            "1/1 [==============================] - 0s 9ms/step - loss: 7.0191 - mae: 7.0191\n",
            "Epoch 85/100\n",
            "1/1 [==============================] - 0s 9ms/step - loss: 6.9907 - mae: 6.9907\n",
            "Epoch 86/100\n",
            "1/1 [==============================] - 0s 16ms/step - loss: 6.9622 - mae: 6.9622\n",
            "Epoch 87/100\n",
            "1/1 [==============================] - 0s 22ms/step - loss: 6.9336 - mae: 6.9336\n",
            "Epoch 88/100\n",
            "1/1 [==============================] - 0s 14ms/step - loss: 6.9049 - mae: 6.9049\n",
            "Epoch 89/100\n",
            "1/1 [==============================] - 0s 13ms/step - loss: 6.8761 - mae: 6.8761\n",
            "Epoch 90/100\n",
            "1/1 [==============================] - 0s 13ms/step - loss: 6.8472 - mae: 6.8472\n",
            "Epoch 91/100\n",
            "1/1 [==============================] - 0s 17ms/step - loss: 6.8182 - mae: 6.8182\n",
            "Epoch 92/100\n",
            "1/1 [==============================] - 0s 13ms/step - loss: 6.7891 - mae: 6.7891\n",
            "Epoch 93/100\n",
            "1/1 [==============================] - 0s 12ms/step - loss: 6.7599 - mae: 6.7599\n",
            "Epoch 94/100\n",
            "1/1 [==============================] - 0s 28ms/step - loss: 6.7306 - mae: 6.7306\n",
            "Epoch 95/100\n",
            "1/1 [==============================] - 0s 19ms/step - loss: 6.7012 - mae: 6.7012\n",
            "Epoch 96/100\n",
            "1/1 [==============================] - 0s 16ms/step - loss: 6.6717 - mae: 6.6717\n",
            "Epoch 97/100\n",
            "1/1 [==============================] - 0s 18ms/step - loss: 6.6421 - mae: 6.6421\n",
            "Epoch 98/100\n",
            "1/1 [==============================] - 0s 21ms/step - loss: 6.6124 - mae: 6.6124\n",
            "Epoch 99/100\n",
            "1/1 [==============================] - 0s 13ms/step - loss: 6.5826 - mae: 6.5826\n",
            "Epoch 100/100\n",
            "1/1 [==============================] - 0s 17ms/step - loss: 6.5527 - mae: 6.5527\n"
          ]
        },
        {
          "output_type": "execute_result",
          "data": {
            "text/plain": [
              "<keras.src.callbacks.History at 0x7f9c49182d70>"
            ]
          },
          "metadata": {},
          "execution_count": 111
        }
      ]
    },
    {
      "cell_type": "code",
      "source": [
        "model3.predict([17])\n",
        "## adam works badly here, worse results for epochs and unseen example"
      ],
      "metadata": {
        "colab": {
          "base_uri": "https://localhost:8080/"
        },
        "id": "S_MS-LZPkRp9",
        "outputId": "ec027f7d-89dc-4b13-c01a-d97a69ea43af"
      },
      "execution_count": 112,
      "outputs": [
        {
          "output_type": "stream",
          "name": "stdout",
          "text": [
            "1/1 [==============================] - 0s 112ms/step\n"
          ]
        },
        {
          "output_type": "execute_result",
          "data": {
            "text/plain": [
              "array([[21.206913]], dtype=float32)"
            ]
          },
          "metadata": {},
          "execution_count": 112
        }
      ]
    },
    {
      "cell_type": "code",
      "source": [
        "# change learning rate for adam optimizer now\n",
        "model4 = tf.keras.Sequential([\n",
        "    # extra layer added\n",
        "    tf.keras.layers.Dense(10, activation = \"relu\"),\n",
        "    tf.keras.layers.Dense(1)\n",
        "])\n",
        "\n",
        "model4.compile(loss = tf.keras.losses.mae,\n",
        "               optimizer = tf.keras.optimizers.Adam(lr = 0.001),\n",
        "               metrics = ['mae'])\n",
        "\n",
        "# results much improved\n",
        "model4.fit(tf.expand_dims(X, axis=-1), y, epochs = 100)"
      ],
      "metadata": {
        "colab": {
          "base_uri": "https://localhost:8080/"
        },
        "id": "j4MQfUudkUxE",
        "outputId": "bd331df4-f1ae-439c-eb00-bfcee5bf5a58"
      },
      "execution_count": 113,
      "outputs": [
        {
          "output_type": "stream",
          "name": "stderr",
          "text": [
            "WARNING:absl:`lr` is deprecated in Keras optimizer, please use `learning_rate` or use the legacy optimizer, e.g.,tf.keras.optimizers.legacy.Adam.\n"
          ]
        },
        {
          "output_type": "stream",
          "name": "stdout",
          "text": [
            "Epoch 1/100\n",
            "1/1 [==============================] - 2s 2s/step - loss: 7.4328 - mae: 7.4328\n",
            "Epoch 2/100\n",
            "1/1 [==============================] - 0s 17ms/step - loss: 7.3987 - mae: 7.3987\n",
            "Epoch 3/100\n",
            "1/1 [==============================] - 0s 17ms/step - loss: 7.3647 - mae: 7.3647\n",
            "Epoch 4/100\n",
            "1/1 [==============================] - 0s 20ms/step - loss: 7.3306 - mae: 7.3306\n",
            "Epoch 5/100\n",
            "1/1 [==============================] - 0s 17ms/step - loss: 7.2966 - mae: 7.2966\n",
            "Epoch 6/100\n",
            "1/1 [==============================] - 0s 17ms/step - loss: 7.2625 - mae: 7.2625\n",
            "Epoch 7/100\n",
            "1/1 [==============================] - 0s 17ms/step - loss: 7.2284 - mae: 7.2284\n",
            "Epoch 8/100\n",
            "1/1 [==============================] - 0s 19ms/step - loss: 7.1943 - mae: 7.1943\n",
            "Epoch 9/100\n",
            "1/1 [==============================] - 0s 13ms/step - loss: 7.1604 - mae: 7.1604\n",
            "Epoch 10/100\n",
            "1/1 [==============================] - 0s 14ms/step - loss: 7.1264 - mae: 7.1264\n",
            "Epoch 11/100\n",
            "1/1 [==============================] - 0s 17ms/step - loss: 7.0924 - mae: 7.0924\n",
            "Epoch 12/100\n",
            "1/1 [==============================] - 0s 17ms/step - loss: 7.0586 - mae: 7.0586\n",
            "Epoch 13/100\n",
            "1/1 [==============================] - 0s 25ms/step - loss: 7.0254 - mae: 7.0254\n",
            "Epoch 14/100\n",
            "1/1 [==============================] - 0s 13ms/step - loss: 6.9922 - mae: 6.9922\n",
            "Epoch 15/100\n",
            "1/1 [==============================] - 0s 21ms/step - loss: 6.9591 - mae: 6.9591\n",
            "Epoch 16/100\n",
            "1/1 [==============================] - 0s 11ms/step - loss: 6.9266 - mae: 6.9266\n",
            "Epoch 17/100\n",
            "1/1 [==============================] - 0s 26ms/step - loss: 6.8938 - mae: 6.8938\n",
            "Epoch 18/100\n",
            "1/1 [==============================] - 0s 13ms/step - loss: 6.8605 - mae: 6.8605\n",
            "Epoch 19/100\n",
            "1/1 [==============================] - 0s 15ms/step - loss: 6.8267 - mae: 6.8267\n",
            "Epoch 20/100\n",
            "1/1 [==============================] - 0s 19ms/step - loss: 6.7929 - mae: 6.7929\n",
            "Epoch 21/100\n",
            "1/1 [==============================] - 0s 19ms/step - loss: 6.7596 - mae: 6.7596\n",
            "Epoch 22/100\n",
            "1/1 [==============================] - 0s 8ms/step - loss: 6.7263 - mae: 6.7263\n",
            "Epoch 23/100\n",
            "1/1 [==============================] - 0s 10ms/step - loss: 6.6929 - mae: 6.6929\n",
            "Epoch 24/100\n",
            "1/1 [==============================] - 0s 17ms/step - loss: 6.6595 - mae: 6.6595\n",
            "Epoch 25/100\n",
            "1/1 [==============================] - 0s 26ms/step - loss: 6.6261 - mae: 6.6261\n",
            "Epoch 26/100\n",
            "1/1 [==============================] - 0s 14ms/step - loss: 6.5927 - mae: 6.5927\n",
            "Epoch 27/100\n",
            "1/1 [==============================] - 0s 18ms/step - loss: 6.5592 - mae: 6.5592\n",
            "Epoch 28/100\n",
            "1/1 [==============================] - 0s 12ms/step - loss: 6.5257 - mae: 6.5257\n",
            "Epoch 29/100\n",
            "1/1 [==============================] - 0s 17ms/step - loss: 6.4921 - mae: 6.4921\n",
            "Epoch 30/100\n",
            "1/1 [==============================] - 0s 15ms/step - loss: 6.4585 - mae: 6.4585\n",
            "Epoch 31/100\n",
            "1/1 [==============================] - 0s 14ms/step - loss: 6.4249 - mae: 6.4249\n",
            "Epoch 32/100\n",
            "1/1 [==============================] - 0s 10ms/step - loss: 6.3913 - mae: 6.3913\n",
            "Epoch 33/100\n",
            "1/1 [==============================] - 0s 12ms/step - loss: 6.3576 - mae: 6.3576\n",
            "Epoch 34/100\n",
            "1/1 [==============================] - 0s 19ms/step - loss: 6.3239 - mae: 6.3239\n",
            "Epoch 35/100\n",
            "1/1 [==============================] - 0s 14ms/step - loss: 6.2902 - mae: 6.2902\n",
            "Epoch 36/100\n",
            "1/1 [==============================] - 0s 16ms/step - loss: 6.2564 - mae: 6.2564\n",
            "Epoch 37/100\n",
            "1/1 [==============================] - 0s 15ms/step - loss: 6.2226 - mae: 6.2226\n",
            "Epoch 38/100\n",
            "1/1 [==============================] - 0s 13ms/step - loss: 6.1887 - mae: 6.1887\n",
            "Epoch 39/100\n",
            "1/1 [==============================] - 0s 12ms/step - loss: 6.1548 - mae: 6.1548\n",
            "Epoch 40/100\n",
            "1/1 [==============================] - 0s 13ms/step - loss: 6.1209 - mae: 6.1209\n",
            "Epoch 41/100\n",
            "1/1 [==============================] - 0s 16ms/step - loss: 6.0869 - mae: 6.0869\n",
            "Epoch 42/100\n",
            "1/1 [==============================] - 0s 17ms/step - loss: 6.0529 - mae: 6.0529\n",
            "Epoch 43/100\n",
            "1/1 [==============================] - 0s 13ms/step - loss: 6.0188 - mae: 6.0188\n",
            "Epoch 44/100\n",
            "1/1 [==============================] - 0s 12ms/step - loss: 5.9847 - mae: 5.9847\n",
            "Epoch 45/100\n",
            "1/1 [==============================] - 0s 20ms/step - loss: 5.9506 - mae: 5.9506\n",
            "Epoch 46/100\n",
            "1/1 [==============================] - 0s 13ms/step - loss: 5.9164 - mae: 5.9164\n",
            "Epoch 47/100\n",
            "1/1 [==============================] - 0s 19ms/step - loss: 5.8822 - mae: 5.8822\n",
            "Epoch 48/100\n",
            "1/1 [==============================] - 0s 20ms/step - loss: 5.8479 - mae: 5.8479\n",
            "Epoch 49/100\n",
            "1/1 [==============================] - 0s 14ms/step - loss: 5.8136 - mae: 5.8136\n",
            "Epoch 50/100\n",
            "1/1 [==============================] - 0s 23ms/step - loss: 5.7792 - mae: 5.7792\n",
            "Epoch 51/100\n",
            "1/1 [==============================] - 0s 21ms/step - loss: 5.7448 - mae: 5.7448\n",
            "Epoch 52/100\n",
            "1/1 [==============================] - 0s 13ms/step - loss: 5.7104 - mae: 5.7104\n",
            "Epoch 53/100\n",
            "1/1 [==============================] - 0s 15ms/step - loss: 5.6758 - mae: 5.6758\n",
            "Epoch 54/100\n",
            "1/1 [==============================] - 0s 15ms/step - loss: 5.6413 - mae: 5.6413\n",
            "Epoch 55/100\n",
            "1/1 [==============================] - 0s 17ms/step - loss: 5.6066 - mae: 5.6066\n",
            "Epoch 56/100\n",
            "1/1 [==============================] - 0s 16ms/step - loss: 5.5720 - mae: 5.5720\n",
            "Epoch 57/100\n",
            "1/1 [==============================] - 0s 14ms/step - loss: 5.5372 - mae: 5.5372\n",
            "Epoch 58/100\n",
            "1/1 [==============================] - 0s 21ms/step - loss: 5.5025 - mae: 5.5025\n",
            "Epoch 59/100\n",
            "1/1 [==============================] - 0s 21ms/step - loss: 5.4676 - mae: 5.4676\n",
            "Epoch 60/100\n",
            "1/1 [==============================] - 0s 15ms/step - loss: 5.4327 - mae: 5.4327\n",
            "Epoch 61/100\n",
            "1/1 [==============================] - 0s 11ms/step - loss: 5.3978 - mae: 5.3978\n",
            "Epoch 62/100\n",
            "1/1 [==============================] - 0s 13ms/step - loss: 5.3627 - mae: 5.3627\n",
            "Epoch 63/100\n",
            "1/1 [==============================] - 0s 21ms/step - loss: 5.3277 - mae: 5.3277\n",
            "Epoch 64/100\n",
            "1/1 [==============================] - 0s 11ms/step - loss: 5.2925 - mae: 5.2925\n",
            "Epoch 65/100\n",
            "1/1 [==============================] - 0s 12ms/step - loss: 5.2573 - mae: 5.2573\n",
            "Epoch 66/100\n",
            "1/1 [==============================] - 0s 14ms/step - loss: 5.2220 - mae: 5.2220\n",
            "Epoch 67/100\n",
            "1/1 [==============================] - 0s 13ms/step - loss: 5.1867 - mae: 5.1867\n",
            "Epoch 68/100\n",
            "1/1 [==============================] - 0s 11ms/step - loss: 5.1513 - mae: 5.1513\n",
            "Epoch 69/100\n",
            "1/1 [==============================] - 0s 13ms/step - loss: 5.1158 - mae: 5.1158\n",
            "Epoch 70/100\n",
            "1/1 [==============================] - 0s 12ms/step - loss: 5.0803 - mae: 5.0803\n",
            "Epoch 71/100\n",
            "1/1 [==============================] - 0s 19ms/step - loss: 5.0495 - mae: 5.0495\n",
            "Epoch 72/100\n",
            "1/1 [==============================] - 0s 11ms/step - loss: 5.0215 - mae: 5.0215\n",
            "Epoch 73/100\n",
            "1/1 [==============================] - 0s 20ms/step - loss: 4.9935 - mae: 4.9935\n",
            "Epoch 74/100\n",
            "1/1 [==============================] - 0s 18ms/step - loss: 4.9654 - mae: 4.9654\n",
            "Epoch 75/100\n",
            "1/1 [==============================] - 0s 13ms/step - loss: 4.9371 - mae: 4.9371\n",
            "Epoch 76/100\n",
            "1/1 [==============================] - 0s 18ms/step - loss: 4.9088 - mae: 4.9088\n",
            "Epoch 77/100\n",
            "1/1 [==============================] - 0s 14ms/step - loss: 4.8803 - mae: 4.8803\n",
            "Epoch 78/100\n",
            "1/1 [==============================] - 0s 13ms/step - loss: 4.8517 - mae: 4.8517\n",
            "Epoch 79/100\n",
            "1/1 [==============================] - 0s 11ms/step - loss: 4.8230 - mae: 4.8230\n",
            "Epoch 80/100\n",
            "1/1 [==============================] - 0s 12ms/step - loss: 4.7943 - mae: 4.7943\n",
            "Epoch 81/100\n",
            "1/1 [==============================] - 0s 9ms/step - loss: 4.7654 - mae: 4.7654\n",
            "Epoch 82/100\n",
            "1/1 [==============================] - 0s 15ms/step - loss: 4.7364 - mae: 4.7364\n",
            "Epoch 83/100\n",
            "1/1 [==============================] - 0s 11ms/step - loss: 4.7074 - mae: 4.7074\n",
            "Epoch 84/100\n",
            "1/1 [==============================] - 0s 13ms/step - loss: 4.6782 - mae: 4.6782\n",
            "Epoch 85/100\n",
            "1/1 [==============================] - 0s 14ms/step - loss: 4.6490 - mae: 4.6490\n",
            "Epoch 86/100\n",
            "1/1 [==============================] - 0s 26ms/step - loss: 4.6197 - mae: 4.6197\n",
            "Epoch 87/100\n",
            "1/1 [==============================] - 0s 8ms/step - loss: 4.5903 - mae: 4.5903\n",
            "Epoch 88/100\n",
            "1/1 [==============================] - 0s 10ms/step - loss: 4.5608 - mae: 4.5608\n",
            "Epoch 89/100\n",
            "1/1 [==============================] - 0s 12ms/step - loss: 4.5313 - mae: 4.5313\n",
            "Epoch 90/100\n",
            "1/1 [==============================] - 0s 25ms/step - loss: 4.5016 - mae: 4.5016\n",
            "Epoch 91/100\n",
            "1/1 [==============================] - 0s 20ms/step - loss: 4.4719 - mae: 4.4719\n",
            "Epoch 92/100\n",
            "1/1 [==============================] - 0s 9ms/step - loss: 4.4421 - mae: 4.4421\n",
            "Epoch 93/100\n",
            "1/1 [==============================] - 0s 14ms/step - loss: 4.4122 - mae: 4.4122\n",
            "Epoch 94/100\n",
            "1/1 [==============================] - 0s 12ms/step - loss: 4.3822 - mae: 4.3822\n",
            "Epoch 95/100\n",
            "1/1 [==============================] - 0s 18ms/step - loss: 4.3521 - mae: 4.3521\n",
            "Epoch 96/100\n",
            "1/1 [==============================] - 0s 10ms/step - loss: 4.3220 - mae: 4.3220\n",
            "Epoch 97/100\n",
            "1/1 [==============================] - 0s 12ms/step - loss: 4.2918 - mae: 4.2918\n",
            "Epoch 98/100\n",
            "1/1 [==============================] - 0s 10ms/step - loss: 4.2615 - mae: 4.2615\n",
            "Epoch 99/100\n",
            "1/1 [==============================] - 0s 12ms/step - loss: 4.2311 - mae: 4.2311\n",
            "Epoch 100/100\n",
            "1/1 [==============================] - 0s 14ms/step - loss: 4.2007 - mae: 4.2007\n"
          ]
        },
        {
          "output_type": "execute_result",
          "data": {
            "text/plain": [
              "<keras.src.callbacks.History at 0x7f9c48bb11e0>"
            ]
          },
          "metadata": {},
          "execution_count": 113
        }
      ]
    },
    {
      "cell_type": "code",
      "source": [
        "model4.predict([17])\n",
        "# big improvement on previous but still little under 10 off\n",
        "# lr potentially most important hyperparameter in NN"
      ],
      "metadata": {
        "colab": {
          "base_uri": "https://localhost:8080/"
        },
        "id": "5vg1vxCkkyoa",
        "outputId": "14a2b945-cdbe-469b-8649-f55519410ef3"
      },
      "execution_count": 114,
      "outputs": [
        {
          "output_type": "stream",
          "name": "stdout",
          "text": [
            "1/1 [==============================] - 0s 185ms/step\n"
          ]
        },
        {
          "output_type": "execute_result",
          "data": {
            "text/plain": [
              "array([[29.013065]], dtype=float32)"
            ]
          },
          "metadata": {},
          "execution_count": 114
        }
      ]
    },
    {
      "cell_type": "markdown",
      "source": [
        "## Evaluating a Model\n",
        "\n",
        "In practise, typical TF NN workflow:\n",
        "\n",
        "- Build model -> fit it -> evaluate it -> tweak it -> fit it -> evaluate and repeat."
      ],
      "metadata": {
        "id": "mdrK6ASpldoF"
      }
    },
    {
      "cell_type": "markdown",
      "source": [
        "## Visualize\n",
        "\n",
        "- training data\n",
        "- the model itself\n",
        "- the training of a model  - how does a model perform as it learns?\n",
        "- the predictions of a model (against original labels)"
      ],
      "metadata": {
        "id": "pNu3qsIpmbGv"
      }
    },
    {
      "cell_type": "code",
      "source": [
        "## make bigger dataset\n",
        "X = tf.range(-100, 100, 4)\n",
        "X"
      ],
      "metadata": {
        "colab": {
          "base_uri": "https://localhost:8080/"
        },
        "id": "csOSSPDbk2RK",
        "outputId": "8321f447-cb29-4d15-943c-c92b31177593"
      },
      "execution_count": 115,
      "outputs": [
        {
          "output_type": "execute_result",
          "data": {
            "text/plain": [
              "<tf.Tensor: shape=(50,), dtype=int32, numpy=\n",
              "array([-100,  -96,  -92,  -88,  -84,  -80,  -76,  -72,  -68,  -64,  -60,\n",
              "        -56,  -52,  -48,  -44,  -40,  -36,  -32,  -28,  -24,  -20,  -16,\n",
              "        -12,   -8,   -4,    0,    4,    8,   12,   16,   20,   24,   28,\n",
              "         32,   36,   40,   44,   48,   52,   56,   60,   64,   68,   72,\n",
              "         76,   80,   84,   88,   92,   96], dtype=int32)>"
            ]
          },
          "metadata": {},
          "execution_count": 115
        }
      ]
    },
    {
      "cell_type": "code",
      "source": [
        "# make labels for the dataset\n",
        "\n",
        "y = X + 10\n",
        "y"
      ],
      "metadata": {
        "colab": {
          "base_uri": "https://localhost:8080/"
        },
        "id": "0yWL0hDNnDxB",
        "outputId": "ebc65035-333a-4ad0-dd7b-fa349f3ce86b"
      },
      "execution_count": 116,
      "outputs": [
        {
          "output_type": "execute_result",
          "data": {
            "text/plain": [
              "<tf.Tensor: shape=(50,), dtype=int32, numpy=\n",
              "array([-90, -86, -82, -78, -74, -70, -66, -62, -58, -54, -50, -46, -42,\n",
              "       -38, -34, -30, -26, -22, -18, -14, -10,  -6,  -2,   2,   6,  10,\n",
              "        14,  18,  22,  26,  30,  34,  38,  42,  46,  50,  54,  58,  62,\n",
              "        66,  70,  74,  78,  82,  86,  90,  94,  98, 102, 106], dtype=int32)>"
            ]
          },
          "metadata": {},
          "execution_count": 116
        }
      ]
    },
    {
      "cell_type": "code",
      "source": [
        "plt.scatter(X, y)"
      ],
      "metadata": {
        "colab": {
          "base_uri": "https://localhost:8080/",
          "height": 447
        },
        "id": "ltTIcGAZnKiT",
        "outputId": "d4072123-f3fa-4cda-b384-be9c2cd6c805"
      },
      "execution_count": 117,
      "outputs": [
        {
          "output_type": "execute_result",
          "data": {
            "text/plain": [
              "<matplotlib.collections.PathCollection at 0x7f9c396ce2c0>"
            ]
          },
          "metadata": {},
          "execution_count": 117
        },
        {
          "output_type": "display_data",
          "data": {
            "text/plain": [
              "<Figure size 640x480 with 1 Axes>"
            ],
            "image/png": "[encoded data removed]"
          },
          "metadata": {}
        }
      ]
    },
    {
      "cell_type": "code",
      "source": [
        "#from sklearn.model_selection import train_test_split\n",
        "#X_train, X_test, y_train, y_test = train_test_split(X, y, test_size = 0.2, random_state = 42)\n",
        "X_train = X[:40]\n",
        "X_test = X[40:]\n",
        "\n",
        "y_train = y[:40]\n",
        "y_test = y[40:]\n",
        "\n",
        "print(len(X_train))\n",
        "print(len(X_test))\n",
        "print(len(y_train))\n",
        "print(len(y_test))"
      ],
      "metadata": {
        "colab": {
          "base_uri": "https://localhost:8080/"
        },
        "id": "X5B1CzaQwVv_",
        "outputId": "5d837fb7-34fd-46a2-86ce-21c48ff5c964"
      },
      "execution_count": 118,
      "outputs": [
        {
          "output_type": "stream",
          "name": "stdout",
          "text": [
            "40\n",
            "10\n",
            "40\n",
            "10\n"
          ]
        }
      ]
    },
    {
      "cell_type": "markdown",
      "source": [
        "### 3 sets of data\n",
        "\n",
        "- Train - typically 70-80% data.\n",
        "- Validation - model gets tuned on this data, typically 10-15% data available.\n",
        "- Test - model evaluated on this data to evaluate what it has learned, typically 10-15% of total data."
      ],
      "metadata": {
        "id": "BTIf22WIxQt-"
      }
    },
    {
      "cell_type": "code",
      "source": [
        "## visualize train/test now\n",
        "plt.figure(figsize = (10, 7))\n",
        "plt.scatter(X_train, y_train, c = \"b\", label = \"Training\")\n",
        "plt.scatter(X_test, y_test, c = \"g\", label = \"Test\")\n",
        "plt.legend()"
      ],
      "metadata": {
        "colab": {
          "base_uri": "https://localhost:8080/",
          "height": 616
        },
        "id": "GN4k7fblxBzS",
        "outputId": "68d40df1-5f13-4079-86b5-efb873e31e3a"
      },
      "execution_count": 119,
      "outputs": [
        {
          "output_type": "execute_result",
          "data": {
            "text/plain": [
              "<matplotlib.legend.Legend at 0x7f9c395744f0>"
            ]
          },
          "metadata": {},
          "execution_count": 119
        },
        {
          "output_type": "display_data",
          "data": {
            "text/plain": [
              "<Figure size 1000x700 with 1 Axes>"
            ],
            "image/png": "[encoded data removed]"
          },
          "metadata": {}
        }
      ]
    },
    {
      "cell_type": "code",
      "source": [
        "## lets create a NN\n",
        "\n",
        "model_split = tf.keras.Sequential([\n",
        "    tf.keras.layers.Dense(1)\n",
        "])\n",
        "\n",
        "model_split.compile(loss = tf.keras.losses.mae,\n",
        "                    optimizer = tf.keras.optimizers.SGD(),\n",
        "                    metrics = [\"mae\"])\n",
        "\n",
        "model_split.fit(tf.expand_dims(X_train, axis=-1), y_train, epochs = 10)"
      ],
      "metadata": {
        "colab": {
          "base_uri": "https://localhost:8080/"
        },
        "id": "O7hgSNN2z-oj",
        "outputId": "1340feba-840a-4f54-b1b8-28d21b54b1ee"
      },
      "execution_count": 120,
      "outputs": [
        {
          "output_type": "stream",
          "name": "stdout",
          "text": [
            "Epoch 1/10\n",
            "2/2 [==============================] - 1s 12ms/step - loss: 65.0255 - mae: 65.0255\n",
            "Epoch 2/10\n",
            "2/2 [==============================] - 0s 7ms/step - loss: 30.0183 - mae: 30.0183\n",
            "Epoch 3/10\n",
            "2/2 [==============================] - 0s 7ms/step - loss: 10.2857 - mae: 10.2857\n",
            "Epoch 4/10\n",
            "2/2 [==============================] - 0s 7ms/step - loss: 12.6791 - mae: 12.6791\n",
            "Epoch 5/10\n",
            "2/2 [==============================] - 0s 14ms/step - loss: 11.7254 - mae: 11.7254\n",
            "Epoch 6/10\n",
            "2/2 [==============================] - 0s 11ms/step - loss: 10.8375 - mae: 10.8375\n",
            "Epoch 7/10\n",
            "2/2 [==============================] - 0s 9ms/step - loss: 8.7670 - mae: 8.7670\n",
            "Epoch 8/10\n",
            "2/2 [==============================] - 0s 6ms/step - loss: 7.7364 - mae: 7.7364\n",
            "Epoch 9/10\n",
            "2/2 [==============================] - 0s 6ms/step - loss: 20.1119 - mae: 20.1119\n",
            "Epoch 10/10\n",
            "2/2 [==============================] - 0s 7ms/step - loss: 13.6647 - mae: 13.6647\n"
          ]
        },
        {
          "output_type": "execute_result",
          "data": {
            "text/plain": [
              "<keras.src.callbacks.History at 0x7f9c395f52d0>"
            ]
          },
          "metadata": {},
          "execution_count": 120
        }
      ]
    },
    {
      "cell_type": "code",
      "source": [
        "#model_split.summary()"
      ],
      "metadata": {
        "id": "-JUrBtS91di3"
      },
      "execution_count": 121,
      "outputs": []
    },
    {
      "cell_type": "code",
      "source": [
        "# lets create a model which build automatically by defining the input_shape argument in the first layer.\n",
        "'''\n",
        "tf.random.set_seed(42)\n",
        "\n",
        "model_split = tf.keras.Sequential([\n",
        "    tf.keras.layers.Dense(1, input_shape = [1], name = \"input_layer\")\n",
        "], name = \"TestModel\")\n",
        "\n",
        "# compile\n",
        "model_split.compile(loss = tf.keras.losses.mae,\n",
        "                    optimizer = tf.keras.optimizers.SGD(),\n",
        "                    metrics = ['mae'])\n",
        "'''"
      ],
      "metadata": {
        "colab": {
          "base_uri": "https://localhost:8080/",
          "height": 70
        },
        "id": "qHok98YAFhKr",
        "outputId": "21b90f06-407c-4f43-9cba-ae71d035edf9"
      },
      "execution_count": 122,
      "outputs": [
        {
          "output_type": "execute_result",
          "data": {
            "text/plain": [
              "'\\ntf.random.set_seed(42)\\n\\nmodel_split = tf.keras.Sequential([\\n    tf.keras.layers.Dense(1, input_shape = [1], name = \"input_layer\")\\n], name = \"TestModel\")\\n\\n# compile\\nmodel_split.compile(loss = tf.keras.losses.mae,\\n                    optimizer = tf.keras.optimizers.SGD(),\\n                    metrics = [\\'mae\\'])\\n'"
            ],
            "application/vnd.google.colaboratory.intrinsic+json": {
              "type": "string"
            }
          },
          "metadata": {},
          "execution_count": 122
        }
      ]
    },
    {
      "cell_type": "code",
      "source": [
        "model_split.summary()"
      ],
      "metadata": {
        "colab": {
          "base_uri": "https://localhost:8080/"
        },
        "id": "lRl0MmUpGiU9",
        "outputId": "203f5cd6-7d28-4dc8-ad63-038d001f67aa"
      },
      "execution_count": 123,
      "outputs": [
        {
          "output_type": "stream",
          "name": "stdout",
          "text": [
            "Model: \"sequential_5\"\n",
            "_________________________________________________________________\n",
            " Layer (type)                Output Shape              Param #   \n",
            "=================================================================\n",
            " dense_8 (Dense)             (None, 1)                 2         \n",
            "                                                                 \n",
            "=================================================================\n",
            "Total params: 2 (8.00 Byte)\n",
            "Trainable params: 2 (8.00 Byte)\n",
            "Non-trainable params: 0 (0.00 Byte)\n",
            "_________________________________________________________________\n"
          ]
        }
      ]
    },
    {
      "cell_type": "markdown",
      "source": [
        "## Params\n",
        "\n",
        "- Total Params - total number of parameters in the model.\n",
        "- Trainable Params - the parameters (patterns) the model can update as it trains.\n",
        "- Non-traiable params - these parameters aren't updated during training, typical when you bring in already patterns from other models during transfer learning. [Weights & Biases](https://machine-learning.paperspace.com/wiki/weights-and-biases)"
      ],
      "metadata": {
        "id": "5G-JEfl6G3yr"
      }
    },
    {
      "cell_type": "code",
      "source": [
        "# if fitted again the epochs add up so two fits on 100 epochs is actually 200 total epochs\n",
        "#model_split.fit(X_train, y_train, epochs = 100)"
      ],
      "metadata": {
        "id": "1PhNGgVFGj0s"
      },
      "execution_count": 124,
      "outputs": []
    },
    {
      "cell_type": "markdown",
      "source": [
        "### Visualize Model's Layers"
      ],
      "metadata": {
        "id": "DXjXOzgUJV7L"
      }
    },
    {
      "cell_type": "code",
      "source": [
        "from tensorflow.keras.utils import plot_model\n",
        "\n",
        "# ensure input/output layers correct\n",
        "plot_model(model = model_split, show_shapes = True)"
      ],
      "metadata": {
        "colab": {
          "base_uri": "https://localhost:8080/",
          "height": 201
        },
        "id": "Qx7lPUwqJX7N",
        "outputId": "bf437401-b286-40c7-905d-ec37760c8ce4"
      },
      "execution_count": 125,
      "outputs": [
        {
          "output_type": "execute_result",
          "data": {
            "image/png": "[encoded data removed]",
            "text/plain": [
              "<IPython.core.display.Image object>"
            ]
          },
          "metadata": {},
          "execution_count": 125
        }
      ]
    },
    {
      "cell_type": "markdown",
      "source": [
        "### Visualizing Model Predictions\n",
        "\n",
        "Good idea to visualize against ground truth labels.\n",
        "\n",
        "**Often in form of y_test or y_true VS y_pred.**"
      ],
      "metadata": {
        "id": "lMxwIwPYLjKU"
      }
    },
    {
      "cell_type": "code",
      "source": [
        "y_pred = model_split.predict(X_test)\n",
        "y_pred"
      ],
      "metadata": {
        "colab": {
          "base_uri": "https://localhost:8080/"
        },
        "id": "BLqUY_29J-PD",
        "outputId": "aed9f7d7-3caa-4d9d-c1a7-4d7d7b1fe163"
      },
      "execution_count": 126,
      "outputs": [
        {
          "output_type": "stream",
          "name": "stderr",
          "text": [
            "WARNING:tensorflow:5 out of the last 5 calls to <function Model.make_predict_function.<locals>.predict_function at 0x7f9c394bfd90> triggered tf.function retracing. Tracing is expensive and the excessive number of tracings could be due to (1) creating @tf.function repeatedly in a loop, (2) passing tensors with different shapes, (3) passing Python objects instead of tensors. For (1), please define your @tf.function outside of the loop. For (2), @tf.function has reduce_retracing=True option that can avoid unnecessary retracing. For (3), please refer to https://www.tensorflow.org/guide/function#controlling_retracing and https://www.tensorflow.org/api_docs/python/tf/function for  more details.\n"
          ]
        },
        {
          "output_type": "stream",
          "name": "stdout",
          "text": [
            "1/1 [==============================] - 0s 150ms/step\n"
          ]
        },
        {
          "output_type": "execute_result",
          "data": {
            "text/plain": [
              "array([[ 69.1823  ],\n",
              "       [ 73.7872  ],\n",
              "       [ 78.392105],\n",
              "       [ 82.99701 ],\n",
              "       [ 87.60191 ],\n",
              "       [ 92.20682 ],\n",
              "       [ 96.811714],\n",
              "       [101.41662 ],\n",
              "       [106.02152 ],\n",
              "       [110.62643 ]], dtype=float32)"
            ]
          },
          "metadata": {},
          "execution_count": 126
        }
      ]
    },
    {
      "cell_type": "code",
      "source": [
        "y_test"
      ],
      "metadata": {
        "colab": {
          "base_uri": "https://localhost:8080/"
        },
        "id": "7xlPMVcLMGli",
        "outputId": "09e93f75-9aa8-4d4d-e393-d6ba42c2fdc6"
      },
      "execution_count": 127,
      "outputs": [
        {
          "output_type": "execute_result",
          "data": {
            "text/plain": [
              "<tf.Tensor: shape=(10,), dtype=int32, numpy=array([ 70,  74,  78,  82,  86,  90,  94,  98, 102, 106], dtype=int32)>"
            ]
          },
          "metadata": {},
          "execution_count": 127
        }
      ]
    },
    {
      "cell_type": "code",
      "source": [
        "### plot real vs predicted\n",
        "## plotting function\n",
        "\n",
        "def plot_predictions(train, train_labels, xtest, ytest, predictions):\n",
        "  \"\"\"\n",
        "  Plot training, test and prediction data\n",
        "  \"\"\"\n",
        "  plt.figure(figsize = (10,7))\n",
        "    # plot training data in blue\n",
        "  plt.scatter(train, train_labels, c = \"b\", label = \"Training Data\")\n",
        "  plt.scatter(xtest, ytest, c = \"g\", label = \"Test Data\")\n",
        "  plt.scatter(xtest, predictions, c = \"r\", label = \"Predictions\")\n",
        "  plt.legend()"
      ],
      "metadata": {
        "id": "DrXPS1mQNNMq"
      },
      "execution_count": 131,
      "outputs": []
    },
    {
      "cell_type": "code",
      "source": [
        "plot_predictions(X_train, y_train, X_test, y_test, y_pred)"
      ],
      "metadata": {
        "colab": {
          "base_uri": "https://localhost:8080/",
          "height": 599
        },
        "id": "VSz09SCZO6zc",
        "outputId": "a885c216-7306-4c5e-94c7-a80afad3ce9a"
      },
      "execution_count": 132,
      "outputs": [
        {
          "output_type": "display_data",
          "data": {
            "text/plain": [
              "<Figure size 1000x700 with 1 Axes>"
            ],
            "image/png": "[encoded data removed]"
          },
          "metadata": {}
        }
      ]
    },
    {
      "cell_type": "markdown",
      "source": [
        "### Regression Evaluation Metrics\n",
        "\n",
        "> Different evaluation metrics to evaluate model performance depending on the problem you're working on.\n",
        "\n",
        "-> MAE - on average how wrong is each of models predictions\n",
        "-> MSE - square average errors\n",
        "\n"
      ],
      "metadata": {
        "id": "J576v-C3Pxr_"
      }
    },
    {
      "cell_type": "code",
      "source": [
        "model_split.evaluate(X_test, y_test)"
      ],
      "metadata": {
        "colab": {
          "base_uri": "https://localhost:8080/"
        },
        "id": "51Iwk8TFPCfp",
        "outputId": "e6faf356-012d-4ae9-aeae-e3e602b6bac0"
      },
      "execution_count": 133,
      "outputs": [
        {
          "output_type": "stream",
          "name": "stdout",
          "text": [
            "1/1 [==============================] - 0s 210ms/step - loss: 2.1105 - mae: 2.1105\n"
          ]
        },
        {
          "output_type": "execute_result",
          "data": {
            "text/plain": [
              "[2.1104629039764404, 2.1104629039764404]"
            ]
          },
          "metadata": {},
          "execution_count": 133
        }
      ]
    },
    {
      "cell_type": "code",
      "source": [
        "# mae\n",
        "# ensure it is in tensor format!\n",
        "# y_test and y_pred in different shapes (10,1) VS (10,)\n",
        "# use tf.squeeze for that\n",
        "tf.keras.losses.mean_absolute_error(y_test, tf.squeeze(y_pred))"
      ],
      "metadata": {
        "colab": {
          "base_uri": "https://localhost:8080/"
        },
        "id": "AiTHh5O4Rb8p",
        "outputId": "c8479b35-7c7b-44fb-82fe-a5ca96023ecb"
      },
      "execution_count": 138,
      "outputs": [
        {
          "output_type": "execute_result",
          "data": {
            "text/plain": [
              "<tf.Tensor: shape=(), dtype=float32, numpy=2.110463>"
            ]
          },
          "metadata": {},
          "execution_count": 138
        }
      ]
    },
    {
      "cell_type": "code",
      "source": [
        "# mse\n",
        "mse = tf.keras.losses.MeanSquaredError()\n",
        "mse(y_test, y_pred)\n",
        "\n",
        "\n",
        "## huber for combination of mse & mae"
      ],
      "metadata": {
        "colab": {
          "base_uri": "https://localhost:8080/"
        },
        "id": "j8yVVMX5R_lt",
        "outputId": "cbcbb9ba-4978-4e90-c755-056d0d6099cb"
      },
      "execution_count": 140,
      "outputs": [
        {
          "output_type": "execute_result",
          "data": {
            "text/plain": [
              "<tf.Tensor: shape=(), dtype=float32, numpy=310.56894>"
            ]
          },
          "metadata": {},
          "execution_count": 140
        }
      ]
    },
    {
      "cell_type": "code",
      "source": [
        "### functions for later use\n",
        "\n",
        "def mae(y_t, y_predicted):\n",
        "  return tf.metrics.mean_absolute_error(y_t, tf.squeeze(y_predicted))\n",
        "\n",
        "def mse(y_t, y_predicted):\n",
        "  return tf.metrics.mean_squared_error(y_t, tf.squeeze(y_predicted))"
      ],
      "metadata": {
        "id": "C9nV0ONJTgq_"
      },
      "execution_count": 141,
      "outputs": []
    },
    {
      "cell_type": "code",
      "source": [],
      "metadata": {
        "id": "LdoHY4sTU1Gv"
      },
      "execution_count": null,
      "outputs": []
    }
  ]
}