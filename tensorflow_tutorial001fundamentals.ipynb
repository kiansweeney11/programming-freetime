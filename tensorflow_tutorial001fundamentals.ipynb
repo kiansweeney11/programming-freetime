{
  "nbformat": 4,
  "nbformat_minor": 0,
  "metadata": {
    "colab": {
      "provenance": []
    },
    "kernelspec": {
      "name": "python3",
      "display_name": "Python 3"
    },
    "language_info": {
      "name": "python"
    }
  },
  "cells": [
    {
      "cell_type": "markdown",
      "source": [
        "### Covering basics of tensorflow, tensors etc"
      ],
      "metadata": {
        "id": "JQygI7v3ixDX"
      }
    },
    {
      "cell_type": "code",
      "source": [
        "### intro to tensors\n",
        "### getting info from tensors\n",
        "### manipulating tensors\n",
        "### tensors & numpy\n",
        "### using @tf.function (way to speed up regular python functions)\n",
        "### using GPU/TPU's with tensorflow"
      ],
      "metadata": {
        "id": "j7B_G618jMZI"
      },
      "execution_count": 1,
      "outputs": []
    },
    {
      "cell_type": "code",
      "source": [
        "import tensorflow as tf\n",
        "print(tf.__version__)"
      ],
      "metadata": {
        "colab": {
          "base_uri": "https://localhost:8080/"
        },
        "id": "6YmdvfL-jiRv",
        "outputId": "8f99a746-e440-4e05-d602-c1e8ae60e15e"
      },
      "execution_count": 2,
      "outputs": [
        {
          "output_type": "stream",
          "name": "stdout",
          "text": [
            "2.14.0\n"
          ]
        }
      ]
    },
    {
      "cell_type": "code",
      "source": [
        "# creating tensors with tf.constant()\n",
        "scalar = tf.constant(7)\n",
        "scalar"
      ],
      "metadata": {
        "colab": {
          "base_uri": "https://localhost:8080/"
        },
        "id": "xQV3kA_Qj5c4",
        "outputId": "77bf90f5-9529-4eff-edc5-3810af1cc3b4"
      },
      "execution_count": 3,
      "outputs": [
        {
          "output_type": "execute_result",
          "data": {
            "text/plain": [
              "<tf.Tensor: shape=(), dtype=int32, numpy=7>"
            ]
          },
          "metadata": {},
          "execution_count": 3
        }
      ]
    },
    {
      "cell_type": "code",
      "source": [
        "# check no of dimensions in a tensor\n",
        "scalar.ndim"
      ],
      "metadata": {
        "colab": {
          "base_uri": "https://localhost:8080/"
        },
        "id": "ELSTv-IzkS54",
        "outputId": "2338d0b0-d51f-4f73-c52d-4bb0088f7351"
      },
      "execution_count": 4,
      "outputs": [
        {
          "output_type": "execute_result",
          "data": {
            "text/plain": [
              "0"
            ]
          },
          "metadata": {},
          "execution_count": 4
        }
      ]
    },
    {
      "cell_type": "code",
      "source": [
        "# create a vector\n",
        "vector = tf.constant([10,10])\n",
        "vector.ndim"
      ],
      "metadata": {
        "colab": {
          "base_uri": "https://localhost:8080/"
        },
        "id": "d7y0uIiDkpOs",
        "outputId": "a1723707-2d4f-4ec0-8d39-2a64dea2bb8a"
      },
      "execution_count": 5,
      "outputs": [
        {
          "output_type": "execute_result",
          "data": {
            "text/plain": [
              "1"
            ]
          },
          "metadata": {},
          "execution_count": 5
        }
      ]
    },
    {
      "cell_type": "code",
      "source": [
        "# create a matrix\n",
        "matrix = tf.constant([[10,7], [7,10]])\n",
        "matrix.ndim"
      ],
      "metadata": {
        "colab": {
          "base_uri": "https://localhost:8080/"
        },
        "id": "XtbBJTo9kyyk",
        "outputId": "065cc730-e1d5-4ae2-fe88-2f608ded47b2"
      },
      "execution_count": 6,
      "outputs": [
        {
          "output_type": "execute_result",
          "data": {
            "text/plain": [
              "2"
            ]
          },
          "metadata": {},
          "execution_count": 6
        }
      ]
    },
    {
      "cell_type": "code",
      "source": [
        "vector"
      ],
      "metadata": {
        "colab": {
          "base_uri": "https://localhost:8080/"
        },
        "id": "ah7NhuGdlHvP",
        "outputId": "e5109a0f-a74e-4f38-b880-dedc6200845b"
      },
      "execution_count": 7,
      "outputs": [
        {
          "output_type": "execute_result",
          "data": {
            "text/plain": [
              "<tf.Tensor: shape=(2,), dtype=int32, numpy=array([10, 10], dtype=int32)>"
            ]
          },
          "metadata": {},
          "execution_count": 7
        }
      ]
    },
    {
      "cell_type": "code",
      "source": [
        "matrix"
      ],
      "metadata": {
        "colab": {
          "base_uri": "https://localhost:8080/"
        },
        "id": "4-MOF8qglO6e",
        "outputId": "a1daf7db-12da-42ec-a434-314134f6b62b"
      },
      "execution_count": 8,
      "outputs": [
        {
          "output_type": "execute_result",
          "data": {
            "text/plain": [
              "<tf.Tensor: shape=(2, 2), dtype=int32, numpy=\n",
              "array([[10,  7],\n",
              "       [ 7, 10]], dtype=int32)>"
            ]
          },
          "metadata": {},
          "execution_count": 8
        }
      ]
    },
    {
      "cell_type": "code",
      "source": [
        "another_matrix = tf.constant([[11.1, 32.4], [10., 7.]])\n",
        "another_matrix"
      ],
      "metadata": {
        "colab": {
          "base_uri": "https://localhost:8080/"
        },
        "id": "EKHPiGzklPeK",
        "outputId": "ed7639e9-1de6-4f37-f452-c5dea78b54b0"
      },
      "execution_count": 9,
      "outputs": [
        {
          "output_type": "execute_result",
          "data": {
            "text/plain": [
              "<tf.Tensor: shape=(2, 2), dtype=float32, numpy=\n",
              "array([[11.1, 32.4],\n",
              "       [10. ,  7. ]], dtype=float32)>"
            ]
          },
          "metadata": {},
          "execution_count": 9
        }
      ]
    },
    {
      "cell_type": "code",
      "source": [
        "another_matrix.ndim"
      ],
      "metadata": {
        "colab": {
          "base_uri": "https://localhost:8080/"
        },
        "id": "x4TIZUYXllzy",
        "outputId": "98a515b9-2b77-4039-f89f-11b24821adb9"
      },
      "execution_count": 10,
      "outputs": [
        {
          "output_type": "execute_result",
          "data": {
            "text/plain": [
              "2"
            ]
          },
          "metadata": {},
          "execution_count": 10
        }
      ]
    },
    {
      "cell_type": "code",
      "source": [
        "another_matrix1 = tf.constant([[11.5, 39.7], [10., 7.]], dtype = tf.float16)\n",
        "another_matrix1"
      ],
      "metadata": {
        "colab": {
          "base_uri": "https://localhost:8080/"
        },
        "id": "U3VITqs_loS_",
        "outputId": "a486b459-bd49-4f88-cff6-901237f9ff48"
      },
      "execution_count": 11,
      "outputs": [
        {
          "output_type": "execute_result",
          "data": {
            "text/plain": [
              "<tf.Tensor: shape=(2, 2), dtype=float16, numpy=\n",
              "array([[11.5, 39.7],\n",
              "       [10. ,  7. ]], dtype=float16)>"
            ]
          },
          "metadata": {},
          "execution_count": 11
        }
      ]
    },
    {
      "cell_type": "code",
      "source": [
        "tensor = tf.constant([[[1,2,3,],\n",
        "                      [4,5,6]],\n",
        "                      [[66,14,10],\n",
        "                      [20,23,18]],\n",
        "                      [[9,10,12],\n",
        "                      [11,13,15]]])"
      ],
      "metadata": {
        "id": "UqTlGKsJlzgd"
      },
      "execution_count": 12,
      "outputs": []
    },
    {
      "cell_type": "code",
      "source": [
        "tensor"
      ],
      "metadata": {
        "colab": {
          "base_uri": "https://localhost:8080/"
        },
        "id": "S62V-stmmlha",
        "outputId": "c57283ea-3f6b-4d48-f9e0-7e847223b4ed"
      },
      "execution_count": 13,
      "outputs": [
        {
          "output_type": "execute_result",
          "data": {
            "text/plain": [
              "<tf.Tensor: shape=(3, 2, 3), dtype=int32, numpy=\n",
              "array([[[ 1,  2,  3],\n",
              "        [ 4,  5,  6]],\n",
              "\n",
              "       [[66, 14, 10],\n",
              "        [20, 23, 18]],\n",
              "\n",
              "       [[ 9, 10, 12],\n",
              "        [11, 13, 15]]], dtype=int32)>"
            ]
          },
          "metadata": {},
          "execution_count": 13
        }
      ]
    },
    {
      "cell_type": "code",
      "source": [
        "tensor.ndim"
      ],
      "metadata": {
        "colab": {
          "base_uri": "https://localhost:8080/"
        },
        "id": "WralRuN_nFUR",
        "outputId": "0796626a-8398-403c-8e20-075ead366306"
      },
      "execution_count": 14,
      "outputs": [
        {
          "output_type": "execute_result",
          "data": {
            "text/plain": [
              "3"
            ]
          },
          "metadata": {},
          "execution_count": 14
        }
      ]
    },
    {
      "cell_type": "code",
      "source": [
        "# scalar - single num\n",
        "# vector - number with direction e.g wind speed & direction\n",
        "# matrix - 2 dimensional array of numbers\n",
        "# tensor - an n-dimensional array of numbers where n can be any number, a 0-dimensional tensor is a scalar, 1 dim tensor is a vector"
      ],
      "metadata": {
        "id": "UrjTe92unXBZ"
      },
      "execution_count": 15,
      "outputs": []
    },
    {
      "cell_type": "code",
      "source": [
        "tf.Variable"
      ],
      "metadata": {
        "id": "Vl0a3ty8n_D4",
        "colab": {
          "base_uri": "https://localhost:8080/"
        },
        "outputId": "e45767cf-0c39-44bd-893f-035ea56e58f3"
      },
      "execution_count": 16,
      "outputs": [
        {
          "output_type": "execute_result",
          "data": {
            "text/plain": [
              "tensorflow.python.ops.variables.Variable"
            ]
          },
          "metadata": {},
          "execution_count": 16
        }
      ]
    },
    {
      "cell_type": "code",
      "source": [
        "# create the same tensor with the tf.variable as above\n",
        "changeable_tensor = tf.Variable([10,7])\n",
        "unchangeable_tensor = tf.constant([10,10])"
      ],
      "metadata": {
        "id": "uaVCZVuSqByq"
      },
      "execution_count": 17,
      "outputs": []
    },
    {
      "cell_type": "code",
      "source": [
        "changeable_tensor"
      ],
      "metadata": {
        "colab": {
          "base_uri": "https://localhost:8080/"
        },
        "id": "QI0mjiMCqo3S",
        "outputId": "3d2da49c-8a2d-4e3e-96fe-6d4dade9927a"
      },
      "execution_count": 18,
      "outputs": [
        {
          "output_type": "execute_result",
          "data": {
            "text/plain": [
              "<tf.Variable 'Variable:0' shape=(2,) dtype=int32, numpy=array([10,  7], dtype=int32)>"
            ]
          },
          "metadata": {},
          "execution_count": 18
        }
      ]
    },
    {
      "cell_type": "code",
      "source": [
        "unchangeable_tensor"
      ],
      "metadata": {
        "colab": {
          "base_uri": "https://localhost:8080/"
        },
        "id": "QEg4iB6Hq8lH",
        "outputId": "81483f1e-7776-434f-e483-7cf5a2facc97"
      },
      "execution_count": 19,
      "outputs": [
        {
          "output_type": "execute_result",
          "data": {
            "text/plain": [
              "<tf.Tensor: shape=(2,), dtype=int32, numpy=array([10, 10], dtype=int32)>"
            ]
          },
          "metadata": {},
          "execution_count": 19
        }
      ]
    },
    {
      "cell_type": "code",
      "source": [
        "# cannot use assign or change the unchangeable tensor (tf.constant)\n",
        "changeable_tensor[0].assign(7)\n",
        "changeable_tensor"
      ],
      "metadata": {
        "colab": {
          "base_uri": "https://localhost:8080/"
        },
        "id": "Do-JGgQyrSIG",
        "outputId": "7bdfc7fe-278a-46d8-e90c-a249ab4291fa"
      },
      "execution_count": 20,
      "outputs": [
        {
          "output_type": "execute_result",
          "data": {
            "text/plain": [
              "<tf.Variable 'Variable:0' shape=(2,) dtype=int32, numpy=array([7, 7], dtype=int32)>"
            ]
          },
          "metadata": {},
          "execution_count": 20
        }
      ]
    },
    {
      "cell_type": "markdown",
      "source": [
        "Rarely in practise do you use tf.constant or tf.variable (already done for you). If in doubt use tf.constant and change later though"
      ],
      "metadata": {
        "id": "dfd-1D56sReC"
      }
    },
    {
      "cell_type": "markdown",
      "source": [
        "### Creating Random Tensors"
      ],
      "metadata": {
        "id": "ueOZm4fMsK0t"
      }
    },
    {
      "cell_type": "code",
      "source": [
        "### create two random but the same tensors\n",
        "random_1 = tf.random.Generator.from_seed(42) # set seed for reproducibility\n",
        "random_1 = random_1.normal(shape = (3,2))\n",
        "random_1"
      ],
      "metadata": {
        "colab": {
          "base_uri": "https://localhost:8080/"
        },
        "id": "HQlHHuKyrcRP",
        "outputId": "b240bc95-aa28-4411-86a6-7cda430e4791"
      },
      "execution_count": 21,
      "outputs": [
        {
          "output_type": "execute_result",
          "data": {
            "text/plain": [
              "<tf.Tensor: shape=(3, 2), dtype=float32, numpy=\n",
              "array([[-0.7565803 , -0.06854702],\n",
              "       [ 0.07595026, -1.2573844 ],\n",
              "       [-0.23193763, -1.8107855 ]], dtype=float32)>"
            ]
          },
          "metadata": {},
          "execution_count": 21
        }
      ]
    },
    {
      "cell_type": "code",
      "source": [
        "random_2 = tf.random.Generator.from_seed(42)\n",
        "# pseudo random numbers as we set seed\n",
        "random_2 = random_2.normal(shape = (3,2))\n",
        "random_2"
      ],
      "metadata": {
        "colab": {
          "base_uri": "https://localhost:8080/"
        },
        "id": "O_-cTmHYtr7Q",
        "outputId": "dd4f5087-a247-4e6a-f56a-0e4cfc8031dd"
      },
      "execution_count": 22,
      "outputs": [
        {
          "output_type": "execute_result",
          "data": {
            "text/plain": [
              "<tf.Tensor: shape=(3, 2), dtype=float32, numpy=\n",
              "array([[-0.7565803 , -0.06854702],\n",
              "       [ 0.07595026, -1.2573844 ],\n",
              "       [-0.23193763, -1.8107855 ]], dtype=float32)>"
            ]
          },
          "metadata": {},
          "execution_count": 22
        }
      ]
    },
    {
      "cell_type": "code",
      "source": [
        "random_1 == random_2"
      ],
      "metadata": {
        "colab": {
          "base_uri": "https://localhost:8080/"
        },
        "id": "IXCkbPwyuBdi",
        "outputId": "50e3f63d-06b2-4e13-a759-ca3e3d0022b2"
      },
      "execution_count": 23,
      "outputs": [
        {
          "output_type": "execute_result",
          "data": {
            "text/plain": [
              "<tf.Tensor: shape=(3, 2), dtype=bool, numpy=\n",
              "array([[ True,  True],\n",
              "       [ True,  True],\n",
              "       [ True,  True]])>"
            ]
          },
          "metadata": {},
          "execution_count": 23
        }
      ]
    },
    {
      "cell_type": "markdown",
      "source": [
        "### Shuffling Orders of a tensor"
      ],
      "metadata": {
        "id": "jbp6s-w-s69v"
      }
    },
    {
      "cell_type": "code",
      "source": [
        "# shuffle a tensor\n",
        "# valuable for when you want to shuffle your data, order doesnt affect learning\n",
        "not_shuffled = tf.constant([[10,7],\n",
        "                            [11,12],\n",
        "                            [5, 6]])"
      ],
      "metadata": {
        "id": "MO0IswHYsy_M"
      },
      "execution_count": 24,
      "outputs": []
    },
    {
      "cell_type": "code",
      "source": [
        "not_shuffled.ndim"
      ],
      "metadata": {
        "colab": {
          "base_uri": "https://localhost:8080/"
        },
        "id": "v6G_XFN7tQj5",
        "outputId": "dbd5063d-eb85-4a13-e042-d7e60291b591"
      },
      "execution_count": 25,
      "outputs": [
        {
          "output_type": "execute_result",
          "data": {
            "text/plain": [
              "2"
            ]
          },
          "metadata": {},
          "execution_count": 25
        }
      ]
    },
    {
      "cell_type": "code",
      "source": [
        "tf.random.shuffle(not_shuffled)"
      ],
      "metadata": {
        "colab": {
          "base_uri": "https://localhost:8080/"
        },
        "id": "YxhEZw5vtlai",
        "outputId": "8d411ad6-653e-4807-fba4-1ce6c2bf3e1b"
      },
      "execution_count": 26,
      "outputs": [
        {
          "output_type": "execute_result",
          "data": {
            "text/plain": [
              "<tf.Tensor: shape=(3, 2), dtype=int32, numpy=\n",
              "array([[10,  7],\n",
              "       [11, 12],\n",
              "       [ 5,  6]], dtype=int32)>"
            ]
          },
          "metadata": {},
          "execution_count": 26
        }
      ]
    },
    {
      "cell_type": "code",
      "source": [
        "### same order everytime - global seed same as operational\n",
        "tf.random.set_seed(42)\n",
        "tf.random.shuffle(not_shuffled, seed = 42)\n",
        "\n",
        "## as per \"If both the global and the operation seed are set: Both seeds are used in conjunction to determine the random sequence.\""
      ],
      "metadata": {
        "colab": {
          "base_uri": "https://localhost:8080/"
        },
        "id": "sPZlpc3Yt_5r",
        "outputId": "e6d627c5-8254-4022-9592-f436a90aa382"
      },
      "execution_count": 27,
      "outputs": [
        {
          "output_type": "execute_result",
          "data": {
            "text/plain": [
              "<tf.Tensor: shape=(3, 2), dtype=int32, numpy=\n",
              "array([[10,  7],\n",
              "       [11, 12],\n",
              "       [ 5,  6]], dtype=int32)>"
            ]
          },
          "metadata": {},
          "execution_count": 27
        }
      ]
    },
    {
      "cell_type": "markdown",
      "source": [
        "### Turn Numpy arrays into tensors\n",
        "The main diff between numpy arrays and TF tensors is that tensors can be run on a GPU (much faster)."
      ],
      "metadata": {
        "id": "U2kDgM3ww0sL"
      }
    },
    {
      "cell_type": "code",
      "source": [
        "import numpy as np\n",
        "numpy_A = np.arange(1, 25, dtype = np.int32)\n",
        "\n",
        "#X = tf.constant(some_matrix)\n",
        "#y = tf.constant(vector) # non cap for vector vice versa for matrix above"
      ],
      "metadata": {
        "id": "6d_w8_GmxGUL"
      },
      "execution_count": 28,
      "outputs": []
    },
    {
      "cell_type": "code",
      "source": [
        "A = tf.constant(numpy_A)\n",
        "A"
      ],
      "metadata": {
        "colab": {
          "base_uri": "https://localhost:8080/"
        },
        "id": "njd7PPtcxlAr",
        "outputId": "30963406-1139-41ca-e688-5bb633392271"
      },
      "execution_count": 29,
      "outputs": [
        {
          "output_type": "execute_result",
          "data": {
            "text/plain": [
              "<tf.Tensor: shape=(24,), dtype=int32, numpy=\n",
              "array([ 1,  2,  3,  4,  5,  6,  7,  8,  9, 10, 11, 12, 13, 14, 15, 16, 17,\n",
              "       18, 19, 20, 21, 22, 23, 24], dtype=int32)>"
            ]
          },
          "metadata": {},
          "execution_count": 29
        }
      ]
    },
    {
      "cell_type": "code",
      "source": [
        "B = tf.constant(numpy_A, shape = (2 ,3 , 4))\n",
        "B"
      ],
      "metadata": {
        "colab": {
          "base_uri": "https://localhost:8080/"
        },
        "id": "ywjB7vlgxpRk",
        "outputId": "2aefeefd-7548-4483-e561-94a4b6a202d3"
      },
      "execution_count": 30,
      "outputs": [
        {
          "output_type": "execute_result",
          "data": {
            "text/plain": [
              "<tf.Tensor: shape=(2, 3, 4), dtype=int32, numpy=\n",
              "array([[[ 1,  2,  3,  4],\n",
              "        [ 5,  6,  7,  8],\n",
              "        [ 9, 10, 11, 12]],\n",
              "\n",
              "       [[13, 14, 15, 16],\n",
              "        [17, 18, 19, 20],\n",
              "        [21, 22, 23, 24]]], dtype=int32)>"
            ]
          },
          "metadata": {},
          "execution_count": 30
        }
      ]
    },
    {
      "cell_type": "markdown",
      "source": [
        "### Getting info from Tensors\n",
        "When dealing with tensors need to be aware of these attributes:\n",
        "* Shape\n",
        "* Access or Dim\n",
        "* Size\n",
        "* Rank"
      ],
      "metadata": {
        "id": "MFXnnTDO59w2"
      }
    },
    {
      "cell_type": "code",
      "source": [
        "rank_4_tensors = tf.zeros(shape = [2,3,4,5])"
      ],
      "metadata": {
        "id": "8YmorPqjx0uq"
      },
      "execution_count": 31,
      "outputs": []
    },
    {
      "cell_type": "code",
      "source": [
        "rank_4_tensors"
      ],
      "metadata": {
        "colab": {
          "base_uri": "https://localhost:8080/"
        },
        "id": "0OXSRaSZ67P4",
        "outputId": "e6643996-6f8f-4bd5-a418-f31c14ad8b85"
      },
      "execution_count": 32,
      "outputs": [
        {
          "output_type": "execute_result",
          "data": {
            "text/plain": [
              "<tf.Tensor: shape=(2, 3, 4, 5), dtype=float32, numpy=\n",
              "array([[[[0., 0., 0., 0., 0.],\n",
              "         [0., 0., 0., 0., 0.],\n",
              "         [0., 0., 0., 0., 0.],\n",
              "         [0., 0., 0., 0., 0.]],\n",
              "\n",
              "        [[0., 0., 0., 0., 0.],\n",
              "         [0., 0., 0., 0., 0.],\n",
              "         [0., 0., 0., 0., 0.],\n",
              "         [0., 0., 0., 0., 0.]],\n",
              "\n",
              "        [[0., 0., 0., 0., 0.],\n",
              "         [0., 0., 0., 0., 0.],\n",
              "         [0., 0., 0., 0., 0.],\n",
              "         [0., 0., 0., 0., 0.]]],\n",
              "\n",
              "\n",
              "       [[[0., 0., 0., 0., 0.],\n",
              "         [0., 0., 0., 0., 0.],\n",
              "         [0., 0., 0., 0., 0.],\n",
              "         [0., 0., 0., 0., 0.]],\n",
              "\n",
              "        [[0., 0., 0., 0., 0.],\n",
              "         [0., 0., 0., 0., 0.],\n",
              "         [0., 0., 0., 0., 0.],\n",
              "         [0., 0., 0., 0., 0.]],\n",
              "\n",
              "        [[0., 0., 0., 0., 0.],\n",
              "         [0., 0., 0., 0., 0.],\n",
              "         [0., 0., 0., 0., 0.],\n",
              "         [0., 0., 0., 0., 0.]]]], dtype=float32)>"
            ]
          },
          "metadata": {},
          "execution_count": 32
        }
      ]
    },
    {
      "cell_type": "code",
      "source": [
        "rank_4_tensors.shape, rank_4_tensors.ndim, tf.size(rank_4_tensors)"
      ],
      "metadata": {
        "colab": {
          "base_uri": "https://localhost:8080/"
        },
        "id": "vtjzsJm069j8",
        "outputId": "b29fd900-f81f-47cd-afdc-455e13103bc2"
      },
      "execution_count": 33,
      "outputs": [
        {
          "output_type": "execute_result",
          "data": {
            "text/plain": [
              "(TensorShape([2, 3, 4, 5]), 4, <tf.Tensor: shape=(), dtype=int32, numpy=120>)"
            ]
          },
          "metadata": {},
          "execution_count": 33
        }
      ]
    },
    {
      "cell_type": "markdown",
      "source": [
        "### Indexing with Tensors\n",
        "\n",
        "Index like lists in Python."
      ],
      "metadata": {
        "id": "NfW9XKJ8rF2I"
      }
    },
    {
      "cell_type": "code",
      "source": [
        "rank_4_tensors[:2, :2, :2, :2]\n",
        "## first two elements each dim"
      ],
      "metadata": {
        "colab": {
          "base_uri": "https://localhost:8080/"
        },
        "id": "nD2QyNlk7kOX",
        "outputId": "8cee3a37-bca8-4f14-d74f-e56cf41e36dc"
      },
      "execution_count": 34,
      "outputs": [
        {
          "output_type": "execute_result",
          "data": {
            "text/plain": [
              "<tf.Tensor: shape=(2, 2, 2, 2), dtype=float32, numpy=\n",
              "array([[[[0., 0.],\n",
              "         [0., 0.]],\n",
              "\n",
              "        [[0., 0.],\n",
              "         [0., 0.]]],\n",
              "\n",
              "\n",
              "       [[[0., 0.],\n",
              "         [0., 0.]],\n",
              "\n",
              "        [[0., 0.],\n",
              "         [0., 0.]]]], dtype=float32)>"
            ]
          },
          "metadata": {},
          "execution_count": 34
        }
      ]
    },
    {
      "cell_type": "code",
      "source": [
        "# get first element of each dim bar last\n",
        "rank_4_tensors[:1, :1, :1]"
      ],
      "metadata": {
        "colab": {
          "base_uri": "https://localhost:8080/"
        },
        "id": "tkoOFiKzrkOS",
        "outputId": "2cdff2f2-0dcc-480c-d403-d5f87a00e8bb"
      },
      "execution_count": 35,
      "outputs": [
        {
          "output_type": "execute_result",
          "data": {
            "text/plain": [
              "<tf.Tensor: shape=(1, 1, 1, 5), dtype=float32, numpy=array([[[[0., 0., 0., 0., 0.]]]], dtype=float32)>"
            ]
          },
          "metadata": {},
          "execution_count": 35
        }
      ]
    },
    {
      "cell_type": "code",
      "source": [
        "### reshaping tensors\n",
        "rank_2_tensor = tf.constant([[10,3],\n",
        "                             [11,7]])"
      ],
      "metadata": {
        "id": "94ZwApVyrzIM"
      },
      "execution_count": 36,
      "outputs": []
    },
    {
      "cell_type": "code",
      "source": [
        "rank_2_tensor.shape"
      ],
      "metadata": {
        "colab": {
          "base_uri": "https://localhost:8080/"
        },
        "id": "0n1i2g5DsPpP",
        "outputId": "898d2a86-02e7-4e04-d6f5-954f1f2cf83a"
      },
      "execution_count": 37,
      "outputs": [
        {
          "output_type": "execute_result",
          "data": {
            "text/plain": [
              "TensorShape([2, 2])"
            ]
          },
          "metadata": {},
          "execution_count": 37
        }
      ]
    },
    {
      "cell_type": "code",
      "source": [
        "rank_2_tensor.ndim"
      ],
      "metadata": {
        "colab": {
          "base_uri": "https://localhost:8080/"
        },
        "id": "smO78T0NsSaH",
        "outputId": "f3454fd1-6997-46b1-d5e1-7e231e42f556"
      },
      "execution_count": 38,
      "outputs": [
        {
          "output_type": "execute_result",
          "data": {
            "text/plain": [
              "2"
            ]
          },
          "metadata": {},
          "execution_count": 38
        }
      ]
    },
    {
      "cell_type": "code",
      "source": [
        "## add extra dim to our dim2 tensor\n",
        "rank_3_tensor = rank_2_tensor[..., tf.newaxis]\n",
        "### ... means every prev axis Instead of multiple :, : so forth"
      ],
      "metadata": {
        "id": "X_Y7H2-JsT6F"
      },
      "execution_count": 39,
      "outputs": []
    },
    {
      "cell_type": "code",
      "source": [
        "rank_3_tensor"
      ],
      "metadata": {
        "colab": {
          "base_uri": "https://localhost:8080/"
        },
        "id": "BXCdeKaWszhA",
        "outputId": "6f584598-d135-4fc3-d9be-107fb162e2c6"
      },
      "execution_count": 40,
      "outputs": [
        {
          "output_type": "execute_result",
          "data": {
            "text/plain": [
              "<tf.Tensor: shape=(2, 2, 1), dtype=int32, numpy=\n",
              "array([[[10],\n",
              "        [ 3]],\n",
              "\n",
              "       [[11],\n",
              "        [ 7]]], dtype=int32)>"
            ]
          },
          "metadata": {},
          "execution_count": 40
        }
      ]
    },
    {
      "cell_type": "code",
      "source": [
        "tf.expand_dims(rank_2_tensor, axis = 1)"
      ],
      "metadata": {
        "colab": {
          "base_uri": "https://localhost:8080/"
        },
        "id": "1hndOcAbs0n1",
        "outputId": "01fdd1cc-5c5d-4826-c11f-008132e025d6"
      },
      "execution_count": 41,
      "outputs": [
        {
          "output_type": "execute_result",
          "data": {
            "text/plain": [
              "<tf.Tensor: shape=(2, 1, 2), dtype=int32, numpy=\n",
              "array([[[10,  3]],\n",
              "\n",
              "       [[11,  7]]], dtype=int32)>"
            ]
          },
          "metadata": {},
          "execution_count": 41
        }
      ]
    },
    {
      "cell_type": "code",
      "source": [
        "rank_2_tensor"
      ],
      "metadata": {
        "colab": {
          "base_uri": "https://localhost:8080/"
        },
        "id": "vBlMie5otP0B",
        "outputId": "184cc58c-d35b-421b-a7d5-442495500395"
      },
      "execution_count": 42,
      "outputs": [
        {
          "output_type": "execute_result",
          "data": {
            "text/plain": [
              "<tf.Tensor: shape=(2, 2), dtype=int32, numpy=\n",
              "array([[10,  3],\n",
              "       [11,  7]], dtype=int32)>"
            ]
          },
          "metadata": {},
          "execution_count": 42
        }
      ]
    },
    {
      "cell_type": "markdown",
      "source": [
        "### Manipulation of Tensors\n",
        "\n",
        "Indexing etc\n",
        "\n",
        "**Basic Operations**\n",
        "+, -, /, *"
      ],
      "metadata": {
        "id": "UKzLzhfatr51"
      }
    },
    {
      "cell_type": "code",
      "source": [
        "basic = tf.constant([[10,7], [3,4]])\n",
        "basic + 10"
      ],
      "metadata": {
        "id": "Obyi1dz2tlhH",
        "colab": {
          "base_uri": "https://localhost:8080/"
        },
        "outputId": "f625e5b6-13e5-432e-ef3f-daf57f1ecf41"
      },
      "execution_count": 43,
      "outputs": [
        {
          "output_type": "execute_result",
          "data": {
            "text/plain": [
              "<tf.Tensor: shape=(2, 2), dtype=int32, numpy=\n",
              "array([[20, 17],\n",
              "       [13, 14]], dtype=int32)>"
            ]
          },
          "metadata": {},
          "execution_count": 43
        }
      ]
    },
    {
      "cell_type": "code",
      "source": [
        "# element wise\n",
        "tf.multiply(basic, 5)"
      ],
      "metadata": {
        "colab": {
          "base_uri": "https://localhost:8080/"
        },
        "id": "gy_BIn-70YQ9",
        "outputId": "98aa0c8b-eb15-4ab8-c7f8-c1a686f8fd22"
      },
      "execution_count": 44,
      "outputs": [
        {
          "output_type": "execute_result",
          "data": {
            "text/plain": [
              "<tf.Tensor: shape=(2, 2), dtype=int32, numpy=\n",
              "array([[50, 35],\n",
              "       [15, 20]], dtype=int32)>"
            ]
          },
          "metadata": {},
          "execution_count": 44
        }
      ]
    },
    {
      "cell_type": "markdown",
      "source": [
        "## Matrix Multiplication\n",
        "\n",
        "There are two rules tensors must follow for matrix mul.:\n",
        "\n",
        "1.) The inner dimensions must match.\n",
        "2.) The resulting matrix has the shape of the inner dimensions."
      ],
      "metadata": {
        "id": "OqbtZ6Fl1VL6"
      }
    },
    {
      "cell_type": "code",
      "source": [
        "tf.linalg.matmul(basic, rank_2_tensor)"
      ],
      "metadata": {
        "colab": {
          "base_uri": "https://localhost:8080/"
        },
        "id": "4xYcSGBS1Ywy",
        "outputId": "32567863-e1e6-405b-9809-2d7d70a8e6f6"
      },
      "execution_count": 45,
      "outputs": [
        {
          "output_type": "execute_result",
          "data": {
            "text/plain": [
              "<tf.Tensor: shape=(2, 2), dtype=int32, numpy=\n",
              "array([[177,  79],\n",
              "       [ 74,  37]], dtype=int32)>"
            ]
          },
          "metadata": {},
          "execution_count": 45
        }
      ]
    },
    {
      "cell_type": "code",
      "source": [
        "basic @ rank_2_tensor"
      ],
      "metadata": {
        "colab": {
          "base_uri": "https://localhost:8080/"
        },
        "id": "HAWsnDRc2vjM",
        "outputId": "e6c29231-c6cf-4ae5-dd28-ef7a93135945"
      },
      "execution_count": 46,
      "outputs": [
        {
          "output_type": "execute_result",
          "data": {
            "text/plain": [
              "<tf.Tensor: shape=(2, 2), dtype=int32, numpy=\n",
              "array([[177,  79],\n",
              "       [ 74,  37]], dtype=int32)>"
            ]
          },
          "metadata": {},
          "execution_count": 46
        }
      ]
    },
    {
      "cell_type": "markdown",
      "source": [
        "### Lets change shape of tensor"
      ],
      "metadata": {
        "id": "d2ob6mt-3Jck"
      }
    },
    {
      "cell_type": "code",
      "source": [
        "vals = tf.constant([[1,2],\n",
        "             [4,5],\n",
        "             [7,8]])"
      ],
      "metadata": {
        "id": "0U9nrVBk3fJF"
      },
      "execution_count": 47,
      "outputs": []
    },
    {
      "cell_type": "code",
      "source": [
        "tf.reshape(vals, shape=(2, 3))"
      ],
      "metadata": {
        "colab": {
          "base_uri": "https://localhost:8080/"
        },
        "id": "JQKD7RTm3TsV",
        "outputId": "26b8b7b0-5baa-4bac-e3e1-ff4e6ae19120"
      },
      "execution_count": 48,
      "outputs": [
        {
          "output_type": "execute_result",
          "data": {
            "text/plain": [
              "<tf.Tensor: shape=(2, 3), dtype=int32, numpy=\n",
              "array([[1, 2, 4],\n",
              "       [5, 7, 8]], dtype=int32)>"
            ]
          },
          "metadata": {},
          "execution_count": 48
        }
      ]
    },
    {
      "cell_type": "code",
      "source": [
        "X = tf.constant([[10,11,],\n",
        "                 [13,14],\n",
        "                 [16,17]])\n",
        "X.shape"
      ],
      "metadata": {
        "colab": {
          "base_uri": "https://localhost:8080/"
        },
        "id": "QuzdwEgx3eJZ",
        "outputId": "57197387-ebaa-48e3-f16f-2fa39d20cfe5"
      },
      "execution_count": 49,
      "outputs": [
        {
          "output_type": "execute_result",
          "data": {
            "text/plain": [
              "TensorShape([3, 2])"
            ]
          },
          "metadata": {},
          "execution_count": 49
        }
      ]
    },
    {
      "cell_type": "code",
      "source": [
        "X @ tf.reshape(vals, shape=(2, 3))"
      ],
      "metadata": {
        "colab": {
          "base_uri": "https://localhost:8080/"
        },
        "id": "Lycr6IxV3xrL",
        "outputId": "3e42cfd4-1694-47f6-df86-2306c26a80d9"
      },
      "execution_count": 50,
      "outputs": [
        {
          "output_type": "execute_result",
          "data": {
            "text/plain": [
              "<tf.Tensor: shape=(3, 3), dtype=int32, numpy=\n",
              "array([[ 65,  97, 128],\n",
              "       [ 83, 124, 164],\n",
              "       [101, 151, 200]], dtype=int32)>"
            ]
          },
          "metadata": {},
          "execution_count": 50
        }
      ]
    },
    {
      "cell_type": "code",
      "source": [
        "## reshape other\n",
        "tf.matmul(tf.reshape(X, shape=(2,3)), vals)"
      ],
      "metadata": {
        "colab": {
          "base_uri": "https://localhost:8080/"
        },
        "id": "Hde7CbQ83z-h",
        "outputId": "1ec3ee1d-96d9-4edf-af5d-82250e44d23d"
      },
      "execution_count": 51,
      "outputs": [
        {
          "output_type": "execute_result",
          "data": {
            "text/plain": [
              "<tf.Tensor: shape=(2, 2), dtype=int32, numpy=\n",
              "array([[145, 179],\n",
              "       [197, 244]], dtype=int32)>"
            ]
          },
          "metadata": {},
          "execution_count": 51
        }
      ]
    },
    {
      "cell_type": "code",
      "source": [
        "## do same with transpose\n",
        "tf.transpose(X)\n",
        "## tranpose takes first of each vector instead of reshape"
      ],
      "metadata": {
        "colab": {
          "base_uri": "https://localhost:8080/"
        },
        "id": "31m30Z3E4MP8",
        "outputId": "130604e8-5b93-4081-89f4-cc01f22f2b39"
      },
      "execution_count": 52,
      "outputs": [
        {
          "output_type": "execute_result",
          "data": {
            "text/plain": [
              "<tf.Tensor: shape=(2, 3), dtype=int32, numpy=\n",
              "array([[10, 13, 16],\n",
              "       [11, 14, 17]], dtype=int32)>"
            ]
          },
          "metadata": {},
          "execution_count": 52
        }
      ]
    },
    {
      "cell_type": "code",
      "source": [
        "### try matrix mul with transpose instead of reshape\n",
        "tf.matmul(tf.transpose(X), vals)"
      ],
      "metadata": {
        "colab": {
          "base_uri": "https://localhost:8080/"
        },
        "id": "EC5TCAL54vCr",
        "outputId": "cf619092-3822-48d7-f94d-1305b2db8a1d"
      },
      "execution_count": 53,
      "outputs": [
        {
          "output_type": "execute_result",
          "data": {
            "text/plain": [
              "<tf.Tensor: shape=(2, 2), dtype=int32, numpy=\n",
              "array([[174, 213],\n",
              "       [186, 228]], dtype=int32)>"
            ]
          },
          "metadata": {},
          "execution_count": 53
        }
      ]
    },
    {
      "cell_type": "markdown",
      "source": [
        "**The Dot Product**\n",
        "\n",
        "Matrix mul also referred to as dot product, can be used using:\n",
        "- tf.matmul()\n",
        "- tf.tensordot()"
      ],
      "metadata": {
        "id": "p4AgT0kl5u6W"
      }
    },
    {
      "cell_type": "code",
      "source": [
        "## perform dot product on x and vals\n",
        "## requires x or vals to be transposed\n",
        "tf.tensordot(tf.transpose(X), vals, axes = 1)"
      ],
      "metadata": {
        "colab": {
          "base_uri": "https://localhost:8080/"
        },
        "id": "A8Ym1ZFh542t",
        "outputId": "cc5b63ed-e1f2-45f3-8581-7fdc2e7feb1f"
      },
      "execution_count": 54,
      "outputs": [
        {
          "output_type": "execute_result",
          "data": {
            "text/plain": [
              "<tf.Tensor: shape=(2, 2), dtype=int32, numpy=\n",
              "array([[174, 213],\n",
              "       [186, 228]], dtype=int32)>"
            ]
          },
          "metadata": {},
          "execution_count": 54
        }
      ]
    },
    {
      "cell_type": "code",
      "source": [
        "tf.matmul(X, tf.transpose(vals))"
      ],
      "metadata": {
        "colab": {
          "base_uri": "https://localhost:8080/"
        },
        "id": "CEYfEBR46dNh",
        "outputId": "33ebf794-9b36-4006-a167-183ddcb06823"
      },
      "execution_count": 55,
      "outputs": [
        {
          "output_type": "execute_result",
          "data": {
            "text/plain": [
              "<tf.Tensor: shape=(3, 3), dtype=int32, numpy=\n",
              "array([[ 32,  95, 158],\n",
              "       [ 41, 122, 203],\n",
              "       [ 50, 149, 248]], dtype=int32)>"
            ]
          },
          "metadata": {},
          "execution_count": 55
        }
      ]
    },
    {
      "cell_type": "code",
      "source": [
        "tf.matmul(X, tf.reshape(vals, shape = (2,3)))"
      ],
      "metadata": {
        "colab": {
          "base_uri": "https://localhost:8080/"
        },
        "id": "gZCUP0zv7CIw",
        "outputId": "41e54835-d6e6-4377-db00-82e539ed72d0"
      },
      "execution_count": 56,
      "outputs": [
        {
          "output_type": "execute_result",
          "data": {
            "text/plain": [
              "<tf.Tensor: shape=(3, 3), dtype=int32, numpy=\n",
              "array([[ 65,  97, 128],\n",
              "       [ 83, 124, 164],\n",
              "       [101, 151, 200]], dtype=int32)>"
            ]
          },
          "metadata": {},
          "execution_count": 56
        }
      ]
    },
    {
      "cell_type": "code",
      "source": [
        "## check values\n",
        "print(\"Vals normal:\")\n",
        "print(vals, \"\\n\")\n",
        "\n",
        "print(\"Vals transpose:\")\n",
        "print(tf.transpose(vals), \"\\n\")\n",
        "\n",
        "print(\"Vals Reshape:\")\n",
        "print(tf.reshape(vals, shape = (2,3)))"
      ],
      "metadata": {
        "colab": {
          "base_uri": "https://localhost:8080/"
        },
        "id": "x2_Og6Fc7L1m",
        "outputId": "62759073-13a0-4983-fd32-fc797579833a"
      },
      "execution_count": 57,
      "outputs": [
        {
          "output_type": "stream",
          "name": "stdout",
          "text": [
            "Vals normal:\n",
            "tf.Tensor(\n",
            "[[1 2]\n",
            " [4 5]\n",
            " [7 8]], shape=(3, 2), dtype=int32) \n",
            "\n",
            "Vals transpose:\n",
            "tf.Tensor(\n",
            "[[1 4 7]\n",
            " [2 5 8]], shape=(2, 3), dtype=int32) \n",
            "\n",
            "Vals Reshape:\n",
            "tf.Tensor(\n",
            "[[1 2 4]\n",
            " [5 7 8]], shape=(2, 3), dtype=int32)\n"
          ]
        }
      ]
    },
    {
      "cell_type": "markdown",
      "source": [
        "**Generally wil transpose instead of reshape if a tensor needs to be reshaped for matrix multiplication**"
      ],
      "metadata": {
        "id": "E6CJ-sn_8oUK"
      }
    },
    {
      "cell_type": "markdown",
      "source": [
        "### Changing Data Types of Tensors"
      ],
      "metadata": {
        "id": "eT1cCoe487I3"
      }
    },
    {
      "cell_type": "code",
      "source": [
        "change = tf.constant([[3,4],\n",
        "                      [7,11]])\n",
        "change.dtype"
      ],
      "metadata": {
        "colab": {
          "base_uri": "https://localhost:8080/"
        },
        "id": "k1HgpqHe8u-k",
        "outputId": "271cbfb4-776c-4a4d-8a6e-e9078c8363aa"
      },
      "execution_count": 58,
      "outputs": [
        {
          "output_type": "execute_result",
          "data": {
            "text/plain": [
              "tf.int32"
            ]
          },
          "metadata": {},
          "execution_count": 58
        }
      ]
    },
    {
      "cell_type": "code",
      "source": [
        "change1 = tf.constant([[1.3,5.4],\n",
        "                      [7.55,11.7]])\n",
        "change1.dtype"
      ],
      "metadata": {
        "colab": {
          "base_uri": "https://localhost:8080/"
        },
        "id": "T8Xw8gUg9BOU",
        "outputId": "671b8f69-03bf-41dc-e2cf-f7a9bf1ce1f4"
      },
      "execution_count": 59,
      "outputs": [
        {
          "output_type": "execute_result",
          "data": {
            "text/plain": [
              "tf.float32"
            ]
          },
          "metadata": {},
          "execution_count": 59
        }
      ]
    },
    {
      "cell_type": "code",
      "source": [
        "### change from float32 to float16\n",
        "change1 = tf.cast(change1, dtype = tf.float16)\n",
        "change1.dtype"
      ],
      "metadata": {
        "colab": {
          "base_uri": "https://localhost:8080/"
        },
        "id": "ugTL9m7S9Lp_",
        "outputId": "ba7482d3-fe2f-4b40-b5f1-b3c0f17f9816"
      },
      "execution_count": 60,
      "outputs": [
        {
          "output_type": "execute_result",
          "data": {
            "text/plain": [
              "tf.float16"
            ]
          },
          "metadata": {},
          "execution_count": 60
        }
      ]
    },
    {
      "cell_type": "code",
      "source": [
        "change1_int = tf.cast(change1, dtype = tf.int32)\n",
        "change1_int, change1_int.dtype"
      ],
      "metadata": {
        "colab": {
          "base_uri": "https://localhost:8080/"
        },
        "id": "zGdypFuH96wQ",
        "outputId": "5611d6e9-2ab1-418a-efd4-7a6943d78aab"
      },
      "execution_count": 61,
      "outputs": [
        {
          "output_type": "execute_result",
          "data": {
            "text/plain": [
              "(<tf.Tensor: shape=(2, 2), dtype=int32, numpy=\n",
              " array([[ 1,  5],\n",
              "        [ 7, 11]], dtype=int32)>,\n",
              " tf.int32)"
            ]
          },
          "metadata": {},
          "execution_count": 61
        }
      ]
    },
    {
      "cell_type": "markdown",
      "source": [
        "### Aggregating Tensors\n",
        "\n",
        "Aggregating tensors means condensing them from multiple values into a smaller number of values"
      ],
      "metadata": {
        "id": "MBVbyUC7-ke6"
      }
    },
    {
      "cell_type": "code",
      "source": [
        "l = tf.constant([[-8, -9],\n",
        "                 [-3, -77]])\n",
        "tf.abs(l)"
      ],
      "metadata": {
        "colab": {
          "base_uri": "https://localhost:8080/"
        },
        "id": "L_O4PVz1-Vlo",
        "outputId": "3ddbfde8-36d1-4d46-9623-a4dff8913662"
      },
      "execution_count": 62,
      "outputs": [
        {
          "output_type": "execute_result",
          "data": {
            "text/plain": [
              "<tf.Tensor: shape=(2, 2), dtype=int32, numpy=\n",
              "array([[ 8,  9],\n",
              "       [ 3, 77]], dtype=int32)>"
            ]
          },
          "metadata": {},
          "execution_count": 62
        }
      ]
    },
    {
      "cell_type": "markdown",
      "source": [
        "### Lets look at following methods of aggregation of a tensor\n",
        "\n",
        "- max\n",
        "- min\n",
        "- mean\n",
        "- sum"
      ],
      "metadata": {
        "id": "vl0x1L5HB7iK"
      }
    },
    {
      "cell_type": "code",
      "source": [
        "## create random tensor\n",
        "tfff = tf.constant(np.random.randint(0, 75, size = 50))"
      ],
      "metadata": {
        "id": "ui4_p-uyBuUh"
      },
      "execution_count": 63,
      "outputs": []
    },
    {
      "cell_type": "code",
      "source": [
        "tfff"
      ],
      "metadata": {
        "colab": {
          "base_uri": "https://localhost:8080/"
        },
        "id": "CMBieGG_CMEp",
        "outputId": "a37f8533-594e-4889-b5eb-9e2925e20eb0"
      },
      "execution_count": 64,
      "outputs": [
        {
          "output_type": "execute_result",
          "data": {
            "text/plain": [
              "<tf.Tensor: shape=(50,), dtype=int64, numpy=\n",
              "array([66, 59, 37, 63, 69, 31, 32, 46, 10, 31, 62, 40, 71, 41,  0, 40,  6,\n",
              "       45, 43, 18, 71, 29, 44, 72, 42, 37, 68, 29, 70, 20, 28, 48, 12, 43,\n",
              "       18, 22, 63, 54, 19, 10, 23, 28,  8, 19, 31, 64, 24, 58, 55, 59])>"
            ]
          },
          "metadata": {},
          "execution_count": 64
        }
      ]
    },
    {
      "cell_type": "code",
      "source": [
        "tf.size(tfff), tfff.shape, tfff.ndim"
      ],
      "metadata": {
        "colab": {
          "base_uri": "https://localhost:8080/"
        },
        "id": "a-WDDu1ECsXr",
        "outputId": "38798776-24cc-4f8d-db44-dcd86acc39e1"
      },
      "execution_count": 65,
      "outputs": [
        {
          "output_type": "execute_result",
          "data": {
            "text/plain": [
              "(<tf.Tensor: shape=(), dtype=int32, numpy=50>, TensorShape([50]), 1)"
            ]
          },
          "metadata": {},
          "execution_count": 65
        }
      ]
    },
    {
      "cell_type": "code",
      "source": [
        "## min\n",
        "tf.reduce_min(tfff)"
      ],
      "metadata": {
        "colab": {
          "base_uri": "https://localhost:8080/"
        },
        "id": "mJq7h-10CxnD",
        "outputId": "5ea15ba4-31c4-4609-dae7-157e745ad222"
      },
      "execution_count": 66,
      "outputs": [
        {
          "output_type": "execute_result",
          "data": {
            "text/plain": [
              "<tf.Tensor: shape=(), dtype=int64, numpy=0>"
            ]
          },
          "metadata": {},
          "execution_count": 66
        }
      ]
    },
    {
      "cell_type": "code",
      "source": [
        "### max\n",
        "tf.reduce_max(tfff)"
      ],
      "metadata": {
        "colab": {
          "base_uri": "https://localhost:8080/"
        },
        "id": "EKtdiwWmDGbm",
        "outputId": "8728c1f7-a304-4d81-b028-00e20b3c061d"
      },
      "execution_count": 67,
      "outputs": [
        {
          "output_type": "execute_result",
          "data": {
            "text/plain": [
              "<tf.Tensor: shape=(), dtype=int64, numpy=72>"
            ]
          },
          "metadata": {},
          "execution_count": 67
        }
      ]
    },
    {
      "cell_type": "code",
      "source": [
        "### mean\n",
        "tf.reduce_mean(tfff)"
      ],
      "metadata": {
        "colab": {
          "base_uri": "https://localhost:8080/"
        },
        "id": "f8RtTPfpDNiQ",
        "outputId": "7a63baf3-8d86-453e-8459-948c55b6456b"
      },
      "execution_count": 68,
      "outputs": [
        {
          "output_type": "execute_result",
          "data": {
            "text/plain": [
              "<tf.Tensor: shape=(), dtype=int64, numpy=39>"
            ]
          },
          "metadata": {},
          "execution_count": 68
        }
      ]
    },
    {
      "cell_type": "code",
      "source": [
        "## sum\n",
        "tf.reduce_sum(tfff)"
      ],
      "metadata": {
        "colab": {
          "base_uri": "https://localhost:8080/"
        },
        "id": "IDQWEP0GDRnJ",
        "outputId": "99abf4e0-f741-4519-e341-232e1479c193"
      },
      "execution_count": 69,
      "outputs": [
        {
          "output_type": "execute_result",
          "data": {
            "text/plain": [
              "<tf.Tensor: shape=(), dtype=int64, numpy=1978>"
            ]
          },
          "metadata": {},
          "execution_count": 69
        }
      ]
    },
    {
      "cell_type": "code",
      "source": [
        "### variance\n",
        "import tensorflow_probability as tfp\n",
        "tfp.stats.variance(\n",
        "    tfff\n",
        ")"
      ],
      "metadata": {
        "colab": {
          "base_uri": "https://localhost:8080/"
        },
        "id": "BKdB_ciwDVkU",
        "outputId": "77c5136a-e6d9-400e-f29b-7be51eb3d44a"
      },
      "execution_count": 70,
      "outputs": [
        {
          "output_type": "execute_result",
          "data": {
            "text/plain": [
              "<tf.Tensor: shape=(), dtype=int64, numpy=404>"
            ]
          },
          "metadata": {},
          "execution_count": 70
        }
      ]
    },
    {
      "cell_type": "code",
      "source": [
        "### standard dev\n",
        "np.std(\n",
        "    tfff\n",
        ")"
      ],
      "metadata": {
        "colab": {
          "base_uri": "https://localhost:8080/"
        },
        "id": "dLykbd31DkRo",
        "outputId": "dde77eec-7a69-49db-926b-cbe894e308bb"
      },
      "execution_count": 71,
      "outputs": [
        {
          "output_type": "execute_result",
          "data": {
            "text/plain": [
              "20.111847254789897"
            ]
          },
          "metadata": {},
          "execution_count": 71
        }
      ]
    },
    {
      "cell_type": "markdown",
      "source": [
        "### Positional Max/Min of Tensor"
      ],
      "metadata": {
        "id": "twL-MYNF1klf"
      }
    },
    {
      "cell_type": "code",
      "source": [
        "## create new tensor\n",
        "tf.random.set_seed(42)\n",
        "find_max = tf.random.uniform(shape = [50])\n",
        "find_max"
      ],
      "metadata": {
        "colab": {
          "base_uri": "https://localhost:8080/"
        },
        "id": "F1O-Lyef1ouq",
        "outputId": "39432698-64a5-4b34-ab76-d19506f24e7a"
      },
      "execution_count": 72,
      "outputs": [
        {
          "output_type": "execute_result",
          "data": {
            "text/plain": [
              "<tf.Tensor: shape=(50,), dtype=float32, numpy=\n",
              "array([0.6645621 , 0.44100678, 0.3528825 , 0.46448255, 0.03366041,\n",
              "       0.68467236, 0.74011743, 0.8724445 , 0.22632635, 0.22319686,\n",
              "       0.3103881 , 0.7223358 , 0.13318717, 0.5480639 , 0.5746088 ,\n",
              "       0.8996835 , 0.00946367, 0.5212307 , 0.6345445 , 0.1993283 ,\n",
              "       0.72942245, 0.54583454, 0.10756552, 0.6767061 , 0.6602763 ,\n",
              "       0.33695042, 0.60141766, 0.21062577, 0.8527372 , 0.44062173,\n",
              "       0.9485276 , 0.23752594, 0.81179297, 0.5263394 , 0.494308  ,\n",
              "       0.21612847, 0.8457197 , 0.8718841 , 0.3083862 , 0.6868038 ,\n",
              "       0.23764038, 0.7817228 , 0.9671384 , 0.06870162, 0.79873943,\n",
              "       0.66028714, 0.5871513 , 0.16461694, 0.7381023 , 0.32054043],\n",
              "      dtype=float32)>"
            ]
          },
          "metadata": {},
          "execution_count": 72
        }
      ]
    },
    {
      "cell_type": "code",
      "source": [
        "tf.argmax(find_max) # positional max"
      ],
      "metadata": {
        "colab": {
          "base_uri": "https://localhost:8080/"
        },
        "id": "lmBG13yr2oBI",
        "outputId": "802868b4-73bf-4fc3-c17f-124d399f4a87"
      },
      "execution_count": 73,
      "outputs": [
        {
          "output_type": "execute_result",
          "data": {
            "text/plain": [
              "<tf.Tensor: shape=(), dtype=int64, numpy=42>"
            ]
          },
          "metadata": {},
          "execution_count": 73
        }
      ]
    },
    {
      "cell_type": "code",
      "source": [
        "find_max[tf.argmax(find_max)] # gets value from where index is max"
      ],
      "metadata": {
        "colab": {
          "base_uri": "https://localhost:8080/"
        },
        "id": "ccVtRZkN2yi5",
        "outputId": "2a269866-15e9-4450-f118-3ddd5922d1a9"
      },
      "execution_count": 74,
      "outputs": [
        {
          "output_type": "execute_result",
          "data": {
            "text/plain": [
              "<tf.Tensor: shape=(), dtype=float32, numpy=0.9671384>"
            ]
          },
          "metadata": {},
          "execution_count": 74
        }
      ]
    },
    {
      "cell_type": "code",
      "source": [
        "tf.reduce_max(find_max) # same as cell directly above"
      ],
      "metadata": {
        "colab": {
          "base_uri": "https://localhost:8080/"
        },
        "id": "hwG9asx93KDZ",
        "outputId": "2e493fc4-e8d6-4a1c-f383-6302126b5dd1"
      },
      "execution_count": 75,
      "outputs": [
        {
          "output_type": "execute_result",
          "data": {
            "text/plain": [
              "<tf.Tensor: shape=(), dtype=float32, numpy=0.9671384>"
            ]
          },
          "metadata": {},
          "execution_count": 75
        }
      ]
    },
    {
      "cell_type": "code",
      "source": [
        "tf.argmin(find_max) # minimum"
      ],
      "metadata": {
        "colab": {
          "base_uri": "https://localhost:8080/"
        },
        "id": "tUi_ETXV3YuD",
        "outputId": "8dfa4e06-d010-437f-9377-1699dd13ecb5"
      },
      "execution_count": 76,
      "outputs": [
        {
          "output_type": "execute_result",
          "data": {
            "text/plain": [
              "<tf.Tensor: shape=(), dtype=int64, numpy=16>"
            ]
          },
          "metadata": {},
          "execution_count": 76
        }
      ]
    },
    {
      "cell_type": "code",
      "source": [
        "find_max[tf.argmin(find_max)]"
      ],
      "metadata": {
        "colab": {
          "base_uri": "https://localhost:8080/"
        },
        "id": "4sd3cWru3vwK",
        "outputId": "f91e2a91-095e-4c2c-cfd0-c74570370f16"
      },
      "execution_count": 77,
      "outputs": [
        {
          "output_type": "execute_result",
          "data": {
            "text/plain": [
              "<tf.Tensor: shape=(), dtype=float32, numpy=0.009463668>"
            ]
          },
          "metadata": {},
          "execution_count": 77
        }
      ]
    },
    {
      "cell_type": "markdown",
      "source": [
        "### Squeezing Tensors\n",
        "\n",
        "Removing all 1-dim"
      ],
      "metadata": {
        "id": "_DDCLKDN31Vi"
      }
    },
    {
      "cell_type": "code",
      "source": [
        "## create new tensor\n",
        "tf.random.set_seed(42)\n",
        "squeeze = tf.constant(tf.random.uniform(shape = [50]), shape = (1,1,1,1, 50))\n",
        "squeeze"
      ],
      "metadata": {
        "colab": {
          "base_uri": "https://localhost:8080/"
        },
        "id": "Qpd1aIuW3x52",
        "outputId": "c947027f-4d4b-4035-b073-399b85d059cf"
      },
      "execution_count": 78,
      "outputs": [
        {
          "output_type": "execute_result",
          "data": {
            "text/plain": [
              "<tf.Tensor: shape=(1, 1, 1, 1, 50), dtype=float32, numpy=\n",
              "array([[[[[0.6645621 , 0.44100678, 0.3528825 , 0.46448255, 0.03366041,\n",
              "           0.68467236, 0.74011743, 0.8724445 , 0.22632635, 0.22319686,\n",
              "           0.3103881 , 0.7223358 , 0.13318717, 0.5480639 , 0.5746088 ,\n",
              "           0.8996835 , 0.00946367, 0.5212307 , 0.6345445 , 0.1993283 ,\n",
              "           0.72942245, 0.54583454, 0.10756552, 0.6767061 , 0.6602763 ,\n",
              "           0.33695042, 0.60141766, 0.21062577, 0.8527372 , 0.44062173,\n",
              "           0.9485276 , 0.23752594, 0.81179297, 0.5263394 , 0.494308  ,\n",
              "           0.21612847, 0.8457197 , 0.8718841 , 0.3083862 , 0.6868038 ,\n",
              "           0.23764038, 0.7817228 , 0.9671384 , 0.06870162, 0.79873943,\n",
              "           0.66028714, 0.5871513 , 0.16461694, 0.7381023 , 0.32054043]]]]],\n",
              "      dtype=float32)>"
            ]
          },
          "metadata": {},
          "execution_count": 78
        }
      ]
    },
    {
      "cell_type": "code",
      "source": [
        "squeeze.shape"
      ],
      "metadata": {
        "colab": {
          "base_uri": "https://localhost:8080/"
        },
        "id": "kM7qhRsf4ZPH",
        "outputId": "9132cb51-4e03-4335-fa9b-3e1cf76d3870"
      },
      "execution_count": 79,
      "outputs": [
        {
          "output_type": "execute_result",
          "data": {
            "text/plain": [
              "TensorShape([1, 1, 1, 1, 50])"
            ]
          },
          "metadata": {},
          "execution_count": 79
        }
      ]
    },
    {
      "cell_type": "code",
      "source": [
        "squeezed = tf.squeeze(squeeze)\n",
        "squeezed.shape"
      ],
      "metadata": {
        "colab": {
          "base_uri": "https://localhost:8080/"
        },
        "id": "tf0vmDaY4pnz",
        "outputId": "47d2d584-aa72-4a11-d9c3-8c76b7f0087f"
      },
      "execution_count": 80,
      "outputs": [
        {
          "output_type": "execute_result",
          "data": {
            "text/plain": [
              "TensorShape([50])"
            ]
          },
          "metadata": {},
          "execution_count": 80
        }
      ]
    },
    {
      "cell_type": "markdown",
      "source": [
        "### One-hot Encoding Tensors"
      ],
      "metadata": {
        "id": "zw3aHam25VRx"
      }
    },
    {
      "cell_type": "code",
      "source": [
        "some_list = [0, 1, 2, 3, 5] #could be diff colours\n",
        "\n",
        "## one-hot encode\n",
        "tf.one_hot(some_list, depth = len(some_list))"
      ],
      "metadata": {
        "colab": {
          "base_uri": "https://localhost:8080/"
        },
        "id": "wEkVfB664w5X",
        "outputId": "a9f88773-9a6b-4759-baf3-60cdb64983f5"
      },
      "execution_count": 81,
      "outputs": [
        {
          "output_type": "execute_result",
          "data": {
            "text/plain": [
              "<tf.Tensor: shape=(5, 5), dtype=float32, numpy=\n",
              "array([[1., 0., 0., 0., 0.],\n",
              "       [0., 1., 0., 0., 0.],\n",
              "       [0., 0., 1., 0., 0.],\n",
              "       [0., 0., 0., 1., 0.],\n",
              "       [0., 0., 0., 0., 0.]], dtype=float32)>"
            ]
          },
          "metadata": {},
          "execution_count": 81
        }
      ]
    },
    {
      "cell_type": "markdown",
      "source": [
        "### Trying out more Tensor Operations"
      ],
      "metadata": {
        "id": "NFnPq7FGOmsw"
      }
    },
    {
      "cell_type": "code",
      "source": [
        "## squaring log, n, square root\n",
        "H = tf.range(1, 10)\n",
        "H"
      ],
      "metadata": {
        "id": "QBrIVoOw6JpM",
        "colab": {
          "base_uri": "https://localhost:8080/"
        },
        "outputId": "875db208-63fe-4b83-86bb-1517101dee23"
      },
      "execution_count": 82,
      "outputs": [
        {
          "output_type": "execute_result",
          "data": {
            "text/plain": [
              "<tf.Tensor: shape=(9,), dtype=int32, numpy=array([1, 2, 3, 4, 5, 6, 7, 8, 9], dtype=int32)>"
            ]
          },
          "metadata": {},
          "execution_count": 82
        }
      ]
    },
    {
      "cell_type": "code",
      "source": [
        "tf.square(H)"
      ],
      "metadata": {
        "colab": {
          "base_uri": "https://localhost:8080/"
        },
        "id": "ghq3bfhmO985",
        "outputId": "ef6eefe1-2564-4c78-ce57-2077092c0a94"
      },
      "execution_count": 83,
      "outputs": [
        {
          "output_type": "execute_result",
          "data": {
            "text/plain": [
              "<tf.Tensor: shape=(9,), dtype=int32, numpy=array([ 1,  4,  9, 16, 25, 36, 49, 64, 81], dtype=int32)>"
            ]
          },
          "metadata": {},
          "execution_count": 83
        }
      ]
    },
    {
      "cell_type": "code",
      "source": [
        "tf.sqrt(tf.cast(H, dtype = tf.float32))"
      ],
      "metadata": {
        "colab": {
          "base_uri": "https://localhost:8080/"
        },
        "id": "gFnQ1n0KPAjg",
        "outputId": "43f60034-c9e8-488e-fdb8-339cb5c26fd0"
      },
      "execution_count": 84,
      "outputs": [
        {
          "output_type": "execute_result",
          "data": {
            "text/plain": [
              "<tf.Tensor: shape=(9,), dtype=float32, numpy=\n",
              "array([1.       , 1.4142135, 1.7320508, 2.       , 2.236068 , 2.4494898,\n",
              "       2.6457512, 2.828427 , 3.       ], dtype=float32)>"
            ]
          },
          "metadata": {},
          "execution_count": 84
        }
      ]
    },
    {
      "cell_type": "code",
      "source": [
        "tf.math.log(tf.cast(H, dtype=tf.float32))"
      ],
      "metadata": {
        "colab": {
          "base_uri": "https://localhost:8080/"
        },
        "id": "UweA_hmEPDK4",
        "outputId": "b72d942a-f1ae-4213-d1a8-e941ef447483"
      },
      "execution_count": 85,
      "outputs": [
        {
          "output_type": "execute_result",
          "data": {
            "text/plain": [
              "<tf.Tensor: shape=(9,), dtype=float32, numpy=\n",
              "array([0.       , 0.6931472, 1.0986123, 1.3862944, 1.609438 , 1.7917595,\n",
              "       1.9459102, 2.0794415, 2.1972246], dtype=float32)>"
            ]
          },
          "metadata": {},
          "execution_count": 85
        }
      ]
    },
    {
      "cell_type": "markdown",
      "source": [
        "### Tensorflow and Numpy Compatibility\n",
        "\n",
        "TF interacts well with Numpy arrays."
      ],
      "metadata": {
        "id": "siF_PSEnPpjr"
      }
    },
    {
      "cell_type": "code",
      "source": [
        "import numpy as np"
      ],
      "metadata": {
        "id": "vIWwJQ7qPfBP"
      },
      "execution_count": 86,
      "outputs": []
    },
    {
      "cell_type": "code",
      "source": [
        "# create tensor from numpy array\n",
        "J = tf.constant(np.array([3., 7., 10.]))\n",
        "J"
      ],
      "metadata": {
        "colab": {
          "base_uri": "https://localhost:8080/"
        },
        "id": "jvILKyTAP8lj",
        "outputId": "1ee5e355-dd13-4722-9493-e09441243a90"
      },
      "execution_count": 87,
      "outputs": [
        {
          "output_type": "execute_result",
          "data": {
            "text/plain": [
              "<tf.Tensor: shape=(3,), dtype=float64, numpy=array([ 3.,  7., 10.])>"
            ]
          },
          "metadata": {},
          "execution_count": 87
        }
      ]
    },
    {
      "cell_type": "code",
      "source": [
        "np.array(J), type(np.array(J))"
      ],
      "metadata": {
        "colab": {
          "base_uri": "https://localhost:8080/"
        },
        "id": "UHoASrziQN07",
        "outputId": "ab11ecfa-272d-435a-d6f0-ac70314d0c52"
      },
      "execution_count": 88,
      "outputs": [
        {
          "output_type": "execute_result",
          "data": {
            "text/plain": [
              "(array([ 3.,  7., 10.]), numpy.ndarray)"
            ]
          },
          "metadata": {},
          "execution_count": 88
        }
      ]
    },
    {
      "cell_type": "code",
      "source": [
        "# convert tensor j to numpy array\n",
        "J.numpy(), type(J.numpy())"
      ],
      "metadata": {
        "colab": {
          "base_uri": "https://localhost:8080/"
        },
        "id": "rjNjmC9KQTH6",
        "outputId": "602ebd2f-a824-4193-dd72-e87b6184c2e9"
      },
      "execution_count": 89,
      "outputs": [
        {
          "output_type": "execute_result",
          "data": {
            "text/plain": [
              "(array([ 3.,  7., 10.]), numpy.ndarray)"
            ]
          },
          "metadata": {},
          "execution_count": 89
        }
      ]
    },
    {
      "cell_type": "code",
      "source": [
        "J = tf.constant([3.])\n",
        "J.numpy()[0]"
      ],
      "metadata": {
        "colab": {
          "base_uri": "https://localhost:8080/"
        },
        "id": "AfjgBCuqQasH",
        "outputId": "ab8c7b9b-e2d1-4f4e-bd5e-c15d75953f51"
      },
      "execution_count": 90,
      "outputs": [
        {
          "output_type": "execute_result",
          "data": {
            "text/plain": [
              "3.0"
            ]
          },
          "metadata": {},
          "execution_count": 90
        }
      ]
    },
    {
      "cell_type": "code",
      "source": [
        "## default types of each slightly different\n",
        "numpy_J = tf.constant(np.array([3., 7., 10.]))\n",
        "tensor_J = tf.constant([3., 7., 10.])\n",
        "\n",
        "numpy_J.dtype, tensor_J.dtype"
      ],
      "metadata": {
        "colab": {
          "base_uri": "https://localhost:8080/"
        },
        "id": "2BWKQ4LdQjW_",
        "outputId": "d4ca9915-5ade-4ad1-ece1-393b30b50961"
      },
      "execution_count": 91,
      "outputs": [
        {
          "output_type": "execute_result",
          "data": {
            "text/plain": [
              "(tf.float64, tf.float32)"
            ]
          },
          "metadata": {},
          "execution_count": 91
        }
      ]
    },
    {
      "cell_type": "code",
      "source": [
        "#### NOTE Tensorflow tensors can be run on GPU/TPU's, numpy array can't\n",
        "#### (faster numerical processing)"
      ],
      "metadata": {
        "id": "j1ypdqYKQ4Eh"
      },
      "execution_count": 92,
      "outputs": []
    },
    {
      "cell_type": "markdown",
      "source": [
        "### Finding Access to GPU's"
      ],
      "metadata": {
        "id": "cYZQUZOzRilT"
      }
    },
    {
      "cell_type": "code",
      "source": [
        "tf.config.list_physical_devices()\n",
        "#tf.config.list_physical_devices(\"GPU\")"
      ],
      "metadata": {
        "colab": {
          "base_uri": "https://localhost:8080/"
        },
        "id": "i3Tp1ANiRWpI",
        "outputId": "365f9d4f-db5e-45d4-d3fa-bc1d5cdc0ec8"
      },
      "execution_count": 93,
      "outputs": [
        {
          "output_type": "execute_result",
          "data": {
            "text/plain": [
              "[PhysicalDevice(name='/physical_device:CPU:0', device_type='CPU')]"
            ]
          },
          "metadata": {},
          "execution_count": 93
        }
      ]
    },
    {
      "cell_type": "code",
      "source": [
        "## CUDA GPU -> Tensorflow will use this automatically"
      ],
      "metadata": {
        "id": "iUulwIBVR8Qp"
      },
      "execution_count": 94,
      "outputs": []
    },
    {
      "cell_type": "markdown",
      "source": [
        "## 🛠 00. TensorFlow Fundamentals Exercises"
      ],
      "metadata": {
        "id": "qFD4DULnEuoe"
      }
    },
    {
      "cell_type": "code",
      "source": [
        "vec = tf.constant([1,2])\n",
        "mat = tf.constant([[1,2,3], [4,5,6]])\n",
        "tens = tf.constant([[[1,2,3,],\n",
        "                      [4,5,6]],\n",
        "                      [[66,14,10],\n",
        "                      [20,23,18]],\n",
        "                      [[9,10,12],\n",
        "                      [11,13,15]]])"
      ],
      "metadata": {
        "id": "UZoMW4wETIXh"
      },
      "execution_count": 95,
      "outputs": []
    },
    {
      "cell_type": "markdown",
      "source": [
        "## TF Neural Net Regression"
      ],
      "metadata": {
        "id": "2ekdRxfNnZw7"
      }
    },
    {
      "cell_type": "code",
      "source": [
        "import numpy as np\n",
        "import matplotlib.pyplot as plt\n",
        "\n",
        "x = np.array([-7, -4, -1, 2, 5, 8, 11, 14])\n",
        "\n",
        "y = np.array([3, 6, 9, 12, 15, 18, 21, 24])\n",
        "\n",
        "plt.scatter(x, y)"
      ],
      "metadata": {
        "id": "Qz1Z-rrkGyeJ",
        "colab": {
          "base_uri": "https://localhost:8080/",
          "height": 452
        },
        "outputId": "258f79c3-d2d2-42d1-e57d-587bdd6c2c47"
      },
      "execution_count": 96,
      "outputs": [
        {
          "output_type": "execute_result",
          "data": {
            "text/plain": [
              "<matplotlib.collections.PathCollection at 0x7e6578f8e7d0>"
            ]
          },
          "metadata": {},
          "execution_count": 96
        },
        {
          "output_type": "display_data",
          "data": {
            "text/plain": [
              "<Figure size 640x480 with 1 Axes>"
            ],
            "image/png": "[encoded data removed]"
          },
          "metadata": {}
        }
      ]
    },
    {
      "cell_type": "code",
      "source": [
        "input_shape = x.shape\n",
        "output_shape = y.shape\n",
        "input_shape, output_shape"
      ],
      "metadata": {
        "colab": {
          "base_uri": "https://localhost:8080/"
        },
        "id": "w-dL7DbZ3Ax8",
        "outputId": "46762828-4309-41a9-8cf2-de781fabd31a"
      },
      "execution_count": 97,
      "outputs": [
        {
          "output_type": "execute_result",
          "data": {
            "text/plain": [
              "((8,), (8,))"
            ]
          },
          "metadata": {},
          "execution_count": 97
        }
      ]
    },
    {
      "cell_type": "code",
      "source": [
        "input_shape = x[0].shape\n",
        "output_shape = y[0].shape\n",
        "input_shape, output_shape"
      ],
      "metadata": {
        "colab": {
          "base_uri": "https://localhost:8080/"
        },
        "id": "tT0uHsWE3WDI",
        "outputId": "34763804-10b2-4fc9-c7c5-7bfe70bf0197"
      },
      "execution_count": 98,
      "outputs": [
        {
          "output_type": "execute_result",
          "data": {
            "text/plain": [
              "((), ())"
            ]
          },
          "metadata": {},
          "execution_count": 98
        }
      ]
    },
    {
      "cell_type": "code",
      "source": [
        "x[0].ndim\n",
        "## scalar tensors"
      ],
      "metadata": {
        "colab": {
          "base_uri": "https://localhost:8080/"
        },
        "id": "BYEiDeiG3wi0",
        "outputId": "5496adcd-f917-4078-b9ae-1888d5e53b6d"
      },
      "execution_count": 99,
      "outputs": [
        {
          "output_type": "execute_result",
          "data": {
            "text/plain": [
              "0"
            ]
          },
          "metadata": {},
          "execution_count": 99
        }
      ]
    },
    {
      "cell_type": "code",
      "source": [
        "## turn our numpy arrays into tensors\n",
        "x = tf.constant(x)\n",
        "y = tf.constant(y)\n",
        "x, y"
      ],
      "metadata": {
        "colab": {
          "base_uri": "https://localhost:8080/"
        },
        "id": "uCLaM_l935i5",
        "outputId": "20976218-3f74-4546-f812-c77ca1a8ac71"
      },
      "execution_count": 100,
      "outputs": [
        {
          "output_type": "execute_result",
          "data": {
            "text/plain": [
              "(<tf.Tensor: shape=(8,), dtype=int64, numpy=array([-7, -4, -1,  2,  5,  8, 11, 14])>,\n",
              " <tf.Tensor: shape=(8,), dtype=int64, numpy=array([ 3,  6,  9, 12, 15, 18, 21, 24])>)"
            ]
          },
          "metadata": {},
          "execution_count": 100
        }
      ]
    },
    {
      "cell_type": "code",
      "source": [
        "input_shape = x[0].shape\n",
        "output_shape = y[0].shape\n",
        "input_shape, output_shape"
      ],
      "metadata": {
        "colab": {
          "base_uri": "https://localhost:8080/"
        },
        "id": "v0xwySQs4K3b",
        "outputId": "40e191ba-82a4-481d-cc8a-f912aaee5c01"
      },
      "execution_count": 101,
      "outputs": [
        {
          "output_type": "execute_result",
          "data": {
            "text/plain": [
              "(TensorShape([]), TensorShape([]))"
            ]
          },
          "metadata": {},
          "execution_count": 101
        }
      ]
    },
    {
      "cell_type": "markdown",
      "source": [
        "## Modelling Steps in Tensorflow"
      ],
      "metadata": {
        "id": "ou85yYdg4ftN"
      }
    },
    {
      "cell_type": "code",
      "source": [
        "tf.random.set_seed(42)\n",
        "# 1. create model\n",
        "model = tf.keras.Sequential([\n",
        "    #dense(1) as take 1 input and predict 1 number\n",
        "    tf.keras.layers.Dense(1)\n",
        "    ])"
      ],
      "metadata": {
        "id": "LPRTOXsQ4Qrp"
      },
      "execution_count": 102,
      "outputs": []
    },
    {
      "cell_type": "code",
      "source": [
        "#2. compile model\n",
        "model.compile(loss = tf.keras.losses.mae, # mean absolute error (like standard ML metrics)\n",
        "              optimizer = tf.keras.optimizers.SGD(),\n",
        "              metrics = [\"mae\"]) ## stochastic gradient descent\n",
        "\n",
        "# 3. fit model\n",
        "X = np.array([-7, -4, -1, 2, 5, 8, 11, 14])\n",
        "\n",
        "y = np.array([3, 6, 9, 12, 15, 18, 21, 24])\n",
        "## epochs -> 5 laps , go over x and y 5 times to figure out patterns\n",
        "model.fit(tf.expand_dims(X, axis=-1), y, epochs = 5)"
      ],
      "metadata": {
        "colab": {
          "base_uri": "https://localhost:8080/"
        },
        "id": "o6nJl0RW5skJ",
        "outputId": "31ba6e48-203f-4137-a18d-05d900e4af03"
      },
      "execution_count": 103,
      "outputs": [
        {
          "output_type": "stream",
          "name": "stdout",
          "text": [
            "Epoch 1/5\n",
            "1/1 [==============================] - 3s 3s/step - loss: 7.9195 - mae: 7.9195\n",
            "Epoch 2/5\n",
            "1/1 [==============================] - 0s 37ms/step - loss: 7.7870 - mae: 7.7870\n",
            "Epoch 3/5\n",
            "1/1 [==============================] - 0s 24ms/step - loss: 7.6545 - mae: 7.6545\n",
            "Epoch 4/5\n",
            "1/1 [==============================] - 0s 34ms/step - loss: 7.5220 - mae: 7.5220\n",
            "Epoch 5/5\n",
            "1/1 [==============================] - 0s 41ms/step - loss: 7.4700 - mae: 7.4700\n"
          ]
        },
        {
          "output_type": "execute_result",
          "data": {
            "text/plain": [
              "<keras.src.callbacks.History at 0x7e6578c91960>"
            ]
          },
          "metadata": {},
          "execution_count": 103
        }
      ]
    },
    {
      "cell_type": "code",
      "source": [
        "#model.predict([17])"
      ],
      "metadata": {
        "id": "1WK2OZw26yZo"
      },
      "execution_count": 104,
      "outputs": []
    },
    {
      "cell_type": "markdown",
      "source": [
        "## Improving Models"
      ],
      "metadata": {
        "id": "zDr7ZXrM821N"
      }
    },
    {
      "cell_type": "code",
      "source": [
        "## loss - how wrong your models predictions are compared to truth labels (minimize this)\n",
        "## optimizer - how your model updates its internal patterns to better its predictions.\n",
        "## metrics - human interpretable values for how well your model is doing"
      ],
      "metadata": {
        "id": "pL43EvDC85Tl"
      },
      "execution_count": 105,
      "outputs": []
    },
    {
      "cell_type": "markdown",
      "source": [
        "### Imrpove model steps\n",
        "\n",
        "1. **creating a model** - add more layers, more hidden layers (neurons, within each of these layers), change activation functions.\n",
        "2. **compiling model** - here change optimization function or learning rate (hyperparameter).\n",
        "3. **fitting a model** - fit a model for more epochs (training longer) or more data."
      ],
      "metadata": {
        "id": "RKmmPZFM-Qph"
      }
    },
    {
      "cell_type": "code",
      "source": [
        "### adam optimizer lr , higher lr adam optimizes pushes model to improve in optimizer section"
      ],
      "metadata": {
        "id": "1Y7dsT429qqi"
      },
      "execution_count": 106,
      "outputs": []
    },
    {
      "cell_type": "code",
      "source": [
        "## create model again\n",
        "\n",
        "# same layers\n",
        "model1 = tf.keras.Sequential([\n",
        "    tf.keras.layers.Dense(1)\n",
        "])\n",
        "\n",
        "model1.compile(loss = tf.keras.losses.mae,\n",
        "               optimizer = tf.keras.optimizers.SGD(),\n",
        "               metrics = ['mae'])\n",
        "\n",
        "# more epochs\n",
        "model1.fit(tf.expand_dims(X, axis=-1), y, epochs = 100)"
      ],
      "metadata": {
        "colab": {
          "base_uri": "https://localhost:8080/"
        },
        "id": "5F9g_iqTAJxs",
        "outputId": "749dcd5e-5703-4134-cfd4-8a7eb0c78cec"
      },
      "execution_count": 107,
      "outputs": [
        {
          "output_type": "stream",
          "name": "stdout",
          "text": [
            "Epoch 1/100\n",
            "1/1 [==============================] - 1s 902ms/step - loss: 19.5643 - mae: 19.5643\n",
            "Epoch 2/100\n",
            "1/1 [==============================] - 0s 25ms/step - loss: 19.2830 - mae: 19.2830\n",
            "Epoch 3/100\n",
            "1/1 [==============================] - 0s 24ms/step - loss: 19.0018 - mae: 19.0018\n",
            "Epoch 4/100\n",
            "1/1 [==============================] - 0s 26ms/step - loss: 18.7205 - mae: 18.7205\n",
            "Epoch 5/100\n",
            "1/1 [==============================] - 0s 21ms/step - loss: 18.4393 - mae: 18.4393\n",
            "Epoch 6/100\n",
            "1/1 [==============================] - 0s 17ms/step - loss: 18.1580 - mae: 18.1580\n",
            "Epoch 7/100\n",
            "1/1 [==============================] - 0s 17ms/step - loss: 17.8768 - mae: 17.8768\n",
            "Epoch 8/100\n",
            "1/1 [==============================] - 0s 17ms/step - loss: 17.5955 - mae: 17.5955\n",
            "Epoch 9/100\n",
            "1/1 [==============================] - 0s 22ms/step - loss: 17.3143 - mae: 17.3143\n",
            "Epoch 10/100\n",
            "1/1 [==============================] - 0s 38ms/step - loss: 17.0330 - mae: 17.0330\n",
            "Epoch 11/100\n",
            "1/1 [==============================] - 0s 33ms/step - loss: 16.7518 - mae: 16.7518\n",
            "Epoch 12/100\n",
            "1/1 [==============================] - 0s 20ms/step - loss: 16.4705 - mae: 16.4705\n",
            "Epoch 13/100\n",
            "1/1 [==============================] - 0s 19ms/step - loss: 16.1893 - mae: 16.1893\n",
            "Epoch 14/100\n",
            "1/1 [==============================] - 0s 19ms/step - loss: 15.9080 - mae: 15.9080\n",
            "Epoch 15/100\n",
            "1/1 [==============================] - 0s 20ms/step - loss: 15.6268 - mae: 15.6268\n",
            "Epoch 16/100\n",
            "1/1 [==============================] - 0s 33ms/step - loss: 15.3455 - mae: 15.3455\n",
            "Epoch 17/100\n",
            "1/1 [==============================] - 0s 36ms/step - loss: 15.0643 - mae: 15.0643\n",
            "Epoch 18/100\n",
            "1/1 [==============================] - 0s 33ms/step - loss: 14.7916 - mae: 14.7916\n",
            "Epoch 19/100\n",
            "1/1 [==============================] - 0s 30ms/step - loss: 14.6591 - mae: 14.6591\n",
            "Epoch 20/100\n",
            "1/1 [==============================] - 0s 29ms/step - loss: 14.5266 - mae: 14.5266\n",
            "Epoch 21/100\n",
            "1/1 [==============================] - 0s 22ms/step - loss: 14.3941 - mae: 14.3941\n",
            "Epoch 22/100\n",
            "1/1 [==============================] - 0s 22ms/step - loss: 14.2616 - mae: 14.2616\n",
            "Epoch 23/100\n",
            "1/1 [==============================] - 0s 15ms/step - loss: 14.1291 - mae: 14.1291\n",
            "Epoch 24/100\n",
            "1/1 [==============================] - 0s 50ms/step - loss: 13.9966 - mae: 13.9966\n",
            "Epoch 25/100\n",
            "1/1 [==============================] - 0s 38ms/step - loss: 13.8641 - mae: 13.8641\n",
            "Epoch 26/100\n",
            "1/1 [==============================] - 0s 18ms/step - loss: 13.7316 - mae: 13.7316\n",
            "Epoch 27/100\n",
            "1/1 [==============================] - 0s 19ms/step - loss: 13.5991 - mae: 13.5991\n",
            "Epoch 28/100\n",
            "1/1 [==============================] - 0s 27ms/step - loss: 13.4666 - mae: 13.4666\n",
            "Epoch 29/100\n",
            "1/1 [==============================] - 0s 23ms/step - loss: 13.3341 - mae: 13.3341\n",
            "Epoch 30/100\n",
            "1/1 [==============================] - 0s 23ms/step - loss: 13.2016 - mae: 13.2016\n",
            "Epoch 31/100\n",
            "1/1 [==============================] - 0s 15ms/step - loss: 13.0691 - mae: 13.0691\n",
            "Epoch 32/100\n",
            "1/1 [==============================] - 0s 13ms/step - loss: 12.9366 - mae: 12.9366\n",
            "Epoch 33/100\n",
            "1/1 [==============================] - 0s 18ms/step - loss: 12.8041 - mae: 12.8041\n",
            "Epoch 34/100\n",
            "1/1 [==============================] - 0s 15ms/step - loss: 12.6716 - mae: 12.6716\n",
            "Epoch 35/100\n",
            "1/1 [==============================] - 0s 22ms/step - loss: 12.5391 - mae: 12.5391\n",
            "Epoch 36/100\n",
            "1/1 [==============================] - 0s 24ms/step - loss: 12.4066 - mae: 12.4066\n",
            "Epoch 37/100\n",
            "1/1 [==============================] - 0s 26ms/step - loss: 12.2741 - mae: 12.2741\n",
            "Epoch 38/100\n",
            "1/1 [==============================] - 0s 24ms/step - loss: 12.1416 - mae: 12.1416\n",
            "Epoch 39/100\n",
            "1/1 [==============================] - 0s 23ms/step - loss: 12.0091 - mae: 12.0091\n",
            "Epoch 40/100\n",
            "1/1 [==============================] - 0s 16ms/step - loss: 11.8766 - mae: 11.8766\n",
            "Epoch 41/100\n",
            "1/1 [==============================] - 0s 16ms/step - loss: 11.7441 - mae: 11.7441\n",
            "Epoch 42/100\n",
            "1/1 [==============================] - 0s 17ms/step - loss: 11.6116 - mae: 11.6116\n",
            "Epoch 43/100\n",
            "1/1 [==============================] - 0s 17ms/step - loss: 11.4791 - mae: 11.4791\n",
            "Epoch 44/100\n",
            "1/1 [==============================] - 0s 33ms/step - loss: 11.3466 - mae: 11.3466\n",
            "Epoch 45/100\n",
            "1/1 [==============================] - 0s 35ms/step - loss: 11.2141 - mae: 11.2141\n",
            "Epoch 46/100\n",
            "1/1 [==============================] - 0s 24ms/step - loss: 11.0816 - mae: 11.0816\n",
            "Epoch 47/100\n",
            "1/1 [==============================] - 0s 17ms/step - loss: 10.9491 - mae: 10.9491\n",
            "Epoch 48/100\n",
            "1/1 [==============================] - 0s 17ms/step - loss: 10.8166 - mae: 10.8166\n",
            "Epoch 49/100\n",
            "1/1 [==============================] - 0s 21ms/step - loss: 10.6841 - mae: 10.6841\n",
            "Epoch 50/100\n",
            "1/1 [==============================] - 0s 19ms/step - loss: 10.5516 - mae: 10.5516\n",
            "Epoch 51/100\n",
            "1/1 [==============================] - 0s 18ms/step - loss: 10.4191 - mae: 10.4191\n",
            "Epoch 52/100\n",
            "1/1 [==============================] - 0s 20ms/step - loss: 10.2866 - mae: 10.2866\n",
            "Epoch 53/100\n",
            "1/1 [==============================] - 0s 21ms/step - loss: 10.1541 - mae: 10.1541\n",
            "Epoch 54/100\n",
            "1/1 [==============================] - 0s 13ms/step - loss: 10.0216 - mae: 10.0216\n",
            "Epoch 55/100\n",
            "1/1 [==============================] - 0s 25ms/step - loss: 9.8891 - mae: 9.8891\n",
            "Epoch 56/100\n",
            "1/1 [==============================] - 0s 27ms/step - loss: 9.7566 - mae: 9.7566\n",
            "Epoch 57/100\n",
            "1/1 [==============================] - 0s 13ms/step - loss: 9.6241 - mae: 9.6241\n",
            "Epoch 58/100\n",
            "1/1 [==============================] - 0s 34ms/step - loss: 9.4916 - mae: 9.4916\n",
            "Epoch 59/100\n",
            "1/1 [==============================] - 0s 18ms/step - loss: 9.3591 - mae: 9.3591\n",
            "Epoch 60/100\n",
            "1/1 [==============================] - 0s 16ms/step - loss: 9.2266 - mae: 9.2266\n",
            "Epoch 61/100\n",
            "1/1 [==============================] - 0s 20ms/step - loss: 9.0941 - mae: 9.0941\n",
            "Epoch 62/100\n",
            "1/1 [==============================] - 0s 20ms/step - loss: 8.9616 - mae: 8.9616\n",
            "Epoch 63/100\n",
            "1/1 [==============================] - 0s 25ms/step - loss: 8.8291 - mae: 8.8291\n",
            "Epoch 64/100\n",
            "1/1 [==============================] - 0s 17ms/step - loss: 8.6966 - mae: 8.6966\n",
            "Epoch 65/100\n",
            "1/1 [==============================] - 0s 15ms/step - loss: 8.5641 - mae: 8.5641\n",
            "Epoch 66/100\n",
            "1/1 [==============================] - 0s 26ms/step - loss: 8.4316 - mae: 8.4316\n",
            "Epoch 67/100\n",
            "1/1 [==============================] - 0s 18ms/step - loss: 8.2991 - mae: 8.2991\n",
            "Epoch 68/100\n",
            "1/1 [==============================] - 0s 37ms/step - loss: 8.1666 - mae: 8.1666\n",
            "Epoch 69/100\n",
            "1/1 [==============================] - 0s 26ms/step - loss: 8.0341 - mae: 8.0341\n",
            "Epoch 70/100\n",
            "1/1 [==============================] - 0s 29ms/step - loss: 7.9016 - mae: 7.9016\n",
            "Epoch 71/100\n",
            "1/1 [==============================] - 0s 28ms/step - loss: 7.7691 - mae: 7.7691\n",
            "Epoch 72/100\n",
            "1/1 [==============================] - 0s 16ms/step - loss: 7.6366 - mae: 7.6366\n",
            "Epoch 73/100\n",
            "1/1 [==============================] - 0s 23ms/step - loss: 7.5041 - mae: 7.5041\n",
            "Epoch 74/100\n",
            "1/1 [==============================] - 0s 21ms/step - loss: 7.3716 - mae: 7.3716\n",
            "Epoch 75/100\n",
            "1/1 [==============================] - 0s 30ms/step - loss: 7.2391 - mae: 7.2391\n",
            "Epoch 76/100\n",
            "1/1 [==============================] - 0s 26ms/step - loss: 7.1066 - mae: 7.1066\n",
            "Epoch 77/100\n",
            "1/1 [==============================] - 0s 25ms/step - loss: 6.9741 - mae: 6.9741\n",
            "Epoch 78/100\n",
            "1/1 [==============================] - 0s 29ms/step - loss: 6.9544 - mae: 6.9544\n",
            "Epoch 79/100\n",
            "1/1 [==============================] - 0s 23ms/step - loss: 6.9488 - mae: 6.9488\n",
            "Epoch 80/100\n",
            "1/1 [==============================] - 0s 29ms/step - loss: 6.9431 - mae: 6.9431\n",
            "Epoch 81/100\n",
            "1/1 [==============================] - 0s 24ms/step - loss: 6.9375 - mae: 6.9375\n",
            "Epoch 82/100\n",
            "1/1 [==============================] - 0s 22ms/step - loss: 6.9319 - mae: 6.9319\n",
            "Epoch 83/100\n",
            "1/1 [==============================] - 0s 25ms/step - loss: 6.9263 - mae: 6.9263\n",
            "Epoch 84/100\n",
            "1/1 [==============================] - 0s 37ms/step - loss: 6.9206 - mae: 6.9206\n",
            "Epoch 85/100\n",
            "1/1 [==============================] - 0s 27ms/step - loss: 6.9150 - mae: 6.9150\n",
            "Epoch 86/100\n",
            "1/1 [==============================] - 0s 41ms/step - loss: 6.9094 - mae: 6.9094\n",
            "Epoch 87/100\n",
            "1/1 [==============================] - 0s 33ms/step - loss: 6.9038 - mae: 6.9038\n",
            "Epoch 88/100\n",
            "1/1 [==============================] - 0s 32ms/step - loss: 6.8981 - mae: 6.8981\n",
            "Epoch 89/100\n",
            "1/1 [==============================] - 0s 27ms/step - loss: 6.8925 - mae: 6.8925\n",
            "Epoch 90/100\n",
            "1/1 [==============================] - 0s 57ms/step - loss: 6.8869 - mae: 6.8869\n",
            "Epoch 91/100\n",
            "1/1 [==============================] - 0s 29ms/step - loss: 6.8813 - mae: 6.8813\n",
            "Epoch 92/100\n",
            "1/1 [==============================] - 0s 24ms/step - loss: 6.8756 - mae: 6.8756\n",
            "Epoch 93/100\n",
            "1/1 [==============================] - 0s 24ms/step - loss: 6.8700 - mae: 6.8700\n",
            "Epoch 94/100\n",
            "1/1 [==============================] - 0s 26ms/step - loss: 6.8644 - mae: 6.8644\n",
            "Epoch 95/100\n",
            "1/1 [==============================] - 0s 27ms/step - loss: 6.8588 - mae: 6.8588\n",
            "Epoch 96/100\n",
            "1/1 [==============================] - 0s 26ms/step - loss: 6.8531 - mae: 6.8531\n",
            "Epoch 97/100\n",
            "1/1 [==============================] - 0s 32ms/step - loss: 6.8475 - mae: 6.8475\n",
            "Epoch 98/100\n",
            "1/1 [==============================] - 0s 31ms/step - loss: 6.8419 - mae: 6.8419\n",
            "Epoch 99/100\n",
            "1/1 [==============================] - 0s 22ms/step - loss: 6.8363 - mae: 6.8363\n",
            "Epoch 100/100\n",
            "1/1 [==============================] - 0s 24ms/step - loss: 6.8306 - mae: 6.8306\n"
          ]
        },
        {
          "output_type": "execute_result",
          "data": {
            "text/plain": [
              "<keras.src.callbacks.History at 0x7e65783dac50>"
            ]
          },
          "metadata": {},
          "execution_count": 107
        }
      ]
    },
    {
      "cell_type": "code",
      "source": [
        "## much more accurate\n",
        "model1.predict([17])"
      ],
      "metadata": {
        "colab": {
          "base_uri": "https://localhost:8080/"
        },
        "id": "d2w-Z8HYBGOe",
        "outputId": "3593a049-6b1d-406d-df9c-2124ad729259"
      },
      "execution_count": 108,
      "outputs": [
        {
          "output_type": "stream",
          "name": "stdout",
          "text": [
            "1/1 [==============================] - 0s 237ms/step\n"
          ]
        },
        {
          "output_type": "execute_result",
          "data": {
            "text/plain": [
              "array([[29.707172]], dtype=float32)"
            ]
          },
          "metadata": {},
          "execution_count": 108
        }
      ]
    },
    {
      "cell_type": "code",
      "source": [
        "### lets further improve the model\n",
        "# extra hidden layer\n",
        "\n",
        "model2 = tf.keras.Sequential([\n",
        "    # extra layer added\n",
        "    tf.keras.layers.Dense(10, activation = \"relu\"),\n",
        "    tf.keras.layers.Dense(1)\n",
        "])\n",
        "\n",
        "model2.compile(loss = tf.keras.losses.mae,\n",
        "               optimizer = tf.keras.optimizers.SGD(),\n",
        "               metrics = ['mae'])\n",
        "\n",
        "# results much improved\n",
        "model2.fit(tf.expand_dims(X, axis=-1), y, epochs = 100)"
      ],
      "metadata": {
        "colab": {
          "base_uri": "https://localhost:8080/"
        },
        "id": "_sjQfjZTBqyn",
        "outputId": "221a6c65-7d41-43c2-c602-fa9ba12878a2"
      },
      "execution_count": 109,
      "outputs": [
        {
          "output_type": "stream",
          "name": "stdout",
          "text": [
            "Epoch 1/100\n",
            "1/1 [==============================] - 1s 1s/step - loss: 13.3600 - mae: 13.3600\n",
            "Epoch 2/100\n",
            "1/1 [==============================] - 0s 32ms/step - loss: 12.4777 - mae: 12.4777\n",
            "Epoch 3/100\n",
            "1/1 [==============================] - 0s 20ms/step - loss: 11.5913 - mae: 11.5913\n",
            "Epoch 4/100\n",
            "1/1 [==============================] - 0s 15ms/step - loss: 10.6923 - mae: 10.6923\n",
            "Epoch 5/100\n",
            "1/1 [==============================] - 0s 18ms/step - loss: 9.7720 - mae: 9.7720\n",
            "Epoch 6/100\n",
            "1/1 [==============================] - 0s 30ms/step - loss: 8.8217 - mae: 8.8217\n",
            "Epoch 7/100\n",
            "1/1 [==============================] - 0s 21ms/step - loss: 7.8324 - mae: 7.8324\n",
            "Epoch 8/100\n",
            "1/1 [==============================] - 0s 42ms/step - loss: 6.7946 - mae: 6.7946\n",
            "Epoch 9/100\n",
            "1/1 [==============================] - 0s 22ms/step - loss: 5.6986 - mae: 5.6986\n",
            "Epoch 10/100\n",
            "1/1 [==============================] - 0s 28ms/step - loss: 4.5602 - mae: 4.5602\n",
            "Epoch 11/100\n",
            "1/1 [==============================] - 0s 38ms/step - loss: 4.0181 - mae: 4.0181\n",
            "Epoch 12/100\n",
            "1/1 [==============================] - 0s 28ms/step - loss: 3.9990 - mae: 3.9990\n",
            "Epoch 13/100\n",
            "1/1 [==============================] - 0s 18ms/step - loss: 3.9280 - mae: 3.9280\n",
            "Epoch 14/100\n",
            "1/1 [==============================] - 0s 19ms/step - loss: 3.9883 - mae: 3.9883\n",
            "Epoch 15/100\n",
            "1/1 [==============================] - 0s 18ms/step - loss: 3.9136 - mae: 3.9136\n",
            "Epoch 16/100\n",
            "1/1 [==============================] - 0s 21ms/step - loss: 3.9828 - mae: 3.9828\n",
            "Epoch 17/100\n",
            "1/1 [==============================] - 0s 14ms/step - loss: 3.9252 - mae: 3.9252\n",
            "Epoch 18/100\n",
            "1/1 [==============================] - 0s 14ms/step - loss: 3.9620 - mae: 3.9620\n",
            "Epoch 19/100\n",
            "1/1 [==============================] - 0s 16ms/step - loss: 3.9372 - mae: 3.9372\n",
            "Epoch 20/100\n",
            "1/1 [==============================] - 0s 16ms/step - loss: 3.9348 - mae: 3.9348\n",
            "Epoch 21/100\n",
            "1/1 [==============================] - 0s 15ms/step - loss: 3.9457 - mae: 3.9457\n",
            "Epoch 22/100\n",
            "1/1 [==============================] - 0s 17ms/step - loss: 3.9073 - mae: 3.9073\n",
            "Epoch 23/100\n",
            "1/1 [==============================] - 0s 18ms/step - loss: 3.9543 - mae: 3.9543\n",
            "Epoch 24/100\n",
            "1/1 [==============================] - 0s 27ms/step - loss: 3.8801 - mae: 3.8801\n",
            "Epoch 25/100\n",
            "1/1 [==============================] - 0s 28ms/step - loss: 3.9623 - mae: 3.9623\n",
            "Epoch 26/100\n",
            "1/1 [==============================] - 0s 59ms/step - loss: 3.8955 - mae: 3.8955\n",
            "Epoch 27/100\n",
            "1/1 [==============================] - 0s 29ms/step - loss: 3.9406 - mae: 3.9406\n",
            "Epoch 28/100\n",
            "1/1 [==============================] - 0s 32ms/step - loss: 3.9040 - mae: 3.9040\n",
            "Epoch 29/100\n",
            "1/1 [==============================] - 0s 24ms/step - loss: 3.9131 - mae: 3.9131\n",
            "Epoch 30/100\n",
            "1/1 [==============================] - 0s 33ms/step - loss: 3.9127 - mae: 3.9127\n",
            "Epoch 31/100\n",
            "1/1 [==============================] - 0s 34ms/step - loss: 3.8854 - mae: 3.8854\n",
            "Epoch 32/100\n",
            "1/1 [==============================] - 0s 59ms/step - loss: 3.9215 - mae: 3.9215\n",
            "Epoch 33/100\n",
            "1/1 [==============================] - 0s 13ms/step - loss: 3.8576 - mae: 3.8576\n",
            "Epoch 34/100\n",
            "1/1 [==============================] - 0s 18ms/step - loss: 3.9338 - mae: 3.9338\n",
            "Epoch 35/100\n",
            "1/1 [==============================] - 0s 12ms/step - loss: 3.8632 - mae: 3.8632\n",
            "Epoch 36/100\n",
            "1/1 [==============================] - 0s 31ms/step - loss: 3.9179 - mae: 3.9179\n",
            "Epoch 37/100\n",
            "1/1 [==============================] - 0s 20ms/step - loss: 3.8720 - mae: 3.8720\n",
            "Epoch 38/100\n",
            "1/1 [==============================] - 0s 14ms/step - loss: 3.8902 - mae: 3.8902\n",
            "Epoch 39/100\n",
            "1/1 [==============================] - 0s 59ms/step - loss: 3.8808 - mae: 3.8808\n",
            "Epoch 40/100\n",
            "1/1 [==============================] - 0s 25ms/step - loss: 3.8622 - mae: 3.8622\n",
            "Epoch 41/100\n",
            "1/1 [==============================] - 0s 16ms/step - loss: 3.8898 - mae: 3.8898\n",
            "Epoch 42/100\n",
            "1/1 [==============================] - 0s 13ms/step - loss: 3.8346 - mae: 3.8346\n",
            "Epoch 43/100\n",
            "1/1 [==============================] - 0s 17ms/step - loss: 3.9058 - mae: 3.9058\n",
            "Epoch 44/100\n",
            "1/1 [==============================] - 0s 16ms/step - loss: 3.8321 - mae: 3.8321\n",
            "Epoch 45/100\n",
            "1/1 [==============================] - 0s 44ms/step - loss: 3.8940 - mae: 3.8940\n",
            "Epoch 46/100\n",
            "1/1 [==============================] - 0s 22ms/step - loss: 3.8410 - mae: 3.8410\n",
            "Epoch 47/100\n",
            "1/1 [==============================] - 0s 19ms/step - loss: 3.8659 - mae: 3.8659\n",
            "Epoch 48/100\n",
            "1/1 [==============================] - 0s 19ms/step - loss: 3.8501 - mae: 3.8501\n",
            "Epoch 49/100\n",
            "1/1 [==============================] - 0s 38ms/step - loss: 3.8377 - mae: 3.8377\n",
            "Epoch 50/100\n",
            "1/1 [==============================] - 0s 22ms/step - loss: 3.8593 - mae: 3.8593\n",
            "Epoch 51/100\n",
            "1/1 [==============================] - 0s 16ms/step - loss: 3.8130 - mae: 3.8130\n",
            "Epoch 52/100\n",
            "1/1 [==============================] - 0s 16ms/step - loss: 3.8754 - mae: 3.8754\n",
            "Epoch 53/100\n",
            "1/1 [==============================] - 0s 21ms/step - loss: 3.8021 - mae: 3.8021\n",
            "Epoch 54/100\n",
            "1/1 [==============================] - 0s 35ms/step - loss: 3.8688 - mae: 3.8688\n",
            "Epoch 55/100\n",
            "1/1 [==============================] - 0s 28ms/step - loss: 3.8112 - mae: 3.8112\n",
            "Epoch 56/100\n",
            "1/1 [==============================] - 0s 29ms/step - loss: 3.8404 - mae: 3.8404\n",
            "Epoch 57/100\n",
            "1/1 [==============================] - 0s 20ms/step - loss: 3.8205 - mae: 3.8205\n",
            "Epoch 58/100\n",
            "1/1 [==============================] - 0s 47ms/step - loss: 3.8119 - mae: 3.8119\n",
            "Epoch 59/100\n",
            "1/1 [==============================] - 0s 35ms/step - loss: 3.8298 - mae: 3.8298\n",
            "Epoch 60/100\n",
            "1/1 [==============================] - 0s 41ms/step - loss: 3.7899 - mae: 3.7899\n",
            "Epoch 61/100\n",
            "1/1 [==============================] - 0s 39ms/step - loss: 3.8462 - mae: 3.8462\n",
            "Epoch 62/100\n",
            "1/1 [==============================] - 0s 27ms/step - loss: 3.7731 - mae: 3.7731\n",
            "Epoch 63/100\n",
            "1/1 [==============================] - 0s 34ms/step - loss: 3.8422 - mae: 3.8422\n",
            "Epoch 64/100\n",
            "1/1 [==============================] - 0s 27ms/step - loss: 3.7825 - mae: 3.7825\n",
            "Epoch 65/100\n",
            "1/1 [==============================] - 0s 21ms/step - loss: 3.8136 - mae: 3.8136\n",
            "Epoch 66/100\n",
            "1/1 [==============================] - 0s 21ms/step - loss: 3.7919 - mae: 3.7919\n",
            "Epoch 67/100\n",
            "1/1 [==============================] - 0s 36ms/step - loss: 3.7848 - mae: 3.7848\n",
            "Epoch 68/100\n",
            "1/1 [==============================] - 0s 26ms/step - loss: 3.8042 - mae: 3.8042\n",
            "Epoch 69/100\n",
            "1/1 [==============================] - 0s 30ms/step - loss: 3.7620 - mae: 3.7620\n",
            "Epoch 70/100\n",
            "1/1 [==============================] - 0s 22ms/step - loss: 3.8180 - mae: 3.8180\n",
            "Epoch 71/100\n",
            "1/1 [==============================] - 0s 37ms/step - loss: 3.7452 - mae: 3.7452\n",
            "Epoch 72/100\n",
            "1/1 [==============================] - 0s 30ms/step - loss: 3.8144 - mae: 3.8144\n",
            "Epoch 73/100\n",
            "1/1 [==============================] - 0s 39ms/step - loss: 3.7547 - mae: 3.7547\n",
            "Epoch 74/100\n",
            "1/1 [==============================] - 0s 33ms/step - loss: 3.7855 - mae: 3.7855\n",
            "Epoch 75/100\n",
            "1/1 [==============================] - 0s 48ms/step - loss: 3.7644 - mae: 3.7644\n",
            "Epoch 76/100\n",
            "1/1 [==============================] - 0s 49ms/step - loss: 3.7563 - mae: 3.7563\n",
            "Epoch 77/100\n",
            "1/1 [==============================] - 0s 41ms/step - loss: 3.7796 - mae: 3.7796\n",
            "Epoch 78/100\n",
            "1/1 [==============================] - 0s 43ms/step - loss: 3.7332 - mae: 3.7332\n",
            "Epoch 79/100\n",
            "1/1 [==============================] - 0s 32ms/step - loss: 3.7908 - mae: 3.7908\n",
            "Epoch 80/100\n",
            "1/1 [==============================] - 0s 33ms/step - loss: 3.7183 - mae: 3.7183\n",
            "Epoch 81/100\n",
            "1/1 [==============================] - 0s 22ms/step - loss: 3.7853 - mae: 3.7853\n",
            "Epoch 82/100\n",
            "1/1 [==============================] - 0s 26ms/step - loss: 3.7280 - mae: 3.7280\n",
            "Epoch 83/100\n",
            "1/1 [==============================] - 0s 27ms/step - loss: 3.7560 - mae: 3.7560\n",
            "Epoch 84/100\n",
            "1/1 [==============================] - 0s 29ms/step - loss: 3.7379 - mae: 3.7379\n",
            "Epoch 85/100\n",
            "1/1 [==============================] - 0s 35ms/step - loss: 3.7284 - mae: 3.7284\n",
            "Epoch 86/100\n",
            "1/1 [==============================] - 0s 31ms/step - loss: 3.7546 - mae: 3.7546\n",
            "Epoch 87/100\n",
            "1/1 [==============================] - 0s 62ms/step - loss: 3.7030 - mae: 3.7030\n",
            "Epoch 88/100\n",
            "1/1 [==============================] - 0s 34ms/step - loss: 3.7647 - mae: 3.7647\n",
            "Epoch 89/100\n",
            "1/1 [==============================] - 0s 32ms/step - loss: 3.6924 - mae: 3.6924\n",
            "Epoch 90/100\n",
            "1/1 [==============================] - 0s 33ms/step - loss: 3.7548 - mae: 3.7548\n",
            "Epoch 91/100\n",
            "1/1 [==============================] - 0s 29ms/step - loss: 3.7023 - mae: 3.7023\n",
            "Epoch 92/100\n",
            "1/1 [==============================] - 0s 23ms/step - loss: 3.7252 - mae: 3.7252\n",
            "Epoch 93/100\n",
            "1/1 [==============================] - 0s 36ms/step - loss: 3.7124 - mae: 3.7124\n",
            "Epoch 94/100\n",
            "1/1 [==============================] - 0s 38ms/step - loss: 3.6997 - mae: 3.6997\n",
            "Epoch 95/100\n",
            "1/1 [==============================] - 0s 39ms/step - loss: 3.7293 - mae: 3.7293\n",
            "Epoch 96/100\n",
            "1/1 [==============================] - 0s 51ms/step - loss: 3.6715 - mae: 3.6715\n",
            "Epoch 97/100\n",
            "1/1 [==============================] - 0s 59ms/step - loss: 3.7396 - mae: 3.7396\n",
            "Epoch 98/100\n",
            "1/1 [==============================] - 0s 38ms/step - loss: 3.6674 - mae: 3.6674\n",
            "Epoch 99/100\n",
            "1/1 [==============================] - 0s 30ms/step - loss: 3.7229 - mae: 3.7229\n",
            "Epoch 100/100\n",
            "1/1 [==============================] - 0s 31ms/step - loss: 3.6775 - mae: 3.6775\n"
          ]
        },
        {
          "output_type": "execute_result",
          "data": {
            "text/plain": [
              "<keras.src.callbacks.History at 0x7e657a710580>"
            ]
          },
          "metadata": {},
          "execution_count": 109
        }
      ]
    },
    {
      "cell_type": "code",
      "source": [
        "model2.predict([17])\n",
        "# should be 27, so worse than previous model\n",
        "# suggests overfitting this output"
      ],
      "metadata": {
        "colab": {
          "base_uri": "https://localhost:8080/"
        },
        "id": "9jUQia-yh6zq",
        "outputId": "c31a06e1-3b18-40e9-b6eb-86ffe16919e6"
      },
      "execution_count": 110,
      "outputs": [
        {
          "output_type": "stream",
          "name": "stdout",
          "text": [
            "1/1 [==============================] - 0s 452ms/step\n"
          ]
        },
        {
          "output_type": "execute_result",
          "data": {
            "text/plain": [
              "array([[31.349813]], dtype=float32)"
            ]
          },
          "metadata": {},
          "execution_count": 110
        }
      ]
    },
    {
      "cell_type": "code",
      "source": [
        "# change optimizer in compile to adam now\n",
        "model3 = tf.keras.Sequential([\n",
        "    # extra layer added\n",
        "    tf.keras.layers.Dense(10, activation = \"relu\"),\n",
        "    tf.keras.layers.Dense(1)\n",
        "])\n",
        "\n",
        "model3.compile(loss = tf.keras.losses.mae,\n",
        "               optimizer = tf.keras.optimizers.Adam(),\n",
        "               metrics = ['mae'])\n",
        "\n",
        "# results much improved\n",
        "model3.fit(tf.expand_dims(X, axis=-1), y, epochs = 100)"
      ],
      "metadata": {
        "colab": {
          "base_uri": "https://localhost:8080/"
        },
        "id": "-OCo2kXEh9Nf",
        "outputId": "7bca14e8-de0d-4646-defd-889838104139"
      },
      "execution_count": 111,
      "outputs": [
        {
          "output_type": "stream",
          "name": "stdout",
          "text": [
            "Epoch 1/100\n",
            "1/1 [==============================] - 3s 3s/step - loss: 12.3859 - mae: 12.3859\n",
            "Epoch 2/100\n",
            "1/1 [==============================] - 0s 19ms/step - loss: 12.3673 - mae: 12.3673\n",
            "Epoch 3/100\n",
            "1/1 [==============================] - 0s 16ms/step - loss: 12.3486 - mae: 12.3486\n",
            "Epoch 4/100\n",
            "1/1 [==============================] - 0s 17ms/step - loss: 12.3300 - mae: 12.3300\n",
            "Epoch 5/100\n",
            "1/1 [==============================] - 0s 17ms/step - loss: 12.3113 - mae: 12.3113\n",
            "Epoch 6/100\n",
            "1/1 [==============================] - 0s 16ms/step - loss: 12.2927 - mae: 12.2927\n",
            "Epoch 7/100\n",
            "1/1 [==============================] - 0s 16ms/step - loss: 12.2740 - mae: 12.2740\n",
            "Epoch 8/100\n",
            "1/1 [==============================] - 0s 19ms/step - loss: 12.2553 - mae: 12.2553\n",
            "Epoch 9/100\n",
            "1/1 [==============================] - 0s 16ms/step - loss: 12.2365 - mae: 12.2365\n",
            "Epoch 10/100\n",
            "1/1 [==============================] - 0s 14ms/step - loss: 12.2178 - mae: 12.2178\n",
            "Epoch 11/100\n",
            "1/1 [==============================] - 0s 15ms/step - loss: 12.1990 - mae: 12.1990\n",
            "Epoch 12/100\n",
            "1/1 [==============================] - 0s 16ms/step - loss: 12.1803 - mae: 12.1803\n",
            "Epoch 13/100\n",
            "1/1 [==============================] - 0s 15ms/step - loss: 12.1615 - mae: 12.1615\n",
            "Epoch 14/100\n",
            "1/1 [==============================] - 0s 18ms/step - loss: 12.1426 - mae: 12.1426\n",
            "Epoch 15/100\n",
            "1/1 [==============================] - 0s 28ms/step - loss: 12.1238 - mae: 12.1238\n",
            "Epoch 16/100\n",
            "1/1 [==============================] - 0s 19ms/step - loss: 12.1049 - mae: 12.1049\n",
            "Epoch 17/100\n",
            "1/1 [==============================] - 0s 18ms/step - loss: 12.0860 - mae: 12.0860\n",
            "Epoch 18/100\n",
            "1/1 [==============================] - 0s 18ms/step - loss: 12.0671 - mae: 12.0671\n",
            "Epoch 19/100\n",
            "1/1 [==============================] - 0s 17ms/step - loss: 12.0482 - mae: 12.0482\n",
            "Epoch 20/100\n",
            "1/1 [==============================] - 0s 21ms/step - loss: 12.0292 - mae: 12.0292\n",
            "Epoch 21/100\n",
            "1/1 [==============================] - 0s 19ms/step - loss: 12.0102 - mae: 12.0102\n",
            "Epoch 22/100\n",
            "1/1 [==============================] - 0s 19ms/step - loss: 11.9912 - mae: 11.9912\n",
            "Epoch 23/100\n",
            "1/1 [==============================] - 0s 17ms/step - loss: 11.9721 - mae: 11.9721\n",
            "Epoch 24/100\n",
            "1/1 [==============================] - 0s 17ms/step - loss: 11.9530 - mae: 11.9530\n",
            "Epoch 25/100\n",
            "1/1 [==============================] - 0s 17ms/step - loss: 11.9339 - mae: 11.9339\n",
            "Epoch 26/100\n",
            "1/1 [==============================] - 0s 18ms/step - loss: 11.9148 - mae: 11.9148\n",
            "Epoch 27/100\n",
            "1/1 [==============================] - 0s 28ms/step - loss: 11.8956 - mae: 11.8956\n",
            "Epoch 28/100\n",
            "1/1 [==============================] - 0s 15ms/step - loss: 11.8764 - mae: 11.8764\n",
            "Epoch 29/100\n",
            "1/1 [==============================] - 0s 22ms/step - loss: 11.8571 - mae: 11.8571\n",
            "Epoch 30/100\n",
            "1/1 [==============================] - 0s 24ms/step - loss: 11.8378 - mae: 11.8378\n",
            "Epoch 31/100\n",
            "1/1 [==============================] - 0s 20ms/step - loss: 11.8185 - mae: 11.8185\n",
            "Epoch 32/100\n",
            "1/1 [==============================] - 0s 18ms/step - loss: 11.7991 - mae: 11.7991\n",
            "Epoch 33/100\n",
            "1/1 [==============================] - 0s 16ms/step - loss: 11.7797 - mae: 11.7797\n",
            "Epoch 34/100\n",
            "1/1 [==============================] - 0s 18ms/step - loss: 11.7603 - mae: 11.7603\n",
            "Epoch 35/100\n",
            "1/1 [==============================] - 0s 17ms/step - loss: 11.7409 - mae: 11.7409\n",
            "Epoch 36/100\n",
            "1/1 [==============================] - 0s 15ms/step - loss: 11.7214 - mae: 11.7214\n",
            "Epoch 37/100\n",
            "1/1 [==============================] - 0s 28ms/step - loss: 11.7018 - mae: 11.7018\n",
            "Epoch 38/100\n",
            "1/1 [==============================] - 0s 27ms/step - loss: 11.6823 - mae: 11.6823\n",
            "Epoch 39/100\n",
            "1/1 [==============================] - 0s 31ms/step - loss: 11.6626 - mae: 11.6626\n",
            "Epoch 40/100\n",
            "1/1 [==============================] - 0s 25ms/step - loss: 11.6430 - mae: 11.6430\n",
            "Epoch 41/100\n",
            "1/1 [==============================] - 0s 16ms/step - loss: 11.6233 - mae: 11.6233\n",
            "Epoch 42/100\n",
            "1/1 [==============================] - 0s 16ms/step - loss: 11.6036 - mae: 11.6036\n",
            "Epoch 43/100\n",
            "1/1 [==============================] - 0s 20ms/step - loss: 11.5838 - mae: 11.5838\n",
            "Epoch 44/100\n",
            "1/1 [==============================] - 0s 16ms/step - loss: 11.5640 - mae: 11.5640\n",
            "Epoch 45/100\n",
            "1/1 [==============================] - 0s 31ms/step - loss: 11.5442 - mae: 11.5442\n",
            "Epoch 46/100\n",
            "1/1 [==============================] - 0s 19ms/step - loss: 11.5243 - mae: 11.5243\n",
            "Epoch 47/100\n",
            "1/1 [==============================] - 0s 19ms/step - loss: 11.5044 - mae: 11.5044\n",
            "Epoch 48/100\n",
            "1/1 [==============================] - 0s 26ms/step - loss: 11.4844 - mae: 11.4844\n",
            "Epoch 49/100\n",
            "1/1 [==============================] - 0s 18ms/step - loss: 11.4644 - mae: 11.4644\n",
            "Epoch 50/100\n",
            "1/1 [==============================] - 0s 19ms/step - loss: 11.4444 - mae: 11.4444\n",
            "Epoch 51/100\n",
            "1/1 [==============================] - 0s 20ms/step - loss: 11.4243 - mae: 11.4243\n",
            "Epoch 52/100\n",
            "1/1 [==============================] - 0s 17ms/step - loss: 11.4042 - mae: 11.4042\n",
            "Epoch 53/100\n",
            "1/1 [==============================] - 0s 16ms/step - loss: 11.3840 - mae: 11.3840\n",
            "Epoch 54/100\n",
            "1/1 [==============================] - 0s 15ms/step - loss: 11.3638 - mae: 11.3638\n",
            "Epoch 55/100\n",
            "1/1 [==============================] - 0s 15ms/step - loss: 11.3436 - mae: 11.3436\n",
            "Epoch 56/100\n",
            "1/1 [==============================] - 0s 15ms/step - loss: 11.3233 - mae: 11.3233\n",
            "Epoch 57/100\n",
            "1/1 [==============================] - 0s 19ms/step - loss: 11.3029 - mae: 11.3029\n",
            "Epoch 58/100\n",
            "1/1 [==============================] - 0s 26ms/step - loss: 11.2826 - mae: 11.2826\n",
            "Epoch 59/100\n",
            "1/1 [==============================] - 0s 23ms/step - loss: 11.2621 - mae: 11.2621\n",
            "Epoch 60/100\n",
            "1/1 [==============================] - 0s 24ms/step - loss: 11.2417 - mae: 11.2417\n",
            "Epoch 61/100\n",
            "1/1 [==============================] - 0s 24ms/step - loss: 11.2212 - mae: 11.2212\n",
            "Epoch 62/100\n",
            "1/1 [==============================] - 0s 24ms/step - loss: 11.2006 - mae: 11.2006\n",
            "Epoch 63/100\n",
            "1/1 [==============================] - 0s 25ms/step - loss: 11.1801 - mae: 11.1801\n",
            "Epoch 64/100\n",
            "1/1 [==============================] - 0s 16ms/step - loss: 11.1594 - mae: 11.1594\n",
            "Epoch 65/100\n",
            "1/1 [==============================] - 0s 22ms/step - loss: 11.1388 - mae: 11.1388\n",
            "Epoch 66/100\n",
            "1/1 [==============================] - 0s 14ms/step - loss: 11.1180 - mae: 11.1180\n",
            "Epoch 67/100\n",
            "1/1 [==============================] - 0s 12ms/step - loss: 11.0973 - mae: 11.0973\n",
            "Epoch 68/100\n",
            "1/1 [==============================] - 0s 24ms/step - loss: 11.0765 - mae: 11.0765\n",
            "Epoch 69/100\n",
            "1/1 [==============================] - 0s 23ms/step - loss: 11.0556 - mae: 11.0556\n",
            "Epoch 70/100\n",
            "1/1 [==============================] - 0s 29ms/step - loss: 11.0347 - mae: 11.0347\n",
            "Epoch 71/100\n",
            "1/1 [==============================] - 0s 15ms/step - loss: 11.0138 - mae: 11.0138\n",
            "Epoch 72/100\n",
            "1/1 [==============================] - 0s 24ms/step - loss: 10.9928 - mae: 10.9928\n",
            "Epoch 73/100\n",
            "1/1 [==============================] - 0s 18ms/step - loss: 10.9718 - mae: 10.9718\n",
            "Epoch 74/100\n",
            "1/1 [==============================] - 0s 17ms/step - loss: 10.9507 - mae: 10.9507\n",
            "Epoch 75/100\n",
            "1/1 [==============================] - 0s 22ms/step - loss: 10.9296 - mae: 10.9296\n",
            "Epoch 76/100\n",
            "1/1 [==============================] - 0s 23ms/step - loss: 10.9084 - mae: 10.9084\n",
            "Epoch 77/100\n",
            "1/1 [==============================] - 0s 20ms/step - loss: 10.8872 - mae: 10.8872\n",
            "Epoch 78/100\n",
            "1/1 [==============================] - 0s 24ms/step - loss: 10.8659 - mae: 10.8659\n",
            "Epoch 79/100\n",
            "1/1 [==============================] - 0s 33ms/step - loss: 10.8446 - mae: 10.8446\n",
            "Epoch 80/100\n",
            "1/1 [==============================] - 0s 18ms/step - loss: 10.8233 - mae: 10.8233\n",
            "Epoch 81/100\n",
            "1/1 [==============================] - 0s 27ms/step - loss: 10.8019 - mae: 10.8019\n",
            "Epoch 82/100\n",
            "1/1 [==============================] - 0s 26ms/step - loss: 10.7804 - mae: 10.7804\n",
            "Epoch 83/100\n",
            "1/1 [==============================] - 0s 26ms/step - loss: 10.7589 - mae: 10.7589\n",
            "Epoch 84/100\n",
            "1/1 [==============================] - 0s 18ms/step - loss: 10.7374 - mae: 10.7374\n",
            "Epoch 85/100\n",
            "1/1 [==============================] - 0s 27ms/step - loss: 10.7158 - mae: 10.7158\n",
            "Epoch 86/100\n",
            "1/1 [==============================] - 0s 31ms/step - loss: 10.6942 - mae: 10.6942\n",
            "Epoch 87/100\n",
            "1/1 [==============================] - 0s 26ms/step - loss: 10.6725 - mae: 10.6725\n",
            "Epoch 88/100\n",
            "1/1 [==============================] - 0s 20ms/step - loss: 10.6507 - mae: 10.6507\n",
            "Epoch 89/100\n",
            "1/1 [==============================] - 0s 19ms/step - loss: 10.6290 - mae: 10.6290\n",
            "Epoch 90/100\n",
            "1/1 [==============================] - 0s 20ms/step - loss: 10.6071 - mae: 10.6071\n",
            "Epoch 91/100\n",
            "1/1 [==============================] - 0s 40ms/step - loss: 10.5853 - mae: 10.5853\n",
            "Epoch 92/100\n",
            "1/1 [==============================] - 0s 19ms/step - loss: 10.5633 - mae: 10.5633\n",
            "Epoch 93/100\n",
            "1/1 [==============================] - 0s 23ms/step - loss: 10.5414 - mae: 10.5414\n",
            "Epoch 94/100\n",
            "1/1 [==============================] - 0s 27ms/step - loss: 10.5194 - mae: 10.5194\n",
            "Epoch 95/100\n",
            "1/1 [==============================] - 0s 21ms/step - loss: 10.4973 - mae: 10.4973\n",
            "Epoch 96/100\n",
            "1/1 [==============================] - 0s 20ms/step - loss: 10.4752 - mae: 10.4752\n",
            "Epoch 97/100\n",
            "1/1 [==============================] - 0s 24ms/step - loss: 10.4553 - mae: 10.4553\n",
            "Epoch 98/100\n",
            "1/1 [==============================] - 0s 33ms/step - loss: 10.4481 - mae: 10.4481\n",
            "Epoch 99/100\n",
            "1/1 [==============================] - 0s 30ms/step - loss: 10.4407 - mae: 10.4407\n",
            "Epoch 100/100\n",
            "1/1 [==============================] - 0s 30ms/step - loss: 10.4332 - mae: 10.4332\n"
          ]
        },
        {
          "output_type": "execute_result",
          "data": {
            "text/plain": [
              "<keras.src.callbacks.History at 0x7e657a5e47c0>"
            ]
          },
          "metadata": {},
          "execution_count": 111
        }
      ]
    },
    {
      "cell_type": "code",
      "source": [
        "model3.predict([17])\n",
        "## adam works badly here, worse results for epochs and unseen example"
      ],
      "metadata": {
        "colab": {
          "base_uri": "https://localhost:8080/"
        },
        "id": "S_MS-LZPkRp9",
        "outputId": "c4d960c1-f5e9-49c0-b3da-fcf372701efa"
      },
      "execution_count": 112,
      "outputs": [
        {
          "output_type": "stream",
          "name": "stdout",
          "text": [
            "1/1 [==============================] - 0s 263ms/step\n"
          ]
        },
        {
          "output_type": "execute_result",
          "data": {
            "text/plain": [
              "array([[7.8437786]], dtype=float32)"
            ]
          },
          "metadata": {},
          "execution_count": 112
        }
      ]
    },
    {
      "cell_type": "code",
      "source": [
        "# change learning rate for adam optimizer now\n",
        "model4 = tf.keras.Sequential([\n",
        "    # extra layer added\n",
        "    tf.keras.layers.Dense(10, activation = \"relu\"),\n",
        "    tf.keras.layers.Dense(1)\n",
        "])\n",
        "\n",
        "model4.compile(loss = tf.keras.losses.mae,\n",
        "               optimizer = tf.keras.optimizers.Adam(lr = 0.001),\n",
        "               metrics = ['mae'])\n",
        "\n",
        "# results much improved\n",
        "model4.fit(tf.expand_dims(X, axis=-1), y, epochs = 100)"
      ],
      "metadata": {
        "colab": {
          "base_uri": "https://localhost:8080/"
        },
        "id": "j4MQfUudkUxE",
        "outputId": "a2a14d73-f97c-4f30-fd51-38c0f6e98608"
      },
      "execution_count": 113,
      "outputs": [
        {
          "output_type": "stream",
          "name": "stderr",
          "text": [
            "WARNING:absl:`lr` is deprecated in Keras optimizer, please use `learning_rate` or use the legacy optimizer, e.g.,tf.keras.optimizers.legacy.Adam.\n"
          ]
        },
        {
          "output_type": "stream",
          "name": "stdout",
          "text": [
            "Epoch 1/100\n",
            "1/1 [==============================] - 1s 1s/step - loss: 12.8112 - mae: 12.8112\n",
            "Epoch 2/100\n",
            "1/1 [==============================] - 0s 14ms/step - loss: 12.7784 - mae: 12.7784\n",
            "Epoch 3/100\n",
            "1/1 [==============================] - 0s 15ms/step - loss: 12.7457 - mae: 12.7457\n",
            "Epoch 4/100\n",
            "1/1 [==============================] - 0s 16ms/step - loss: 12.7129 - mae: 12.7129\n",
            "Epoch 5/100\n",
            "1/1 [==============================] - 0s 12ms/step - loss: 12.6802 - mae: 12.6802\n",
            "Epoch 6/100\n",
            "1/1 [==============================] - 0s 16ms/step - loss: 12.6475 - mae: 12.6475\n",
            "Epoch 7/100\n",
            "1/1 [==============================] - 0s 15ms/step - loss: 12.6149 - mae: 12.6149\n",
            "Epoch 8/100\n",
            "1/1 [==============================] - 0s 15ms/step - loss: 12.5822 - mae: 12.5822\n",
            "Epoch 9/100\n",
            "1/1 [==============================] - 0s 15ms/step - loss: 12.5496 - mae: 12.5496\n",
            "Epoch 10/100\n",
            "1/1 [==============================] - 0s 12ms/step - loss: 12.5169 - mae: 12.5169\n",
            "Epoch 11/100\n",
            "1/1 [==============================] - 0s 15ms/step - loss: 12.4843 - mae: 12.4843\n",
            "Epoch 12/100\n",
            "1/1 [==============================] - 0s 12ms/step - loss: 12.4517 - mae: 12.4517\n",
            "Epoch 13/100\n",
            "1/1 [==============================] - 0s 16ms/step - loss: 12.4191 - mae: 12.4191\n",
            "Epoch 14/100\n",
            "1/1 [==============================] - 0s 13ms/step - loss: 12.3866 - mae: 12.3866\n",
            "Epoch 15/100\n",
            "1/1 [==============================] - 0s 12ms/step - loss: 12.3540 - mae: 12.3540\n",
            "Epoch 16/100\n",
            "1/1 [==============================] - 0s 13ms/step - loss: 12.3215 - mae: 12.3215\n",
            "Epoch 17/100\n",
            "1/1 [==============================] - 0s 12ms/step - loss: 12.2890 - mae: 12.2890\n",
            "Epoch 18/100\n",
            "1/1 [==============================] - 0s 13ms/step - loss: 12.2565 - mae: 12.2565\n",
            "Epoch 19/100\n",
            "1/1 [==============================] - 0s 13ms/step - loss: 12.2240 - mae: 12.2240\n",
            "Epoch 20/100\n",
            "1/1 [==============================] - 0s 11ms/step - loss: 12.1915 - mae: 12.1915\n",
            "Epoch 21/100\n",
            "1/1 [==============================] - 0s 11ms/step - loss: 12.1590 - mae: 12.1590\n",
            "Epoch 22/100\n",
            "1/1 [==============================] - 0s 11ms/step - loss: 12.1266 - mae: 12.1266\n",
            "Epoch 23/100\n",
            "1/1 [==============================] - 0s 12ms/step - loss: 12.0941 - mae: 12.0941\n",
            "Epoch 24/100\n",
            "1/1 [==============================] - 0s 13ms/step - loss: 12.0617 - mae: 12.0617\n",
            "Epoch 25/100\n",
            "1/1 [==============================] - 0s 11ms/step - loss: 12.0294 - mae: 12.0294\n",
            "Epoch 26/100\n",
            "1/1 [==============================] - 0s 13ms/step - loss: 11.9971 - mae: 11.9971\n",
            "Epoch 27/100\n",
            "1/1 [==============================] - 0s 13ms/step - loss: 11.9648 - mae: 11.9648\n",
            "Epoch 28/100\n",
            "1/1 [==============================] - 0s 12ms/step - loss: 11.9325 - mae: 11.9325\n",
            "Epoch 29/100\n",
            "1/1 [==============================] - 0s 11ms/step - loss: 11.9005 - mae: 11.9005\n",
            "Epoch 30/100\n",
            "1/1 [==============================] - 0s 11ms/step - loss: 11.8686 - mae: 11.8686\n",
            "Epoch 31/100\n",
            "1/1 [==============================] - 0s 14ms/step - loss: 11.8367 - mae: 11.8367\n",
            "Epoch 32/100\n",
            "1/1 [==============================] - 0s 11ms/step - loss: 11.8051 - mae: 11.8051\n",
            "Epoch 33/100\n",
            "1/1 [==============================] - 0s 12ms/step - loss: 11.7738 - mae: 11.7738\n",
            "Epoch 34/100\n",
            "1/1 [==============================] - 0s 12ms/step - loss: 11.7430 - mae: 11.7430\n",
            "Epoch 35/100\n",
            "1/1 [==============================] - 0s 12ms/step - loss: 11.7122 - mae: 11.7122\n",
            "Epoch 36/100\n",
            "1/1 [==============================] - 0s 11ms/step - loss: 11.6819 - mae: 11.6819\n",
            "Epoch 37/100\n",
            "1/1 [==============================] - 0s 13ms/step - loss: 11.6517 - mae: 11.6517\n",
            "Epoch 38/100\n",
            "1/1 [==============================] - 0s 12ms/step - loss: 11.6218 - mae: 11.6218\n",
            "Epoch 39/100\n",
            "1/1 [==============================] - 0s 14ms/step - loss: 11.5927 - mae: 11.5927\n",
            "Epoch 40/100\n",
            "1/1 [==============================] - 0s 12ms/step - loss: 11.5649 - mae: 11.5649\n",
            "Epoch 41/100\n",
            "1/1 [==============================] - 0s 12ms/step - loss: 11.5375 - mae: 11.5375\n",
            "Epoch 42/100\n",
            "1/1 [==============================] - 0s 12ms/step - loss: 11.5100 - mae: 11.5100\n",
            "Epoch 43/100\n",
            "1/1 [==============================] - 0s 12ms/step - loss: 11.4825 - mae: 11.4825\n",
            "Epoch 44/100\n",
            "1/1 [==============================] - 0s 11ms/step - loss: 11.4549 - mae: 11.4549\n",
            "Epoch 45/100\n",
            "1/1 [==============================] - 0s 13ms/step - loss: 11.4274 - mae: 11.4274\n",
            "Epoch 46/100\n",
            "1/1 [==============================] - 0s 15ms/step - loss: 11.3998 - mae: 11.3998\n",
            "Epoch 47/100\n",
            "1/1 [==============================] - 0s 12ms/step - loss: 11.3722 - mae: 11.3722\n",
            "Epoch 48/100\n",
            "1/1 [==============================] - 0s 12ms/step - loss: 11.3446 - mae: 11.3446\n",
            "Epoch 49/100\n",
            "1/1 [==============================] - 0s 18ms/step - loss: 11.3170 - mae: 11.3170\n",
            "Epoch 50/100\n",
            "1/1 [==============================] - 0s 13ms/step - loss: 11.2894 - mae: 11.2894\n",
            "Epoch 51/100\n",
            "1/1 [==============================] - 0s 13ms/step - loss: 11.2617 - mae: 11.2617\n",
            "Epoch 52/100\n",
            "1/1 [==============================] - 0s 17ms/step - loss: 11.2340 - mae: 11.2340\n",
            "Epoch 53/100\n",
            "1/1 [==============================] - 0s 15ms/step - loss: 11.2063 - mae: 11.2063\n",
            "Epoch 54/100\n",
            "1/1 [==============================] - 0s 16ms/step - loss: 11.1786 - mae: 11.1786\n",
            "Epoch 55/100\n",
            "1/1 [==============================] - 0s 13ms/step - loss: 11.1508 - mae: 11.1508\n",
            "Epoch 56/100\n",
            "1/1 [==============================] - 0s 15ms/step - loss: 11.1230 - mae: 11.1230\n",
            "Epoch 57/100\n",
            "1/1 [==============================] - 0s 12ms/step - loss: 11.0952 - mae: 11.0952\n",
            "Epoch 58/100\n",
            "1/1 [==============================] - 0s 12ms/step - loss: 11.0674 - mae: 11.0674\n",
            "Epoch 59/100\n",
            "1/1 [==============================] - 0s 12ms/step - loss: 11.0395 - mae: 11.0395\n",
            "Epoch 60/100\n",
            "1/1 [==============================] - 0s 12ms/step - loss: 11.0116 - mae: 11.0116\n",
            "Epoch 61/100\n",
            "1/1 [==============================] - 0s 11ms/step - loss: 10.9837 - mae: 10.9837\n",
            "Epoch 62/100\n",
            "1/1 [==============================] - 0s 12ms/step - loss: 10.9558 - mae: 10.9558\n",
            "Epoch 63/100\n",
            "1/1 [==============================] - 0s 12ms/step - loss: 10.9278 - mae: 10.9278\n",
            "Epoch 64/100\n",
            "1/1 [==============================] - 0s 11ms/step - loss: 10.8998 - mae: 10.8998\n",
            "Epoch 65/100\n",
            "1/1 [==============================] - 0s 11ms/step - loss: 10.8718 - mae: 10.8718\n",
            "Epoch 66/100\n",
            "1/1 [==============================] - 0s 12ms/step - loss: 10.8438 - mae: 10.8438\n",
            "Epoch 67/100\n",
            "1/1 [==============================] - 0s 11ms/step - loss: 10.8157 - mae: 10.8157\n",
            "Epoch 68/100\n",
            "1/1 [==============================] - 0s 12ms/step - loss: 10.7876 - mae: 10.7876\n",
            "Epoch 69/100\n",
            "1/1 [==============================] - 0s 12ms/step - loss: 10.7595 - mae: 10.7595\n",
            "Epoch 70/100\n",
            "1/1 [==============================] - 0s 12ms/step - loss: 10.7313 - mae: 10.7313\n",
            "Epoch 71/100\n",
            "1/1 [==============================] - 0s 14ms/step - loss: 10.7031 - mae: 10.7031\n",
            "Epoch 72/100\n",
            "1/1 [==============================] - 0s 12ms/step - loss: 10.6749 - mae: 10.6749\n",
            "Epoch 73/100\n",
            "1/1 [==============================] - 0s 11ms/step - loss: 10.6467 - mae: 10.6467\n",
            "Epoch 74/100\n",
            "1/1 [==============================] - 0s 12ms/step - loss: 10.6184 - mae: 10.6184\n",
            "Epoch 75/100\n",
            "1/1 [==============================] - 0s 12ms/step - loss: 10.5901 - mae: 10.5901\n",
            "Epoch 76/100\n",
            "1/1 [==============================] - 0s 12ms/step - loss: 10.5618 - mae: 10.5618\n",
            "Epoch 77/100\n",
            "1/1 [==============================] - 0s 15ms/step - loss: 10.5334 - mae: 10.5334\n",
            "Epoch 78/100\n",
            "1/1 [==============================] - 0s 16ms/step - loss: 10.5050 - mae: 10.5050\n",
            "Epoch 79/100\n",
            "1/1 [==============================] - 0s 14ms/step - loss: 10.4766 - mae: 10.4766\n",
            "Epoch 80/100\n",
            "1/1 [==============================] - 0s 13ms/step - loss: 10.4481 - mae: 10.4481\n",
            "Epoch 81/100\n",
            "1/1 [==============================] - 0s 11ms/step - loss: 10.4196 - mae: 10.4196\n",
            "Epoch 82/100\n",
            "1/1 [==============================] - 0s 11ms/step - loss: 10.3911 - mae: 10.3911\n",
            "Epoch 83/100\n",
            "1/1 [==============================] - 0s 18ms/step - loss: 10.3625 - mae: 10.3625\n",
            "Epoch 84/100\n",
            "1/1 [==============================] - 0s 12ms/step - loss: 10.3339 - mae: 10.3339\n",
            "Epoch 85/100\n",
            "1/1 [==============================] - 0s 12ms/step - loss: 10.3052 - mae: 10.3052\n",
            "Epoch 86/100\n",
            "1/1 [==============================] - 0s 12ms/step - loss: 10.2766 - mae: 10.2766\n",
            "Epoch 87/100\n",
            "1/1 [==============================] - 0s 13ms/step - loss: 10.2479 - mae: 10.2479\n",
            "Epoch 88/100\n",
            "1/1 [==============================] - 0s 12ms/step - loss: 10.2191 - mae: 10.2191\n",
            "Epoch 89/100\n",
            "1/1 [==============================] - 0s 12ms/step - loss: 10.1903 - mae: 10.1903\n",
            "Epoch 90/100\n",
            "1/1 [==============================] - 0s 11ms/step - loss: 10.1615 - mae: 10.1615\n",
            "Epoch 91/100\n",
            "1/1 [==============================] - 0s 12ms/step - loss: 10.1327 - mae: 10.1327\n",
            "Epoch 92/100\n",
            "1/1 [==============================] - 0s 12ms/step - loss: 10.1038 - mae: 10.1038\n",
            "Epoch 93/100\n",
            "1/1 [==============================] - 0s 14ms/step - loss: 10.0748 - mae: 10.0748\n",
            "Epoch 94/100\n",
            "1/1 [==============================] - 0s 12ms/step - loss: 10.0458 - mae: 10.0458\n",
            "Epoch 95/100\n",
            "1/1 [==============================] - 0s 13ms/step - loss: 10.0168 - mae: 10.0168\n",
            "Epoch 96/100\n",
            "1/1 [==============================] - 0s 13ms/step - loss: 9.9878 - mae: 9.9878\n",
            "Epoch 97/100\n",
            "1/1 [==============================] - 0s 13ms/step - loss: 9.9587 - mae: 9.9587\n",
            "Epoch 98/100\n",
            "1/1 [==============================] - 0s 13ms/step - loss: 9.9295 - mae: 9.9295\n",
            "Epoch 99/100\n",
            "1/1 [==============================] - 0s 12ms/step - loss: 9.9004 - mae: 9.9004\n",
            "Epoch 100/100\n",
            "1/1 [==============================] - 0s 12ms/step - loss: 9.8711 - mae: 9.8711\n"
          ]
        },
        {
          "output_type": "execute_result",
          "data": {
            "text/plain": [
              "<keras.src.callbacks.History at 0x7e657a05e890>"
            ]
          },
          "metadata": {},
          "execution_count": 113
        }
      ]
    },
    {
      "cell_type": "code",
      "source": [
        "model4.predict([17])\n",
        "# big improvement on previous but still little under 10 off\n",
        "# lr potentially most important hyperparameter in NN"
      ],
      "metadata": {
        "colab": {
          "base_uri": "https://localhost:8080/"
        },
        "id": "5vg1vxCkkyoa",
        "outputId": "c638ebb2-2113-4044-83cf-06f3a379bae0"
      },
      "execution_count": 114,
      "outputs": [
        {
          "output_type": "stream",
          "name": "stdout",
          "text": [
            "1/1 [==============================] - 0s 87ms/step\n"
          ]
        },
        {
          "output_type": "execute_result",
          "data": {
            "text/plain": [
              "array([[13.00176]], dtype=float32)"
            ]
          },
          "metadata": {},
          "execution_count": 114
        }
      ]
    },
    {
      "cell_type": "markdown",
      "source": [
        "## Evaluating a Model\n",
        "\n",
        "In practise, typical TF NN workflow:\n",
        "\n",
        "- Build model -> fit it -> evaluate it -> tweak it -> fit it -> evaluate and repeat."
      ],
      "metadata": {
        "id": "mdrK6ASpldoF"
      }
    },
    {
      "cell_type": "markdown",
      "source": [
        "## Visualize\n",
        "\n",
        "- training data\n",
        "- the model itself\n",
        "- the training of a model  - how does a model perform as it learns?\n",
        "- the predictions of a model (against original labels)"
      ],
      "metadata": {
        "id": "pNu3qsIpmbGv"
      }
    },
    {
      "cell_type": "code",
      "source": [
        "## make bigger dataset\n",
        "X = tf.range(-100, 100, 4)\n",
        "X"
      ],
      "metadata": {
        "colab": {
          "base_uri": "https://localhost:8080/"
        },
        "id": "csOSSPDbk2RK",
        "outputId": "9056fb43-5165-4304-fd50-c0082d5ec669"
      },
      "execution_count": 115,
      "outputs": [
        {
          "output_type": "execute_result",
          "data": {
            "text/plain": [
              "<tf.Tensor: shape=(50,), dtype=int32, numpy=\n",
              "array([-100,  -96,  -92,  -88,  -84,  -80,  -76,  -72,  -68,  -64,  -60,\n",
              "        -56,  -52,  -48,  -44,  -40,  -36,  -32,  -28,  -24,  -20,  -16,\n",
              "        -12,   -8,   -4,    0,    4,    8,   12,   16,   20,   24,   28,\n",
              "         32,   36,   40,   44,   48,   52,   56,   60,   64,   68,   72,\n",
              "         76,   80,   84,   88,   92,   96], dtype=int32)>"
            ]
          },
          "metadata": {},
          "execution_count": 115
        }
      ]
    },
    {
      "cell_type": "code",
      "source": [
        "# make labels for the dataset\n",
        "\n",
        "y = X + 10\n",
        "y"
      ],
      "metadata": {
        "colab": {
          "base_uri": "https://localhost:8080/"
        },
        "id": "0yWL0hDNnDxB",
        "outputId": "208b0e00-ec0e-43fc-9ff6-acafb969f360"
      },
      "execution_count": 116,
      "outputs": [
        {
          "output_type": "execute_result",
          "data": {
            "text/plain": [
              "<tf.Tensor: shape=(50,), dtype=int32, numpy=\n",
              "array([-90, -86, -82, -78, -74, -70, -66, -62, -58, -54, -50, -46, -42,\n",
              "       -38, -34, -30, -26, -22, -18, -14, -10,  -6,  -2,   2,   6,  10,\n",
              "        14,  18,  22,  26,  30,  34,  38,  42,  46,  50,  54,  58,  62,\n",
              "        66,  70,  74,  78,  82,  86,  90,  94,  98, 102, 106], dtype=int32)>"
            ]
          },
          "metadata": {},
          "execution_count": 116
        }
      ]
    },
    {
      "cell_type": "code",
      "source": [
        "plt.scatter(X, y)"
      ],
      "metadata": {
        "colab": {
          "base_uri": "https://localhost:8080/",
          "height": 447
        },
        "id": "ltTIcGAZnKiT",
        "outputId": "ae1ab4a9-31c2-478a-da1c-8da221ede8fe"
      },
      "execution_count": 117,
      "outputs": [
        {
          "output_type": "execute_result",
          "data": {
            "text/plain": [
              "<matplotlib.collections.PathCollection at 0x7e6578c42290>"
            ]
          },
          "metadata": {},
          "execution_count": 117
        },
        {
          "output_type": "display_data",
          "data": {
            "text/plain": [
              "<Figure size 640x480 with 1 Axes>"
            ],
            "image/png": "[encoded data removed]"
          },
          "metadata": {}
        }
      ]
    },
    {
      "cell_type": "code",
      "source": [
        "#from sklearn.model_selection import train_test_split\n",
        "#X_train, X_test, y_train, y_test = train_test_split(X, y, test_size = 0.2, random_state = 42)\n",
        "X_train = X[:40]\n",
        "X_test = X[40:]\n",
        "\n",
        "y_train = y[:40]\n",
        "y_test = y[40:]\n",
        "\n",
        "print(len(X_train))\n",
        "print(len(X_test))\n",
        "print(len(y_train))\n",
        "print(len(y_test))"
      ],
      "metadata": {
        "colab": {
          "base_uri": "https://localhost:8080/"
        },
        "id": "X5B1CzaQwVv_",
        "outputId": "33bd0b69-9cda-4136-aed4-cf1f185657a7"
      },
      "execution_count": 118,
      "outputs": [
        {
          "output_type": "stream",
          "name": "stdout",
          "text": [
            "40\n",
            "10\n",
            "40\n",
            "10\n"
          ]
        }
      ]
    },
    {
      "cell_type": "markdown",
      "source": [
        "### 3 sets of data\n",
        "\n",
        "- Train - typically 70-80% data.\n",
        "- Validation - model gets tuned on this data, typically 10-15% data available.\n",
        "- Test - model evaluated on this data to evaluate what it has learned, typically 10-15% of total data."
      ],
      "metadata": {
        "id": "BTIf22WIxQt-"
      }
    },
    {
      "cell_type": "code",
      "source": [
        "## visualize train/test now\n",
        "plt.figure(figsize = (10, 7))\n",
        "plt.scatter(X_train, y_train, c = \"b\", label = \"Training\")\n",
        "plt.scatter(X_test, y_test, c = \"g\", label = \"Test\")\n",
        "plt.legend()"
      ],
      "metadata": {
        "colab": {
          "base_uri": "https://localhost:8080/",
          "height": 616
        },
        "id": "GN4k7fblxBzS",
        "outputId": "f70cc623-531a-4be2-b753-04edeb01ab01"
      },
      "execution_count": 119,
      "outputs": [
        {
          "output_type": "execute_result",
          "data": {
            "text/plain": [
              "<matplotlib.legend.Legend at 0x7e6578aa7370>"
            ]
          },
          "metadata": {},
          "execution_count": 119
        },
        {
          "output_type": "display_data",
          "data": {
            "text/plain": [
              "<Figure size 1000x700 with 1 Axes>"
            ],
            "image/png": "[encoded data removed]"
          },
          "metadata": {}
        }
      ]
    },
    {
      "cell_type": "code",
      "source": [
        "## lets create a NN\n",
        "\n",
        "model_split = tf.keras.Sequential([\n",
        "    tf.keras.layers.Dense(1)\n",
        "])\n",
        "\n",
        "model_split.compile(loss = tf.keras.losses.mae,\n",
        "                    optimizer = tf.keras.optimizers.SGD(),\n",
        "                    metrics = [\"mae\"])\n",
        "\n",
        "model_split.fit(tf.expand_dims(X_train, axis=-1), y_train, epochs = 10)"
      ],
      "metadata": {
        "colab": {
          "base_uri": "https://localhost:8080/"
        },
        "id": "O7hgSNN2z-oj",
        "outputId": "1013122c-4491-4416-aff3-6f34be49e2a8"
      },
      "execution_count": 120,
      "outputs": [
        {
          "output_type": "stream",
          "name": "stdout",
          "text": [
            "Epoch 1/10\n",
            "2/2 [==============================] - 1s 12ms/step - loss: 25.0787 - mae: 25.0787\n",
            "Epoch 2/10\n",
            "2/2 [==============================] - 0s 10ms/step - loss: 8.2355 - mae: 8.2355\n",
            "Epoch 3/10\n",
            "2/2 [==============================] - 0s 11ms/step - loss: 10.3265 - mae: 10.3265\n",
            "Epoch 4/10\n",
            "2/2 [==============================] - 0s 11ms/step - loss: 12.7466 - mae: 12.7466\n",
            "Epoch 5/10\n",
            "2/2 [==============================] - 0s 9ms/step - loss: 11.7922 - mae: 11.7922\n",
            "Epoch 6/10\n",
            "2/2 [==============================] - 0s 10ms/step - loss: 10.9107 - mae: 10.9107\n",
            "Epoch 7/10\n",
            "2/2 [==============================] - 0s 9ms/step - loss: 8.6689 - mae: 8.6689\n",
            "Epoch 8/10\n",
            "2/2 [==============================] - 0s 16ms/step - loss: 7.7408 - mae: 7.7408\n",
            "Epoch 9/10\n",
            "2/2 [==============================] - 0s 18ms/step - loss: 19.8899 - mae: 19.8899\n",
            "Epoch 10/10\n",
            "2/2 [==============================] - 0s 10ms/step - loss: 13.7322 - mae: 13.7322\n"
          ]
        },
        {
          "output_type": "execute_result",
          "data": {
            "text/plain": [
              "<keras.src.callbacks.History at 0x7e6578b5c9a0>"
            ]
          },
          "metadata": {},
          "execution_count": 120
        }
      ]
    },
    {
      "cell_type": "code",
      "source": [
        "#model_split.summary()"
      ],
      "metadata": {
        "id": "-JUrBtS91di3"
      },
      "execution_count": 121,
      "outputs": []
    },
    {
      "cell_type": "code",
      "source": [
        "# lets create a model which build automatically by defining the input_shape argument in the first layer.\n",
        "'''\n",
        "tf.random.set_seed(42)\n",
        "\n",
        "model_split = tf.keras.Sequential([\n",
        "    tf.keras.layers.Dense(1, input_shape = [1], name = \"input_layer\")\n",
        "], name = \"TestModel\")\n",
        "\n",
        "# compile\n",
        "model_split.compile(loss = tf.keras.losses.mae,\n",
        "                    optimizer = tf.keras.optimizers.SGD(),\n",
        "                    metrics = ['mae'])\n",
        "'''"
      ],
      "metadata": {
        "colab": {
          "base_uri": "https://localhost:8080/",
          "height": 70
        },
        "id": "qHok98YAFhKr",
        "outputId": "5b29aacf-2318-4359-d675-1efa6b8c6e08"
      },
      "execution_count": 122,
      "outputs": [
        {
          "output_type": "execute_result",
          "data": {
            "text/plain": [
              "'\\ntf.random.set_seed(42)\\n\\nmodel_split = tf.keras.Sequential([\\n    tf.keras.layers.Dense(1, input_shape = [1], name = \"input_layer\")\\n], name = \"TestModel\")\\n\\n# compile\\nmodel_split.compile(loss = tf.keras.losses.mae,\\n                    optimizer = tf.keras.optimizers.SGD(),\\n                    metrics = [\\'mae\\'])\\n'"
            ],
            "application/vnd.google.colaboratory.intrinsic+json": {
              "type": "string"
            }
          },
          "metadata": {},
          "execution_count": 122
        }
      ]
    },
    {
      "cell_type": "code",
      "source": [
        "model_split.summary()"
      ],
      "metadata": {
        "colab": {
          "base_uri": "https://localhost:8080/"
        },
        "id": "lRl0MmUpGiU9",
        "outputId": "82227749-848b-41cc-d9cd-99b821d7403d"
      },
      "execution_count": 123,
      "outputs": [
        {
          "output_type": "stream",
          "name": "stdout",
          "text": [
            "Model: \"sequential_5\"\n",
            "_________________________________________________________________\n",
            " Layer (type)                Output Shape              Param #   \n",
            "=================================================================\n",
            " dense_8 (Dense)             (None, 1)                 2         \n",
            "                                                                 \n",
            "=================================================================\n",
            "Total params: 2 (8.00 Byte)\n",
            "Trainable params: 2 (8.00 Byte)\n",
            "Non-trainable params: 0 (0.00 Byte)\n",
            "_________________________________________________________________\n"
          ]
        }
      ]
    },
    {
      "cell_type": "markdown",
      "source": [
        "## Params\n",
        "\n",
        "- Total Params - total number of parameters in the model.\n",
        "- Trainable Params - the parameters (patterns) the model can update as it trains.\n",
        "- Non-traiable params - these parameters aren't updated during training, typical when you bring in already patterns from other models during transfer learning. [Weights & Biases](https://machine-learning.paperspace.com/wiki/weights-and-biases)"
      ],
      "metadata": {
        "id": "5G-JEfl6G3yr"
      }
    },
    {
      "cell_type": "code",
      "source": [
        "# if fitted again the epochs add up so two fits on 100 epochs is actually 200 total epochs\n",
        "#model_split.fit(X_train, y_train, epochs = 100)"
      ],
      "metadata": {
        "id": "1PhNGgVFGj0s"
      },
      "execution_count": 124,
      "outputs": []
    },
    {
      "cell_type": "markdown",
      "source": [
        "### Visualize Model's Layers"
      ],
      "metadata": {
        "id": "DXjXOzgUJV7L"
      }
    },
    {
      "cell_type": "code",
      "source": [
        "from tensorflow.keras.utils import plot_model\n",
        "\n",
        "# ensure input/output layers correct\n",
        "plot_model(model = model_split, show_shapes = True)"
      ],
      "metadata": {
        "colab": {
          "base_uri": "https://localhost:8080/",
          "height": 201
        },
        "id": "Qx7lPUwqJX7N",
        "outputId": "da3d17d7-1334-4f7a-cd73-5efcb4ecfd78"
      },
      "execution_count": 125,
      "outputs": [
        {
          "output_type": "execute_result",
          "data": {
            "image/png": "[encoded data removed]",
            "text/plain": [
              "<IPython.core.display.Image object>"
            ]
          },
          "metadata": {},
          "execution_count": 125
        }
      ]
    },
    {
      "cell_type": "markdown",
      "source": [
        "### Visualizing Model Predictions\n",
        "\n",
        "Good idea to visualize against ground truth labels.\n",
        "\n",
        "**Often in form of y_test or y_true VS y_pred.**"
      ],
      "metadata": {
        "id": "lMxwIwPYLjKU"
      }
    },
    {
      "cell_type": "code",
      "source": [
        "y_pred = model_split.predict(X_test)\n",
        "y_pred"
      ],
      "metadata": {
        "colab": {
          "base_uri": "https://localhost:8080/"
        },
        "id": "BLqUY_29J-PD",
        "outputId": "a415d3ae-d401-48b7-b39e-a571a65324eb"
      },
      "execution_count": 126,
      "outputs": [
        {
          "output_type": "stream",
          "name": "stderr",
          "text": [
            "WARNING:tensorflow:5 out of the last 5 calls to <function Model.make_predict_function.<locals>.predict_function at 0x7e6578a20310> triggered tf.function retracing. Tracing is expensive and the excessive number of tracings could be due to (1) creating @tf.function repeatedly in a loop, (2) passing tensors with different shapes, (3) passing Python objects instead of tensors. For (1), please define your @tf.function outside of the loop. For (2), @tf.function has reduce_retracing=True option that can avoid unnecessary retracing. For (3), please refer to https://www.tensorflow.org/guide/function#controlling_retracing and https://www.tensorflow.org/api_docs/python/tf/function for  more details.\n"
          ]
        },
        {
          "output_type": "stream",
          "name": "stdout",
          "text": [
            "1/1 [==============================] - 0s 83ms/step\n"
          ]
        },
        {
          "output_type": "execute_result",
          "data": {
            "text/plain": [
              "array([[ 69.55936 ],\n",
              "       [ 74.18727 ],\n",
              "       [ 78.815186],\n",
              "       [ 83.4431  ],\n",
              "       [ 88.071014],\n",
              "       [ 92.69893 ],\n",
              "       [ 97.32685 ],\n",
              "       [101.954765],\n",
              "       [106.58268 ],\n",
              "       [111.210594]], dtype=float32)"
            ]
          },
          "metadata": {},
          "execution_count": 126
        }
      ]
    },
    {
      "cell_type": "code",
      "source": [
        "y_test"
      ],
      "metadata": {
        "colab": {
          "base_uri": "https://localhost:8080/"
        },
        "id": "7xlPMVcLMGli",
        "outputId": "f1a75fdc-2b33-40c3-c00e-83b47ae3938c"
      },
      "execution_count": 127,
      "outputs": [
        {
          "output_type": "execute_result",
          "data": {
            "text/plain": [
              "<tf.Tensor: shape=(10,), dtype=int32, numpy=array([ 70,  74,  78,  82,  86,  90,  94,  98, 102, 106], dtype=int32)>"
            ]
          },
          "metadata": {},
          "execution_count": 127
        }
      ]
    },
    {
      "cell_type": "code",
      "source": [
        "### plot real vs predicted\n",
        "## plotting function\n",
        "\n",
        "def plot_predictions(train, train_labels, xtest, ytest, predictions):\n",
        "  \"\"\"\n",
        "  Plot training, test and prediction data\n",
        "  \"\"\"\n",
        "  plt.figure(figsize = (10,7))\n",
        "    # plot training data in blue\n",
        "  plt.scatter(train, train_labels, c = \"b\", label = \"Training Data\")\n",
        "  plt.scatter(xtest, ytest, c = \"g\", label = \"Test Data\")\n",
        "  plt.scatter(xtest, predictions, c = \"r\", label = \"Predictions\")\n",
        "  plt.legend()"
      ],
      "metadata": {
        "id": "DrXPS1mQNNMq"
      },
      "execution_count": 128,
      "outputs": []
    },
    {
      "cell_type": "code",
      "source": [
        "plot_predictions(X_train, y_train, X_test, y_test, y_pred)"
      ],
      "metadata": {
        "colab": {
          "base_uri": "https://localhost:8080/",
          "height": 599
        },
        "id": "VSz09SCZO6zc",
        "outputId": "5b0033e3-5417-43ae-cadd-36faff72a7e2"
      },
      "execution_count": 129,
      "outputs": [
        {
          "output_type": "display_data",
          "data": {
            "text/plain": [
              "<Figure size 1000x700 with 1 Axes>"
            ],
            "image/png": "[encoded data removed]"
          },
          "metadata": {}
        }
      ]
    },
    {
      "cell_type": "markdown",
      "source": [
        "### Regression Evaluation Metrics\n",
        "\n",
        "> Different evaluation metrics to evaluate model performance depending on the problem you're working on.\n",
        "\n",
        "-> MAE - on average how wrong is each of models predictions\n",
        "-> MSE - square average errors\n",
        "\n"
      ],
      "metadata": {
        "id": "J576v-C3Pxr_"
      }
    },
    {
      "cell_type": "code",
      "source": [
        "model_split.evaluate(X_test, y_test)"
      ],
      "metadata": {
        "colab": {
          "base_uri": "https://localhost:8080/"
        },
        "id": "51Iwk8TFPCfp",
        "outputId": "4fd0d06e-06b4-4a39-90b2-34a9c73870b3"
      },
      "execution_count": 130,
      "outputs": [
        {
          "output_type": "stream",
          "name": "stdout",
          "text": [
            "1/1 [==============================] - 0s 238ms/step - loss: 2.4731 - mae: 2.4731\n"
          ]
        },
        {
          "output_type": "execute_result",
          "data": {
            "text/plain": [
              "[2.4731032848358154, 2.4731032848358154]"
            ]
          },
          "metadata": {},
          "execution_count": 130
        }
      ]
    },
    {
      "cell_type": "code",
      "source": [
        "# mae\n",
        "# ensure it is in tensor format!\n",
        "# y_test and y_pred in different shapes (10,1) VS (10,)\n",
        "# use tf.squeeze for that\n",
        "tf.keras.losses.mean_absolute_error(y_test, tf.squeeze(y_pred))"
      ],
      "metadata": {
        "colab": {
          "base_uri": "https://localhost:8080/"
        },
        "id": "AiTHh5O4Rb8p",
        "outputId": "f2a48c3c-52db-481e-8c74-e0f320885e49"
      },
      "execution_count": 131,
      "outputs": [
        {
          "output_type": "execute_result",
          "data": {
            "text/plain": [
              "<tf.Tensor: shape=(), dtype=float32, numpy=2.4731033>"
            ]
          },
          "metadata": {},
          "execution_count": 131
        }
      ]
    },
    {
      "cell_type": "code",
      "source": [
        "# mse\n",
        "mse = tf.keras.losses.MeanSquaredError()\n",
        "mse(y_test, y_pred)\n",
        "\n",
        "\n",
        "## huber for combination of mse & mae"
      ],
      "metadata": {
        "colab": {
          "base_uri": "https://localhost:8080/"
        },
        "id": "j8yVVMX5R_lt",
        "outputId": "633cee08-826d-4234-80cf-19ee42212d93"
      },
      "execution_count": 132,
      "outputs": [
        {
          "output_type": "execute_result",
          "data": {
            "text/plain": [
              "<tf.Tensor: shape=(), dtype=float32, numpy=314.38333>"
            ]
          },
          "metadata": {},
          "execution_count": 132
        }
      ]
    },
    {
      "cell_type": "code",
      "source": [
        "### functions for later use\n",
        "\n",
        "def mae(y_t, y_predicted):\n",
        "  return tf.metrics.mean_absolute_error(y_t, tf.squeeze(y_predicted))\n",
        "\n",
        "def mse(y_t, y_predicted):\n",
        "  return tf.metrics.mean_squared_error(y_t, tf.squeeze(y_predicted))"
      ],
      "metadata": {
        "id": "C9nV0ONJTgq_"
      },
      "execution_count": 133,
      "outputs": []
    },
    {
      "cell_type": "markdown",
      "source": [
        "## Setting up TF modelling experiments\n",
        "\n",
        "3 Modelling Experiments:\n",
        "\n",
        "1. Same model as before, but more epochs.\n",
        "2. 2 layers trained for 100 epochs.\n",
        "3. 2 layers train for 500 epochs."
      ],
      "metadata": {
        "id": "qV5kn5AlRSmF"
      }
    },
    {
      "cell_type": "code",
      "source": [
        "# lets try number one now\n",
        "\n",
        "tf.random.set_seed(42)\n",
        "\n",
        "model_1 = tf.keras.Sequential([\n",
        "    tf.keras.layers.Dense(1, activation = \"relu\")\n",
        "])\n",
        "\n",
        "model_1.compile(loss = tf.keras.losses.mae,\n",
        "                optimizer = tf.keras.optimizers.SGD(),\n",
        "                metrics = ['mae'])\n",
        "\n",
        "model_1.fit(tf.expand_dims(X_train, axis=-1), y_train, epochs = 100)"
      ],
      "metadata": {
        "colab": {
          "base_uri": "https://localhost:8080/"
        },
        "id": "LdoHY4sTU1Gv",
        "outputId": "9856a763-a989-4fbd-9503-cd48fbc2b43f"
      },
      "execution_count": 134,
      "outputs": [
        {
          "output_type": "stream",
          "name": "stdout",
          "text": [
            "Epoch 1/100\n",
            "2/2 [==============================] - 1s 21ms/step - loss: 31.0179 - mae: 31.0179\n",
            "Epoch 2/100\n",
            "2/2 [==============================] - 0s 17ms/step - loss: 29.0665 - mae: 29.0665\n",
            "Epoch 3/100\n",
            "2/2 [==============================] - 0s 12ms/step - loss: 28.3266 - mae: 28.3266\n",
            "Epoch 4/100\n",
            "2/2 [==============================] - 0s 14ms/step - loss: 28.2956 - mae: 28.2956\n",
            "Epoch 5/100\n",
            "2/2 [==============================] - 0s 12ms/step - loss: 28.2987 - mae: 28.2987\n",
            "Epoch 6/100\n",
            "2/2 [==============================] - 0s 11ms/step - loss: 28.4283 - mae: 28.4283\n",
            "Epoch 7/100\n",
            "2/2 [==============================] - 0s 13ms/step - loss: 28.3427 - mae: 28.3427\n",
            "Epoch 8/100\n",
            "2/2 [==============================] - 0s 12ms/step - loss: 28.3774 - mae: 28.3774\n",
            "Epoch 9/100\n",
            "2/2 [==============================] - 0s 11ms/step - loss: 28.3687 - mae: 28.3687\n",
            "Epoch 10/100\n",
            "2/2 [==============================] - 0s 9ms/step - loss: 28.2870 - mae: 28.2870\n",
            "Epoch 11/100\n",
            "2/2 [==============================] - 0s 11ms/step - loss: 28.3533 - mae: 28.3533\n",
            "Epoch 12/100\n",
            "2/2 [==============================] - 0s 13ms/step - loss: 28.2817 - mae: 28.2817\n",
            "Epoch 13/100\n",
            "2/2 [==============================] - 0s 10ms/step - loss: 28.2735 - mae: 28.2735\n",
            "Epoch 14/100\n",
            "2/2 [==============================] - 0s 8ms/step - loss: 28.2838 - mae: 28.2838\n",
            "Epoch 15/100\n",
            "2/2 [==============================] - 0s 8ms/step - loss: 28.7436 - mae: 28.7436\n",
            "Epoch 16/100\n",
            "2/2 [==============================] - 0s 9ms/step - loss: 28.5854 - mae: 28.5854\n",
            "Epoch 17/100\n",
            "2/2 [==============================] - 0s 8ms/step - loss: 28.3034 - mae: 28.3034\n",
            "Epoch 18/100\n",
            "2/2 [==============================] - 0s 9ms/step - loss: 28.8392 - mae: 28.8392\n",
            "Epoch 19/100\n",
            "2/2 [==============================] - 0s 11ms/step - loss: 28.3126 - mae: 28.3126\n",
            "Epoch 20/100\n",
            "2/2 [==============================] - 0s 11ms/step - loss: 28.2751 - mae: 28.2751\n",
            "Epoch 21/100\n",
            "2/2 [==============================] - 0s 13ms/step - loss: 28.2738 - mae: 28.2738\n",
            "Epoch 22/100\n",
            "2/2 [==============================] - 0s 11ms/step - loss: 28.3558 - mae: 28.3558\n",
            "Epoch 23/100\n",
            "2/2 [==============================] - 0s 12ms/step - loss: 28.6337 - mae: 28.6337\n",
            "Epoch 24/100\n",
            "2/2 [==============================] - 0s 9ms/step - loss: 28.3515 - mae: 28.3515\n",
            "Epoch 25/100\n",
            "2/2 [==============================] - 0s 12ms/step - loss: 28.2765 - mae: 28.2765\n",
            "Epoch 26/100\n",
            "2/2 [==============================] - 0s 14ms/step - loss: 28.3270 - mae: 28.3270\n",
            "Epoch 27/100\n",
            "2/2 [==============================] - 0s 12ms/step - loss: 28.4903 - mae: 28.4903\n",
            "Epoch 28/100\n",
            "2/2 [==============================] - 0s 10ms/step - loss: 28.2869 - mae: 28.2869\n",
            "Epoch 29/100\n",
            "2/2 [==============================] - 0s 10ms/step - loss: 28.3000 - mae: 28.3000\n",
            "Epoch 30/100\n",
            "2/2 [==============================] - 0s 10ms/step - loss: 28.3211 - mae: 28.3211\n",
            "Epoch 31/100\n",
            "2/2 [==============================] - 0s 12ms/step - loss: 28.3372 - mae: 28.3372\n",
            "Epoch 32/100\n",
            "2/2 [==============================] - 0s 12ms/step - loss: 28.2603 - mae: 28.2603\n",
            "Epoch 33/100\n",
            "2/2 [==============================] - 0s 13ms/step - loss: 28.4037 - mae: 28.4037\n",
            "Epoch 34/100\n",
            "2/2 [==============================] - 0s 9ms/step - loss: 28.3515 - mae: 28.3515\n",
            "Epoch 35/100\n",
            "2/2 [==============================] - 0s 10ms/step - loss: 28.2594 - mae: 28.2594\n",
            "Epoch 36/100\n",
            "2/2 [==============================] - 0s 11ms/step - loss: 28.2629 - mae: 28.2629\n",
            "Epoch 37/100\n",
            "2/2 [==============================] - 0s 14ms/step - loss: 28.2837 - mae: 28.2837\n",
            "Epoch 38/100\n",
            "2/2 [==============================] - 0s 14ms/step - loss: 28.5770 - mae: 28.5770\n",
            "Epoch 39/100\n",
            "2/2 [==============================] - 0s 11ms/step - loss: 28.4367 - mae: 28.4367\n",
            "Epoch 40/100\n",
            "2/2 [==============================] - 0s 8ms/step - loss: 28.2764 - mae: 28.2764\n",
            "Epoch 41/100\n",
            "2/2 [==============================] - 0s 14ms/step - loss: 28.2959 - mae: 28.2959\n",
            "Epoch 42/100\n",
            "2/2 [==============================] - 0s 11ms/step - loss: 28.2999 - mae: 28.2999\n",
            "Epoch 43/100\n",
            "2/2 [==============================] - 0s 9ms/step - loss: 28.2759 - mae: 28.2759\n",
            "Epoch 44/100\n",
            "2/2 [==============================] - 0s 12ms/step - loss: 28.3216 - mae: 28.3216\n",
            "Epoch 45/100\n",
            "2/2 [==============================] - 0s 11ms/step - loss: 28.2983 - mae: 28.2983\n",
            "Epoch 46/100\n",
            "2/2 [==============================] - 0s 10ms/step - loss: 28.5869 - mae: 28.5869\n",
            "Epoch 47/100\n",
            "2/2 [==============================] - 0s 9ms/step - loss: 28.3594 - mae: 28.3594\n",
            "Epoch 48/100\n",
            "2/2 [==============================] - 0s 9ms/step - loss: 28.3581 - mae: 28.3581\n",
            "Epoch 49/100\n",
            "2/2 [==============================] - 0s 7ms/step - loss: 28.3134 - mae: 28.3134\n",
            "Epoch 50/100\n",
            "2/2 [==============================] - 0s 9ms/step - loss: 28.2977 - mae: 28.2977\n",
            "Epoch 51/100\n",
            "2/2 [==============================] - 0s 10ms/step - loss: 28.3960 - mae: 28.3960\n",
            "Epoch 52/100\n",
            "2/2 [==============================] - 0s 12ms/step - loss: 28.3854 - mae: 28.3854\n",
            "Epoch 53/100\n",
            "2/2 [==============================] - 0s 10ms/step - loss: 28.3245 - mae: 28.3245\n",
            "Epoch 54/100\n",
            "2/2 [==============================] - 0s 12ms/step - loss: 28.3010 - mae: 28.3010\n",
            "Epoch 55/100\n",
            "2/2 [==============================] - 0s 10ms/step - loss: 28.3131 - mae: 28.3131\n",
            "Epoch 56/100\n",
            "2/2 [==============================] - 0s 9ms/step - loss: 28.4624 - mae: 28.4624\n",
            "Epoch 57/100\n",
            "2/2 [==============================] - 0s 9ms/step - loss: 28.2448 - mae: 28.2448\n",
            "Epoch 58/100\n",
            "2/2 [==============================] - 0s 9ms/step - loss: 28.3454 - mae: 28.3454\n",
            "Epoch 59/100\n",
            "2/2 [==============================] - 0s 9ms/step - loss: 28.2717 - mae: 28.2717\n",
            "Epoch 60/100\n",
            "2/2 [==============================] - 0s 8ms/step - loss: 28.2614 - mae: 28.2614\n",
            "Epoch 61/100\n",
            "2/2 [==============================] - 0s 9ms/step - loss: 28.3815 - mae: 28.3815\n",
            "Epoch 62/100\n",
            "2/2 [==============================] - 0s 9ms/step - loss: 28.2564 - mae: 28.2564\n",
            "Epoch 63/100\n",
            "2/2 [==============================] - 0s 9ms/step - loss: 28.2930 - mae: 28.2930\n",
            "Epoch 64/100\n",
            "2/2 [==============================] - 0s 15ms/step - loss: 28.2510 - mae: 28.2510\n",
            "Epoch 65/100\n",
            "2/2 [==============================] - 0s 12ms/step - loss: 28.2522 - mae: 28.2522\n",
            "Epoch 66/100\n",
            "2/2 [==============================] - 0s 9ms/step - loss: 28.2831 - mae: 28.2831\n",
            "Epoch 67/100\n",
            "2/2 [==============================] - 0s 9ms/step - loss: 28.3155 - mae: 28.3155\n",
            "Epoch 68/100\n",
            "2/2 [==============================] - 0s 8ms/step - loss: 28.3685 - mae: 28.3685\n",
            "Epoch 69/100\n",
            "2/2 [==============================] - 0s 8ms/step - loss: 28.3316 - mae: 28.3316\n",
            "Epoch 70/100\n",
            "2/2 [==============================] - 0s 9ms/step - loss: 28.3578 - mae: 28.3578\n",
            "Epoch 71/100\n",
            "2/2 [==============================] - 0s 10ms/step - loss: 28.2754 - mae: 28.2754\n",
            "Epoch 72/100\n",
            "2/2 [==============================] - 0s 12ms/step - loss: 28.2772 - mae: 28.2772\n",
            "Epoch 73/100\n",
            "2/2 [==============================] - 0s 11ms/step - loss: 28.4816 - mae: 28.4816\n",
            "Epoch 74/100\n",
            "2/2 [==============================] - 0s 8ms/step - loss: 28.8014 - mae: 28.8014\n",
            "Epoch 75/100\n",
            "2/2 [==============================] - 0s 11ms/step - loss: 28.9116 - mae: 28.9116\n",
            "Epoch 76/100\n",
            "2/2 [==============================] - 0s 11ms/step - loss: 28.9675 - mae: 28.9675\n",
            "Epoch 77/100\n",
            "2/2 [==============================] - 0s 9ms/step - loss: 28.4238 - mae: 28.4238\n",
            "Epoch 78/100\n",
            "2/2 [==============================] - 0s 10ms/step - loss: 28.6395 - mae: 28.6395\n",
            "Epoch 79/100\n",
            "2/2 [==============================] - 0s 11ms/step - loss: 28.3296 - mae: 28.3296\n",
            "Epoch 80/100\n",
            "2/2 [==============================] - 0s 15ms/step - loss: 28.2441 - mae: 28.2441\n",
            "Epoch 81/100\n",
            "2/2 [==============================] - 0s 13ms/step - loss: 28.4279 - mae: 28.4279\n",
            "Epoch 82/100\n",
            "2/2 [==============================] - 0s 11ms/step - loss: 28.2767 - mae: 28.2767\n",
            "Epoch 83/100\n",
            "2/2 [==============================] - 0s 11ms/step - loss: 28.3067 - mae: 28.3067\n",
            "Epoch 84/100\n",
            "2/2 [==============================] - 0s 9ms/step - loss: 28.3099 - mae: 28.3099\n",
            "Epoch 85/100\n",
            "2/2 [==============================] - 0s 12ms/step - loss: 28.3003 - mae: 28.3003\n",
            "Epoch 86/100\n",
            "2/2 [==============================] - 0s 13ms/step - loss: 28.2607 - mae: 28.2607\n",
            "Epoch 87/100\n",
            "2/2 [==============================] - 0s 9ms/step - loss: 28.2478 - mae: 28.2478\n",
            "Epoch 88/100\n",
            "2/2 [==============================] - 0s 9ms/step - loss: 28.2568 - mae: 28.2568\n",
            "Epoch 89/100\n",
            "2/2 [==============================] - 0s 8ms/step - loss: 28.3460 - mae: 28.3460\n",
            "Epoch 90/100\n",
            "2/2 [==============================] - 0s 9ms/step - loss: 28.2460 - mae: 28.2460\n",
            "Epoch 91/100\n",
            "2/2 [==============================] - 0s 11ms/step - loss: 28.2643 - mae: 28.2643\n",
            "Epoch 92/100\n",
            "2/2 [==============================] - 0s 9ms/step - loss: 28.2809 - mae: 28.2809\n",
            "Epoch 93/100\n",
            "2/2 [==============================] - 0s 9ms/step - loss: 28.5836 - mae: 28.5836\n",
            "Epoch 94/100\n",
            "2/2 [==============================] - 0s 9ms/step - loss: 28.2832 - mae: 28.2832\n",
            "Epoch 95/100\n",
            "2/2 [==============================] - 0s 10ms/step - loss: 28.5345 - mae: 28.5345\n",
            "Epoch 96/100\n",
            "2/2 [==============================] - 0s 10ms/step - loss: 28.2435 - mae: 28.2435\n",
            "Epoch 97/100\n",
            "2/2 [==============================] - 0s 12ms/step - loss: 28.3024 - mae: 28.3024\n",
            "Epoch 98/100\n",
            "2/2 [==============================] - 0s 8ms/step - loss: 28.2614 - mae: 28.2614\n",
            "Epoch 99/100\n",
            "2/2 [==============================] - 0s 8ms/step - loss: 28.2452 - mae: 28.2452\n",
            "Epoch 100/100\n",
            "2/2 [==============================] - 0s 12ms/step - loss: 28.3238 - mae: 28.3238\n"
          ]
        },
        {
          "output_type": "execute_result",
          "data": {
            "text/plain": [
              "<keras.src.callbacks.History at 0x7e65788d28c0>"
            ]
          },
          "metadata": {},
          "execution_count": 134
        }
      ]
    },
    {
      "cell_type": "code",
      "source": [
        "## track results\n",
        "## make plot predictions on model 1\n",
        "y_pred1 = model_1.predict(X_test)\n",
        "plot_predictions(X_train, y_train, X_test, y_test, y_pred1)"
      ],
      "metadata": {
        "colab": {
          "base_uri": "https://localhost:8080/",
          "height": 654
        },
        "id": "OAuKE5PLTVRA",
        "outputId": "41553d02-6e38-45b3-f759-9a23b2940ce0"
      },
      "execution_count": 135,
      "outputs": [
        {
          "output_type": "stream",
          "name": "stderr",
          "text": [
            "WARNING:tensorflow:6 out of the last 6 calls to <function Model.make_predict_function.<locals>.predict_function at 0x7e6578a20d30> triggered tf.function retracing. Tracing is expensive and the excessive number of tracings could be due to (1) creating @tf.function repeatedly in a loop, (2) passing tensors with different shapes, (3) passing Python objects instead of tensors. For (1), please define your @tf.function outside of the loop. For (2), @tf.function has reduce_retracing=True option that can avoid unnecessary retracing. For (3), please refer to https://www.tensorflow.org/guide/function#controlling_retracing and https://www.tensorflow.org/api_docs/python/tf/function for  more details.\n"
          ]
        },
        {
          "output_type": "stream",
          "name": "stdout",
          "text": [
            "1/1 [==============================] - 0s 58ms/step\n"
          ]
        },
        {
          "output_type": "display_data",
          "data": {
            "text/plain": [
              "<Figure size 1000x700 with 1 Axes>"
            ],
            "image/png": "[encoded data removed]"
          },
          "metadata": {}
        }
      ]
    },
    {
      "cell_type": "code",
      "source": [
        "### evaluation metrics\n",
        "\n",
        "print(\"MSE model 1: \" + str(mse(y_test, y_pred1)))\n",
        "print(\"MAE model 1: \" + str(mae(y_test, y_pred1)))"
      ],
      "metadata": {
        "colab": {
          "base_uri": "https://localhost:8080/"
        },
        "id": "Mq4lrxsuUFFm",
        "outputId": "71e2373d-b79d-45b2-9044-a0ba81ad6dd7"
      },
      "execution_count": 136,
      "outputs": [
        {
          "output_type": "stream",
          "name": "stdout",
          "text": [
            "MSE model 1: tf.Tensor(5.165676, shape=(), dtype=float32)\n",
            "MAE model 1: tf.Tensor(1.8564613, shape=(), dtype=float32)\n"
          ]
        }
      ]
    },
    {
      "cell_type": "code",
      "source": [
        "## model 2\n",
        "tf.random.set_seed(42)\n",
        "\n",
        "model_2 = tf.keras.Sequential([\n",
        "    tf.keras.layers.Dense(10),\n",
        "    tf.keras.layers.Dense(1)\n",
        "])\n",
        "\n",
        "model_2.compile(loss = tf.keras.losses.mae,\n",
        "                optimizer = tf.keras.optimizers.SGD(),\n",
        "                metrics = [\"mae\"])\n",
        "\n",
        "model_2.fit(tf.expand_dims(X_train, axis=-1), y_train, epochs = 100)"
      ],
      "metadata": {
        "colab": {
          "base_uri": "https://localhost:8080/"
        },
        "id": "Q4nb7aD5UTbn",
        "outputId": "f246aae2-c14e-4bb7-cf1b-f38e81e53a33"
      },
      "execution_count": 142,
      "outputs": [
        {
          "output_type": "stream",
          "name": "stdout",
          "text": [
            "Epoch 1/100\n",
            "2/2 [==============================] - 2s 31ms/step - loss: 34.7159 - mae: 34.7159\n",
            "Epoch 2/100\n",
            "2/2 [==============================] - 0s 12ms/step - loss: 28.0790 - mae: 28.0790\n",
            "Epoch 3/100\n",
            "2/2 [==============================] - 0s 51ms/step - loss: 33.4629 - mae: 33.4629\n",
            "Epoch 4/100\n",
            "2/2 [==============================] - 0s 24ms/step - loss: 26.3422 - mae: 26.3422\n",
            "Epoch 5/100\n",
            "2/2 [==============================] - 0s 19ms/step - loss: 14.4491 - mae: 14.4491\n",
            "Epoch 6/100\n",
            "2/2 [==============================] - 0s 16ms/step - loss: 11.5373 - mae: 11.5373\n",
            "Epoch 7/100\n",
            "2/2 [==============================] - 0s 22ms/step - loss: 12.5869 - mae: 12.5869\n",
            "Epoch 8/100\n",
            "2/2 [==============================] - 0s 18ms/step - loss: 11.0208 - mae: 11.0208\n",
            "Epoch 9/100\n",
            "2/2 [==============================] - 0s 16ms/step - loss: 39.4418 - mae: 39.4418\n",
            "Epoch 10/100\n",
            "2/2 [==============================] - 0s 25ms/step - loss: 26.9663 - mae: 26.9663\n",
            "Epoch 11/100\n",
            "2/2 [==============================] - 0s 17ms/step - loss: 11.0425 - mae: 11.0425\n",
            "Epoch 12/100\n",
            "2/2 [==============================] - 0s 16ms/step - loss: 24.4952 - mae: 24.4952\n",
            "Epoch 13/100\n",
            "2/2 [==============================] - 0s 23ms/step - loss: 19.1498 - mae: 19.1498\n",
            "Epoch 14/100\n",
            "2/2 [==============================] - 0s 19ms/step - loss: 23.3288 - mae: 23.3288\n",
            "Epoch 15/100\n",
            "2/2 [==============================] - 0s 17ms/step - loss: 15.1791 - mae: 15.1791\n",
            "Epoch 16/100\n",
            "2/2 [==============================] - 0s 17ms/step - loss: 11.3217 - mae: 11.3217\n",
            "Epoch 17/100\n",
            "2/2 [==============================] - 0s 31ms/step - loss: 23.0694 - mae: 23.0694\n",
            "Epoch 18/100\n",
            "2/2 [==============================] - 0s 51ms/step - loss: 11.3733 - mae: 11.3733\n",
            "Epoch 19/100\n",
            "2/2 [==============================] - 0s 34ms/step - loss: 13.9683 - mae: 13.9683\n",
            "Epoch 20/100\n",
            "2/2 [==============================] - 0s 39ms/step - loss: 11.2136 - mae: 11.2136\n",
            "Epoch 21/100\n",
            "2/2 [==============================] - 0s 28ms/step - loss: 17.2883 - mae: 17.2883\n",
            "Epoch 22/100\n",
            "2/2 [==============================] - 0s 59ms/step - loss: 15.5249 - mae: 15.5249\n",
            "Epoch 23/100\n",
            "2/2 [==============================] - 0s 37ms/step - loss: 9.2398 - mae: 9.2398\n",
            "Epoch 24/100\n",
            "2/2 [==============================] - 0s 37ms/step - loss: 17.2626 - mae: 17.2626\n",
            "Epoch 25/100\n",
            "2/2 [==============================] - 0s 42ms/step - loss: 15.9376 - mae: 15.9376\n",
            "Epoch 26/100\n",
            "2/2 [==============================] - 0s 26ms/step - loss: 20.9276 - mae: 20.9276\n",
            "Epoch 27/100\n",
            "2/2 [==============================] - 0s 32ms/step - loss: 25.9707 - mae: 25.9707\n",
            "Epoch 28/100\n",
            "2/2 [==============================] - 0s 19ms/step - loss: 18.4676 - mae: 18.4676\n",
            "Epoch 29/100\n",
            "2/2 [==============================] - 0s 38ms/step - loss: 9.2440 - mae: 9.2440\n",
            "Epoch 30/100\n",
            "2/2 [==============================] - 0s 48ms/step - loss: 29.0821 - mae: 29.0821\n",
            "Epoch 31/100\n",
            "2/2 [==============================] - 0s 22ms/step - loss: 52.6728 - mae: 52.6728\n",
            "Epoch 32/100\n",
            "2/2 [==============================] - 0s 25ms/step - loss: 11.9260 - mae: 11.9260\n",
            "Epoch 33/100\n",
            "2/2 [==============================] - 0s 18ms/step - loss: 15.5169 - mae: 15.5169\n",
            "Epoch 34/100\n",
            "2/2 [==============================] - 0s 37ms/step - loss: 12.6107 - mae: 12.6107\n",
            "Epoch 35/100\n",
            "2/2 [==============================] - 0s 20ms/step - loss: 9.2036 - mae: 9.2036\n",
            "Epoch 36/100\n",
            "2/2 [==============================] - 0s 26ms/step - loss: 16.4998 - mae: 16.4998\n",
            "Epoch 37/100\n",
            "2/2 [==============================] - 0s 40ms/step - loss: 11.0802 - mae: 11.0802\n",
            "Epoch 38/100\n",
            "2/2 [==============================] - 0s 22ms/step - loss: 18.2092 - mae: 18.2092\n",
            "Epoch 39/100\n",
            "2/2 [==============================] - 0s 26ms/step - loss: 19.1421 - mae: 19.1421\n",
            "Epoch 40/100\n",
            "2/2 [==============================] - 0s 25ms/step - loss: 20.5065 - mae: 20.5065\n",
            "Epoch 41/100\n",
            "2/2 [==============================] - 0s 29ms/step - loss: 14.8184 - mae: 14.8184\n",
            "Epoch 42/100\n",
            "2/2 [==============================] - 0s 18ms/step - loss: 12.2115 - mae: 12.2115\n",
            "Epoch 43/100\n",
            "2/2 [==============================] - 0s 33ms/step - loss: 10.6992 - mae: 10.6992\n",
            "Epoch 44/100\n",
            "2/2 [==============================] - 0s 26ms/step - loss: 32.2954 - mae: 32.2954\n",
            "Epoch 45/100\n",
            "2/2 [==============================] - 0s 25ms/step - loss: 12.4771 - mae: 12.4771\n",
            "Epoch 46/100\n",
            "2/2 [==============================] - 0s 15ms/step - loss: 17.5370 - mae: 17.5370\n",
            "Epoch 47/100\n",
            "2/2 [==============================] - 0s 25ms/step - loss: 15.7493 - mae: 15.7493\n",
            "Epoch 48/100\n",
            "2/2 [==============================] - 0s 10ms/step - loss: 8.3721 - mae: 8.3721\n",
            "Epoch 49/100\n",
            "2/2 [==============================] - 0s 16ms/step - loss: 13.9809 - mae: 13.9809\n",
            "Epoch 50/100\n",
            "2/2 [==============================] - 0s 17ms/step - loss: 12.8229 - mae: 12.8229\n",
            "Epoch 51/100\n",
            "2/2 [==============================] - 0s 29ms/step - loss: 14.8346 - mae: 14.8346\n",
            "Epoch 52/100\n",
            "2/2 [==============================] - 0s 21ms/step - loss: 18.7211 - mae: 18.7211\n",
            "Epoch 53/100\n",
            "2/2 [==============================] - 0s 22ms/step - loss: 24.1671 - mae: 24.1671\n",
            "Epoch 54/100\n",
            "2/2 [==============================] - 0s 25ms/step - loss: 23.1834 - mae: 23.1834\n",
            "Epoch 55/100\n",
            "2/2 [==============================] - 0s 21ms/step - loss: 24.0359 - mae: 24.0359\n",
            "Epoch 56/100\n",
            "2/2 [==============================] - 0s 25ms/step - loss: 11.1628 - mae: 11.1628\n",
            "Epoch 57/100\n",
            "2/2 [==============================] - 0s 20ms/step - loss: 13.1172 - mae: 13.1172\n",
            "Epoch 58/100\n",
            "2/2 [==============================] - 0s 48ms/step - loss: 9.8114 - mae: 9.8114\n",
            "Epoch 59/100\n",
            "2/2 [==============================] - 0s 33ms/step - loss: 13.3021 - mae: 13.3021\n",
            "Epoch 60/100\n",
            "2/2 [==============================] - 0s 26ms/step - loss: 10.8690 - mae: 10.8690\n",
            "Epoch 61/100\n",
            "2/2 [==============================] - 0s 11ms/step - loss: 13.4681 - mae: 13.4681\n",
            "Epoch 62/100\n",
            "2/2 [==============================] - 0s 31ms/step - loss: 17.4887 - mae: 17.4887\n",
            "Epoch 63/100\n",
            "2/2 [==============================] - 0s 28ms/step - loss: 9.1583 - mae: 9.1583\n",
            "Epoch 64/100\n",
            "2/2 [==============================] - 0s 20ms/step - loss: 18.3591 - mae: 18.3591\n",
            "Epoch 65/100\n",
            "2/2 [==============================] - 0s 37ms/step - loss: 10.1133 - mae: 10.1133\n",
            "Epoch 66/100\n",
            "2/2 [==============================] - 0s 23ms/step - loss: 24.2151 - mae: 24.2151\n",
            "Epoch 67/100\n",
            "2/2 [==============================] - 0s 16ms/step - loss: 10.8779 - mae: 10.8779\n",
            "Epoch 68/100\n",
            "2/2 [==============================] - 0s 32ms/step - loss: 10.7629 - mae: 10.7629\n",
            "Epoch 69/100\n",
            "2/2 [==============================] - 0s 27ms/step - loss: 23.1936 - mae: 23.1936\n",
            "Epoch 70/100\n",
            "2/2 [==============================] - 0s 28ms/step - loss: 8.8255 - mae: 8.8255\n",
            "Epoch 71/100\n",
            "2/2 [==============================] - 0s 32ms/step - loss: 16.0002 - mae: 16.0002\n",
            "Epoch 72/100\n",
            "2/2 [==============================] - 0s 14ms/step - loss: 8.1543 - mae: 8.1543\n",
            "Epoch 73/100\n",
            "2/2 [==============================] - 0s 18ms/step - loss: 9.4689 - mae: 9.4689\n",
            "Epoch 74/100\n",
            "2/2 [==============================] - 0s 32ms/step - loss: 28.1738 - mae: 28.1738\n",
            "Epoch 75/100\n",
            "2/2 [==============================] - 0s 30ms/step - loss: 10.1807 - mae: 10.1807\n",
            "Epoch 76/100\n",
            "2/2 [==============================] - 0s 33ms/step - loss: 13.1270 - mae: 13.1270\n",
            "Epoch 77/100\n",
            "2/2 [==============================] - 0s 17ms/step - loss: 18.3365 - mae: 18.3365\n",
            "Epoch 78/100\n",
            "2/2 [==============================] - 0s 28ms/step - loss: 9.0107 - mae: 9.0107\n",
            "Epoch 79/100\n",
            "2/2 [==============================] - 0s 27ms/step - loss: 29.2821 - mae: 29.2821\n",
            "Epoch 80/100\n",
            "2/2 [==============================] - 0s 27ms/step - loss: 31.7159 - mae: 31.7159\n",
            "Epoch 81/100\n",
            "2/2 [==============================] - 0s 21ms/step - loss: 13.9377 - mae: 13.9377\n",
            "Epoch 82/100\n",
            "2/2 [==============================] - 0s 32ms/step - loss: 15.6881 - mae: 15.6881\n",
            "Epoch 83/100\n",
            "2/2 [==============================] - 0s 29ms/step - loss: 11.1766 - mae: 11.1766\n",
            "Epoch 84/100\n",
            "2/2 [==============================] - 0s 26ms/step - loss: 7.3102 - mae: 7.3102\n",
            "Epoch 85/100\n",
            "2/2 [==============================] - 0s 25ms/step - loss: 15.1177 - mae: 15.1177\n",
            "Epoch 86/100\n",
            "2/2 [==============================] - 0s 30ms/step - loss: 15.4095 - mae: 15.4095\n",
            "Epoch 87/100\n",
            "2/2 [==============================] - 0s 33ms/step - loss: 19.3509 - mae: 19.3509\n",
            "Epoch 88/100\n",
            "2/2 [==============================] - 0s 37ms/step - loss: 29.1957 - mae: 29.1957\n",
            "Epoch 89/100\n",
            "2/2 [==============================] - 0s 20ms/step - loss: 10.0946 - mae: 10.0946\n",
            "Epoch 90/100\n",
            "2/2 [==============================] - 0s 24ms/step - loss: 21.0059 - mae: 21.0059\n",
            "Epoch 91/100\n",
            "2/2 [==============================] - 0s 26ms/step - loss: 10.4582 - mae: 10.4582\n",
            "Epoch 92/100\n",
            "2/2 [==============================] - 0s 22ms/step - loss: 17.9305 - mae: 17.9305\n",
            "Epoch 93/100\n",
            "2/2 [==============================] - 0s 21ms/step - loss: 6.5657 - mae: 6.5657\n",
            "Epoch 94/100\n",
            "2/2 [==============================] - 0s 25ms/step - loss: 11.1122 - mae: 11.1122\n",
            "Epoch 95/100\n",
            "2/2 [==============================] - 0s 25ms/step - loss: 24.2934 - mae: 24.2934\n",
            "Epoch 96/100\n",
            "2/2 [==============================] - 0s 21ms/step - loss: 10.7170 - mae: 10.7170\n",
            "Epoch 97/100\n",
            "2/2 [==============================] - 0s 33ms/step - loss: 15.3083 - mae: 15.3083\n",
            "Epoch 98/100\n",
            "2/2 [==============================] - 0s 20ms/step - loss: 8.2405 - mae: 8.2405\n",
            "Epoch 99/100\n",
            "2/2 [==============================] - 0s 20ms/step - loss: 16.4803 - mae: 16.4803\n",
            "Epoch 100/100\n",
            "2/2 [==============================] - 0s 20ms/step - loss: 14.2705 - mae: 14.2705\n"
          ]
        },
        {
          "output_type": "execute_result",
          "data": {
            "text/plain": [
              "<keras.src.callbacks.History at 0x7e6578844e20>"
            ]
          },
          "metadata": {},
          "execution_count": 142
        }
      ]
    },
    {
      "cell_type": "code",
      "source": [
        "## track results\n",
        "## make plot predictions on model 1\n",
        "y_pred2 = model_2.predict(X_test)\n",
        "plot_predictions(X_train, y_train, X_test, y_test, y_pred2)"
      ],
      "metadata": {
        "colab": {
          "base_uri": "https://localhost:8080/",
          "height": 616
        },
        "id": "tN8HrAUBVpZ_",
        "outputId": "a3ba2d6d-0241-4c97-fe6b-2861bc020059"
      },
      "execution_count": 144,
      "outputs": [
        {
          "output_type": "stream",
          "name": "stdout",
          "text": [
            "1/1 [==============================] - 0s 239ms/step\n"
          ]
        },
        {
          "output_type": "display_data",
          "data": {
            "text/plain": [
              "<Figure size 1000x700 with 1 Axes>"
            ],
            "image/png": "[encoded data removed]"
          },
          "metadata": {}
        }
      ]
    },
    {
      "cell_type": "code",
      "source": [
        "### evaluation metrics\n",
        "\n",
        "print(\"MSE model 2: \" + str(mse(y_test, y_pred2)))\n",
        "print(\"MAE model 2: \" + str(mae(y_test, y_pred2)))\n",
        "\n",
        "## worse than before"
      ],
      "metadata": {
        "colab": {
          "base_uri": "https://localhost:8080/"
        },
        "id": "6VvX26aqWVgB",
        "outputId": "029cad0d-6ea7-4349-b5b9-934cf49d4460"
      },
      "execution_count": 145,
      "outputs": [
        {
          "output_type": "stream",
          "name": "stdout",
          "text": [
            "MSE model 2: tf.Tensor(120.874535, shape=(), dtype=float32)\n",
            "MAE model 2: tf.Tensor(10.635598, shape=(), dtype=float32)\n"
          ]
        }
      ]
    },
    {
      "cell_type": "code",
      "source": [
        "# model 3\n",
        "\n",
        "model_3 = tf.keras.Sequential([\n",
        "    tf.keras.layers.Dense(10),\n",
        "    tf.keras.layers.Dense(1)\n",
        "])\n",
        "\n",
        "model_3.compile(loss = tf.keras.losses.mae,\n",
        "                optimizer = tf.keras.optimizers.SGD(),\n",
        "                metrics = [\"mae\"])\n",
        "\n",
        "model_3.fit(tf.expand_dims(X_train, axis=-1), y_train, epochs = 500)"
      ],
      "metadata": {
        "colab": {
          "base_uri": "https://localhost:8080/"
        },
        "id": "YYLSj48CXE3Z",
        "outputId": "3f06512d-4cc2-4bc2-c605-217a708f41b2"
      },
      "execution_count": 146,
      "outputs": [
        {
          "output_type": "stream",
          "name": "stdout",
          "text": [
            "Epoch 1/500\n",
            "2/2 [==============================] - 1s 20ms/step - loss: 61.0661 - mae: 61.0661\n",
            "Epoch 2/500\n",
            "2/2 [==============================] - 0s 22ms/step - loss: 31.9815 - mae: 31.9815\n",
            "Epoch 3/500\n",
            "2/2 [==============================] - 0s 17ms/step - loss: 36.1737 - mae: 36.1737\n",
            "Epoch 4/500\n",
            "2/2 [==============================] - 0s 17ms/step - loss: 31.3109 - mae: 31.3109\n",
            "Epoch 5/500\n",
            "2/2 [==============================] - 0s 16ms/step - loss: 15.8925 - mae: 15.8925\n",
            "Epoch 6/500\n",
            "2/2 [==============================] - 0s 14ms/step - loss: 12.5924 - mae: 12.5924\n",
            "Epoch 7/500\n",
            "2/2 [==============================] - 0s 12ms/step - loss: 11.8531 - mae: 11.8531\n",
            "Epoch 8/500\n",
            "2/2 [==============================] - 0s 20ms/step - loss: 12.9130 - mae: 12.9130\n",
            "Epoch 9/500\n",
            "2/2 [==============================] - 0s 17ms/step - loss: 33.9907 - mae: 33.9907\n",
            "Epoch 10/500\n",
            "2/2 [==============================] - 0s 22ms/step - loss: 23.2858 - mae: 23.2858\n",
            "Epoch 11/500\n",
            "2/2 [==============================] - 0s 13ms/step - loss: 10.2482 - mae: 10.2482\n",
            "Epoch 12/500\n",
            "2/2 [==============================] - 0s 12ms/step - loss: 25.2266 - mae: 25.2266\n",
            "Epoch 13/500\n",
            "2/2 [==============================] - 0s 13ms/step - loss: 17.1611 - mae: 17.1611\n",
            "Epoch 14/500\n",
            "2/2 [==============================] - 0s 14ms/step - loss: 26.4239 - mae: 26.4239\n",
            "Epoch 15/500\n",
            "2/2 [==============================] - 0s 12ms/step - loss: 16.8956 - mae: 16.8956\n",
            "Epoch 16/500\n",
            "2/2 [==============================] - 0s 16ms/step - loss: 9.8318 - mae: 9.8318\n",
            "Epoch 17/500\n",
            "2/2 [==============================] - 0s 14ms/step - loss: 17.6318 - mae: 17.6318\n",
            "Epoch 18/500\n",
            "2/2 [==============================] - 0s 13ms/step - loss: 14.1087 - mae: 14.1087\n",
            "Epoch 19/500\n",
            "2/2 [==============================] - 0s 13ms/step - loss: 13.9476 - mae: 13.9476\n",
            "Epoch 20/500\n",
            "2/2 [==============================] - 0s 13ms/step - loss: 11.2033 - mae: 11.2033\n",
            "Epoch 21/500\n",
            "2/2 [==============================] - 0s 12ms/step - loss: 17.2685 - mae: 17.2685\n",
            "Epoch 22/500\n",
            "2/2 [==============================] - 0s 13ms/step - loss: 15.5062 - mae: 15.5062\n",
            "Epoch 23/500\n",
            "2/2 [==============================] - 0s 12ms/step - loss: 9.2393 - mae: 9.2393\n",
            "Epoch 24/500\n",
            "2/2 [==============================] - 0s 11ms/step - loss: 17.2670 - mae: 17.2670\n",
            "Epoch 25/500\n",
            "2/2 [==============================] - 0s 13ms/step - loss: 15.9399 - mae: 15.9399\n",
            "Epoch 26/500\n",
            "2/2 [==============================] - 0s 13ms/step - loss: 20.9334 - mae: 20.9334\n",
            "Epoch 27/500\n",
            "2/2 [==============================] - 0s 13ms/step - loss: 25.9566 - mae: 25.9566\n",
            "Epoch 28/500\n",
            "2/2 [==============================] - 0s 13ms/step - loss: 18.4555 - mae: 18.4555\n",
            "Epoch 29/500\n",
            "2/2 [==============================] - 0s 23ms/step - loss: 9.2415 - mae: 9.2415\n",
            "Epoch 30/500\n",
            "2/2 [==============================] - 0s 12ms/step - loss: 29.0719 - mae: 29.0719\n",
            "Epoch 31/500\n",
            "2/2 [==============================] - 0s 13ms/step - loss: 52.6531 - mae: 52.6531\n",
            "Epoch 32/500\n",
            "2/2 [==============================] - 0s 13ms/step - loss: 11.9201 - mae: 11.9201\n",
            "Epoch 33/500\n",
            "2/2 [==============================] - 0s 12ms/step - loss: 15.5103 - mae: 15.5103\n",
            "Epoch 34/500\n",
            "2/2 [==============================] - 0s 15ms/step - loss: 12.6056 - mae: 12.6056\n",
            "Epoch 35/500\n",
            "2/2 [==============================] - 0s 15ms/step - loss: 9.2006 - mae: 9.2006\n",
            "Epoch 36/500\n",
            "2/2 [==============================] - 0s 11ms/step - loss: 16.4970 - mae: 16.4970\n",
            "Epoch 37/500\n",
            "2/2 [==============================] - 0s 22ms/step - loss: 11.0789 - mae: 11.0789\n",
            "Epoch 38/500\n",
            "2/2 [==============================] - 0s 14ms/step - loss: 18.2077 - mae: 18.2077\n",
            "Epoch 39/500\n",
            "2/2 [==============================] - 0s 14ms/step - loss: 19.1402 - mae: 19.1402\n",
            "Epoch 40/500\n",
            "2/2 [==============================] - 0s 14ms/step - loss: 20.5028 - mae: 20.5028\n",
            "Epoch 41/500\n",
            "2/2 [==============================] - 0s 13ms/step - loss: 14.8203 - mae: 14.8203\n",
            "Epoch 42/500\n",
            "2/2 [==============================] - 0s 18ms/step - loss: 12.2135 - mae: 12.2135\n",
            "Epoch 43/500\n",
            "2/2 [==============================] - 0s 22ms/step - loss: 10.6988 - mae: 10.6988\n",
            "Epoch 44/500\n",
            "2/2 [==============================] - 0s 11ms/step - loss: 32.3166 - mae: 32.3166\n",
            "Epoch 45/500\n",
            "2/2 [==============================] - 0s 20ms/step - loss: 12.4806 - mae: 12.4806\n",
            "Epoch 46/500\n",
            "2/2 [==============================] - 0s 15ms/step - loss: 17.5554 - mae: 17.5554\n",
            "Epoch 47/500\n",
            "2/2 [==============================] - 0s 14ms/step - loss: 15.7406 - mae: 15.7406\n",
            "Epoch 48/500\n",
            "2/2 [==============================] - 0s 14ms/step - loss: 8.3658 - mae: 8.3658\n",
            "Epoch 49/500\n",
            "2/2 [==============================] - 0s 13ms/step - loss: 13.9718 - mae: 13.9718\n",
            "Epoch 50/500\n",
            "2/2 [==============================] - 0s 22ms/step - loss: 12.8148 - mae: 12.8148\n",
            "Epoch 51/500\n",
            "2/2 [==============================] - 0s 21ms/step - loss: 14.8280 - mae: 14.8280\n",
            "Epoch 52/500\n",
            "2/2 [==============================] - 0s 16ms/step - loss: 18.7152 - mae: 18.7152\n",
            "Epoch 53/500\n",
            "2/2 [==============================] - 0s 19ms/step - loss: 24.1541 - mae: 24.1541\n",
            "Epoch 54/500\n",
            "2/2 [==============================] - 0s 21ms/step - loss: 23.2125 - mae: 23.2125\n",
            "Epoch 55/500\n",
            "2/2 [==============================] - 0s 19ms/step - loss: 24.0701 - mae: 24.0701\n",
            "Epoch 56/500\n",
            "2/2 [==============================] - 0s 12ms/step - loss: 11.1721 - mae: 11.1721\n",
            "Epoch 57/500\n",
            "2/2 [==============================] - 0s 20ms/step - loss: 13.1318 - mae: 13.1318\n",
            "Epoch 58/500\n",
            "2/2 [==============================] - 0s 21ms/step - loss: 9.8194 - mae: 9.8194\n",
            "Epoch 59/500\n",
            "2/2 [==============================] - 0s 17ms/step - loss: 13.3215 - mae: 13.3215\n",
            "Epoch 60/500\n",
            "2/2 [==============================] - 0s 22ms/step - loss: 10.8798 - mae: 10.8798\n",
            "Epoch 61/500\n",
            "2/2 [==============================] - 0s 22ms/step - loss: 13.4861 - mae: 13.4861\n",
            "Epoch 62/500\n",
            "2/2 [==============================] - 0s 25ms/step - loss: 17.5280 - mae: 17.5280\n",
            "Epoch 63/500\n",
            "2/2 [==============================] - 0s 21ms/step - loss: 9.1653 - mae: 9.1653\n",
            "Epoch 64/500\n",
            "2/2 [==============================] - 0s 13ms/step - loss: 18.3998 - mae: 18.3998\n",
            "Epoch 65/500\n",
            "2/2 [==============================] - 0s 22ms/step - loss: 10.1211 - mae: 10.1211\n",
            "Epoch 66/500\n",
            "2/2 [==============================] - 0s 27ms/step - loss: 24.2694 - mae: 24.2694\n",
            "Epoch 67/500\n",
            "2/2 [==============================] - 0s 25ms/step - loss: 10.8932 - mae: 10.8932\n",
            "Epoch 68/500\n",
            "2/2 [==============================] - 0s 28ms/step - loss: 10.7740 - mae: 10.7740\n",
            "Epoch 69/500\n",
            "2/2 [==============================] - 0s 19ms/step - loss: 23.2596 - mae: 23.2596\n",
            "Epoch 70/500\n",
            "2/2 [==============================] - 0s 16ms/step - loss: 8.8133 - mae: 8.8133\n",
            "Epoch 71/500\n",
            "2/2 [==============================] - 0s 13ms/step - loss: 15.9774 - mae: 15.9774\n",
            "Epoch 72/500\n",
            "2/2 [==============================] - 0s 18ms/step - loss: 8.1403 - mae: 8.1403\n",
            "Epoch 73/500\n",
            "2/2 [==============================] - 0s 13ms/step - loss: 9.4643 - mae: 9.4643\n",
            "Epoch 74/500\n",
            "2/2 [==============================] - 0s 13ms/step - loss: 28.1537 - mae: 28.1537\n",
            "Epoch 75/500\n",
            "2/2 [==============================] - 0s 13ms/step - loss: 10.1999 - mae: 10.1999\n",
            "Epoch 76/500\n",
            "2/2 [==============================] - 0s 12ms/step - loss: 13.1506 - mae: 13.1506\n",
            "Epoch 77/500\n",
            "2/2 [==============================] - 0s 29ms/step - loss: 18.3961 - mae: 18.3961\n",
            "Epoch 78/500\n",
            "2/2 [==============================] - 0s 21ms/step - loss: 9.0164 - mae: 9.0164\n",
            "Epoch 79/500\n",
            "2/2 [==============================] - 0s 20ms/step - loss: 23.4469 - mae: 23.4469\n",
            "Epoch 80/500\n",
            "2/2 [==============================] - 0s 13ms/step - loss: 26.1194 - mae: 26.1194\n",
            "Epoch 81/500\n",
            "2/2 [==============================] - 0s 13ms/step - loss: 11.3930 - mae: 11.3930\n",
            "Epoch 82/500\n",
            "2/2 [==============================] - 0s 13ms/step - loss: 12.4922 - mae: 12.4922\n",
            "Epoch 83/500\n",
            "2/2 [==============================] - 0s 12ms/step - loss: 17.1788 - mae: 17.1788\n",
            "Epoch 84/500\n",
            "2/2 [==============================] - 0s 16ms/step - loss: 6.5927 - mae: 6.5927\n",
            "Epoch 85/500\n",
            "2/2 [==============================] - 0s 18ms/step - loss: 20.3031 - mae: 20.3031\n",
            "Epoch 86/500\n",
            "2/2 [==============================] - 0s 19ms/step - loss: 10.1692 - mae: 10.1692\n",
            "Epoch 87/500\n",
            "2/2 [==============================] - 0s 13ms/step - loss: 24.3477 - mae: 24.3477\n",
            "Epoch 88/500\n",
            "2/2 [==============================] - 0s 21ms/step - loss: 19.0125 - mae: 19.0125\n",
            "Epoch 89/500\n",
            "2/2 [==============================] - 0s 16ms/step - loss: 7.1638 - mae: 7.1638\n",
            "Epoch 90/500\n",
            "2/2 [==============================] - 0s 20ms/step - loss: 18.2549 - mae: 18.2549\n",
            "Epoch 91/500\n",
            "2/2 [==============================] - 0s 16ms/step - loss: 13.3044 - mae: 13.3044\n",
            "Epoch 92/500\n",
            "2/2 [==============================] - 0s 20ms/step - loss: 14.8536 - mae: 14.8536\n",
            "Epoch 93/500\n",
            "2/2 [==============================] - 0s 15ms/step - loss: 11.6473 - mae: 11.6473\n",
            "Epoch 94/500\n",
            "2/2 [==============================] - 0s 17ms/step - loss: 16.2035 - mae: 16.2035\n",
            "Epoch 95/500\n",
            "2/2 [==============================] - 0s 20ms/step - loss: 15.5458 - mae: 15.5458\n",
            "Epoch 96/500\n",
            "2/2 [==============================] - 0s 17ms/step - loss: 15.0798 - mae: 15.0798\n",
            "Epoch 97/500\n",
            "2/2 [==============================] - 0s 18ms/step - loss: 10.9091 - mae: 10.9091\n",
            "Epoch 98/500\n",
            "2/2 [==============================] - 0s 10ms/step - loss: 14.3695 - mae: 14.3695\n",
            "Epoch 99/500\n",
            "2/2 [==============================] - 0s 12ms/step - loss: 13.3860 - mae: 13.3860\n",
            "Epoch 100/500\n",
            "2/2 [==============================] - 0s 17ms/step - loss: 20.0084 - mae: 20.0084\n",
            "Epoch 101/500\n",
            "2/2 [==============================] - 0s 20ms/step - loss: 22.4948 - mae: 22.4948\n",
            "Epoch 102/500\n",
            "2/2 [==============================] - 0s 12ms/step - loss: 11.2690 - mae: 11.2690\n",
            "Epoch 103/500\n",
            "2/2 [==============================] - 0s 12ms/step - loss: 9.3578 - mae: 9.3578\n",
            "Epoch 104/500\n",
            "2/2 [==============================] - 0s 9ms/step - loss: 25.1204 - mae: 25.1204\n",
            "Epoch 105/500\n",
            "2/2 [==============================] - 0s 10ms/step - loss: 12.0659 - mae: 12.0659\n",
            "Epoch 106/500\n",
            "2/2 [==============================] - 0s 11ms/step - loss: 10.1269 - mae: 10.1269\n",
            "Epoch 107/500\n",
            "2/2 [==============================] - 0s 10ms/step - loss: 22.6744 - mae: 22.6744\n",
            "Epoch 108/500\n",
            "2/2 [==============================] - 0s 9ms/step - loss: 8.1688 - mae: 8.1688\n",
            "Epoch 109/500\n",
            "2/2 [==============================] - 0s 10ms/step - loss: 13.4369 - mae: 13.4369\n",
            "Epoch 110/500\n",
            "2/2 [==============================] - 0s 10ms/step - loss: 7.9740 - mae: 7.9740\n",
            "Epoch 111/500\n",
            "2/2 [==============================] - 0s 11ms/step - loss: 15.7080 - mae: 15.7080\n",
            "Epoch 112/500\n",
            "2/2 [==============================] - 0s 9ms/step - loss: 8.7818 - mae: 8.7818\n",
            "Epoch 113/500\n",
            "2/2 [==============================] - 0s 10ms/step - loss: 18.7057 - mae: 18.7057\n",
            "Epoch 114/500\n",
            "2/2 [==============================] - 0s 10ms/step - loss: 18.3438 - mae: 18.3438\n",
            "Epoch 115/500\n",
            "2/2 [==============================] - 0s 10ms/step - loss: 10.8719 - mae: 10.8719\n",
            "Epoch 116/500\n",
            "2/2 [==============================] - 0s 14ms/step - loss: 22.3140 - mae: 22.3140\n",
            "Epoch 117/500\n",
            "2/2 [==============================] - 0s 10ms/step - loss: 9.3163 - mae: 9.3163\n",
            "Epoch 118/500\n",
            "2/2 [==============================] - 0s 12ms/step - loss: 10.3388 - mae: 10.3388\n",
            "Epoch 119/500\n",
            "2/2 [==============================] - 0s 9ms/step - loss: 8.0204 - mae: 8.0204\n",
            "Epoch 120/500\n",
            "2/2 [==============================] - 0s 10ms/step - loss: 37.6894 - mae: 37.6894\n",
            "Epoch 121/500\n",
            "2/2 [==============================] - 0s 11ms/step - loss: 10.6552 - mae: 10.6552\n",
            "Epoch 122/500\n",
            "2/2 [==============================] - 0s 7ms/step - loss: 28.2540 - mae: 28.2540\n",
            "Epoch 123/500\n",
            "2/2 [==============================] - 0s 9ms/step - loss: 32.8310 - mae: 32.8310\n",
            "Epoch 124/500\n",
            "2/2 [==============================] - 0s 8ms/step - loss: 19.5865 - mae: 19.5865\n",
            "Epoch 125/500\n",
            "2/2 [==============================] - 0s 9ms/step - loss: 7.0492 - mae: 7.0492\n",
            "Epoch 126/500\n",
            "2/2 [==============================] - 0s 9ms/step - loss: 21.7426 - mae: 21.7426\n",
            "Epoch 127/500\n",
            "2/2 [==============================] - 0s 9ms/step - loss: 8.0038 - mae: 8.0038\n",
            "Epoch 128/500\n",
            "2/2 [==============================] - 0s 9ms/step - loss: 20.9849 - mae: 20.9849\n",
            "Epoch 129/500\n",
            "2/2 [==============================] - 0s 10ms/step - loss: 9.0312 - mae: 9.0312\n",
            "Epoch 130/500\n",
            "2/2 [==============================] - 0s 9ms/step - loss: 23.9481 - mae: 23.9481\n",
            "Epoch 131/500\n",
            "2/2 [==============================] - 0s 12ms/step - loss: 9.7655 - mae: 9.7655\n",
            "Epoch 132/500\n",
            "2/2 [==============================] - 0s 8ms/step - loss: 18.2101 - mae: 18.2101\n",
            "Epoch 133/500\n",
            "2/2 [==============================] - 0s 9ms/step - loss: 7.5999 - mae: 7.5999\n",
            "Epoch 134/500\n",
            "2/2 [==============================] - 0s 9ms/step - loss: 18.4763 - mae: 18.4763\n",
            "Epoch 135/500\n",
            "2/2 [==============================] - 0s 8ms/step - loss: 10.5325 - mae: 10.5325\n",
            "Epoch 136/500\n",
            "2/2 [==============================] - 0s 9ms/step - loss: 18.1754 - mae: 18.1754\n",
            "Epoch 137/500\n",
            "2/2 [==============================] - 0s 8ms/step - loss: 23.0235 - mae: 23.0235\n",
            "Epoch 138/500\n",
            "2/2 [==============================] - 0s 11ms/step - loss: 9.1067 - mae: 9.1067\n",
            "Epoch 139/500\n",
            "2/2 [==============================] - 0s 11ms/step - loss: 8.9079 - mae: 8.9079\n",
            "Epoch 140/500\n",
            "2/2 [==============================] - 0s 10ms/step - loss: 16.3502 - mae: 16.3502\n",
            "Epoch 141/500\n",
            "2/2 [==============================] - 0s 10ms/step - loss: 8.4476 - mae: 8.4476\n",
            "Epoch 142/500\n",
            "2/2 [==============================] - 0s 9ms/step - loss: 36.6555 - mae: 36.6555\n",
            "Epoch 143/500\n",
            "2/2 [==============================] - 0s 10ms/step - loss: 25.3612 - mae: 25.3612\n",
            "Epoch 144/500\n",
            "2/2 [==============================] - 0s 9ms/step - loss: 10.4661 - mae: 10.4661\n",
            "Epoch 145/500\n",
            "2/2 [==============================] - 0s 13ms/step - loss: 25.7755 - mae: 25.7755\n",
            "Epoch 146/500\n",
            "2/2 [==============================] - 0s 13ms/step - loss: 10.0391 - mae: 10.0391\n",
            "Epoch 147/500\n",
            "2/2 [==============================] - 0s 10ms/step - loss: 14.6771 - mae: 14.6771\n",
            "Epoch 148/500\n",
            "2/2 [==============================] - 0s 10ms/step - loss: 17.7679 - mae: 17.7679\n",
            "Epoch 149/500\n",
            "2/2 [==============================] - 0s 11ms/step - loss: 8.5168 - mae: 8.5168\n",
            "Epoch 150/500\n",
            "2/2 [==============================] - 0s 8ms/step - loss: 7.6438 - mae: 7.6438\n",
            "Epoch 151/500\n",
            "2/2 [==============================] - 0s 8ms/step - loss: 19.0176 - mae: 19.0176\n",
            "Epoch 152/500\n",
            "2/2 [==============================] - 0s 11ms/step - loss: 10.5070 - mae: 10.5070\n",
            "Epoch 153/500\n",
            "2/2 [==============================] - 0s 9ms/step - loss: 30.6486 - mae: 30.6486\n",
            "Epoch 154/500\n",
            "2/2 [==============================] - 0s 10ms/step - loss: 9.9437 - mae: 9.9437\n",
            "Epoch 155/500\n",
            "2/2 [==============================] - 0s 9ms/step - loss: 15.6939 - mae: 15.6939\n",
            "Epoch 156/500\n",
            "2/2 [==============================] - 0s 12ms/step - loss: 17.5475 - mae: 17.5475\n",
            "Epoch 157/500\n",
            "2/2 [==============================] - 0s 10ms/step - loss: 31.4342 - mae: 31.4342\n",
            "Epoch 158/500\n",
            "2/2 [==============================] - 0s 10ms/step - loss: 10.3085 - mae: 10.3085\n",
            "Epoch 159/500\n",
            "2/2 [==============================] - 0s 10ms/step - loss: 8.7331 - mae: 8.7331\n",
            "Epoch 160/500\n",
            "2/2 [==============================] - 0s 11ms/step - loss: 20.9759 - mae: 20.9759\n",
            "Epoch 161/500\n",
            "2/2 [==============================] - 0s 13ms/step - loss: 12.4069 - mae: 12.4069\n",
            "Epoch 162/500\n",
            "2/2 [==============================] - 0s 11ms/step - loss: 18.9337 - mae: 18.9337\n",
            "Epoch 163/500\n",
            "2/2 [==============================] - 0s 9ms/step - loss: 17.8843 - mae: 17.8843\n",
            "Epoch 164/500\n",
            "2/2 [==============================] - 0s 9ms/step - loss: 11.4571 - mae: 11.4571\n",
            "Epoch 165/500\n",
            "2/2 [==============================] - 0s 9ms/step - loss: 11.6018 - mae: 11.6018\n",
            "Epoch 166/500\n",
            "2/2 [==============================] - 0s 9ms/step - loss: 21.3329 - mae: 21.3329\n",
            "Epoch 167/500\n",
            "2/2 [==============================] - 0s 8ms/step - loss: 26.9458 - mae: 26.9458\n",
            "Epoch 168/500\n",
            "2/2 [==============================] - 0s 9ms/step - loss: 10.0245 - mae: 10.0245\n",
            "Epoch 169/500\n",
            "2/2 [==============================] - 0s 8ms/step - loss: 23.1889 - mae: 23.1889\n",
            "Epoch 170/500\n",
            "2/2 [==============================] - 0s 12ms/step - loss: 9.5885 - mae: 9.5885\n",
            "Epoch 171/500\n",
            "2/2 [==============================] - 0s 11ms/step - loss: 15.8444 - mae: 15.8444\n",
            "Epoch 172/500\n",
            "2/2 [==============================] - 0s 12ms/step - loss: 13.8827 - mae: 13.8827\n",
            "Epoch 173/500\n",
            "2/2 [==============================] - 0s 10ms/step - loss: 22.5663 - mae: 22.5663\n",
            "Epoch 174/500\n",
            "2/2 [==============================] - 0s 8ms/step - loss: 11.3764 - mae: 11.3764\n",
            "Epoch 175/500\n",
            "2/2 [==============================] - 0s 11ms/step - loss: 20.1289 - mae: 20.1289\n",
            "Epoch 176/500\n",
            "2/2 [==============================] - 0s 7ms/step - loss: 7.4326 - mae: 7.4326\n",
            "Epoch 177/500\n",
            "2/2 [==============================] - 0s 10ms/step - loss: 8.6178 - mae: 8.6178\n",
            "Epoch 178/500\n",
            "2/2 [==============================] - 0s 12ms/step - loss: 15.5268 - mae: 15.5268\n",
            "Epoch 179/500\n",
            "2/2 [==============================] - 0s 13ms/step - loss: 9.2799 - mae: 9.2799\n",
            "Epoch 180/500\n",
            "2/2 [==============================] - 0s 12ms/step - loss: 8.1489 - mae: 8.1489\n",
            "Epoch 181/500\n",
            "2/2 [==============================] - 0s 13ms/step - loss: 18.7615 - mae: 18.7615\n",
            "Epoch 182/500\n",
            "2/2 [==============================] - 0s 13ms/step - loss: 10.8059 - mae: 10.8059\n",
            "Epoch 183/500\n",
            "2/2 [==============================] - 0s 13ms/step - loss: 10.9260 - mae: 10.9260\n",
            "Epoch 184/500\n",
            "2/2 [==============================] - 0s 10ms/step - loss: 33.7791 - mae: 33.7791\n",
            "Epoch 185/500\n",
            "2/2 [==============================] - 0s 11ms/step - loss: 7.6435 - mae: 7.6435\n",
            "Epoch 186/500\n",
            "2/2 [==============================] - 0s 11ms/step - loss: 16.8202 - mae: 16.8202\n",
            "Epoch 187/500\n",
            "2/2 [==============================] - 0s 12ms/step - loss: 10.1864 - mae: 10.1864\n",
            "Epoch 188/500\n",
            "2/2 [==============================] - 0s 9ms/step - loss: 23.0189 - mae: 23.0189\n",
            "Epoch 189/500\n",
            "2/2 [==============================] - 0s 12ms/step - loss: 9.9033 - mae: 9.9033\n",
            "Epoch 190/500\n",
            "2/2 [==============================] - 0s 8ms/step - loss: 15.3463 - mae: 15.3463\n",
            "Epoch 191/500\n",
            "2/2 [==============================] - 0s 8ms/step - loss: 9.9412 - mae: 9.9412\n",
            "Epoch 192/500\n",
            "2/2 [==============================] - 0s 9ms/step - loss: 14.9864 - mae: 14.9864\n",
            "Epoch 193/500\n",
            "2/2 [==============================] - 0s 8ms/step - loss: 29.6556 - mae: 29.6556\n",
            "Epoch 194/500\n",
            "2/2 [==============================] - 0s 11ms/step - loss: 8.3610 - mae: 8.3610\n",
            "Epoch 195/500\n",
            "2/2 [==============================] - 0s 12ms/step - loss: 12.8959 - mae: 12.8959\n",
            "Epoch 196/500\n",
            "2/2 [==============================] - 0s 11ms/step - loss: 23.9196 - mae: 23.9196\n",
            "Epoch 197/500\n",
            "2/2 [==============================] - 0s 9ms/step - loss: 16.8259 - mae: 16.8259\n",
            "Epoch 198/500\n",
            "2/2 [==============================] - 0s 9ms/step - loss: 11.4960 - mae: 11.4960\n",
            "Epoch 199/500\n",
            "2/2 [==============================] - 0s 8ms/step - loss: 19.6319 - mae: 19.6319\n",
            "Epoch 200/500\n",
            "2/2 [==============================] - 0s 8ms/step - loss: 15.8004 - mae: 15.8004\n",
            "Epoch 201/500\n",
            "2/2 [==============================] - 0s 8ms/step - loss: 10.5800 - mae: 10.5800\n",
            "Epoch 202/500\n",
            "2/2 [==============================] - 0s 9ms/step - loss: 22.4123 - mae: 22.4123\n",
            "Epoch 203/500\n",
            "2/2 [==============================] - 0s 8ms/step - loss: 21.7400 - mae: 21.7400\n",
            "Epoch 204/500\n",
            "2/2 [==============================] - 0s 8ms/step - loss: 17.3490 - mae: 17.3490\n",
            "Epoch 205/500\n",
            "2/2 [==============================] - 0s 9ms/step - loss: 9.5152 - mae: 9.5152\n",
            "Epoch 206/500\n",
            "2/2 [==============================] - 0s 9ms/step - loss: 11.1516 - mae: 11.1516\n",
            "Epoch 207/500\n",
            "2/2 [==============================] - 0s 8ms/step - loss: 17.6777 - mae: 17.6777\n",
            "Epoch 208/500\n",
            "2/2 [==============================] - 0s 11ms/step - loss: 14.3883 - mae: 14.3883\n",
            "Epoch 209/500\n",
            "2/2 [==============================] - 0s 14ms/step - loss: 16.7066 - mae: 16.7066\n",
            "Epoch 210/500\n",
            "2/2 [==============================] - 0s 10ms/step - loss: 18.2212 - mae: 18.2212\n",
            "Epoch 211/500\n",
            "2/2 [==============================] - 0s 9ms/step - loss: 9.9628 - mae: 9.9628\n",
            "Epoch 212/500\n",
            "2/2 [==============================] - 0s 12ms/step - loss: 18.6981 - mae: 18.6981\n",
            "Epoch 213/500\n",
            "2/2 [==============================] - 0s 10ms/step - loss: 14.9549 - mae: 14.9549\n",
            "Epoch 214/500\n",
            "2/2 [==============================] - 0s 12ms/step - loss: 14.5365 - mae: 14.5365\n",
            "Epoch 215/500\n",
            "2/2 [==============================] - 0s 10ms/step - loss: 23.1856 - mae: 23.1856\n",
            "Epoch 216/500\n",
            "2/2 [==============================] - 0s 11ms/step - loss: 13.5734 - mae: 13.5734\n",
            "Epoch 217/500\n",
            "2/2 [==============================] - 0s 12ms/step - loss: 10.0465 - mae: 10.0465\n",
            "Epoch 218/500\n",
            "2/2 [==============================] - 0s 15ms/step - loss: 12.4342 - mae: 12.4342\n",
            "Epoch 219/500\n",
            "2/2 [==============================] - 0s 12ms/step - loss: 5.8627 - mae: 5.8627\n",
            "Epoch 220/500\n",
            "2/2 [==============================] - 0s 11ms/step - loss: 10.1933 - mae: 10.1933\n",
            "Epoch 221/500\n",
            "2/2 [==============================] - 0s 12ms/step - loss: 28.8472 - mae: 28.8472\n",
            "Epoch 222/500\n",
            "2/2 [==============================] - 0s 9ms/step - loss: 28.0282 - mae: 28.0282\n",
            "Epoch 223/500\n",
            "2/2 [==============================] - 0s 10ms/step - loss: 10.0859 - mae: 10.0859\n",
            "Epoch 224/500\n",
            "2/2 [==============================] - 0s 9ms/step - loss: 14.6348 - mae: 14.6348\n",
            "Epoch 225/500\n",
            "2/2 [==============================] - 0s 9ms/step - loss: 16.6517 - mae: 16.6517\n",
            "Epoch 226/500\n",
            "2/2 [==============================] - 0s 10ms/step - loss: 15.8723 - mae: 15.8723\n",
            "Epoch 227/500\n",
            "2/2 [==============================] - 0s 10ms/step - loss: 16.0913 - mae: 16.0913\n",
            "Epoch 228/500\n",
            "2/2 [==============================] - 0s 11ms/step - loss: 13.8692 - mae: 13.8692\n",
            "Epoch 229/500\n",
            "2/2 [==============================] - 0s 12ms/step - loss: 17.9890 - mae: 17.9890\n",
            "Epoch 230/500\n",
            "2/2 [==============================] - 0s 11ms/step - loss: 15.5808 - mae: 15.5808\n",
            "Epoch 231/500\n",
            "2/2 [==============================] - 0s 11ms/step - loss: 21.1077 - mae: 21.1077\n",
            "Epoch 232/500\n",
            "2/2 [==============================] - 0s 11ms/step - loss: 25.4908 - mae: 25.4908\n",
            "Epoch 233/500\n",
            "2/2 [==============================] - 0s 10ms/step - loss: 16.4954 - mae: 16.4954\n",
            "Epoch 234/500\n",
            "2/2 [==============================] - 0s 14ms/step - loss: 7.3567 - mae: 7.3567\n",
            "Epoch 235/500\n",
            "2/2 [==============================] - 0s 12ms/step - loss: 17.1369 - mae: 17.1369\n",
            "Epoch 236/500\n",
            "2/2 [==============================] - 0s 9ms/step - loss: 7.2165 - mae: 7.2165\n",
            "Epoch 237/500\n",
            "2/2 [==============================] - 0s 10ms/step - loss: 9.3142 - mae: 9.3142\n",
            "Epoch 238/500\n",
            "2/2 [==============================] - 0s 11ms/step - loss: 8.1737 - mae: 8.1737\n",
            "Epoch 239/500\n",
            "2/2 [==============================] - 0s 9ms/step - loss: 17.1617 - mae: 17.1617\n",
            "Epoch 240/500\n",
            "2/2 [==============================] - 0s 13ms/step - loss: 8.9455 - mae: 8.9455\n",
            "Epoch 241/500\n",
            "2/2 [==============================] - 0s 9ms/step - loss: 13.2588 - mae: 13.2588\n",
            "Epoch 242/500\n",
            "2/2 [==============================] - 0s 11ms/step - loss: 8.8570 - mae: 8.8570\n",
            "Epoch 243/500\n",
            "2/2 [==============================] - 0s 9ms/step - loss: 18.8968 - mae: 18.8968\n",
            "Epoch 244/500\n",
            "2/2 [==============================] - 0s 10ms/step - loss: 14.0513 - mae: 14.0513\n",
            "Epoch 245/500\n",
            "2/2 [==============================] - 0s 11ms/step - loss: 14.6794 - mae: 14.6794\n",
            "Epoch 246/500\n",
            "2/2 [==============================] - 0s 11ms/step - loss: 15.8120 - mae: 15.8120\n",
            "Epoch 247/500\n",
            "2/2 [==============================] - 0s 13ms/step - loss: 17.6895 - mae: 17.6895\n",
            "Epoch 248/500\n",
            "2/2 [==============================] - 0s 15ms/step - loss: 13.2460 - mae: 13.2460\n",
            "Epoch 249/500\n",
            "2/2 [==============================] - 0s 17ms/step - loss: 14.5222 - mae: 14.5222\n",
            "Epoch 250/500\n",
            "2/2 [==============================] - 0s 11ms/step - loss: 23.2432 - mae: 23.2432\n",
            "Epoch 251/500\n",
            "2/2 [==============================] - 0s 12ms/step - loss: 9.3354 - mae: 9.3354\n",
            "Epoch 252/500\n",
            "2/2 [==============================] - 0s 11ms/step - loss: 36.6216 - mae: 36.6216\n",
            "Epoch 253/500\n",
            "2/2 [==============================] - 0s 10ms/step - loss: 21.8064 - mae: 21.8064\n",
            "Epoch 254/500\n",
            "2/2 [==============================] - 0s 14ms/step - loss: 7.3173 - mae: 7.3173\n",
            "Epoch 255/500\n",
            "2/2 [==============================] - 0s 10ms/step - loss: 24.6749 - mae: 24.6749\n",
            "Epoch 256/500\n",
            "2/2 [==============================] - 0s 10ms/step - loss: 12.4320 - mae: 12.4320\n",
            "Epoch 257/500\n",
            "2/2 [==============================] - 0s 9ms/step - loss: 10.5955 - mae: 10.5955\n",
            "Epoch 258/500\n",
            "2/2 [==============================] - 0s 14ms/step - loss: 14.2086 - mae: 14.2086\n",
            "Epoch 259/500\n",
            "2/2 [==============================] - 0s 12ms/step - loss: 11.2710 - mae: 11.2710\n",
            "Epoch 260/500\n",
            "2/2 [==============================] - 0s 10ms/step - loss: 31.6084 - mae: 31.6084\n",
            "Epoch 261/500\n",
            "2/2 [==============================] - 0s 11ms/step - loss: 11.1960 - mae: 11.1960\n",
            "Epoch 262/500\n",
            "2/2 [==============================] - 0s 11ms/step - loss: 10.0502 - mae: 10.0502\n",
            "Epoch 263/500\n",
            "2/2 [==============================] - 0s 13ms/step - loss: 8.9618 - mae: 8.9618\n",
            "Epoch 264/500\n",
            "2/2 [==============================] - 0s 11ms/step - loss: 21.4974 - mae: 21.4974\n",
            "Epoch 265/500\n",
            "2/2 [==============================] - 0s 10ms/step - loss: 11.4521 - mae: 11.4521\n",
            "Epoch 266/500\n",
            "2/2 [==============================] - 0s 10ms/step - loss: 13.2908 - mae: 13.2908\n",
            "Epoch 267/500\n",
            "2/2 [==============================] - 0s 10ms/step - loss: 11.0848 - mae: 11.0848\n",
            "Epoch 268/500\n",
            "2/2 [==============================] - 0s 9ms/step - loss: 19.1559 - mae: 19.1559\n",
            "Epoch 269/500\n",
            "2/2 [==============================] - 0s 9ms/step - loss: 40.7104 - mae: 40.7104\n",
            "Epoch 270/500\n",
            "2/2 [==============================] - 0s 14ms/step - loss: 12.9353 - mae: 12.9353\n",
            "Epoch 271/500\n",
            "2/2 [==============================] - 0s 9ms/step - loss: 14.7645 - mae: 14.7645\n",
            "Epoch 272/500\n",
            "2/2 [==============================] - 0s 10ms/step - loss: 28.5076 - mae: 28.5076\n",
            "Epoch 273/500\n",
            "2/2 [==============================] - 0s 14ms/step - loss: 7.3803 - mae: 7.3803\n",
            "Epoch 274/500\n",
            "2/2 [==============================] - 0s 12ms/step - loss: 6.3621 - mae: 6.3621\n",
            "Epoch 275/500\n",
            "2/2 [==============================] - 0s 12ms/step - loss: 36.9248 - mae: 36.9248\n",
            "Epoch 276/500\n",
            "2/2 [==============================] - 0s 11ms/step - loss: 8.2987 - mae: 8.2987\n",
            "Epoch 277/500\n",
            "2/2 [==============================] - 0s 10ms/step - loss: 27.7438 - mae: 27.7438\n",
            "Epoch 278/500\n",
            "2/2 [==============================] - 0s 11ms/step - loss: 10.6753 - mae: 10.6753\n",
            "Epoch 279/500\n",
            "2/2 [==============================] - 0s 10ms/step - loss: 16.1058 - mae: 16.1058\n",
            "Epoch 280/500\n",
            "2/2 [==============================] - 0s 10ms/step - loss: 21.2237 - mae: 21.2237\n",
            "Epoch 281/500\n",
            "2/2 [==============================] - 0s 10ms/step - loss: 23.8211 - mae: 23.8211\n",
            "Epoch 282/500\n",
            "2/2 [==============================] - 0s 10ms/step - loss: 8.2773 - mae: 8.2773\n",
            "Epoch 283/500\n",
            "2/2 [==============================] - 0s 9ms/step - loss: 8.4542 - mae: 8.4542\n",
            "Epoch 284/500\n",
            "2/2 [==============================] - 0s 9ms/step - loss: 26.6625 - mae: 26.6625\n",
            "Epoch 285/500\n",
            "2/2 [==============================] - 0s 11ms/step - loss: 14.2573 - mae: 14.2573\n",
            "Epoch 286/500\n",
            "2/2 [==============================] - 0s 13ms/step - loss: 5.2680 - mae: 5.2680\n",
            "Epoch 287/500\n",
            "2/2 [==============================] - 0s 10ms/step - loss: 20.8021 - mae: 20.8021\n",
            "Epoch 288/500\n",
            "2/2 [==============================] - 0s 10ms/step - loss: 27.6610 - mae: 27.6610\n",
            "Epoch 289/500\n",
            "2/2 [==============================] - 0s 9ms/step - loss: 10.4237 - mae: 10.4237\n",
            "Epoch 290/500\n",
            "2/2 [==============================] - 0s 15ms/step - loss: 16.2962 - mae: 16.2962\n",
            "Epoch 291/500\n",
            "2/2 [==============================] - 0s 9ms/step - loss: 16.4793 - mae: 16.4793\n",
            "Epoch 292/500\n",
            "2/2 [==============================] - 0s 9ms/step - loss: 7.4262 - mae: 7.4262\n",
            "Epoch 293/500\n",
            "2/2 [==============================] - 0s 9ms/step - loss: 16.5389 - mae: 16.5389\n",
            "Epoch 294/500\n",
            "2/2 [==============================] - 0s 8ms/step - loss: 25.3150 - mae: 25.3150\n",
            "Epoch 295/500\n",
            "2/2 [==============================] - 0s 10ms/step - loss: 14.6228 - mae: 14.6228\n",
            "Epoch 296/500\n",
            "2/2 [==============================] - 0s 9ms/step - loss: 4.5203 - mae: 4.5203\n",
            "Epoch 297/500\n",
            "2/2 [==============================] - 0s 10ms/step - loss: 9.6883 - mae: 9.6883\n",
            "Epoch 298/500\n",
            "2/2 [==============================] - 0s 9ms/step - loss: 23.8200 - mae: 23.8200\n",
            "Epoch 299/500\n",
            "2/2 [==============================] - 0s 9ms/step - loss: 18.9250 - mae: 18.9250\n",
            "Epoch 300/500\n",
            "2/2 [==============================] - 0s 9ms/step - loss: 8.7779 - mae: 8.7779\n",
            "Epoch 301/500\n",
            "2/2 [==============================] - 0s 9ms/step - loss: 15.8023 - mae: 15.8023\n",
            "Epoch 302/500\n",
            "2/2 [==============================] - 0s 9ms/step - loss: 6.5938 - mae: 6.5938\n",
            "Epoch 303/500\n",
            "2/2 [==============================] - 0s 12ms/step - loss: 21.5740 - mae: 21.5740\n",
            "Epoch 304/500\n",
            "2/2 [==============================] - 0s 12ms/step - loss: 25.8919 - mae: 25.8919\n",
            "Epoch 305/500\n",
            "2/2 [==============================] - 0s 15ms/step - loss: 9.0014 - mae: 9.0014\n",
            "Epoch 306/500\n",
            "2/2 [==============================] - 0s 12ms/step - loss: 21.6449 - mae: 21.6449\n",
            "Epoch 307/500\n",
            "2/2 [==============================] - 0s 11ms/step - loss: 8.2846 - mae: 8.2846\n",
            "Epoch 308/500\n",
            "2/2 [==============================] - 0s 12ms/step - loss: 20.9697 - mae: 20.9697\n",
            "Epoch 309/500\n",
            "2/2 [==============================] - 0s 12ms/step - loss: 19.1711 - mae: 19.1711\n",
            "Epoch 310/500\n",
            "2/2 [==============================] - 0s 13ms/step - loss: 5.9796 - mae: 5.9796\n",
            "Epoch 311/500\n",
            "2/2 [==============================] - 0s 12ms/step - loss: 8.8149 - mae: 8.8149\n",
            "Epoch 312/500\n",
            "2/2 [==============================] - 0s 12ms/step - loss: 29.8988 - mae: 29.8988\n",
            "Epoch 313/500\n",
            "2/2 [==============================] - 0s 12ms/step - loss: 7.7851 - mae: 7.7851\n",
            "Epoch 314/500\n",
            "2/2 [==============================] - 0s 10ms/step - loss: 9.8896 - mae: 9.8896\n",
            "Epoch 315/500\n",
            "2/2 [==============================] - 0s 13ms/step - loss: 23.6742 - mae: 23.6742\n",
            "Epoch 316/500\n",
            "2/2 [==============================] - 0s 11ms/step - loss: 14.2511 - mae: 14.2511\n",
            "Epoch 317/500\n",
            "2/2 [==============================] - 0s 12ms/step - loss: 19.7337 - mae: 19.7337\n",
            "Epoch 318/500\n",
            "2/2 [==============================] - 0s 12ms/step - loss: 7.9313 - mae: 7.9313\n",
            "Epoch 319/500\n",
            "2/2 [==============================] - 0s 9ms/step - loss: 17.8897 - mae: 17.8897\n",
            "Epoch 320/500\n",
            "2/2 [==============================] - 0s 9ms/step - loss: 10.1971 - mae: 10.1971\n",
            "Epoch 321/500\n",
            "2/2 [==============================] - 0s 10ms/step - loss: 8.3109 - mae: 8.3109\n",
            "Epoch 322/500\n",
            "2/2 [==============================] - 0s 10ms/step - loss: 4.3707 - mae: 4.3707\n",
            "Epoch 323/500\n",
            "2/2 [==============================] - 0s 10ms/step - loss: 23.7474 - mae: 23.7474\n",
            "Epoch 324/500\n",
            "2/2 [==============================] - 0s 9ms/step - loss: 6.8985 - mae: 6.8985\n",
            "Epoch 325/500\n",
            "2/2 [==============================] - 0s 8ms/step - loss: 16.5630 - mae: 16.5630\n",
            "Epoch 326/500\n",
            "2/2 [==============================] - 0s 8ms/step - loss: 7.5698 - mae: 7.5698\n",
            "Epoch 327/500\n",
            "2/2 [==============================] - 0s 11ms/step - loss: 20.2804 - mae: 20.2804\n",
            "Epoch 328/500\n",
            "2/2 [==============================] - 0s 9ms/step - loss: 13.7181 - mae: 13.7181\n",
            "Epoch 329/500\n",
            "2/2 [==============================] - 0s 10ms/step - loss: 16.7645 - mae: 16.7645\n",
            "Epoch 330/500\n",
            "2/2 [==============================] - 0s 13ms/step - loss: 7.1025 - mae: 7.1025\n",
            "Epoch 331/500\n",
            "2/2 [==============================] - 0s 11ms/step - loss: 21.6504 - mae: 21.6504\n",
            "Epoch 332/500\n",
            "2/2 [==============================] - 0s 12ms/step - loss: 12.7270 - mae: 12.7270\n",
            "Epoch 333/500\n",
            "2/2 [==============================] - 0s 10ms/step - loss: 9.0021 - mae: 9.0021\n",
            "Epoch 334/500\n",
            "2/2 [==============================] - 0s 9ms/step - loss: 9.7570 - mae: 9.7570\n",
            "Epoch 335/500\n",
            "2/2 [==============================] - 0s 8ms/step - loss: 5.9638 - mae: 5.9638\n",
            "Epoch 336/500\n",
            "2/2 [==============================] - 0s 9ms/step - loss: 31.7675 - mae: 31.7675\n",
            "Epoch 337/500\n",
            "2/2 [==============================] - 0s 9ms/step - loss: 9.1657 - mae: 9.1657\n",
            "Epoch 338/500\n",
            "2/2 [==============================] - 0s 8ms/step - loss: 19.5526 - mae: 19.5526\n",
            "Epoch 339/500\n",
            "2/2 [==============================] - 0s 9ms/step - loss: 35.4677 - mae: 35.4677\n",
            "Epoch 340/500\n",
            "2/2 [==============================] - 0s 8ms/step - loss: 10.5578 - mae: 10.5578\n",
            "Epoch 341/500\n",
            "2/2 [==============================] - 0s 8ms/step - loss: 10.1521 - mae: 10.1521\n",
            "Epoch 342/500\n",
            "2/2 [==============================] - 0s 10ms/step - loss: 13.2719 - mae: 13.2719\n",
            "Epoch 343/500\n",
            "2/2 [==============================] - 0s 11ms/step - loss: 11.0193 - mae: 11.0193\n",
            "Epoch 344/500\n",
            "2/2 [==============================] - 0s 8ms/step - loss: 9.9125 - mae: 9.9125\n",
            "Epoch 345/500\n",
            "2/2 [==============================] - 0s 10ms/step - loss: 30.9882 - mae: 30.9882\n",
            "Epoch 346/500\n",
            "2/2 [==============================] - 0s 11ms/step - loss: 10.6695 - mae: 10.6695\n",
            "Epoch 347/500\n",
            "2/2 [==============================] - 0s 14ms/step - loss: 25.6639 - mae: 25.6639\n",
            "Epoch 348/500\n",
            "2/2 [==============================] - 0s 12ms/step - loss: 13.0312 - mae: 13.0312\n",
            "Epoch 349/500\n",
            "2/2 [==============================] - 0s 16ms/step - loss: 13.0969 - mae: 13.0969\n",
            "Epoch 350/500\n",
            "2/2 [==============================] - 0s 11ms/step - loss: 15.4105 - mae: 15.4105\n",
            "Epoch 351/500\n",
            "2/2 [==============================] - 0s 11ms/step - loss: 32.9234 - mae: 32.9234\n",
            "Epoch 352/500\n",
            "2/2 [==============================] - 0s 9ms/step - loss: 14.1384 - mae: 14.1384\n",
            "Epoch 353/500\n",
            "2/2 [==============================] - 0s 11ms/step - loss: 15.8674 - mae: 15.8674\n",
            "Epoch 354/500\n",
            "2/2 [==============================] - 0s 12ms/step - loss: 18.9779 - mae: 18.9779\n",
            "Epoch 355/500\n",
            "2/2 [==============================] - 0s 9ms/step - loss: 34.4250 - mae: 34.4250\n",
            "Epoch 356/500\n",
            "2/2 [==============================] - 0s 11ms/step - loss: 8.3023 - mae: 8.3023\n",
            "Epoch 357/500\n",
            "2/2 [==============================] - 0s 11ms/step - loss: 21.9198 - mae: 21.9198\n",
            "Epoch 358/500\n",
            "2/2 [==============================] - 0s 8ms/step - loss: 20.0589 - mae: 20.0589\n",
            "Epoch 359/500\n",
            "2/2 [==============================] - 0s 12ms/step - loss: 11.0251 - mae: 11.0251\n",
            "Epoch 360/500\n",
            "2/2 [==============================] - 0s 13ms/step - loss: 20.2478 - mae: 20.2478\n",
            "Epoch 361/500\n",
            "2/2 [==============================] - 0s 13ms/step - loss: 11.0384 - mae: 11.0384\n",
            "Epoch 362/500\n",
            "2/2 [==============================] - 0s 11ms/step - loss: 6.8008 - mae: 6.8008\n",
            "Epoch 363/500\n",
            "2/2 [==============================] - 0s 14ms/step - loss: 24.0607 - mae: 24.0607\n",
            "Epoch 364/500\n",
            "2/2 [==============================] - 0s 14ms/step - loss: 29.8436 - mae: 29.8436\n",
            "Epoch 365/500\n",
            "2/2 [==============================] - 0s 10ms/step - loss: 8.3576 - mae: 8.3576\n",
            "Epoch 366/500\n",
            "2/2 [==============================] - 0s 11ms/step - loss: 6.0707 - mae: 6.0707\n",
            "Epoch 367/500\n",
            "2/2 [==============================] - 0s 9ms/step - loss: 35.0491 - mae: 35.0491\n",
            "Epoch 368/500\n",
            "2/2 [==============================] - 0s 11ms/step - loss: 7.4129 - mae: 7.4129\n",
            "Epoch 369/500\n",
            "2/2 [==============================] - 0s 10ms/step - loss: 9.6495 - mae: 9.6495\n",
            "Epoch 370/500\n",
            "2/2 [==============================] - 0s 11ms/step - loss: 7.7647 - mae: 7.7647\n",
            "Epoch 371/500\n",
            "2/2 [==============================] - 0s 9ms/step - loss: 20.0197 - mae: 20.0197\n",
            "Epoch 372/500\n",
            "2/2 [==============================] - 0s 9ms/step - loss: 12.5242 - mae: 12.5242\n",
            "Epoch 373/500\n",
            "2/2 [==============================] - 0s 11ms/step - loss: 26.4388 - mae: 26.4388\n",
            "Epoch 374/500\n",
            "2/2 [==============================] - 0s 12ms/step - loss: 9.2178 - mae: 9.2178\n",
            "Epoch 375/500\n",
            "2/2 [==============================] - 0s 12ms/step - loss: 4.8678 - mae: 4.8678\n",
            "Epoch 376/500\n",
            "2/2 [==============================] - 0s 9ms/step - loss: 17.5966 - mae: 17.5966\n",
            "Epoch 377/500\n",
            "2/2 [==============================] - 0s 11ms/step - loss: 14.2616 - mae: 14.2616\n",
            "Epoch 378/500\n",
            "2/2 [==============================] - 0s 11ms/step - loss: 15.9096 - mae: 15.9096\n",
            "Epoch 379/500\n",
            "2/2 [==============================] - 0s 11ms/step - loss: 19.9843 - mae: 19.9843\n",
            "Epoch 380/500\n",
            "2/2 [==============================] - 0s 12ms/step - loss: 36.1614 - mae: 36.1614\n",
            "Epoch 381/500\n",
            "2/2 [==============================] - 0s 11ms/step - loss: 10.2628 - mae: 10.2628\n",
            "Epoch 382/500\n",
            "2/2 [==============================] - 0s 10ms/step - loss: 5.8650 - mae: 5.8650\n",
            "Epoch 383/500\n",
            "2/2 [==============================] - 0s 9ms/step - loss: 14.8928 - mae: 14.8928\n",
            "Epoch 384/500\n",
            "2/2 [==============================] - 0s 9ms/step - loss: 16.1325 - mae: 16.1325\n",
            "Epoch 385/500\n",
            "2/2 [==============================] - 0s 12ms/step - loss: 11.6603 - mae: 11.6603\n",
            "Epoch 386/500\n",
            "2/2 [==============================] - 0s 16ms/step - loss: 20.0534 - mae: 20.0534\n",
            "Epoch 387/500\n",
            "2/2 [==============================] - 0s 13ms/step - loss: 24.1388 - mae: 24.1388\n",
            "Epoch 388/500\n",
            "2/2 [==============================] - 0s 14ms/step - loss: 7.5425 - mae: 7.5425\n",
            "Epoch 389/500\n",
            "2/2 [==============================] - 0s 11ms/step - loss: 14.2351 - mae: 14.2351\n",
            "Epoch 390/500\n",
            "2/2 [==============================] - 0s 10ms/step - loss: 8.2471 - mae: 8.2471\n",
            "Epoch 391/500\n",
            "2/2 [==============================] - 0s 9ms/step - loss: 15.5156 - mae: 15.5156\n",
            "Epoch 392/500\n",
            "2/2 [==============================] - 0s 10ms/step - loss: 17.1566 - mae: 17.1566\n",
            "Epoch 393/500\n",
            "2/2 [==============================] - 0s 10ms/step - loss: 10.5164 - mae: 10.5164\n",
            "Epoch 394/500\n",
            "2/2 [==============================] - 0s 9ms/step - loss: 14.0684 - mae: 14.0684\n",
            "Epoch 395/500\n",
            "2/2 [==============================] - 0s 9ms/step - loss: 28.4269 - mae: 28.4269\n",
            "Epoch 396/500\n",
            "2/2 [==============================] - 0s 9ms/step - loss: 8.4791 - mae: 8.4791\n",
            "Epoch 397/500\n",
            "2/2 [==============================] - 0s 9ms/step - loss: 11.2884 - mae: 11.2884\n",
            "Epoch 398/500\n",
            "2/2 [==============================] - 0s 9ms/step - loss: 6.8814 - mae: 6.8814\n",
            "Epoch 399/500\n",
            "2/2 [==============================] - 0s 9ms/step - loss: 14.1614 - mae: 14.1614\n",
            "Epoch 400/500\n",
            "2/2 [==============================] - 0s 15ms/step - loss: 6.6825 - mae: 6.6825\n",
            "Epoch 401/500\n",
            "2/2 [==============================] - 0s 11ms/step - loss: 7.9919 - mae: 7.9919\n",
            "Epoch 402/500\n",
            "2/2 [==============================] - 0s 9ms/step - loss: 16.4591 - mae: 16.4591\n",
            "Epoch 403/500\n",
            "2/2 [==============================] - 0s 9ms/step - loss: 12.3213 - mae: 12.3213\n",
            "Epoch 404/500\n",
            "2/2 [==============================] - 0s 11ms/step - loss: 22.9000 - mae: 22.9000\n",
            "Epoch 405/500\n",
            "2/2 [==============================] - 0s 12ms/step - loss: 18.1723 - mae: 18.1723\n",
            "Epoch 406/500\n",
            "2/2 [==============================] - 0s 11ms/step - loss: 7.0334 - mae: 7.0334\n",
            "Epoch 407/500\n",
            "2/2 [==============================] - 0s 11ms/step - loss: 12.6916 - mae: 12.6916\n",
            "Epoch 408/500\n",
            "2/2 [==============================] - 0s 11ms/step - loss: 5.6301 - mae: 5.6301\n",
            "Epoch 409/500\n",
            "2/2 [==============================] - 0s 12ms/step - loss: 31.3831 - mae: 31.3831\n",
            "Epoch 410/500\n",
            "2/2 [==============================] - 0s 12ms/step - loss: 9.1970 - mae: 9.1970\n",
            "Epoch 411/500\n",
            "2/2 [==============================] - 0s 15ms/step - loss: 14.8314 - mae: 14.8314\n",
            "Epoch 412/500\n",
            "2/2 [==============================] - 0s 14ms/step - loss: 21.6926 - mae: 21.6926\n",
            "Epoch 413/500\n",
            "2/2 [==============================] - 0s 10ms/step - loss: 12.6831 - mae: 12.6831\n",
            "Epoch 414/500\n",
            "2/2 [==============================] - 0s 9ms/step - loss: 5.9990 - mae: 5.9990\n",
            "Epoch 415/500\n",
            "2/2 [==============================] - 0s 11ms/step - loss: 13.2069 - mae: 13.2069\n",
            "Epoch 416/500\n",
            "2/2 [==============================] - 0s 10ms/step - loss: 27.3986 - mae: 27.3986\n",
            "Epoch 417/500\n",
            "2/2 [==============================] - 0s 9ms/step - loss: 10.7040 - mae: 10.7040\n",
            "Epoch 418/500\n",
            "2/2 [==============================] - 0s 18ms/step - loss: 12.7826 - mae: 12.7826\n",
            "Epoch 419/500\n",
            "2/2 [==============================] - 0s 20ms/step - loss: 15.8406 - mae: 15.8406\n",
            "Epoch 420/500\n",
            "2/2 [==============================] - 0s 17ms/step - loss: 24.6964 - mae: 24.6964\n",
            "Epoch 421/500\n",
            "2/2 [==============================] - 0s 14ms/step - loss: 17.6093 - mae: 17.6093\n",
            "Epoch 422/500\n",
            "2/2 [==============================] - 0s 15ms/step - loss: 8.6679 - mae: 8.6679\n",
            "Epoch 423/500\n",
            "2/2 [==============================] - 0s 15ms/step - loss: 24.8782 - mae: 24.8782\n",
            "Epoch 424/500\n",
            "2/2 [==============================] - 0s 20ms/step - loss: 16.3327 - mae: 16.3327\n",
            "Epoch 425/500\n",
            "2/2 [==============================] - 0s 23ms/step - loss: 7.1232 - mae: 7.1232\n",
            "Epoch 426/500\n",
            "2/2 [==============================] - 0s 20ms/step - loss: 20.4548 - mae: 20.4548\n",
            "Epoch 427/500\n",
            "2/2 [==============================] - 0s 23ms/step - loss: 6.3024 - mae: 6.3024\n",
            "Epoch 428/500\n",
            "2/2 [==============================] - 0s 20ms/step - loss: 13.1077 - mae: 13.1077\n",
            "Epoch 429/500\n",
            "2/2 [==============================] - 0s 17ms/step - loss: 10.8813 - mae: 10.8813\n",
            "Epoch 430/500\n",
            "2/2 [==============================] - 0s 14ms/step - loss: 11.7520 - mae: 11.7520\n",
            "Epoch 431/500\n",
            "2/2 [==============================] - 0s 17ms/step - loss: 7.8868 - mae: 7.8868\n",
            "Epoch 432/500\n",
            "2/2 [==============================] - 0s 13ms/step - loss: 22.2085 - mae: 22.2085\n",
            "Epoch 433/500\n",
            "2/2 [==============================] - 0s 19ms/step - loss: 5.8758 - mae: 5.8758\n",
            "Epoch 434/500\n",
            "2/2 [==============================] - 0s 15ms/step - loss: 32.6458 - mae: 32.6458\n",
            "Epoch 435/500\n",
            "2/2 [==============================] - 0s 16ms/step - loss: 13.6494 - mae: 13.6494\n",
            "Epoch 436/500\n",
            "2/2 [==============================] - 0s 18ms/step - loss: 28.8832 - mae: 28.8832\n",
            "Epoch 437/500\n",
            "2/2 [==============================] - 0s 25ms/step - loss: 8.5453 - mae: 8.5453\n",
            "Epoch 438/500\n",
            "2/2 [==============================] - 0s 13ms/step - loss: 12.7073 - mae: 12.7073\n",
            "Epoch 439/500\n",
            "2/2 [==============================] - 0s 20ms/step - loss: 33.6742 - mae: 33.6742\n",
            "Epoch 440/500\n",
            "2/2 [==============================] - 0s 20ms/step - loss: 15.0525 - mae: 15.0525\n",
            "Epoch 441/500\n",
            "2/2 [==============================] - 0s 17ms/step - loss: 17.4430 - mae: 17.4430\n",
            "Epoch 442/500\n",
            "2/2 [==============================] - 0s 18ms/step - loss: 22.2584 - mae: 22.2584\n",
            "Epoch 443/500\n",
            "2/2 [==============================] - 0s 10ms/step - loss: 23.6882 - mae: 23.6882\n",
            "Epoch 444/500\n",
            "2/2 [==============================] - 0s 14ms/step - loss: 11.0634 - mae: 11.0634\n",
            "Epoch 445/500\n",
            "2/2 [==============================] - 0s 13ms/step - loss: 14.8669 - mae: 14.8669\n",
            "Epoch 446/500\n",
            "2/2 [==============================] - 0s 24ms/step - loss: 17.9259 - mae: 17.9259\n",
            "Epoch 447/500\n",
            "2/2 [==============================] - 0s 16ms/step - loss: 5.4390 - mae: 5.4390\n",
            "Epoch 448/500\n",
            "2/2 [==============================] - 0s 25ms/step - loss: 9.6198 - mae: 9.6198\n",
            "Epoch 449/500\n",
            "2/2 [==============================] - 0s 16ms/step - loss: 14.2670 - mae: 14.2670\n",
            "Epoch 450/500\n",
            "2/2 [==============================] - 0s 27ms/step - loss: 17.0204 - mae: 17.0204\n",
            "Epoch 451/500\n",
            "2/2 [==============================] - 0s 39ms/step - loss: 14.3748 - mae: 14.3748\n",
            "Epoch 452/500\n",
            "2/2 [==============================] - 0s 24ms/step - loss: 30.8464 - mae: 30.8464\n",
            "Epoch 453/500\n",
            "2/2 [==============================] - 0s 35ms/step - loss: 9.0889 - mae: 9.0889\n",
            "Epoch 454/500\n",
            "2/2 [==============================] - 0s 34ms/step - loss: 27.1919 - mae: 27.1919\n",
            "Epoch 455/500\n",
            "2/2 [==============================] - 0s 40ms/step - loss: 11.4000 - mae: 11.4000\n",
            "Epoch 456/500\n",
            "2/2 [==============================] - 0s 30ms/step - loss: 15.6255 - mae: 15.6255\n",
            "Epoch 457/500\n",
            "2/2 [==============================] - 0s 21ms/step - loss: 19.2705 - mae: 19.2705\n",
            "Epoch 458/500\n",
            "2/2 [==============================] - 0s 21ms/step - loss: 23.0482 - mae: 23.0482\n",
            "Epoch 459/500\n",
            "2/2 [==============================] - 0s 23ms/step - loss: 16.4773 - mae: 16.4773\n",
            "Epoch 460/500\n",
            "2/2 [==============================] - 0s 28ms/step - loss: 7.4092 - mae: 7.4092\n",
            "Epoch 461/500\n",
            "2/2 [==============================] - 0s 22ms/step - loss: 15.6695 - mae: 15.6695\n",
            "Epoch 462/500\n",
            "2/2 [==============================] - 0s 24ms/step - loss: 15.1653 - mae: 15.1653\n",
            "Epoch 463/500\n",
            "2/2 [==============================] - 0s 25ms/step - loss: 16.7989 - mae: 16.7989\n",
            "Epoch 464/500\n",
            "2/2 [==============================] - 0s 19ms/step - loss: 11.2214 - mae: 11.2214\n",
            "Epoch 465/500\n",
            "2/2 [==============================] - 0s 36ms/step - loss: 21.5346 - mae: 21.5346\n",
            "Epoch 466/500\n",
            "2/2 [==============================] - 0s 22ms/step - loss: 25.0264 - mae: 25.0264\n",
            "Epoch 467/500\n",
            "2/2 [==============================] - 0s 29ms/step - loss: 14.8532 - mae: 14.8532\n",
            "Epoch 468/500\n",
            "2/2 [==============================] - 0s 27ms/step - loss: 10.3559 - mae: 10.3559\n",
            "Epoch 469/500\n",
            "2/2 [==============================] - 0s 19ms/step - loss: 27.3620 - mae: 27.3620\n",
            "Epoch 470/500\n",
            "2/2 [==============================] - 0s 24ms/step - loss: 12.4261 - mae: 12.4261\n",
            "Epoch 471/500\n",
            "2/2 [==============================] - 0s 30ms/step - loss: 12.1012 - mae: 12.1012\n",
            "Epoch 472/500\n",
            "2/2 [==============================] - 0s 19ms/step - loss: 15.4998 - mae: 15.4998\n",
            "Epoch 473/500\n",
            "2/2 [==============================] - 0s 15ms/step - loss: 15.5031 - mae: 15.5031\n",
            "Epoch 474/500\n",
            "2/2 [==============================] - 0s 32ms/step - loss: 9.1016 - mae: 9.1016\n",
            "Epoch 475/500\n",
            "2/2 [==============================] - 0s 23ms/step - loss: 7.1634 - mae: 7.1634\n",
            "Epoch 476/500\n",
            "2/2 [==============================] - 0s 30ms/step - loss: 11.8967 - mae: 11.8967\n",
            "Epoch 477/500\n",
            "2/2 [==============================] - 0s 28ms/step - loss: 27.9551 - mae: 27.9551\n",
            "Epoch 478/500\n",
            "2/2 [==============================] - 0s 26ms/step - loss: 8.5837 - mae: 8.5837\n",
            "Epoch 479/500\n",
            "2/2 [==============================] - 0s 31ms/step - loss: 12.1018 - mae: 12.1018\n",
            "Epoch 480/500\n",
            "2/2 [==============================] - 0s 31ms/step - loss: 18.3714 - mae: 18.3714\n",
            "Epoch 481/500\n",
            "2/2 [==============================] - 0s 26ms/step - loss: 16.2133 - mae: 16.2133\n",
            "Epoch 482/500\n",
            "2/2 [==============================] - 0s 25ms/step - loss: 15.0301 - mae: 15.0301\n",
            "Epoch 483/500\n",
            "2/2 [==============================] - 0s 26ms/step - loss: 20.4765 - mae: 20.4765\n",
            "Epoch 484/500\n",
            "2/2 [==============================] - 0s 27ms/step - loss: 35.2727 - mae: 35.2727\n",
            "Epoch 485/500\n",
            "2/2 [==============================] - 0s 23ms/step - loss: 13.9243 - mae: 13.9243\n",
            "Epoch 486/500\n",
            "2/2 [==============================] - 0s 21ms/step - loss: 6.9578 - mae: 6.9578\n",
            "Epoch 487/500\n",
            "2/2 [==============================] - 0s 18ms/step - loss: 6.2327 - mae: 6.2327\n",
            "Epoch 488/500\n",
            "2/2 [==============================] - 0s 21ms/step - loss: 29.8005 - mae: 29.8005\n",
            "Epoch 489/500\n",
            "2/2 [==============================] - 0s 29ms/step - loss: 12.6622 - mae: 12.6622\n",
            "Epoch 490/500\n",
            "2/2 [==============================] - 0s 24ms/step - loss: 13.1029 - mae: 13.1029\n",
            "Epoch 491/500\n",
            "2/2 [==============================] - 0s 30ms/step - loss: 24.3712 - mae: 24.3712\n",
            "Epoch 492/500\n",
            "2/2 [==============================] - 0s 18ms/step - loss: 18.5912 - mae: 18.5912\n",
            "Epoch 493/500\n",
            "2/2 [==============================] - 0s 20ms/step - loss: 4.7297 - mae: 4.7297\n",
            "Epoch 494/500\n",
            "2/2 [==============================] - 0s 19ms/step - loss: 11.9588 - mae: 11.9588\n",
            "Epoch 495/500\n",
            "2/2 [==============================] - 0s 20ms/step - loss: 13.7061 - mae: 13.7061\n",
            "Epoch 496/500\n",
            "2/2 [==============================] - 0s 18ms/step - loss: 12.9012 - mae: 12.9012\n",
            "Epoch 497/500\n",
            "2/2 [==============================] - 0s 27ms/step - loss: 18.0228 - mae: 18.0228\n",
            "Epoch 498/500\n",
            "2/2 [==============================] - 0s 32ms/step - loss: 22.6327 - mae: 22.6327\n",
            "Epoch 499/500\n",
            "2/2 [==============================] - 0s 17ms/step - loss: 8.5313 - mae: 8.5313\n",
            "Epoch 500/500\n",
            "2/2 [==============================] - 0s 43ms/step - loss: 14.4416 - mae: 14.4416\n"
          ]
        },
        {
          "output_type": "execute_result",
          "data": {
            "text/plain": [
              "<keras.src.callbacks.History at 0x7e65676e8190>"
            ]
          },
          "metadata": {},
          "execution_count": 146
        }
      ]
    },
    {
      "cell_type": "code",
      "source": [
        "y_pred3 = model_3.predict(X_test)\n",
        "plot_predictions(X_train, y_train, X_test, y_test, y_pred3)"
      ],
      "metadata": {
        "colab": {
          "base_uri": "https://localhost:8080/",
          "height": 616
        },
        "id": "iF8Jk50ZXqXg",
        "outputId": "540f58b5-4969-49ad-8b01-17ac71d989ab"
      },
      "execution_count": 147,
      "outputs": [
        {
          "output_type": "stream",
          "name": "stdout",
          "text": [
            "1/1 [==============================] - 0s 287ms/step\n"
          ]
        },
        {
          "output_type": "display_data",
          "data": {
            "text/plain": [
              "<Figure size 1000x700 with 1 Axes>"
            ],
            "image/png": "[encoded data removed]"
          },
          "metadata": {}
        }
      ]
    },
    {
      "cell_type": "code",
      "source": [
        "### evaluation metrics\n",
        "\n",
        "print(\"MSE model 3: \" + str(mse(y_test, y_pred3)))\n",
        "print(\"MAE model 3: \" + str(mae(y_test, y_pred3)))\n",
        "\n",
        "## worse than before again, bigger model/more training even worse"
      ],
      "metadata": {
        "colab": {
          "base_uri": "https://localhost:8080/"
        },
        "id": "rs2kejtRXvv9",
        "outputId": "2e1f5a9f-ce30-4fdc-a1ce-0599c1523eb0"
      },
      "execution_count": 148,
      "outputs": [
        {
          "output_type": "stream",
          "name": "stdout",
          "text": [
            "MSE model 3: tf.Tensor(4719.9053, shape=(), dtype=float32)\n",
            "MAE model 3: tf.Tensor(68.08034, shape=(), dtype=float32)\n"
          ]
        }
      ]
    },
    {
      "cell_type": "markdown",
      "source": [
        "## Compare The 3 Models Now"
      ],
      "metadata": {
        "id": "j8zuCR_tYDTg"
      }
    },
    {
      "cell_type": "code",
      "source": [],
      "metadata": {
        "id": "S7COCGG4X2mZ"
      },
      "execution_count": null,
      "outputs": []
    }
  ]
}